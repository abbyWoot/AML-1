{
  "nbformat": 4,
  "nbformat_minor": 0,
  "metadata": {
    "colab": {
      "name": "AML-Project3-CIFAR-10.ipynb",
      "provenance": [],
      "collapsed_sections": [],
      "authorship_tag": "ABX9TyPKtTvxRamjeQPDGV4cz0+N",
      "include_colab_link": true
    },
    "kernelspec": {
      "name": "python3",
      "display_name": "Python 3"
    }
  },
  "cells": [
    {
      "cell_type": "markdown",
      "metadata": {
        "id": "view-in-github",
        "colab_type": "text"
      },
      "source": [
        "<a href=\"https://colab.research.google.com/github/fsclsnow/AML/blob/master/AML_Project3_CIFAR_10.ipynb\" target=\"_parent\"><img src=\"https://colab.research.google.com/assets/colab-badge.svg\" alt=\"Open In Colab\"/></a>"
      ]
    },
    {
      "cell_type": "markdown",
      "metadata": {
        "id": "G9nkXUl6unpj",
        "colab_type": "text"
      },
      "source": [
        "# **Projct 3 - Jiajie Zhu**\n",
        "\n",
        "CIFAR-10 dataset which consists of 60,000 32x32 color images in 10 classes, with 6,000 images per class was used in this project. There are 50,000 training images and 10,000 test images.\n",
        "\n",
        "This project includes the following features:\n",
        "\n",
        "\n",
        "\n",
        "*   It performs dimension-reduction (e.g. t-SNE, PCA), and scaling when and if necessary along with justification for each action and comparison of results\n",
        "*It uses appropriate multiclass classifiers such SVM, Random Forest, K-Nearest Neighbors, etc. comparing ROC curves for the classifiers\n",
        "*It computes the performance parameters such as confusion matrix, sensitivity, and specificity \n",
        "Plots sensitivity and specificity against the number of folds (pick reasonable values for k) in k-fold cross-validation\n",
        "*It identifies and thoroughly discusses the best classifier based on the obtained results"
      ]
    },
    {
      "cell_type": "markdown",
      "metadata": {
        "id": "3RaMaKB55OQ1",
        "colab_type": "text"
      },
      "source": [
        "# Setup"
      ]
    },
    {
      "cell_type": "code",
      "metadata": {
        "id": "It5rSjsCt7Fh",
        "colab_type": "code",
        "outputId": "2968160c-0872-40f6-ea3e-29d394a42d33",
        "colab": {
          "base_uri": "https://localhost:8080/",
          "height": 81
        }
      },
      "source": [
        "import sys\n",
        "assert sys.version_info >= (3, 5)\n",
        "\n",
        "# Scikit-Learn ≥0.20 is required\n",
        "import sklearn\n",
        "assert sklearn.__version__ >= \"0.20\"\n",
        "\n",
        "# Common imports\n",
        "import numpy as np\n",
        "import os\n",
        "import tensorflow as tf\n",
        "import pandas as pd\n",
        "from sklearn.metrics import confusion_matrix\n",
        "import time\n",
        "from datetime import timedelta\n",
        "import math\n",
        "from PIL import Image\n",
        "\n",
        "# to make this notebook's output stable across runs\n",
        "np.random.seed(42)\n",
        "\n",
        "# To plot pretty figures\n",
        "%matplotlib inline\n",
        "import matplotlib as mpl\n",
        "import matplotlib.pyplot as plt\n",
        "mpl.rc('axes', labelsize=14)\n",
        "mpl.rc('xtick', labelsize=12)\n",
        "mpl.rc('ytick', labelsize=12)\n",
        "\n",
        "\n",
        "# Where to save the figures\n",
        "PROJECT_ROOT_DIR = \".\"\n",
        "CHAPTER_ID = \"classification\"\n",
        "IMAGES_PATH = os.path.join(PROJECT_ROOT_DIR, \"images\", CHAPTER_ID)\n",
        "os.makedirs(IMAGES_PATH, exist_ok=True)\n",
        "\n",
        "def save_fig(fig_id, tight_layout=True, fig_extension=\"png\", resolution=300):\n",
        "    path = os.path.join(IMAGES_PATH, fig_id + \".\" + fig_extension)\n",
        "    print(\"Saving figure\", fig_id)\n",
        "    if tight_layout:\n",
        "        plt.tight_layout()\n",
        "    plt.savefig(path, format=fig_extension, dpi=resolution)"
      ],
      "execution_count": 0,
      "outputs": [
        {
          "output_type": "display_data",
          "data": {
            "text/html": [
              "<p style=\"color: red;\">\n",
              "The default version of TensorFlow in Colab will soon switch to TensorFlow 2.x.<br>\n",
              "We recommend you <a href=\"https://www.tensorflow.org/guide/migrate\" target=\"_blank\">upgrade</a> now \n",
              "or ensure your notebook will continue to use TensorFlow 1.x via the <code>%tensorflow_version 1.x</code> magic:\n",
              "<a href=\"https://colab.research.google.com/notebooks/tensorflow_version.ipynb\" target=\"_blank\">more info</a>.</p>\n"
            ],
            "text/plain": [
              "<IPython.core.display.HTML object>"
            ]
          },
          "metadata": {
            "tags": []
          }
        }
      ]
    },
    {
      "cell_type": "code",
      "metadata": {
        "id": "biNM37cDS52a",
        "colab_type": "code",
        "outputId": "0120b4de-ea8c-42d0-cb68-af3c71043945",
        "colab": {
          "base_uri": "https://localhost:8080/",
          "height": 52
        }
      },
      "source": [
        "from sklearn.model_selection import StratifiedShuffleSplit\n",
        "\n",
        "(X_train, y_train), (X_test, y_test) = tf.keras.datasets.cifar10.load_data()"
      ],
      "execution_count": 0,
      "outputs": [
        {
          "output_type": "stream",
          "text": [
            "Downloading data from https://www.cs.toronto.edu/~kriz/cifar-10-python.tar.gz\n",
            "170500096/170498071 [==============================] - 11s 0us/step\n"
          ],
          "name": "stdout"
        }
      ]
    },
    {
      "cell_type": "code",
      "metadata": {
        "id": "6h-xAOA9rDns",
        "colab_type": "code",
        "colab": {}
      },
      "source": [
        "class_names = ['airplane',\n",
        " 'automobile',\n",
        " 'bird',\n",
        " 'cat',\n",
        " 'deer',\n",
        " 'dog',\n",
        " 'frog',\n",
        " 'horse',\n",
        " 'ship',\n",
        " 'truck']\n"
      ],
      "execution_count": 0,
      "outputs": []
    },
    {
      "cell_type": "markdown",
      "metadata": {
        "id": "enYt5TV5kLcD",
        "colab_type": "text"
      },
      "source": [
        "# Function used to plot 9 images in a 3x3 grid, and writing the true and predicted classes below each image."
      ]
    },
    {
      "cell_type": "code",
      "metadata": {
        "id": "Q2yDtP2mplIm",
        "colab_type": "code",
        "colab": {}
      },
      "source": [
        "def plot_images(images, cls_true, cls_pred=None, smooth=True):\n",
        "\n",
        "    assert len(images) == len(cls_true) == 9\n",
        "\n",
        "    # Create figure with sub-plots.\n",
        "    fig, axes = plt.subplots(3, 3)\n",
        "\n",
        "    # Adjust vertical spacing if we need to print ensemble and best-net.\n",
        "    if cls_pred is None:\n",
        "        hspace = 0.3\n",
        "    else:\n",
        "        hspace = 0.6\n",
        "    fig.subplots_adjust(hspace=hspace, wspace=0.3)\n",
        "\n",
        "    for i, ax in enumerate(axes.flat):\n",
        "        # Interpolation type.\n",
        "        if smooth:\n",
        "            interpolation = 'spline16'\n",
        "        else:\n",
        "            interpolation = 'nearest'\n",
        "\n",
        "        # Plot image.\n",
        "        ax.imshow(images[i, :, :, :],\n",
        "                  interpolation=interpolation)\n",
        "            \n",
        "        # Name of the true class.\n",
        "        cls_true_name = class_names[cls_true[i][0]]\n",
        "\n",
        "        # Show true and predicted classes.\n",
        "        if cls_pred is None:\n",
        "            xlabel = \"True: {0}\".format(cls_true_name)\n",
        "        else:\n",
        "            # Name of the predicted class.\n",
        "            cls_pred_name = class_names[cls_pred[i]]\n",
        "\n",
        "            xlabel = \"True: {0}\\nPred: {1}\".format(cls_true_name, cls_pred_name)\n",
        "\n",
        "        # Show the classes as the label on the x-axis.\n",
        "        ax.set_xlabel(xlabel)\n",
        "        \n",
        "        # Remove ticks from the plot.\n",
        "        ax.set_xticks([])\n",
        "        ax.set_yticks([])\n",
        "    \n",
        "    # Ensure the plot is shown correctly with multiple plots\n",
        "    # in a single Notebook cell.\n",
        "    plt.show()\n"
      ],
      "execution_count": 0,
      "outputs": []
    },
    {
      "cell_type": "markdown",
      "metadata": {
        "id": "VURHKSoJpxuG",
        "colab_type": "text"
      },
      "source": [
        "Plot a few images to see if data is correct"
      ]
    },
    {
      "cell_type": "code",
      "metadata": {
        "id": "kR0FBmkzp24-",
        "colab_type": "code",
        "outputId": "f1412519-ef7c-4c24-a5e4-8e61e953d717",
        "colab": {
          "base_uri": "https://localhost:8080/",
          "height": 266
        }
      },
      "source": [
        "# Get the first images from the test-set.\n",
        "images = X_test[0:9]\n",
        "\n",
        "# Get the true classes for those images.\n",
        "cls_true = y_test[0:9]\n",
        "\n",
        "# Plot the images and labels using our helper-function above.\n",
        "plot_images(images=images, cls_true=cls_true, smooth=False)"
      ],
      "execution_count": 0,
      "outputs": [
        {
          "output_type": "display_data",
          "data": {
            "image/png": "[encoded data removed]",
            "text/plain": [
              "<Figure size 432x288 with 9 Axes>"
            ]
          },
          "metadata": {
            "tags": []
          }
        }
      ]
    },
    {
      "cell_type": "markdown",
      "metadata": {
        "id": "umEvE_SEt9Dx",
        "colab_type": "text"
      },
      "source": [
        "Normalize data range from 0-255 to 0-1 / Similar effect to StandardScaler"
      ]
    },
    {
      "cell_type": "code",
      "metadata": {
        "id": "FGSmfITgidah",
        "colab_type": "code",
        "outputId": "d0854112-0e70-44d3-b056-ea4086fffb3a",
        "colab": {
          "base_uri": "https://localhost:8080/",
          "height": 35
        }
      },
      "source": [
        "X_train = X_train.astype('float32') / 255.0\n",
        "X_test = X_test.astype('float32') / 255.0\n",
        "X_train.shape, X_test.shape, y_train.shape, y_test.shape"
      ],
      "execution_count": 0,
      "outputs": [
        {
          "output_type": "execute_result",
          "data": {
            "text/plain": [
              "((50000, 32, 32, 3), (10000, 32, 32, 3), (50000, 1), (10000, 1))"
            ]
          },
          "metadata": {
            "tags": []
          },
          "execution_count": 6
        }
      ]
    },
    {
      "cell_type": "code",
      "metadata": {
        "id": "JnkEPwNvKPLL",
        "colab_type": "code",
        "outputId": "c67dec50-7f9b-464c-ff37-f8bc5385e967",
        "colab": {
          "base_uri": "https://localhost:8080/",
          "height": 35
        }
      },
      "source": [
        "X_train[0][0][0]"
      ],
      "execution_count": 0,
      "outputs": [
        {
          "output_type": "execute_result",
          "data": {
            "text/plain": [
              "array([0.23137255, 0.24313726, 0.24705882], dtype=float32)"
            ]
          },
          "metadata": {
            "tags": []
          },
          "execution_count": 124
        }
      ]
    },
    {
      "cell_type": "code",
      "metadata": {
        "id": "jb9bJyruo7sb",
        "colab_type": "code",
        "colab": {}
      },
      "source": [
        "X_train_2d = X_train.reshape(50000,-2)\n",
        "from sklearn.preprocessing import StandardScaler\n",
        "scaler = StandardScaler()\n",
        "X_train_scaled = scaler.fit_transform(X_train_2d.astype(np.float64))"
      ],
      "execution_count": 0,
      "outputs": []
    },
    {
      "cell_type": "markdown",
      "metadata": {
        "id": "cTdZfRU9j4gb",
        "colab_type": "text"
      },
      "source": [
        "In order to perform PCA with 2 dimensional data, we need to lower the dimension of the input data\n",
        "\n"
      ]
    },
    {
      "cell_type": "code",
      "metadata": {
        "id": "mx4Uy-T5ku5H",
        "colab_type": "code",
        "outputId": "85f2ff89-4094-44d6-f328-02e119632ace",
        "colab": {
          "base_uri": "https://localhost:8080/",
          "height": 35
        }
      },
      "source": [
        "X_train_2d = X_train.reshape(50000,-2)\n",
        "X_test_2d=X_test.reshape(10000,-2)\n",
        "y_train = y_train.ravel()\n",
        "y_test = y_test.ravel()\n",
        "X_train_2d.shape, X_test_2d.shape, y_train.shape, y_test.shape"
      ],
      "execution_count": 0,
      "outputs": [
        {
          "output_type": "execute_result",
          "data": {
            "text/plain": [
              "((50000, 3072), (10000, 3072), (50000,), (10000,))"
            ]
          },
          "metadata": {
            "tags": []
          },
          "execution_count": 7
        }
      ]
    },
    {
      "cell_type": "markdown",
      "metadata": {
        "id": "XwOV8ihzlyXT",
        "colab_type": "text"
      },
      "source": [
        "## PCA using Scikit-Learn"
      ]
    },
    {
      "cell_type": "code",
      "metadata": {
        "id": "JRbtUkp1luaf",
        "colab_type": "code",
        "colab": {}
      },
      "source": [
        "from sklearn.decomposition import PCA\n",
        "pca=PCA()\n",
        "pca.fit(X_train_2d)\n",
        "cumsum = np.cumsum(pca.explained_variance_ratio_)\n",
        "d = np.argmax(cumsum >= 0.95) + 1"
      ],
      "execution_count": 0,
      "outputs": []
    },
    {
      "cell_type": "code",
      "metadata": {
        "id": "IRn0Tk9Ranil",
        "colab_type": "code",
        "outputId": "d018e0bb-1a80-4ce9-92e1-8a4195d75d0d",
        "colab": {
          "base_uri": "https://localhost:8080/",
          "height": 52
        }
      },
      "source": [
        "cumsum"
      ],
      "execution_count": 0,
      "outputs": [
        {
          "output_type": "execute_result",
          "data": {
            "text/plain": [
              "array([0.29076636, 0.4032979 , 0.47024202, ..., 0.9999992 , 0.9999992 ,\n",
              "       0.9999992 ], dtype=float32)"
            ]
          },
          "metadata": {
            "tags": []
          },
          "execution_count": 9
        }
      ]
    },
    {
      "cell_type": "code",
      "metadata": {
        "id": "v-CvcXSwlxnh",
        "colab_type": "code",
        "outputId": "020005d0-d713-457f-d949-2ad224801d31",
        "colab": {
          "base_uri": "https://localhost:8080/",
          "height": 35
        }
      },
      "source": [
        "d"
      ],
      "execution_count": 0,
      "outputs": [
        {
          "output_type": "execute_result",
          "data": {
            "text/plain": [
              "217"
            ]
          },
          "metadata": {
            "tags": []
          },
          "execution_count": 10
        }
      ]
    },
    {
      "cell_type": "markdown",
      "metadata": {
        "id": "YsCU5XNLmVY_",
        "colab_type": "text"
      },
      "source": [
        "The reduced dimension is 217 instead of 3072 (32 * 32 * 3). Impressive!"
      ]
    },
    {
      "cell_type": "code",
      "metadata": {
        "id": "q0o5mmF1mhOk",
        "colab_type": "code",
        "outputId": "99f8f969-1a0c-4caa-8534-8234169dd056",
        "colab": {
          "base_uri": "https://localhost:8080/",
          "height": 315
        }
      },
      "source": [
        "plt.figure(figsize=(6,4))\n",
        "plt.plot(cumsum, linewidth=3)\n",
        "plt.axis([0, 3072, 0, 1])\n",
        "plt.xlabel(\"Dimensions\")\n",
        "plt.ylabel(\"Explained Variance\")\n",
        "plt.plot([d, d], [0, 0.95], \"k:\")\n",
        "plt.plot([0, d], [0.95, 0.95], \"k:\")\n",
        "plt.plot(d, 0.95, \"ko\")\n",
        "plt.annotate(\"Elbow\", xy=(150, 0.9), xytext=(250, 0.7),\n",
        "             arrowprops=dict(arrowstyle=\"->\"), fontsize=16)\n",
        "plt.grid(True)\n",
        "save_fig(\"explained_variance_plot\")\n",
        "plt.show()"
      ],
      "execution_count": 0,
      "outputs": [
        {
          "output_type": "stream",
          "text": [
            "Saving figure explained_variance_plot\n"
          ],
          "name": "stdout"
        },
        {
          "output_type": "display_data",
          "data": {
            "image/png": "[encoded data removed]",
            "text/plain": [
              "<Figure size 432x288 with 1 Axes>"
            ]
          },
          "metadata": {
            "tags": []
          }
        }
      ]
    },
    {
      "cell_type": "code",
      "metadata": {
        "id": "Ab0P8QBkWeXX",
        "colab_type": "code",
        "colab": {}
      },
      "source": [
        "pca = PCA(n_components=0.95)\n",
        "X_train_PCA_reduced = pca.fit_transform(X_train_2d)"
      ],
      "execution_count": 0,
      "outputs": []
    },
    {
      "cell_type": "code",
      "metadata": {
        "id": "Lgic1DeEnPoN",
        "colab_type": "code",
        "outputId": "d33a9b8b-8cb3-4fb5-eebc-e06ed82a00f4",
        "colab": {
          "base_uri": "https://localhost:8080/",
          "height": 35
        }
      },
      "source": [
        "np.sum(pca.explained_variance_ratio_)"
      ],
      "execution_count": 0,
      "outputs": [
        {
          "output_type": "execute_result",
          "data": {
            "text/plain": [
              "0.950234"
            ]
          },
          "metadata": {
            "tags": []
          },
          "execution_count": 13
        }
      ]
    },
    {
      "cell_type": "markdown",
      "metadata": {
        "id": "COak6KJnC4WK",
        "colab_type": "text"
      },
      "source": [
        "t-SNE Dimensionality reduction on the full 50,000 images takes a very long time, so let's only do this on a random subset of 5,000 images:\n"
      ]
    },
    {
      "cell_type": "code",
      "metadata": {
        "id": "vIzfkBXJCLW-",
        "colab_type": "code",
        "colab": {}
      },
      "source": [
        "m = 5000\n",
        "idx = np.random.permutation(50000)[:m]\n",
        "X = X_train_2d[idx]\n",
        "y = y_train[idx]\n",
        "idx = np.random.permutation(10000)[:m]\n",
        "X_test_ = X_test_2d[idx]"
      ],
      "execution_count": 0,
      "outputs": []
    },
    {
      "cell_type": "markdown",
      "metadata": {
        "id": "UR02e3DkBwqI",
        "colab_type": "text"
      },
      "source": [
        "Now let's use t-SNE to reduce dimensionality down to 2D so we can plot the dataset:"
      ]
    },
    {
      "cell_type": "code",
      "metadata": {
        "id": "M3ctWrxNAzaH",
        "colab_type": "code",
        "colab": {}
      },
      "source": [
        "from sklearn.manifold import TSNE\n",
        "\n",
        "tsne = TSNE(n_components=2, random_state=42)\n",
        "X_tsne_reduced = tsne.fit_transform(X)\n",
        "X_test_tsne_reduced = tsne.fit_transform(X_test_)"
      ],
      "execution_count": 0,
      "outputs": []
    },
    {
      "cell_type": "code",
      "metadata": {
        "id": "I4oD1iphCrwq",
        "colab_type": "code",
        "outputId": "9df58df2-013b-48c6-de6b-23733fe79421",
        "colab": {
          "base_uri": "https://localhost:8080/",
          "height": 587
        }
      },
      "source": [
        "plt.figure(figsize=(13,10))\n",
        "plt.scatter(X_tsne_reduced[:, 0], X_tsne_reduced[:, 1], c=y, cmap=\"jet\")\n",
        "plt.axis('off')\n",
        "plt.colorbar()\n",
        "plt.show()"
      ],
      "execution_count": 0,
      "outputs": [
        {
          "output_type": "display_data",
          "data": {
            "image/png": "[encoded data removed]",
            "text/plain": [
              "<Figure size 936x720 with 2 Axes>"
            ]
          },
          "metadata": {
            "tags": []
          }
        }
      ]
    },
    {
      "cell_type": "markdown",
      "metadata": {
        "id": "QcOQuyui6eaj",
        "colab_type": "text"
      },
      "source": [
        "It seems... pretty bad. It's obvious that t-SNE is not able to sperate different clusters.\n",
        "\n",
        "t-SNE only works well when the data can be reduced to 2 or 3 dimensions."
      ]
    },
    {
      "cell_type": "markdown",
      "metadata": {
        "id": "J2wRbLyurpYW",
        "colab_type": "text"
      },
      "source": [
        "*Exercise: Train a Random Forest classifier on the dataset and time how long it takes, then evaluate the resulting model on the test set.*"
      ]
    },
    {
      "cell_type": "code",
      "metadata": {
        "id": "IXHNog2cn-AG",
        "colab_type": "code",
        "colab": {}
      },
      "source": [
        "from sklearn.ensemble import RandomForestClassifier\n",
        "\n",
        "rnd_clf = RandomForestClassifier(n_estimators=100, random_state=42)"
      ],
      "execution_count": 0,
      "outputs": []
    },
    {
      "cell_type": "code",
      "metadata": {
        "id": "A_BE4_-xoBn4",
        "colab_type": "code",
        "outputId": "38b3beb4-80f1-4970-8ad8-d26aaf9566bc",
        "colab": {
          "base_uri": "https://localhost:8080/",
          "height": 35
        }
      },
      "source": [
        "t0 = time.time()\n",
        "rnd_clf.fit(X_train_2d, y_train)\n",
        "t1 = time.time()\n",
        "print(\"Training took {:.2f}s\".format(t1 - t0))"
      ],
      "execution_count": 0,
      "outputs": [
        {
          "output_type": "stream",
          "text": [
            "Training took 276.56s\n"
          ],
          "name": "stdout"
        }
      ]
    },
    {
      "cell_type": "code",
      "metadata": {
        "id": "k27EEvp1r56B",
        "colab_type": "code",
        "outputId": "0d983583-191a-4578-b962-1f7164c20feb",
        "colab": {
          "base_uri": "https://localhost:8080/",
          "height": 35
        }
      },
      "source": [
        "from sklearn.metrics import accuracy_score\n",
        "\n",
        "y_pred = rnd_clf.predict(X_test_2d)\n",
        "accuracy_score(y_test, y_pred)"
      ],
      "execution_count": 0,
      "outputs": [
        {
          "output_type": "execute_result",
          "data": {
            "text/plain": [
              "0.4654"
            ]
          },
          "metadata": {
            "tags": []
          },
          "execution_count": 19
        }
      ]
    },
    {
      "cell_type": "markdown",
      "metadata": {
        "id": "xFkpqXOT_9tJ",
        "colab_type": "text"
      },
      "source": [
        "It tooks almost 5mins, with an accuracy only 46.54%. It seems Random Forest was not a good classifier here."
      ]
    },
    {
      "cell_type": "markdown",
      "metadata": {
        "id": "i7euOnhQ-Cxq",
        "colab_type": "text"
      },
      "source": [
        "*Next, use PCA dimension reduced data, with an explained variance ratio of 95%.Train a new Random Forest classifier on the reduced dataset and see how long it takes.*"
      ]
    },
    {
      "cell_type": "code",
      "metadata": {
        "id": "mW_I13im-DO1",
        "colab_type": "code",
        "outputId": "f04f9777-4acb-4a7f-f319-d17a96594263",
        "colab": {
          "base_uri": "https://localhost:8080/",
          "height": 35
        }
      },
      "source": [
        "rnd_clf2 = RandomForestClassifier(n_estimators=100, random_state=42)\n",
        "t0 = time.time()\n",
        "rnd_clf2.fit(X_train_PCA_reduced, y_train)\n",
        "t1 = time.time()\n",
        "print(\"Training took {:.2f}s\".format(t1 - t0))"
      ],
      "execution_count": 0,
      "outputs": [
        {
          "output_type": "stream",
          "text": [
            "Training took 134.34s\n"
          ],
          "name": "stdout"
        }
      ]
    },
    {
      "cell_type": "code",
      "metadata": {
        "id": "lv9hQdDPAfpi",
        "colab_type": "code",
        "outputId": "5e8de23b-0d58-467c-a87a-82b8c610dc04",
        "colab": {
          "base_uri": "https://localhost:8080/",
          "height": 35
        }
      },
      "source": [
        "from sklearn.metrics import accuracy_score\n",
        "X_test_reduced = pca.transform(X_test_2d)\n",
        "y_pred = rnd_clf2.predict(X_test_reduced)\n",
        "accuracy_score(y_test, y_pred)"
      ],
      "execution_count": 0,
      "outputs": [
        {
          "output_type": "execute_result",
          "data": {
            "text/plain": [
              "0.4368"
            ]
          },
          "metadata": {
            "tags": []
          },
          "execution_count": 19
        }
      ]
    },
    {
      "cell_type": "markdown",
      "metadata": {
        "id": "ekkGhhP5A4dO",
        "colab_type": "text"
      },
      "source": [
        "It was over 2 times speed up with 2.86% accuracy rate down."
      ]
    },
    {
      "cell_type": "markdown",
      "metadata": {
        "id": "Z3dr_IPvcd5i",
        "colab_type": "text"
      },
      "source": [
        "*Measuring Accuracy Using Cross-Validation*"
      ]
    },
    {
      "cell_type": "code",
      "metadata": {
        "id": "TyFo7JQ_ceQD",
        "colab_type": "code",
        "outputId": "1561c650-e429-4152-ceb8-2ac93c19421f",
        "colab": {
          "base_uri": "https://localhost:8080/",
          "height": 35
        }
      },
      "source": [
        "from sklearn.model_selection import cross_val_score\n",
        "cross_val_score(rnd_clf2, X_train_PCA_reduced, y_train, cv=3, scoring=\"accuracy\")"
      ],
      "execution_count": 0,
      "outputs": [
        {
          "output_type": "execute_result",
          "data": {
            "text/plain": [
              "array([0.4249715 , 0.41333173, 0.424877  ])"
            ]
          },
          "metadata": {
            "tags": []
          },
          "execution_count": 170
        }
      ]
    },
    {
      "cell_type": "code",
      "metadata": {
        "id": "Yp_83BoQdmXS",
        "colab_type": "code",
        "outputId": "45d72d8f-3dbb-4eea-efa2-8421663ec1a1",
        "colab": {
          "base_uri": "https://localhost:8080/",
          "height": 69
        }
      },
      "source": [
        "from sklearn.model_selection import StratifiedKFold\n",
        "from sklearn.base import clone\n",
        "\n",
        "skfolds = StratifiedKFold(n_splits=3, random_state=42, shuffle=True)\n",
        "\n",
        "for train_index, test_index in skfolds.split(X_train_PCA_reduced, y_train):\n",
        "    clone_rnd_clf = clone(rnd_clf2)\n",
        "    X_train_folds = X_train_PCA_reduced[train_index]\n",
        "    y_train_folds = y_train[train_index]\n",
        "    X_test_fold = X_train_PCA_reduced[test_index]\n",
        "    y_test_fold = y_train[test_index]\n",
        "\n",
        "    clone_rnd_clf.fit(X_train_folds, y_train_folds)\n",
        "    y_pred = clone_rnd_clf.predict(X_test_fold)\n",
        "    n_correct = sum(y_pred == y_test_fold)\n",
        "    print(n_correct / len(y_pred))"
      ],
      "execution_count": 0,
      "outputs": [
        {
          "output_type": "stream",
          "text": [
            "0.4214315713685726\n",
            "0.4267114657706846\n",
            "0.41467658706348254\n"
          ],
          "name": "stdout"
        }
      ]
    },
    {
      "cell_type": "markdown",
      "metadata": {
        "id": "Ba1ToiwMi4oH",
        "colab_type": "text"
      },
      "source": [
        "*Confusion Matrix*"
      ]
    },
    {
      "cell_type": "code",
      "metadata": {
        "id": "2C1dwIHYgeuZ",
        "colab_type": "code",
        "colab": {}
      },
      "source": [
        "from sklearn.model_selection import cross_val_predict\n",
        "\n",
        "y_train_pred = cross_val_predict(rnd_clf2, X_train_PCA_reduced, y_train, cv=3)"
      ],
      "execution_count": 0,
      "outputs": []
    },
    {
      "cell_type": "code",
      "metadata": {
        "id": "1Sxs6agfgNsZ",
        "colab_type": "code",
        "outputId": "ab3b2012-980c-451e-d8cb-673625637179",
        "colab": {
          "base_uri": "https://localhost:8080/",
          "height": 190
        }
      },
      "source": [
        "from sklearn.metrics import confusion_matrix\n",
        "\n",
        "confusion_matrix(y_train, y_train_pred)"
      ],
      "execution_count": 0,
      "outputs": [
        {
          "output_type": "execute_result",
          "data": {
            "text/plain": [
              "array([[2519,  304,  232,  171,  151,  136,  158,  154,  822,  353],\n",
              "       [ 217, 2745,   91,  172,   84,  167,  151,  160,  344,  869],\n",
              "       [ 527,  189, 1422,  392,  887,  376,  556,  275,  214,  162],\n",
              "       [ 265,  292,  433, 1247,  349, 1005,  585,  281,  201,  342],\n",
              "       [ 329,  140,  722,  327, 1887,  268,  615,  361,  183,  168],\n",
              "       [ 197,  229,  418,  927,  388, 1647,  468,  320,  176,  230],\n",
              "       [ 119,  177,  437,  468,  646,  345, 2376,  155,  105,  172],\n",
              "       [ 194,  308,  309,  402,  510,  481,  259, 1908,  163,  466],\n",
              "       [ 615,  410,   83,  176,   94,  188,   82,   77, 2910,  365],\n",
              "       [ 276, 1019,   67,  169,   82,  192,  150,  241,  412, 2392]])"
            ]
          },
          "metadata": {
            "tags": []
          },
          "execution_count": 22
        }
      ]
    },
    {
      "cell_type": "code",
      "metadata": {
        "id": "83RISkkXmYQE",
        "colab_type": "code",
        "outputId": "e85e03b5-c78a-42e4-cee7-98dd43a18a4e",
        "colab": {
          "base_uri": "https://localhost:8080/",
          "height": 190
        }
      },
      "source": [
        "y_train_perfect_predictions = y_train  # pretend we reached perfection\n",
        "confusion_matrix(y_train, y_train_perfect_predictions)"
      ],
      "execution_count": 0,
      "outputs": [
        {
          "output_type": "execute_result",
          "data": {
            "text/plain": [
              "array([[5000,    0,    0,    0,    0,    0,    0,    0,    0,    0],\n",
              "       [   0, 5000,    0,    0,    0,    0,    0,    0,    0,    0],\n",
              "       [   0,    0, 5000,    0,    0,    0,    0,    0,    0,    0],\n",
              "       [   0,    0,    0, 5000,    0,    0,    0,    0,    0,    0],\n",
              "       [   0,    0,    0,    0, 5000,    0,    0,    0,    0,    0],\n",
              "       [   0,    0,    0,    0,    0, 5000,    0,    0,    0,    0],\n",
              "       [   0,    0,    0,    0,    0,    0, 5000,    0,    0,    0],\n",
              "       [   0,    0,    0,    0,    0,    0,    0, 5000,    0,    0],\n",
              "       [   0,    0,    0,    0,    0,    0,    0,    0, 5000,    0],\n",
              "       [   0,    0,    0,    0,    0,    0,    0,    0,    0, 5000]])"
            ]
          },
          "metadata": {
            "tags": []
          },
          "execution_count": 20
        }
      ]
    },
    {
      "cell_type": "markdown",
      "metadata": {
        "id": "1_YRsCKdTfDO",
        "colab_type": "text"
      },
      "source": [
        "Specificity (Precision) score"
      ]
    },
    {
      "cell_type": "code",
      "metadata": {
        "id": "_Slyc_m-laIu",
        "colab_type": "code",
        "outputId": "6fb20a5a-922f-4f51-80e9-f33bd9df4c2a",
        "colab": {
          "base_uri": "https://localhost:8080/",
          "height": 35
        }
      },
      "source": [
        "from sklearn.metrics import precision_score, recall_score\n",
        "\n",
        "precision_score(y_train, y_train_pred, average='weighted')"
      ],
      "execution_count": 0,
      "outputs": [
        {
          "output_type": "execute_result",
          "data": {
            "text/plain": [
              "0.41681579547072506"
            ]
          },
          "metadata": {
            "tags": []
          },
          "execution_count": 23
        }
      ]
    },
    {
      "cell_type": "markdown",
      "metadata": {
        "id": "qI1HUwOETrem",
        "colab_type": "text"
      },
      "source": [
        "Sensitivity (Recall) score"
      ]
    },
    {
      "cell_type": "code",
      "metadata": {
        "id": "aHtseGVfliQ4",
        "colab_type": "code",
        "outputId": "d974a33e-f9c7-42fc-dc8e-34886b26508d",
        "colab": {
          "base_uri": "https://localhost:8080/",
          "height": 35
        }
      },
      "source": [
        "recall_score(y_train, y_train_pred,average='weighted')"
      ],
      "execution_count": 0,
      "outputs": [
        {
          "output_type": "execute_result",
          "data": {
            "text/plain": [
              "0.42106"
            ]
          },
          "metadata": {
            "tags": []
          },
          "execution_count": 22
        }
      ]
    },
    {
      "cell_type": "code",
      "metadata": {
        "id": "hhBHy2zTnak5",
        "colab_type": "code",
        "outputId": "60ce0877-5f93-4696-87f0-e25982041140",
        "colab": {
          "base_uri": "https://localhost:8080/",
          "height": 35
        }
      },
      "source": [
        "from sklearn.metrics import f1_score\n",
        "\n",
        "f1_score(y_train, y_train_pred, average='weighted')"
      ],
      "execution_count": 0,
      "outputs": [
        {
          "output_type": "execute_result",
          "data": {
            "text/plain": [
              "0.4173482980336572"
            ]
          },
          "metadata": {
            "tags": []
          },
          "execution_count": 23
        }
      ]
    },
    {
      "cell_type": "markdown",
      "metadata": {
        "id": "HURxBoraQMLX",
        "colab_type": "text"
      },
      "source": [
        "RandomForestClassifier object has no attribute 'decision_function'\n",
        "\n",
        "Also, from scikit-learn documentation:\n",
        "recision-recall curves are typically used in binary classification to study the output of a classifier."
      ]
    },
    {
      "cell_type": "markdown",
      "metadata": {
        "id": "XMQaxD8jQU8w",
        "colab_type": "text"
      },
      "source": [
        "Let's try binary classification for label 5"
      ]
    },
    {
      "cell_type": "code",
      "metadata": {
        "id": "jhwCCVRGOg4R",
        "colab_type": "code",
        "colab": {}
      },
      "source": [
        "y_train_5 = (y_train == 5)\n",
        "y_test_5 = (y_test == 5)"
      ],
      "execution_count": 0,
      "outputs": []
    },
    {
      "cell_type": "code",
      "metadata": {
        "id": "-0yG_WEGOzio",
        "colab_type": "code",
        "outputId": "bba332b2-9ca5-421d-d185-9317660905e2",
        "colab": {
          "base_uri": "https://localhost:8080/",
          "height": 35
        }
      },
      "source": [
        "rnd_clf_5 = RandomForestClassifier(n_estimators=100, random_state=42)\n",
        "t0 = time.time()\n",
        "rnd_clf_5.fit(X_train_PCA_reduced, y_train_5)\n",
        "t1 = time.time()\n",
        "print(\"Training took {:.2f}s\".format(t1 - t0))"
      ],
      "execution_count": 0,
      "outputs": [
        {
          "output_type": "stream",
          "text": [
            "Training took 148.96s\n"
          ],
          "name": "stdout"
        }
      ]
    },
    {
      "cell_type": "code",
      "metadata": {
        "id": "tsmT6kyPRHCM",
        "colab_type": "code",
        "outputId": "9acea871-5c09-42cf-fb04-aee7f91086c2",
        "colab": {
          "base_uri": "https://localhost:8080/",
          "height": 35
        }
      },
      "source": [
        "X_train_PCA_reduced[500].shape"
      ],
      "execution_count": 0,
      "outputs": [
        {
          "output_type": "execute_result",
          "data": {
            "text/plain": [
              "(217,)"
            ]
          },
          "metadata": {
            "tags": []
          },
          "execution_count": 75
        }
      ]
    },
    {
      "cell_type": "code",
      "metadata": {
        "id": "tPrp4JJlP219",
        "colab_type": "code",
        "outputId": "aaf456a4-9807-4dde-9823-c34c38c9046f",
        "colab": {
          "base_uri": "https://localhost:8080/",
          "height": 35
        }
      },
      "source": [
        "rnd_clf_5.predict([X_train_PCA_reduced[500]])"
      ],
      "execution_count": 0,
      "outputs": [
        {
          "output_type": "execute_result",
          "data": {
            "text/plain": [
              "array([ True])"
            ]
          },
          "metadata": {
            "tags": []
          },
          "execution_count": 76
        }
      ]
    },
    {
      "cell_type": "code",
      "metadata": {
        "id": "bzWw3sgaTF2d",
        "colab_type": "code",
        "outputId": "19c0cc16-254f-4138-9c6a-63b91431a9e3",
        "colab": {
          "base_uri": "https://localhost:8080/",
          "height": 35
        }
      },
      "source": [
        "class_names[5]"
      ],
      "execution_count": 0,
      "outputs": [
        {
          "output_type": "execute_result",
          "data": {
            "text/plain": [
              "'dog'"
            ]
          },
          "metadata": {
            "tags": []
          },
          "execution_count": 77
        }
      ]
    },
    {
      "cell_type": "code",
      "metadata": {
        "id": "JbLXo16WTDzw",
        "colab_type": "code",
        "outputId": "caec5916-c833-423f-c342-5c518340438f",
        "colab": {
          "base_uri": "https://localhost:8080/",
          "height": 315
        }
      },
      "source": [
        "some_pic = X_train_2d[500]\n",
        "some_pic_image = some_pic.reshape(32, 32, 3)\n",
        "plt.imshow(some_pic_image, cmap=mpl.cm.binary)\n",
        "plt.axis(\"off\")\n",
        "\n",
        "save_fig(\"some_pic_plot\")\n",
        "plt.show()"
      ],
      "execution_count": 0,
      "outputs": [
        {
          "output_type": "stream",
          "text": [
            "Saving figure some_pic_plot\n"
          ],
          "name": "stdout"
        },
        {
          "output_type": "display_data",
          "data": {
            "image/png": "[encoded data removed]",
            "text/plain": [
              "<Figure size 432x288 with 1 Axes>"
            ]
          },
          "metadata": {
            "tags": []
          }
        }
      ]
    },
    {
      "cell_type": "code",
      "metadata": {
        "id": "xqcZGyYZSd59",
        "colab_type": "code",
        "colab": {}
      },
      "source": [
        "y_scores = cross_val_predict(rnd_clf_5, X_train_PCA_reduced, y_train_5, cv=3)"
      ],
      "execution_count": 0,
      "outputs": []
    },
    {
      "cell_type": "code",
      "metadata": {
        "id": "Lihd-iN5SUUP",
        "colab_type": "code",
        "colab": {}
      },
      "source": [
        "from sklearn.metrics import precision_recall_curve\n",
        "\n",
        "precisions, recalls, thresholds = precision_recall_curve(y_train_5, y_scores)"
      ],
      "execution_count": 0,
      "outputs": []
    },
    {
      "cell_type": "code",
      "metadata": {
        "id": "7fm9AT6_UOsr",
        "colab_type": "code",
        "outputId": "80048903-c002-40c3-c9c8-3e39ab064940",
        "colab": {
          "base_uri": "https://localhost:8080/",
          "height": 458
        }
      },
      "source": [
        "def plot_precision_vs_recall(precisions, recalls):\n",
        "    plt.plot(recalls, precisions, \"b-\", linewidth=2)\n",
        "    plt.xlabel(\"Recall\", fontsize=16)\n",
        "    plt.ylabel(\"Precision\", fontsize=16)\n",
        "    plt.axis([0, 1, 0, 1])\n",
        "    plt.grid(True)\n",
        "\n",
        "plt.figure(figsize=(8, 6))\n",
        "plot_precision_vs_recall(precisions, recalls)\n",
        "# plt.plot([0.4368, 0.4368], [0., 0.9], \"r:\")\n",
        "# plt.plot([0.0, 0.4368], [0.9, 0.9], \"r:\")\n",
        "# plt.plot([0.4368], [0.9], \"ro\")\n",
        "save_fig(\"precision_vs_recall_plot\")\n",
        "plt.show()"
      ],
      "execution_count": 0,
      "outputs": [
        {
          "output_type": "stream",
          "text": [
            "Saving figure precision_vs_recall_plot\n"
          ],
          "name": "stdout"
        },
        {
          "output_type": "display_data",
          "data": {
            "image/png": "[encoded data removed]",
            "text/plain": [
              "<Figure size 576x432 with 1 Axes>"
            ]
          },
          "metadata": {
            "tags": []
          }
        }
      ]
    },
    {
      "cell_type": "code",
      "metadata": {
        "id": "B6mWtXeKghoM",
        "colab_type": "code",
        "colab": {}
      },
      "source": [
        "from sklearn.metrics import roc_curve\n",
        "\n",
        "fpr, tpr, thresholds = roc_curve(y_train_5, y_scores)"
      ],
      "execution_count": 0,
      "outputs": []
    },
    {
      "cell_type": "code",
      "metadata": {
        "id": "fmzbfJFOgkLk",
        "colab_type": "code",
        "outputId": "432c6cc7-9d63-448b-ef14-84b2984d0cc6",
        "colab": {
          "base_uri": "https://localhost:8080/",
          "height": 458
        }
      },
      "source": [
        "def plot_roc_curve(fpr, tpr, label=None):\n",
        "    plt.plot(fpr, tpr, linewidth=2, label=label)\n",
        "    # plt.plot([0, 1], [0, 1], 'k--') # dashed diagonal\n",
        "    plt.axis([0, 1, 0, 1])                                    # Not shown in the book\n",
        "    plt.xlabel('False Positive Rate (Fall-Out)', fontsize=16) # Not shown\n",
        "    plt.ylabel('True Positive Rate (Recall)', fontsize=16)    # Not shown\n",
        "    plt.grid(True)                                            # Not shown\n",
        "\n",
        "plt.figure(figsize=(8, 6))                         # Not shown\n",
        "plot_roc_curve(fpr, tpr)\n",
        "plt.plot([4.837e-3, 4.837e-3], [0., 0.4368], \"r:\") # Not shown\n",
        "plt.plot([0.0, 4.837e-3], [0.4368, 0.4368], \"r:\")  # Not shown\n",
        "plt.plot([4.837e-3], [0.4368], \"ro\")               # Not shown\n",
        "save_fig(\"roc_curve_plot\")                         # Not shown\n",
        "plt.show()"
      ],
      "execution_count": 0,
      "outputs": [
        {
          "output_type": "stream",
          "text": [
            "Saving figure roc_curve_plot\n"
          ],
          "name": "stdout"
        },
        {
          "output_type": "display_data",
          "data": {
            "image/png": "[encoded data removed]",
            "text/plain": [
              "<Figure size 576x432 with 1 Axes>"
            ]
          },
          "metadata": {
            "tags": []
          }
        }
      ]
    },
    {
      "cell_type": "markdown",
      "metadata": {
        "id": "mtLpxSw-8_D5",
        "colab_type": "text"
      },
      "source": [
        "RandomForestClassifier object has no attribute 'decision_function'\n",
        "\n",
        "Also, from scikit-learn documentation:\n",
        "\n",
        "\n",
        "Precision-recall curves are typically used in binary classification to study the output of a classifier. In order to extend the precision-recall curve and average precision to multi-class or multi-label classification, it is necessary to binarize the output. One curve can be drawn per label, but one can also draw a precision-recall curve by considering each element of the label indicator matrix as a binary prediction (micro-averaging).\n",
        "\n",
        "Receiver Operating Characteristic (ROC):\n",
        "\n",
        "ROC curves are typically used in binary classification to study the output of a classifier. In order to extend ROC curve and ROC area to multi-class or multi-label classification, it is necessary to binarize the output. One ROC curve can be drawn per label, but one can also draw a ROC curve by considering each element of the label indicator matrix as a binary prediction (micro-averaging)."
      ]
    },
    {
      "cell_type": "markdown",
      "metadata": {
        "id": "lMRCzhPcENng",
        "colab_type": "text"
      },
      "source": [
        "Therefore, you should binarize the output and consider precision-recall and roc curves for each class. Moreover, you are going to use predict_proba to get class probabilities."
      ]
    },
    {
      "cell_type": "markdown",
      "metadata": {
        "id": "Mt5zzaxoFsAa",
        "colab_type": "text"
      },
      "source": [
        "1. general settings, learning and prediction"
      ]
    },
    {
      "cell_type": "code",
      "metadata": {
        "id": "rBNyDciSEeTb",
        "colab_type": "code",
        "colab": {}
      },
      "source": [
        "from sklearn.preprocessing import label_binarize\n",
        "from sklearn.multiclass import OneVsRestClassifier\n",
        "from sklearn.metrics import precision_recall_curve, roc_curve\n",
        "\n",
        "Y_roc = label_binarize(y_train, classes=[*range(10)])\n",
        "\n",
        "clf = OneVsRestClassifier(RandomForestClassifier(n_estimators=50,\n",
        "                             max_depth=3,\n",
        "                             random_state=0))\n",
        "clf.fit(X_train_PCA_reduced, y_train)\n",
        "y_score = clf.predict_proba(X_test_reduced)\n"
      ],
      "execution_count": 0,
      "outputs": []
    },
    {
      "cell_type": "code",
      "metadata": {
        "id": "FFgT5xcy9Xj1",
        "colab_type": "code",
        "outputId": "0d5094a3-adcf-4204-c6b7-48d5aa424042",
        "colab": {
          "base_uri": "https://localhost:8080/",
          "height": 35
        }
      },
      "source": [
        "y_score.shape"
      ],
      "execution_count": 0,
      "outputs": [
        {
          "output_type": "execute_result",
          "data": {
            "text/plain": [
              "(10000, 10)"
            ]
          },
          "metadata": {
            "tags": []
          },
          "execution_count": 48
        }
      ]
    },
    {
      "cell_type": "markdown",
      "metadata": {
        "id": "YZUExi16Fwz6",
        "colab_type": "text"
      },
      "source": [
        "2. precision-recall curve\n",
        "\n"
      ]
    },
    {
      "cell_type": "code",
      "metadata": {
        "id": "2i-tJyO9BoyF",
        "colab_type": "code",
        "outputId": "c563d63f-8e4e-4234-ca2b-06bc7d96872d",
        "colab": {
          "base_uri": "https://localhost:8080/",
          "height": 35
        }
      },
      "source": [
        "y_test.shape"
      ],
      "execution_count": 0,
      "outputs": [
        {
          "output_type": "execute_result",
          "data": {
            "text/plain": [
              "(10000,)"
            ]
          },
          "metadata": {
            "tags": []
          },
          "execution_count": 56
        }
      ]
    },
    {
      "cell_type": "code",
      "metadata": {
        "id": "DVVlFlc0F-Bt",
        "colab_type": "code",
        "outputId": "6a7d5be2-88d8-43e3-ee85-d028bf79c8b6",
        "colab": {
          "base_uri": "https://localhost:8080/",
          "height": 235
        }
      },
      "source": [
        "# precision recall curve\n",
        "precision = dict()\n",
        "recall = dict()\n",
        "for i in range(10):\n",
        "    temp = []\n",
        "    for j in range (len(y_score)):\n",
        "        temp.append(y_score[j][i])\n",
        "    precision[i], recall[i], _ = precision_recall_curve(y_test[:,i], temp[:, i])\n",
        "    plt.plot(recall[i], precision[i], lw=2, label='class {}'.format(i))\n",
        "\n",
        "plt.xlabel(\"recall\")\n",
        "plt.ylabel(\"precision\")\n",
        "plt.legend(loc=\"best\")\n",
        "plt.title(\"precision vs. recall curve\")\n",
        "plt.show()"
      ],
      "execution_count": 0,
      "outputs": [
        {
          "output_type": "error",
          "ename": "IndexError",
          "evalue": "ignored",
          "traceback": [
            "\u001b[0;31m---------------------------------------------------------------------------\u001b[0m",
            "\u001b[0;31mIndexError\u001b[0m                                Traceback (most recent call last)",
            "\u001b[0;32m<ipython-input-44-636b304d62d0>\u001b[0m in \u001b[0;36m<module>\u001b[0;34m()\u001b[0m\n\u001b[1;32m      5\u001b[0m     \u001b[0;32mfor\u001b[0m \u001b[0mj\u001b[0m \u001b[0;32min\u001b[0m \u001b[0mrange\u001b[0m \u001b[0;34m(\u001b[0m\u001b[0mlen\u001b[0m\u001b[0;34m(\u001b[0m\u001b[0my_score\u001b[0m\u001b[0;34m)\u001b[0m\u001b[0;34m)\u001b[0m\u001b[0;34m:\u001b[0m\u001b[0;34m\u001b[0m\u001b[0;34m\u001b[0m\u001b[0m\n\u001b[1;32m      6\u001b[0m         \u001b[0mtemp\u001b[0m\u001b[0;34m.\u001b[0m\u001b[0mappend\u001b[0m\u001b[0;34m(\u001b[0m\u001b[0my_score\u001b[0m\u001b[0;34m[\u001b[0m\u001b[0mj\u001b[0m\u001b[0;34m]\u001b[0m\u001b[0;34m[\u001b[0m\u001b[0mi\u001b[0m\u001b[0;34m]\u001b[0m\u001b[0;34m)\u001b[0m\u001b[0;34m\u001b[0m\u001b[0;34m\u001b[0m\u001b[0m\n\u001b[0;32m----> 7\u001b[0;31m     \u001b[0mprecision\u001b[0m\u001b[0;34m[\u001b[0m\u001b[0mi\u001b[0m\u001b[0;34m]\u001b[0m\u001b[0;34m,\u001b[0m \u001b[0mrecall\u001b[0m\u001b[0;34m[\u001b[0m\u001b[0mi\u001b[0m\u001b[0;34m]\u001b[0m\u001b[0;34m,\u001b[0m \u001b[0m_\u001b[0m \u001b[0;34m=\u001b[0m \u001b[0mprecision_recall_curve\u001b[0m\u001b[0;34m(\u001b[0m\u001b[0my_test\u001b[0m\u001b[0;34m[\u001b[0m\u001b[0;34m:\u001b[0m\u001b[0;34m,\u001b[0m\u001b[0mi\u001b[0m\u001b[0;34m]\u001b[0m\u001b[0;34m,\u001b[0m \u001b[0mtemp\u001b[0m\u001b[0;34m[\u001b[0m\u001b[0;34m:\u001b[0m\u001b[0;34m,\u001b[0m \u001b[0mi\u001b[0m\u001b[0;34m]\u001b[0m\u001b[0;34m)\u001b[0m\u001b[0;34m\u001b[0m\u001b[0;34m\u001b[0m\u001b[0m\n\u001b[0m\u001b[1;32m      8\u001b[0m     \u001b[0mplt\u001b[0m\u001b[0;34m.\u001b[0m\u001b[0mplot\u001b[0m\u001b[0;34m(\u001b[0m\u001b[0mrecall\u001b[0m\u001b[0;34m[\u001b[0m\u001b[0mi\u001b[0m\u001b[0;34m]\u001b[0m\u001b[0;34m,\u001b[0m \u001b[0mprecision\u001b[0m\u001b[0;34m[\u001b[0m\u001b[0mi\u001b[0m\u001b[0;34m]\u001b[0m\u001b[0;34m,\u001b[0m \u001b[0mlw\u001b[0m\u001b[0;34m=\u001b[0m\u001b[0;36m2\u001b[0m\u001b[0;34m,\u001b[0m \u001b[0mlabel\u001b[0m\u001b[0;34m=\u001b[0m\u001b[0;34m'class {}'\u001b[0m\u001b[0;34m.\u001b[0m\u001b[0mformat\u001b[0m\u001b[0;34m(\u001b[0m\u001b[0mi\u001b[0m\u001b[0;34m)\u001b[0m\u001b[0;34m)\u001b[0m\u001b[0;34m\u001b[0m\u001b[0;34m\u001b[0m\u001b[0m\n\u001b[1;32m      9\u001b[0m \u001b[0;34m\u001b[0m\u001b[0m\n",
            "\u001b[0;31mIndexError\u001b[0m: too many indices for array"
          ]
        }
      ]
    },
    {
      "cell_type": "markdown",
      "metadata": {
        "id": "JyEJAmeSkusz",
        "colab_type": "text"
      },
      "source": [
        "Unfortunatly, I was unable to solve this \"IndexError: too many indices for array\" as far.\n",
        "Referenced from: \n",
        "https://stackoverflow.com/questions/56090541/how-to-plot-precision-and-recall-of-multiclass-classifier/56092736#56092736?newreg=0b5da05e55444f0291309bffc3cd2f53\n",
        "\n",
        "**The origin codes does not work as well.**\n",
        "\n",
        "It was supposed to draw 10 individual p vs r curves in one chart for multiclasses."
      ]
    },
    {
      "cell_type": "markdown",
      "metadata": {
        "id": "IR644Y9-GGpY",
        "colab_type": "text"
      },
      "source": [
        "3. ROC curve"
      ]
    },
    {
      "cell_type": "code",
      "metadata": {
        "id": "70Uj2d28GFpG",
        "colab_type": "code",
        "outputId": "0adc43aa-babb-459e-dbea-0e5bd02e3f7f",
        "colab": {
          "base_uri": "https://localhost:8080/",
          "height": 235
        }
      },
      "source": [
        "# roc curve\n",
        "fpr = dict()\n",
        "tpr = dict()\n",
        "\n",
        "for i in range(10):\n",
        "    fpr[i], tpr[i], _ = roc_curve(y_test[:, i],\n",
        "                                  y_score[:, i])\n",
        "    plt.plot(fpr[i], tpr[i], lw=2, label='class {}'.format(i))\n",
        "\n",
        "plt.xlabel(\"false positive rate\")\n",
        "plt.ylabel(\"true positive rate\")\n",
        "plt.legend(loc=\"best\")\n",
        "plt.title(\"ROC curve\")\n",
        "plt.show()"
      ],
      "execution_count": 0,
      "outputs": [
        {
          "output_type": "error",
          "ename": "IndexError",
          "evalue": "ignored",
          "traceback": [
            "\u001b[0;31m---------------------------------------------------------------------------\u001b[0m",
            "\u001b[0;31mIndexError\u001b[0m                                Traceback (most recent call last)",
            "\u001b[0;32m<ipython-input-92-2222885ebbf5>\u001b[0m in \u001b[0;36m<module>\u001b[0;34m()\u001b[0m\n\u001b[1;32m      3\u001b[0m \u001b[0;34m\u001b[0m\u001b[0m\n\u001b[1;32m      4\u001b[0m \u001b[0;32mfor\u001b[0m \u001b[0mi\u001b[0m \u001b[0;32min\u001b[0m \u001b[0mrange\u001b[0m\u001b[0;34m(\u001b[0m\u001b[0;36m10\u001b[0m\u001b[0;34m)\u001b[0m\u001b[0;34m:\u001b[0m\u001b[0;34m\u001b[0m\u001b[0;34m\u001b[0m\u001b[0m\n\u001b[0;32m----> 5\u001b[0;31m     fpr[i], tpr[i], _ = roc_curve(y_test[:, i],\n\u001b[0m\u001b[1;32m      6\u001b[0m                                   y_score[:, i])\n\u001b[1;32m      7\u001b[0m     \u001b[0mplt\u001b[0m\u001b[0;34m.\u001b[0m\u001b[0mplot\u001b[0m\u001b[0;34m(\u001b[0m\u001b[0mfpr\u001b[0m\u001b[0;34m[\u001b[0m\u001b[0mi\u001b[0m\u001b[0;34m]\u001b[0m\u001b[0;34m,\u001b[0m \u001b[0mtpr\u001b[0m\u001b[0;34m[\u001b[0m\u001b[0mi\u001b[0m\u001b[0;34m]\u001b[0m\u001b[0;34m,\u001b[0m \u001b[0mlw\u001b[0m\u001b[0;34m=\u001b[0m\u001b[0;36m2\u001b[0m\u001b[0;34m,\u001b[0m \u001b[0mlabel\u001b[0m\u001b[0;34m=\u001b[0m\u001b[0;34m'class {}'\u001b[0m\u001b[0;34m.\u001b[0m\u001b[0mformat\u001b[0m\u001b[0;34m(\u001b[0m\u001b[0mi\u001b[0m\u001b[0;34m)\u001b[0m\u001b[0;34m)\u001b[0m\u001b[0;34m\u001b[0m\u001b[0;34m\u001b[0m\u001b[0m\n",
            "\u001b[0;31mIndexError\u001b[0m: too many indices for array"
          ]
        }
      ]
    },
    {
      "cell_type": "markdown",
      "metadata": {
        "id": "lP6AAXQPnova",
        "colab_type": "text"
      },
      "source": [
        "Same as the above cell. Need further research to make it work."
      ]
    },
    {
      "cell_type": "markdown",
      "metadata": {
        "id": "whXqiGKtYWWi",
        "colab_type": "text"
      },
      "source": [
        "*Next, use t-SNE dimension reduced data, with an explained variance ratio of 95%.Train a new Random Forest classifier on the reduced dataset and see how long it takes.*"
      ]
    },
    {
      "cell_type": "code",
      "metadata": {
        "id": "J5GpBsCRYMlQ",
        "colab_type": "code",
        "outputId": "a4cbd0fc-6d56-45f5-a23f-72917bb72219",
        "colab": {
          "base_uri": "https://localhost:8080/",
          "height": 35
        }
      },
      "source": [
        "rnd_clf3 = RandomForestClassifier(n_estimators=100, random_state=42)\n",
        "t0 = time.time()\n",
        "rnd_clf3.fit(X_tsne_reduced, y)\n",
        "t1 = time.time()\n",
        "print(\"Training took {:.2f}s\".format(t1 - t0))"
      ],
      "execution_count": 0,
      "outputs": [
        {
          "output_type": "stream",
          "text": [
            "Training took 0.97s\n"
          ],
          "name": "stdout"
        }
      ]
    },
    {
      "cell_type": "markdown",
      "metadata": {
        "id": "Qm3cMi2FlUkD",
        "colab_type": "text"
      },
      "source": [
        "From here we can observed that although t-SNE can siginicantly reduce the training time, but the progress of making the transition took tremendous long time as a trade-off."
      ]
    },
    {
      "cell_type": "code",
      "metadata": {
        "id": "EQ0JPZlRaBeu",
        "colab_type": "code",
        "outputId": "f5039604-4eae-427c-81d1-59ce1f50c554",
        "colab": {
          "base_uri": "https://localhost:8080/",
          "height": 35
        }
      },
      "source": [
        "from sklearn.metrics import accuracy_score\n",
        "y_pred = rnd_clf3.predict(X_test_tsne_reduced)\n",
        "accuracy_score(y_test[:5000], y_pred)"
      ],
      "execution_count": 0,
      "outputs": [
        {
          "output_type": "execute_result",
          "data": {
            "text/plain": [
              "0.1028"
            ]
          },
          "metadata": {
            "tags": []
          },
          "execution_count": 30
        }
      ]
    },
    {
      "cell_type": "markdown",
      "metadata": {
        "id": "s1y-ZkyfLBaz",
        "colab_type": "text"
      },
      "source": [
        "The accuracy is terribly low."
      ]
    },
    {
      "cell_type": "markdown",
      "metadata": {
        "id": "C257NgGxjZCA",
        "colab_type": "text"
      },
      "source": [
        "Let's check the Cross-Validation accuracy and Confusion Matrix for t-SNE reduced Random Forest Classifier."
      ]
    },
    {
      "cell_type": "code",
      "metadata": {
        "id": "XX_VqNSCjASD",
        "colab_type": "code",
        "outputId": "3cf6f38b-e823-4505-d79d-34422a7d36d1",
        "colab": {
          "base_uri": "https://localhost:8080/",
          "height": 35
        }
      },
      "source": [
        "from sklearn.model_selection import cross_val_score\n",
        "cross_val_score(rnd_clf3, X_test_tsne_reduced, y, cv=3, scoring=\"accuracy\")"
      ],
      "execution_count": 0,
      "outputs": [
        {
          "output_type": "execute_result",
          "data": {
            "text/plain": [
              "array([0.10857828, 0.0959808 , 0.09363745])"
            ]
          },
          "metadata": {
            "tags": []
          },
          "execution_count": 31
        }
      ]
    },
    {
      "cell_type": "code",
      "metadata": {
        "id": "-cNK96P5jKr8",
        "colab_type": "code",
        "outputId": "e02855d3-df36-4d0d-da1a-25d9f5228b41",
        "colab": {
          "base_uri": "https://localhost:8080/",
          "height": 69
        }
      },
      "source": [
        "from sklearn.model_selection import StratifiedKFold\n",
        "from sklearn.base import clone\n",
        "\n",
        "skfolds = StratifiedKFold(n_splits=3, random_state=42, shuffle=True)\n",
        "\n",
        "for train_index, test_index in skfolds.split(X_test_tsne_reduced, y):\n",
        "    clone_rnd_clf3 = clone(rnd_clf3)\n",
        "    X_train_folds = X_test_tsne_reduced[train_index]\n",
        "    y_train_folds = y[train_index]\n",
        "    X_test_fold = X_test_tsne_reduced[test_index]\n",
        "    y_test_fold = y[test_index]\n",
        "\n",
        "    clone_rnd_clf3.fit(X_train_folds, y_train_folds)\n",
        "    y_pred = clone_rnd_clf3.predict(X_test_fold)\n",
        "    n_correct = sum(y_pred == y_test_fold)\n",
        "    print(n_correct / len(y_pred))"
      ],
      "execution_count": 0,
      "outputs": [
        {
          "output_type": "stream",
          "text": [
            "0.09478104379124175\n",
            "0.09658068386322735\n",
            "0.09483793517406963\n"
          ],
          "name": "stdout"
        }
      ]
    },
    {
      "cell_type": "code",
      "metadata": {
        "id": "Rskx9C8ekBcS",
        "colab_type": "code",
        "colab": {}
      },
      "source": [
        "from sklearn.model_selection import cross_val_predict\n",
        "\n",
        "y_train_pred_rnd_clf3 = cross_val_predict(rnd_clf3, X_test_tsne_reduced, y, cv=3)"
      ],
      "execution_count": 0,
      "outputs": []
    },
    {
      "cell_type": "code",
      "metadata": {
        "id": "opR2UAb8kJAr",
        "colab_type": "code",
        "outputId": "a6b4810b-b415-4da7-e387-ba5d4b564100",
        "colab": {
          "base_uri": "https://localhost:8080/",
          "height": 190
        }
      },
      "source": [
        "from sklearn.metrics import confusion_matrix\n",
        "\n",
        "confusion_matrix(y, y_train_pred_rnd_clf3)"
      ],
      "execution_count": 0,
      "outputs": [
        {
          "output_type": "execute_result",
          "data": {
            "text/plain": [
              "array([[55, 46, 58, 49, 47, 44, 36, 56, 41, 44],\n",
              "       [37, 39, 44, 57, 59, 57, 39, 60, 45, 50],\n",
              "       [67, 46, 60, 49, 43, 51, 47, 48, 61, 55],\n",
              "       [50, 60, 58, 50, 46, 51, 50, 59, 54, 45],\n",
              "       [44, 49, 51, 51, 51, 51, 47, 42, 47, 53],\n",
              "       [50, 57, 60, 62, 46, 53, 51, 34, 47, 44],\n",
              "       [48, 49, 54, 49, 43, 60, 42, 52, 42, 46],\n",
              "       [45, 48, 46, 63, 51, 48, 49, 51, 45, 63],\n",
              "       [47, 54, 57, 54, 51, 46, 45, 46, 51, 52],\n",
              "       [46, 59, 56, 52, 59, 58, 37, 43, 45, 45]])"
            ]
          },
          "metadata": {
            "tags": []
          },
          "execution_count": 34
        }
      ]
    },
    {
      "cell_type": "markdown",
      "metadata": {
        "id": "nI24i8FRuEsi",
        "colab_type": "text"
      },
      "source": [
        "The result is nearly random."
      ]
    },
    {
      "cell_type": "code",
      "metadata": {
        "id": "37WV4Qu0oAi4",
        "colab_type": "code",
        "outputId": "4f35543f-d771-49f3-a57b-03775f9d8c5e",
        "colab": {
          "base_uri": "https://localhost:8080/",
          "height": 35
        }
      },
      "source": [
        "precision_score(y, y_train_pred_rnd_clf3, average='weighted')"
      ],
      "execution_count": 0,
      "outputs": [
        {
          "output_type": "execute_result",
          "data": {
            "text/plain": [
              "0.0994284510727462"
            ]
          },
          "metadata": {
            "tags": []
          },
          "execution_count": 90
        }
      ]
    },
    {
      "cell_type": "code",
      "metadata": {
        "id": "_dEsdzsVoMqt",
        "colab_type": "code",
        "outputId": "c0666f8b-9ac0-4936-a7d2-986e24f14677",
        "colab": {
          "base_uri": "https://localhost:8080/",
          "height": 35
        }
      },
      "source": [
        "recall_score(y, y_train_pred_rnd_clf3,average='weighted')"
      ],
      "execution_count": 0,
      "outputs": [
        {
          "output_type": "execute_result",
          "data": {
            "text/plain": [
              "0.0994"
            ]
          },
          "metadata": {
            "tags": []
          },
          "execution_count": 36
        }
      ]
    },
    {
      "cell_type": "code",
      "metadata": {
        "id": "McADGqbioar4",
        "colab_type": "code",
        "outputId": "a47d8efa-8936-45a7-e6f1-ca6354eaa0a8",
        "colab": {
          "base_uri": "https://localhost:8080/",
          "height": 35
        }
      },
      "source": [
        "f1_score(y, y_train_pred_rnd_clf3,average='weighted')"
      ],
      "execution_count": 0,
      "outputs": [
        {
          "output_type": "execute_result",
          "data": {
            "text/plain": [
              "0.0993731359346379"
            ]
          },
          "metadata": {
            "tags": []
          },
          "execution_count": 37
        }
      ]
    },
    {
      "cell_type": "markdown",
      "metadata": {
        "id": "XuUqkPBRtgyH",
        "colab_type": "text"
      },
      "source": [
        "From previous examples, we are not going to use t-SNE since it hurts the result too much, also it took too much time for transformation."
      ]
    },
    {
      "cell_type": "markdown",
      "metadata": {
        "id": "juZdLGqevsXk",
        "colab_type": "text"
      },
      "source": [
        "# Multiclass classification tests"
      ]
    },
    {
      "cell_type": "code",
      "metadata": {
        "id": "LW6fjmS3FuYr",
        "colab_type": "code",
        "outputId": "2314b9b5-d4ef-4e76-fec4-1d9de7efb689",
        "colab": {
          "base_uri": "https://localhost:8080/",
          "height": 315
        }
      },
      "source": [
        "%matplotlib inline\n",
        "import matplotlib as mpl\n",
        "import matplotlib.pyplot as plt\n",
        "\n",
        "some_pic = X_train_2d[0]\n",
        "some_pic_image = some_pic.reshape(32, 32, 3)\n",
        "plt.imshow(some_pic_image, cmap=mpl.cm.binary)\n",
        "plt.axis(\"off\")\n",
        "\n",
        "save_fig(\"some_pic_plot\")\n",
        "plt.show()"
      ],
      "execution_count": 0,
      "outputs": [
        {
          "output_type": "stream",
          "text": [
            "Saving figure some_pic_plot\n"
          ],
          "name": "stdout"
        },
        {
          "output_type": "display_data",
          "data": {
            "image/png": "[encoded data removed]",
            "text/plain": [
              "<Figure size 432x288 with 1 Axes>"
            ]
          },
          "metadata": {
            "tags": []
          }
        }
      ]
    },
    {
      "cell_type": "code",
      "metadata": {
        "id": "A_Rf5GTHK1d4",
        "colab_type": "code",
        "outputId": "38a33f37-87d8-44cb-edc3-ec9208688d36",
        "colab": {
          "base_uri": "https://localhost:8080/",
          "height": 35
        }
      },
      "source": [
        "y[0]"
      ],
      "execution_count": 0,
      "outputs": [
        {
          "output_type": "execute_result",
          "data": {
            "text/plain": [
              "6"
            ]
          },
          "metadata": {
            "tags": []
          },
          "execution_count": 227
        }
      ]
    },
    {
      "cell_type": "code",
      "metadata": {
        "id": "-n-W4jMfGQRD",
        "colab_type": "code",
        "outputId": "11ad6aab-53d3-4638-a1d3-6616c452fbb2",
        "colab": {
          "base_uri": "https://localhost:8080/",
          "height": 35
        }
      },
      "source": [
        "class_names[y[0]]"
      ],
      "execution_count": 0,
      "outputs": [
        {
          "output_type": "execute_result",
          "data": {
            "text/plain": [
              "'frog'"
            ]
          },
          "metadata": {
            "tags": []
          },
          "execution_count": 228
        }
      ]
    },
    {
      "cell_type": "markdown",
      "metadata": {
        "id": "KwZ7R6k4Mscn",
        "colab_type": "text"
      },
      "source": [
        "This shows a good match from the picture set and its label."
      ]
    },
    {
      "cell_type": "code",
      "metadata": {
        "id": "rn9bqigpvu6P",
        "colab_type": "code",
        "outputId": "83616a4a-7ebc-4ff0-897c-5d399853a11b",
        "colab": {
          "base_uri": "https://localhost:8080/",
          "height": 35
        }
      },
      "source": [
        "from sklearn.svm import SVC\n",
        "\n",
        "svm_clf = SVC(gamma=\"auto\", random_state=42)\n",
        "svm_clf.fit(X_train_2d[:1000], y_train[:1000]) # y_train, not y_train_1\n",
        "svm_clf.predict([some_pic])"
      ],
      "execution_count": 0,
      "outputs": [
        {
          "output_type": "execute_result",
          "data": {
            "text/plain": [
              "array([6], dtype=uint8)"
            ]
          },
          "metadata": {
            "tags": []
          },
          "execution_count": 93
        }
      ]
    },
    {
      "cell_type": "markdown",
      "metadata": {
        "id": "LdpbBl5gNQJS",
        "colab_type": "text"
      },
      "source": [
        "SVM(Support Vector Machine) classifier gave us a prediction of label 6 which is correct."
      ]
    },
    {
      "cell_type": "code",
      "metadata": {
        "id": "GU_j7pSoGqg_",
        "colab_type": "code",
        "outputId": "ea78f2f2-86b6-4615-d57d-4daca09b5b2d",
        "colab": {
          "base_uri": "https://localhost:8080/",
          "height": 52
        }
      },
      "source": [
        "some_pic_scores = svm_clf.decision_function([some_pic])\n",
        "some_pic_scores"
      ],
      "execution_count": 0,
      "outputs": [
        {
          "output_type": "execute_result",
          "data": {
            "text/plain": [
              "array([[-0.30416998,  6.24971667,  2.9367128 ,  6.24332789,  8.28665762,\n",
              "         4.20160149,  9.30097659,  6.23568753,  0.69936942,  1.72025499]])"
            ]
          },
          "metadata": {
            "tags": []
          },
          "execution_count": 94
        }
      ]
    },
    {
      "cell_type": "code",
      "metadata": {
        "id": "BVT5zzSCGypX",
        "colab_type": "code",
        "outputId": "a503ea3f-b687-4162-8496-5937a6059a1f",
        "colab": {
          "base_uri": "https://localhost:8080/",
          "height": 35
        }
      },
      "source": [
        "np.argmax(some_pic_scores)"
      ],
      "execution_count": 0,
      "outputs": [
        {
          "output_type": "execute_result",
          "data": {
            "text/plain": [
              "6"
            ]
          },
          "metadata": {
            "tags": []
          },
          "execution_count": 95
        }
      ]
    },
    {
      "cell_type": "code",
      "metadata": {
        "id": "v3vEBVy1G5xw",
        "colab_type": "code",
        "outputId": "5ff77813-e132-47d5-d815-9bc65766b392",
        "colab": {
          "base_uri": "https://localhost:8080/",
          "height": 35
        }
      },
      "source": [
        "svm_clf.classes_"
      ],
      "execution_count": 0,
      "outputs": [
        {
          "output_type": "execute_result",
          "data": {
            "text/plain": [
              "array([0, 1, 2, 3, 4, 5, 6, 7, 8, 9], dtype=uint8)"
            ]
          },
          "metadata": {
            "tags": []
          },
          "execution_count": 96
        }
      ]
    },
    {
      "cell_type": "code",
      "metadata": {
        "id": "34EHtDrHG97_",
        "colab_type": "code",
        "outputId": "ff6ffbcd-b8ad-4c38-850a-e49d93c4965a",
        "colab": {
          "base_uri": "https://localhost:8080/",
          "height": 35
        }
      },
      "source": [
        "svm_clf.classes_[6]"
      ],
      "execution_count": 0,
      "outputs": [
        {
          "output_type": "execute_result",
          "data": {
            "text/plain": [
              "6"
            ]
          },
          "metadata": {
            "tags": []
          },
          "execution_count": 212
        }
      ]
    },
    {
      "cell_type": "code",
      "metadata": {
        "id": "6hvU87MEsbC_",
        "colab_type": "code",
        "outputId": "196b4f38-e437-4c81-e829-41551f2016c7",
        "colab": {
          "base_uri": "https://localhost:8080/",
          "height": 35
        }
      },
      "source": [
        "class_names[6]"
      ],
      "execution_count": 0,
      "outputs": [
        {
          "output_type": "execute_result",
          "data": {
            "text/plain": [
              "'frog'"
            ]
          },
          "metadata": {
            "tags": []
          },
          "execution_count": 97
        }
      ]
    },
    {
      "cell_type": "markdown",
      "metadata": {
        "id": "STJQpnJBUL4Q",
        "colab_type": "text"
      },
      "source": [
        "How about using PCA reduced data?"
      ]
    },
    {
      "cell_type": "code",
      "metadata": {
        "id": "OGjbAJYMUPoQ",
        "colab_type": "code",
        "outputId": "79fbb0ee-e6ad-4d1e-dd1e-160532f58859",
        "colab": {
          "base_uri": "https://localhost:8080/",
          "height": 35
        }
      },
      "source": [
        "test_reduced = pca.transform([X_train_2d[0]])\n",
        "svm_clf.fit(X_train_PCA_reduced [:1000], y_train[:1000]) # y_train, not y_train_1\n",
        "svm_clf.predict(test_reduced)"
      ],
      "execution_count": 0,
      "outputs": [
        {
          "output_type": "execute_result",
          "data": {
            "text/plain": [
              "array([6], dtype=uint8)"
            ]
          },
          "metadata": {
            "tags": []
          },
          "execution_count": 98
        }
      ]
    },
    {
      "cell_type": "code",
      "metadata": {
        "id": "UhySAjzDpY7V",
        "colab_type": "code",
        "outputId": "317277b7-fa06-4d02-f813-51b9464c4f8f",
        "colab": {
          "base_uri": "https://localhost:8080/",
          "height": 52
        }
      },
      "source": [
        "some_pic_scores_PCA = svm_clf.decision_function(test_reduced)\n",
        "some_pic_scores_PCA"
      ],
      "execution_count": 0,
      "outputs": [
        {
          "output_type": "execute_result",
          "data": {
            "text/plain": [
              "array([[ 0.69765411,  6.26273063,  2.72267548,  7.27480863,  8.29047244,\n",
              "         5.23736714,  9.30374848,  4.21159748, -0.30465832,  1.7290935 ]])"
            ]
          },
          "metadata": {
            "tags": []
          },
          "execution_count": 99
        }
      ]
    },
    {
      "cell_type": "code",
      "metadata": {
        "id": "umXi5_g0p4SD",
        "colab_type": "code",
        "outputId": "59320a4c-8b81-4253-c23b-417b846845d4",
        "colab": {
          "base_uri": "https://localhost:8080/",
          "height": 35
        }
      },
      "source": [
        "np.argmax(some_pic_scores_PCA)"
      ],
      "execution_count": 0,
      "outputs": [
        {
          "output_type": "execute_result",
          "data": {
            "text/plain": [
              "6"
            ]
          },
          "metadata": {
            "tags": []
          },
          "execution_count": 223
        }
      ]
    },
    {
      "cell_type": "code",
      "metadata": {
        "id": "8qhTiphMp8A_",
        "colab_type": "code",
        "outputId": "3d812edf-01bc-4564-a4b3-ddc5d8a0a9c8",
        "colab": {
          "base_uri": "https://localhost:8080/",
          "height": 35
        }
      },
      "source": [
        "svm_clf.classes_"
      ],
      "execution_count": 0,
      "outputs": [
        {
          "output_type": "execute_result",
          "data": {
            "text/plain": [
              "array([0, 1, 2, 3, 4, 5, 6, 7, 8, 9], dtype=uint8)"
            ]
          },
          "metadata": {
            "tags": []
          },
          "execution_count": 224
        }
      ]
    },
    {
      "cell_type": "code",
      "metadata": {
        "id": "URGcmD8TqBQr",
        "colab_type": "code",
        "outputId": "05c92ca2-d8b9-459a-d46b-21d22dd33f50",
        "colab": {
          "base_uri": "https://localhost:8080/",
          "height": 35
        }
      },
      "source": [
        "svm_clf.classes_[6]"
      ],
      "execution_count": 0,
      "outputs": [
        {
          "output_type": "execute_result",
          "data": {
            "text/plain": [
              "6"
            ]
          },
          "metadata": {
            "tags": []
          },
          "execution_count": 225
        }
      ]
    },
    {
      "cell_type": "code",
      "metadata": {
        "id": "dUek7MzAsd4D",
        "colab_type": "code",
        "outputId": "6f560f67-b87a-4b8e-cac5-be124b702360",
        "colab": {
          "base_uri": "https://localhost:8080/",
          "height": 35
        }
      },
      "source": [
        "class_names[6]"
      ],
      "execution_count": 0,
      "outputs": [
        {
          "output_type": "execute_result",
          "data": {
            "text/plain": [
              "'frog'"
            ]
          },
          "metadata": {
            "tags": []
          },
          "execution_count": 231
        }
      ]
    },
    {
      "cell_type": "code",
      "metadata": {
        "id": "JNd12iQXyGHT",
        "colab_type": "code",
        "outputId": "efbda5ae-63fe-45fc-a2bc-a13c316e5ac9",
        "colab": {
          "base_uri": "https://localhost:8080/",
          "height": 35
        }
      },
      "source": [
        "y_pred = svm_clf.predict(X_test_reduced)\n",
        "accuracy_score(y_test, y_pred)"
      ],
      "execution_count": 0,
      "outputs": [
        {
          "output_type": "execute_result",
          "data": {
            "text/plain": [
              "0.3605"
            ]
          },
          "metadata": {
            "tags": []
          },
          "execution_count": 100
        }
      ]
    },
    {
      "cell_type": "markdown",
      "metadata": {
        "id": "wP6lImvvy-7N",
        "colab_type": "text"
      },
      "source": [
        "PCA reduced data with SVM have an overall accuracy 36.05%"
      ]
    },
    {
      "cell_type": "markdown",
      "metadata": {
        "id": "68TGlICabXIt",
        "colab_type": "text"
      },
      "source": [
        "*SVM cross validation, Specificity, Sensitivity Score and Confusion Matrix*"
      ]
    },
    {
      "cell_type": "code",
      "metadata": {
        "id": "hcvqaktYbOfk",
        "colab_type": "code",
        "colab": {}
      },
      "source": [
        "y_train_pred = cross_val_predict(svm_clf, X_train_PCA_reduced, y_train, cv=3)"
      ],
      "execution_count": 0,
      "outputs": []
    },
    {
      "cell_type": "code",
      "metadata": {
        "id": "bWPHP10pZTz_",
        "colab_type": "code",
        "outputId": "6ec03f82-07ca-4640-8d28-5d304483543e",
        "colab": {
          "base_uri": "https://localhost:8080/",
          "height": 35
        }
      },
      "source": [
        "precision_score(y_train, y_train_pred, average='weighted')"
      ],
      "execution_count": 0,
      "outputs": [
        {
          "output_type": "execute_result",
          "data": {
            "text/plain": [
              "0.5175567885129257"
            ]
          },
          "metadata": {
            "tags": []
          },
          "execution_count": 103
        }
      ]
    },
    {
      "cell_type": "code",
      "metadata": {
        "id": "nZQGZneXblLl",
        "colab_type": "code",
        "outputId": "2f5c4a7f-5fe4-4277-d231-32ae1ca2510b",
        "colab": {
          "base_uri": "https://localhost:8080/",
          "height": 35
        }
      },
      "source": [
        "recall_score(y_train, y_train_pred, average='weighted')"
      ],
      "execution_count": 0,
      "outputs": [
        {
          "output_type": "execute_result",
          "data": {
            "text/plain": [
              "0.519"
            ]
          },
          "metadata": {
            "tags": []
          },
          "execution_count": 104
        }
      ]
    },
    {
      "cell_type": "code",
      "metadata": {
        "id": "AB3Hb4w4f14r",
        "colab_type": "code",
        "outputId": "c1efc2cb-d0aa-4602-f0aa-adb245f8dcc6",
        "colab": {
          "base_uri": "https://localhost:8080/",
          "height": 190
        }
      },
      "source": [
        "cm_svm = confusion_matrix(y_train, y_train_pred)\n",
        "cm_svm"
      ],
      "execution_count": 0,
      "outputs": [
        {
          "output_type": "execute_result",
          "data": {
            "text/plain": [
              "array([[2854,  214,  261,  148,  153,  107,  107,  150,  714,  292],\n",
              "       [ 171, 3166,   93,  170,   71,   91,  114,  135,  274,  715],\n",
              "       [ 421,  111, 1943,  377,  703,  311,  628,  257,  141,  108],\n",
              "       [ 182,  140,  454, 1876,  264,  878,  603,  186,  167,  250],\n",
              "       [ 291,   93,  732,  292, 2096,  239,  660,  352,  134,  111],\n",
              "       [ 125,  125,  456, 1075,  337, 1917,  440,  285,  122,  118],\n",
              "       [  71,   88,  409,  447,  541,  248, 2941,  102,   61,   92],\n",
              "       [ 179,  114,  304,  348,  463,  301,  182, 2733,  105,  271],\n",
              "       [ 465,  322,   94,  133,  100,  109,   61,   45, 3350,  321],\n",
              "       [ 211,  733,   84,  166,   64,  110,  129,  153,  276, 3074]])"
            ]
          },
          "metadata": {
            "tags": []
          },
          "execution_count": 113
        }
      ]
    },
    {
      "cell_type": "code",
      "metadata": {
        "id": "-boLWzrYlTuf",
        "colab_type": "code",
        "colab": {}
      },
      "source": [
        "def plot_confusion_matrix(matrix):\n",
        "    \"\"\"If you prefer color and a colorbar\"\"\"\n",
        "    fig = plt.figure(figsize=(8,8))\n",
        "    ax = fig.add_subplot(111)\n",
        "    cax = ax.matshow(matrix)\n",
        "    fig.colorbar(cax)"
      ],
      "execution_count": 0,
      "outputs": []
    },
    {
      "cell_type": "code",
      "metadata": {
        "id": "qkvA5e4elfb1",
        "colab_type": "code",
        "outputId": "7df9bd46-27b4-48df-dcf1-ae70e8995d92",
        "colab": {
          "base_uri": "https://localhost:8080/",
          "height": 295
        }
      },
      "source": [
        "plt.matshow(cm_svm, cmap=plt.cm.gray)\n",
        "save_fig(\"confusion_matrix_plot\", tight_layout=False)\n",
        "plt.show()"
      ],
      "execution_count": 0,
      "outputs": [
        {
          "output_type": "stream",
          "text": [
            "Saving figure confusion_matrix_plot\n"
          ],
          "name": "stdout"
        },
        {
          "output_type": "display_data",
          "data": {
            "image/png": "[encoded data removed]",
            "text/plain": [
              "<Figure size 288x288 with 1 Axes>"
            ]
          },
          "metadata": {
            "tags": []
          }
        }
      ]
    },
    {
      "cell_type": "markdown",
      "metadata": {
        "id": "yM5iezdjUhsW",
        "colab_type": "text"
      },
      "source": [
        "Let's try OvR classifier."
      ]
    },
    {
      "cell_type": "code",
      "metadata": {
        "id": "eg1PejXDHDdf",
        "colab_type": "code",
        "outputId": "54a7bd8e-26c0-4280-a7e2-1d3d106ad741",
        "colab": {
          "base_uri": "https://localhost:8080/",
          "height": 35
        }
      },
      "source": [
        "from sklearn.multiclass import OneVsRestClassifier\n",
        "ovr_clf = OneVsRestClassifier(SVC(gamma=\"auto\", random_state=42))\n",
        "ovr_clf.fit(X_train_2d[:1000], y_train[:1000])\n",
        "ovr_clf.predict([some_pic])"
      ],
      "execution_count": 0,
      "outputs": [
        {
          "output_type": "execute_result",
          "data": {
            "text/plain": [
              "array([6], dtype=uint8)"
            ]
          },
          "metadata": {
            "tags": []
          },
          "execution_count": 232
        }
      ]
    },
    {
      "cell_type": "code",
      "metadata": {
        "id": "yIlKOuL2HRZH",
        "colab_type": "code",
        "outputId": "0d0a1dfa-214e-41c1-83e7-b1329c0f5704",
        "colab": {
          "base_uri": "https://localhost:8080/",
          "height": 35
        }
      },
      "source": [
        "len(ovr_clf.estimators_)"
      ],
      "execution_count": 0,
      "outputs": [
        {
          "output_type": "execute_result",
          "data": {
            "text/plain": [
              "10"
            ]
          },
          "metadata": {
            "tags": []
          },
          "execution_count": 233
        }
      ]
    },
    {
      "cell_type": "code",
      "metadata": {
        "id": "CA3ZbhfCzNOk",
        "colab_type": "code",
        "outputId": "0b6f6eb9-663c-4c14-e0ce-3645182fba7a",
        "colab": {
          "base_uri": "https://localhost:8080/",
          "height": 35
        }
      },
      "source": [
        "y_pred = ovr_clf.predict(X_test_2d)\n",
        "accuracy_score(y_test, y_pred)"
      ],
      "execution_count": 0,
      "outputs": [
        {
          "output_type": "execute_result",
          "data": {
            "text/plain": [
              "0.3267"
            ]
          },
          "metadata": {
            "tags": []
          },
          "execution_count": 255
        }
      ]
    },
    {
      "cell_type": "markdown",
      "metadata": {
        "id": "E4FOk9tD0AoD",
        "colab_type": "text"
      },
      "source": [
        "Overall accuracy for OvR is 32.67%"
      ]
    },
    {
      "cell_type": "markdown",
      "metadata": {
        "id": "XArVR0iKzpSM",
        "colab_type": "text"
      },
      "source": [
        "Let's use PCA reduced data for OvR."
      ]
    },
    {
      "cell_type": "code",
      "metadata": {
        "id": "wdFU71ePz1bA",
        "colab_type": "code",
        "outputId": "c03312a5-f2e6-446e-fb23-9ab05d5b74ed",
        "colab": {
          "base_uri": "https://localhost:8080/",
          "height": 35
        }
      },
      "source": [
        "ovr_clf = OneVsRestClassifier(SVC(gamma=\"auto\", random_state=42))\n",
        "ovr_clf.fit(X_train_PCA_reduced[:1000], y_train[:1000])\n",
        "ovr_clf.predict(test_reduced)"
      ],
      "execution_count": 0,
      "outputs": [
        {
          "output_type": "execute_result",
          "data": {
            "text/plain": [
              "array([6], dtype=uint8)"
            ]
          },
          "metadata": {
            "tags": []
          },
          "execution_count": 116
        }
      ]
    },
    {
      "cell_type": "code",
      "metadata": {
        "id": "1BbTzawFz2v_",
        "colab_type": "code",
        "outputId": "48c210c6-9f68-4a36-d093-564d6a7e315e",
        "colab": {
          "base_uri": "https://localhost:8080/",
          "height": 35
        }
      },
      "source": [
        "y_pred = ovr_clf.predict(X_test_reduced)\n",
        "accuracy_score(y_test, y_pred)"
      ],
      "execution_count": 0,
      "outputs": [
        {
          "output_type": "execute_result",
          "data": {
            "text/plain": [
              "0.3668"
            ]
          },
          "metadata": {
            "tags": []
          },
          "execution_count": 117
        }
      ]
    },
    {
      "cell_type": "markdown",
      "metadata": {
        "id": "VfYO9wdR0Yty",
        "colab_type": "text"
      },
      "source": [
        "Great, PCA reduced data not only speed up the process but also increased accuracy, although it's still lower than RF classifier."
      ]
    },
    {
      "cell_type": "markdown",
      "metadata": {
        "id": "vKWX8lUVmCZf",
        "colab_type": "text"
      },
      "source": [
        "OVR cross validation, Specificity, Sensitivity Score and Confusion Matrix"
      ]
    },
    {
      "cell_type": "code",
      "metadata": {
        "id": "RJbyewkIl-vj",
        "colab_type": "code",
        "colab": {}
      },
      "source": [
        "y_train_ovr_pred = cross_val_predict(ovr_clf, X_train_PCA_reduced, y_train, cv=3)"
      ],
      "execution_count": 0,
      "outputs": []
    },
    {
      "cell_type": "code",
      "metadata": {
        "id": "qBEYdG8PLYMS",
        "colab_type": "code",
        "outputId": "4cea7435-533e-4294-cbd7-4d37122a543b",
        "colab": {
          "base_uri": "https://localhost:8080/",
          "height": 35
        }
      },
      "source": [
        "y_train_ovr_pred"
      ],
      "execution_count": 0,
      "outputs": [
        {
          "output_type": "execute_result",
          "data": {
            "text/plain": [
              "array([6, 1, 9, ..., 9, 8, 7], dtype=uint8)"
            ]
          },
          "metadata": {
            "tags": []
          },
          "execution_count": 132
        }
      ]
    },
    {
      "cell_type": "markdown",
      "metadata": {
        "id": "b84Zr5Eot6Gv",
        "colab_type": "text"
      },
      "source": [
        "This takes a very long time, about two hours."
      ]
    },
    {
      "cell_type": "code",
      "metadata": {
        "id": "dMtWEnQomZdj",
        "colab_type": "code",
        "outputId": "7e9bcc52-9d4a-4ede-db91-cc865c7b20fd",
        "colab": {
          "base_uri": "https://localhost:8080/",
          "height": 35
        }
      },
      "source": [
        "precision_score(y_train, y_train_ovr_pred, average='weighted')"
      ],
      "execution_count": 0,
      "outputs": [
        {
          "output_type": "execute_result",
          "data": {
            "text/plain": [
              "0.5208612397254906"
            ]
          },
          "metadata": {
            "tags": []
          },
          "execution_count": 120
        }
      ]
    },
    {
      "cell_type": "code",
      "metadata": {
        "id": "nxJMnbtYmedB",
        "colab_type": "code",
        "outputId": "360cabfb-5116-4aed-f076-bade7f30dfd7",
        "colab": {
          "base_uri": "https://localhost:8080/",
          "height": 35
        }
      },
      "source": [
        "recall_score(y_train, y_train_ovr_pred, average='weighted')"
      ],
      "execution_count": 0,
      "outputs": [
        {
          "output_type": "execute_result",
          "data": {
            "text/plain": [
              "0.53016"
            ]
          },
          "metadata": {
            "tags": []
          },
          "execution_count": 121
        }
      ]
    },
    {
      "cell_type": "code",
      "metadata": {
        "id": "pKCzlscBmgQi",
        "colab_type": "code",
        "outputId": "91ba5f37-bdca-4cec-e35b-1bff56cfd0f6",
        "colab": {
          "base_uri": "https://localhost:8080/",
          "height": 190
        }
      },
      "source": [
        "cm_ovr = confusion_matrix(y_train, y_train_pred)\n",
        "cm_ovr"
      ],
      "execution_count": 0,
      "outputs": [
        {
          "output_type": "execute_result",
          "data": {
            "text/plain": [
              "array([[2854,  214,  261,  148,  153,  107,  107,  150,  714,  292],\n",
              "       [ 171, 3166,   93,  170,   71,   91,  114,  135,  274,  715],\n",
              "       [ 421,  111, 1943,  377,  703,  311,  628,  257,  141,  108],\n",
              "       [ 182,  140,  454, 1876,  264,  878,  603,  186,  167,  250],\n",
              "       [ 291,   93,  732,  292, 2096,  239,  660,  352,  134,  111],\n",
              "       [ 125,  125,  456, 1075,  337, 1917,  440,  285,  122,  118],\n",
              "       [  71,   88,  409,  447,  541,  248, 2941,  102,   61,   92],\n",
              "       [ 179,  114,  304,  348,  463,  301,  182, 2733,  105,  271],\n",
              "       [ 465,  322,   94,  133,  100,  109,   61,   45, 3350,  321],\n",
              "       [ 211,  733,   84,  166,   64,  110,  129,  153,  276, 3074]])"
            ]
          },
          "metadata": {
            "tags": []
          },
          "execution_count": 122
        }
      ]
    },
    {
      "cell_type": "code",
      "metadata": {
        "id": "RDONOfbxmt3Y",
        "colab_type": "code",
        "outputId": "4ba04a3b-8804-4202-fd39-1b33699abd1c",
        "colab": {
          "base_uri": "https://localhost:8080/",
          "height": 295
        }
      },
      "source": [
        "plt.matshow(cm_ovr, cmap=plt.cm.gray)\n",
        "save_fig(\"confusion_matrix_plot\", tight_layout=False)\n",
        "plt.show()"
      ],
      "execution_count": 0,
      "outputs": [
        {
          "output_type": "stream",
          "text": [
            "Saving figure confusion_matrix_plot\n"
          ],
          "name": "stdout"
        },
        {
          "output_type": "display_data",
          "data": {
            "image/png": "[encoded data removed]",
            "text/plain": [
              "<Figure size 288x288 with 1 Axes>"
            ]
          },
          "metadata": {
            "tags": []
          }
        }
      ]
    },
    {
      "cell_type": "markdown",
      "metadata": {
        "id": "t8l8NFWpR5IS",
        "colab_type": "text"
      },
      "source": [
        "Let's do SGD (Stochastic Gradient Descent) classifier this time. It takes a very long time."
      ]
    },
    {
      "cell_type": "code",
      "metadata": {
        "id": "Qp5rLlWcHUAK",
        "colab_type": "code",
        "outputId": "ca915a16-e74d-4894-9a1b-c54d969b142c",
        "colab": {
          "base_uri": "https://localhost:8080/",
          "height": 35
        }
      },
      "source": [
        "sgd_clf.fit(X_train_2d, y_train)\n",
        "sgd_clf.predict([some_pic])"
      ],
      "execution_count": 0,
      "outputs": [
        {
          "output_type": "execute_result",
          "data": {
            "text/plain": [
              "array([6], dtype=uint8)"
            ]
          },
          "metadata": {
            "tags": []
          },
          "execution_count": 129
        }
      ]
    },
    {
      "cell_type": "markdown",
      "metadata": {
        "id": "xbokwvcruiu9",
        "colab_type": "text"
      },
      "source": [
        "Well, it gives a right result."
      ]
    },
    {
      "cell_type": "code",
      "metadata": {
        "id": "JjyVD4FD03bL",
        "colab_type": "code",
        "outputId": "ae2d035c-0331-4ba2-8559-5ee98c01af0c",
        "colab": {
          "base_uri": "https://localhost:8080/",
          "height": 35
        }
      },
      "source": [
        "y_pred = sgd_clf.predict(X_test_2d)\n",
        "accuracy_score(y_test, y_pred)"
      ],
      "execution_count": 0,
      "outputs": [
        {
          "output_type": "execute_result",
          "data": {
            "text/plain": [
              "0.3242"
            ]
          },
          "metadata": {
            "tags": []
          },
          "execution_count": 262
        }
      ]
    },
    {
      "cell_type": "markdown",
      "metadata": {
        "id": "hM7zgedBR2px",
        "colab_type": "text"
      },
      "source": [
        "Let's use PCA reduced the data."
      ]
    },
    {
      "cell_type": "code",
      "metadata": {
        "id": "Czl3dNLYufJ-",
        "colab_type": "code",
        "outputId": "6dafb649-425a-400a-b6bb-631d6d77f26b",
        "colab": {
          "base_uri": "https://localhost:8080/",
          "height": 35
        }
      },
      "source": [
        "sgd_clf.fit(X_train_PCA_reduced, y_train)\n",
        "sgd_clf.predict(test_reduced)"
      ],
      "execution_count": 0,
      "outputs": [
        {
          "output_type": "execute_result",
          "data": {
            "text/plain": [
              "array([7], dtype=uint8)"
            ]
          },
          "metadata": {
            "tags": []
          },
          "execution_count": 236
        }
      ]
    },
    {
      "cell_type": "markdown",
      "metadata": {
        "id": "6w7WgYKru5cG",
        "colab_type": "text"
      },
      "source": [
        "It took much less time, but with a wrong prediction."
      ]
    },
    {
      "cell_type": "code",
      "metadata": {
        "id": "88ShZZXM0wnv",
        "colab_type": "code",
        "outputId": "67407f48-3577-443d-96f3-c18e77982510",
        "colab": {
          "base_uri": "https://localhost:8080/",
          "height": 35
        }
      },
      "source": [
        "y_pred = sgd_clf.predict(X_test_reduced)\n",
        "accuracy_score(y_test, y_pred)"
      ],
      "execution_count": 0,
      "outputs": [
        {
          "output_type": "execute_result",
          "data": {
            "text/plain": [
              "0.3044"
            ]
          },
          "metadata": {
            "tags": []
          },
          "execution_count": 260
        }
      ]
    },
    {
      "cell_type": "markdown",
      "metadata": {
        "id": "5deHGHGL1WRd",
        "colab_type": "text"
      },
      "source": [
        "Overall accuracy for SGD with PCA reduced data is 30.44% with 2% accuracy down and much speed up."
      ]
    },
    {
      "cell_type": "code",
      "metadata": {
        "id": "zEGq0bwJSONF",
        "colab_type": "code",
        "outputId": "b8d91e7b-379e-4dbf-e4e8-0c935c6dc582",
        "colab": {
          "base_uri": "https://localhost:8080/",
          "height": 52
        }
      },
      "source": [
        "sgd_score = sgd_clf.decision_function(test_reduced)\n",
        "sgd_score"
      ],
      "execution_count": 0,
      "outputs": [
        {
          "output_type": "execute_result",
          "data": {
            "text/plain": [
              "array([[-2.19250577, -1.60315651, -1.42426416, -0.91211381, -1.24990739,\n",
              "        -1.31241862, -1.10547433, -0.29982903, -5.17253513, -2.60228213]])"
            ]
          },
          "metadata": {
            "tags": []
          },
          "execution_count": 242
        }
      ]
    },
    {
      "cell_type": "code",
      "metadata": {
        "id": "MHo9sBhpveUT",
        "colab_type": "code",
        "outputId": "5866caba-2ea6-4d1a-9cdd-17055d6d10cc",
        "colab": {
          "base_uri": "https://localhost:8080/",
          "height": 35
        }
      },
      "source": [
        "np.argmax(sgd_score)"
      ],
      "execution_count": 0,
      "outputs": [
        {
          "output_type": "execute_result",
          "data": {
            "text/plain": [
              "7"
            ]
          },
          "metadata": {
            "tags": []
          },
          "execution_count": 243
        }
      ]
    },
    {
      "cell_type": "code",
      "metadata": {
        "id": "51YTvNpsSRK-",
        "colab_type": "code",
        "outputId": "6d6952bb-78f2-4800-fdf3-51c4dc3e6545",
        "colab": {
          "base_uri": "https://localhost:8080/",
          "height": 35
        }
      },
      "source": [
        "cross_val_score(sgd_clf, X_train_PCA_reduced, y_train, cv=3, scoring=\"accuracy\")"
      ],
      "execution_count": 0,
      "outputs": [
        {
          "output_type": "execute_result",
          "data": {
            "text/plain": [
              "array([0.32039359, 0.30563389, 0.3124325 ])"
            ]
          },
          "metadata": {
            "tags": []
          },
          "execution_count": 240
        }
      ]
    },
    {
      "cell_type": "code",
      "metadata": {
        "id": "vW8s54GqeQr8",
        "colab_type": "code",
        "outputId": "eb14c527-ffe6-48ca-de12-bde7f11e0adb",
        "colab": {
          "base_uri": "https://localhost:8080/",
          "height": 35
        }
      },
      "source": [
        "precision_score(y_test, y_pred, average='weighted')"
      ],
      "execution_count": 0,
      "outputs": [
        {
          "output_type": "execute_result",
          "data": {
            "text/plain": [
              "0.35793458597844674"
            ]
          },
          "metadata": {
            "tags": []
          },
          "execution_count": 184
        }
      ]
    },
    {
      "cell_type": "code",
      "metadata": {
        "id": "qCns2iCEemXV",
        "colab_type": "code",
        "outputId": "460ea878-d0ad-45e0-f341-608ee1d080f6",
        "colab": {
          "base_uri": "https://localhost:8080/",
          "height": 35
        }
      },
      "source": [
        "recall_score(y_test, y_pred, average='weighted')"
      ],
      "execution_count": 0,
      "outputs": [
        {
          "output_type": "execute_result",
          "data": {
            "text/plain": [
              "0.3668"
            ]
          },
          "metadata": {
            "tags": []
          },
          "execution_count": 185
        }
      ]
    },
    {
      "cell_type": "code",
      "metadata": {
        "id": "WhVqzpuev-Xk",
        "colab_type": "code",
        "outputId": "57b92233-1c1d-4c90-88ab-dc1344a52f1b",
        "colab": {
          "base_uri": "https://localhost:8080/",
          "height": 35
        }
      },
      "source": [
        "from sklearn.preprocessing import StandardScaler\n",
        "scaler = StandardScaler()\n",
        "X_train_scaled = scaler.fit_transform(X_train_PCA_reduced.astype(np.float64))\n",
        "cross_val_score(sgd_clf, X_train_scaled, y_train, cv=3, scoring=\"accuracy\")"
      ],
      "execution_count": 0,
      "outputs": [
        {
          "output_type": "execute_result",
          "data": {
            "text/plain": [
              "array([0.32177356, 0.31271375, 0.3149526 ])"
            ]
          },
          "metadata": {
            "tags": []
          },
          "execution_count": 244
        }
      ]
    },
    {
      "cell_type": "code",
      "metadata": {
        "id": "qsbMRjXwweKZ",
        "colab_type": "code",
        "outputId": "65e57ab5-3d06-41a0-f3bb-3cc5f2f1278e",
        "colab": {
          "base_uri": "https://localhost:8080/",
          "height": 190
        }
      },
      "source": [
        "y_train_pred = cross_val_predict(sgd_clf, X_train_scaled, y_train, cv=3)\n",
        "conf_mx = confusion_matrix(y_train, y_train_pred)\n",
        "conf_mx"
      ],
      "execution_count": 0,
      "outputs": [
        {
          "output_type": "execute_result",
          "data": {
            "text/plain": [
              "array([[1965,  303,  327,  237,  158,  193,  214,  298,  835,  470],\n",
              "       [ 298, 2005,  226,  212,  162,  157,  333,  255,  444,  908],\n",
              "       [ 504,  250,  941,  436,  471,  472,  817,  619,  276,  214],\n",
              "       [ 301,  359,  531,  811,  402,  651,  881,  413,  294,  357],\n",
              "       [ 316,  236,  702,  410,  782,  449, 1000,  737,  174,  194],\n",
              "       [ 292,  340,  537,  696,  386, 1018,  679,  545,  270,  237],\n",
              "       [ 154,  263,  425,  517,  390,  428, 2139,  360,  113,  211],\n",
              "       [ 293,  260,  407,  342,  440,  325,  384, 1858,  203,  488],\n",
              "       [ 818,  370,  228,  189,  127,  174,  139,  133, 2272,  550],\n",
              "       [ 323,  864,  191,  161,  162,  174,  308,  289,  495, 2033]])"
            ]
          },
          "metadata": {
            "tags": []
          },
          "execution_count": 245
        }
      ]
    },
    {
      "cell_type": "code",
      "metadata": {
        "id": "SHLffilDwiaQ",
        "colab_type": "code",
        "colab": {}
      },
      "source": [
        "def plot_confusion_matrix(matrix):\n",
        "    \"\"\"If you prefer color and a colorbar\"\"\"\n",
        "    fig = plt.figure(figsize=(8,8))\n",
        "    ax = fig.add_subplot(111)\n",
        "    cax = ax.matshow(matrix)\n",
        "    fig.colorbar(cax)"
      ],
      "execution_count": 0,
      "outputs": []
    },
    {
      "cell_type": "code",
      "metadata": {
        "id": "OqiVSvdiwkLX",
        "colab_type": "code",
        "outputId": "7703070e-531c-45e1-d4a5-9664752a660c",
        "colab": {
          "base_uri": "https://localhost:8080/",
          "height": 295
        }
      },
      "source": [
        "plt.matshow(conf_mx, cmap=plt.cm.gray)\n",
        "save_fig(\"confusion_matrix_plot\", tight_layout=False)\n",
        "plt.show()"
      ],
      "execution_count": 0,
      "outputs": [
        {
          "output_type": "stream",
          "text": [
            "Saving figure confusion_matrix_plot\n"
          ],
          "name": "stdout"
        },
        {
          "output_type": "display_data",
          "data": {
            "image/png": "[encoded data removed]",
            "text/plain": [
              "<Figure size 288x288 with 1 Axes>"
            ]
          },
          "metadata": {
            "tags": []
          }
        }
      ]
    },
    {
      "cell_type": "markdown",
      "metadata": {
        "id": "qL8nfCohxMEP",
        "colab_type": "text"
      },
      "source": [
        "Let's focus the plot on the errors"
      ]
    },
    {
      "cell_type": "code",
      "metadata": {
        "id": "gDkYHxjdxLPu",
        "colab_type": "code",
        "colab": {}
      },
      "source": [
        "row_sums = conf_mx.sum(axis=1, keepdims=True)\n",
        "norm_conf_mx = conf_mx / row_sums"
      ],
      "execution_count": 0,
      "outputs": []
    },
    {
      "cell_type": "code",
      "metadata": {
        "id": "j0aQaxpxxCOW",
        "colab_type": "code",
        "outputId": "eec4609c-b440-4442-878d-d9d0f7f0901c",
        "colab": {
          "base_uri": "https://localhost:8080/",
          "height": 295
        }
      },
      "source": [
        "np.fill_diagonal(norm_conf_mx, 0)\n",
        "plt.matshow(norm_conf_mx, cmap=plt.cm.gray)\n",
        "save_fig(\"confusion_matrix_errors_plot\", tight_layout=False)\n",
        "plt.show()"
      ],
      "execution_count": 0,
      "outputs": [
        {
          "output_type": "stream",
          "text": [
            "Saving figure confusion_matrix_errors_plot\n"
          ],
          "name": "stdout"
        },
        {
          "output_type": "display_data",
          "data": {
            "image/png": "[encoded data removed]",
            "text/plain": [
              "<Figure size 288x288 with 1 Axes>"
            ]
          },
          "metadata": {
            "tags": []
          }
        }
      ]
    },
    {
      "cell_type": "markdown",
      "metadata": {
        "id": "WKyI2cEEePzg",
        "colab_type": "text"
      },
      "source": [
        "K-Nearest Neighbors Classifier"
      ]
    },
    {
      "cell_type": "code",
      "metadata": {
        "id": "frSZX7uPePCP",
        "colab_type": "code",
        "outputId": "807b5891-4875-4acd-b217-b39779bbdc08",
        "colab": {
          "base_uri": "https://localhost:8080/",
          "height": 69
        }
      },
      "source": [
        "from sklearn.neighbors import KNeighborsClassifier\n",
        "\n",
        "y_train_large = (y_train >= 7)\n",
        "y_train_odd = (y_train % 2 == 1)\n",
        "y_multilabel = np.c_[y_train_large, y_train_odd]\n",
        "\n",
        "knn_clf = KNeighborsClassifier()\n",
        "knn_clf.fit(X_train_2d, y_multilabel)"
      ],
      "execution_count": 0,
      "outputs": [
        {
          "output_type": "execute_result",
          "data": {
            "text/plain": [
              "KNeighborsClassifier(algorithm='auto', leaf_size=30, metric='minkowski',\n",
              "                     metric_params=None, n_jobs=None, n_neighbors=5, p=2,\n",
              "                     weights='uniform')"
            ]
          },
          "metadata": {
            "tags": []
          },
          "execution_count": 161
        }
      ]
    },
    {
      "cell_type": "code",
      "metadata": {
        "id": "EBSraB-Aeddw",
        "colab_type": "code",
        "outputId": "9d92e142-9ab5-4817-84db-aeabcf6b0857",
        "colab": {
          "base_uri": "https://localhost:8080/",
          "height": 35
        }
      },
      "source": [
        "knn_clf.predict([some_pic])"
      ],
      "execution_count": 0,
      "outputs": [
        {
          "output_type": "execute_result",
          "data": {
            "text/plain": [
              "array([[False, False]])"
            ]
          },
          "metadata": {
            "tags": []
          },
          "execution_count": 164
        }
      ]
    },
    {
      "cell_type": "code",
      "metadata": {
        "id": "GEft3hcjMXqG",
        "colab_type": "code",
        "colab": {}
      },
      "source": [
        "noise = np.random.randint(0, 100, (len(X_train_2d), 3072))\n",
        "X_train_mod = X_train_2d + noise/255\n",
        "noise = np.random.randint(0, 100, (len(X_test_2d), 3072))\n",
        "X_test_mod = X_test_2d + noise/255\n",
        "y_train_mod = X_train_2d\n",
        "y_test_mod = X_test_2d"
      ],
      "execution_count": 0,
      "outputs": []
    },
    {
      "cell_type": "code",
      "metadata": {
        "id": "E8KowNprNg9e",
        "colab_type": "code",
        "colab": {}
      },
      "source": [
        "def plot_pic(data):\n",
        "    image = data.reshape(32, 32,3)\n",
        "    plt.imshow(image, cmap = mpl.cm.binary,\n",
        "               interpolation=\"nearest\")\n",
        "    plt.axis(\"off\")"
      ],
      "execution_count": 0,
      "outputs": []
    },
    {
      "cell_type": "code",
      "metadata": {
        "id": "gYhVN595NTrc",
        "colab_type": "code",
        "outputId": "183b054b-81b6-4d83-9e60-88f36b6676ec",
        "colab": {
          "base_uri": "https://localhost:8080/",
          "height": 285
        }
      },
      "source": [
        "some_index = 0\n",
        "plt.subplot(121); plot_pic(X_test_mod[some_index])\n",
        "plt.subplot(122); plot_pic(y_test_mod[some_index])\n",
        "save_fig(\"noisy_pic_example_plot\")\n",
        "plt.show()"
      ],
      "execution_count": 0,
      "outputs": [
        {
          "output_type": "stream",
          "text": [
            "Clipping input data to the valid range for imshow with RGB data ([0..1] for floats or [0..255] for integers).\n"
          ],
          "name": "stderr"
        },
        {
          "output_type": "stream",
          "text": [
            "Saving figure noisy_pic_example_plot\n"
          ],
          "name": "stdout"
        },
        {
          "output_type": "display_data",
          "data": {
            "image/png": "[encoded data removed]",
            "text/plain": [
              "<Figure size 432x288 with 2 Axes>"
            ]
          },
          "metadata": {
            "tags": []
          }
        }
      ]
    },
    {
      "cell_type": "code",
      "metadata": {
        "id": "VrmYCjTORFBN",
        "colab_type": "code",
        "outputId": "1f4e074a-5ee6-4950-d86e-06923bb3be4a",
        "colab": {
          "base_uri": "https://localhost:8080/",
          "height": 69
        }
      },
      "source": [
        "from sklearn.neighbors import KNeighborsClassifier\n",
        "knn_clf = KNeighborsClassifier(weights='distance', n_neighbors=4)\n",
        "knn_clf.fit(X_train_2d, y_train)"
      ],
      "execution_count": 0,
      "outputs": [
        {
          "output_type": "execute_result",
          "data": {
            "text/plain": [
              "KNeighborsClassifier(algorithm='auto', leaf_size=30, metric='minkowski',\n",
              "                     metric_params=None, n_jobs=None, n_neighbors=4, p=2,\n",
              "                     weights='distance')"
            ]
          },
          "metadata": {
            "tags": []
          },
          "execution_count": 172
        }
      ]
    },
    {
      "cell_type": "code",
      "metadata": {
        "id": "muiObcInRKZf",
        "colab_type": "code",
        "colab": {}
      },
      "source": [
        "y_knn_pred = knn_clf.predict(X_test_2d)"
      ],
      "execution_count": 0,
      "outputs": []
    },
    {
      "cell_type": "markdown",
      "metadata": {
        "id": "TdyxE1fVUfIA",
        "colab_type": "text"
      },
      "source": [
        "Another very very long time cell above. Over half an hour, in addition, it consumes a large amount of memory."
      ]
    },
    {
      "cell_type": "code",
      "metadata": {
        "id": "JKi6coNjROPO",
        "colab_type": "code",
        "outputId": "8a252661-2a52-4c38-ec86-cc2f15cab3a0",
        "colab": {
          "base_uri": "https://localhost:8080/",
          "height": 35
        }
      },
      "source": [
        "from sklearn.metrics import accuracy_score\n",
        "accuracy_score(y_test, y_knn_pred)"
      ],
      "execution_count": 0,
      "outputs": [
        {
          "output_type": "execute_result",
          "data": {
            "text/plain": [
              "0.3542"
            ]
          },
          "metadata": {
            "tags": []
          },
          "execution_count": 174
        }
      ]
    },
    {
      "cell_type": "markdown",
      "metadata": {
        "id": "XqTv3iz8dYRT",
        "colab_type": "text"
      },
      "source": [
        "Overall accuracy is 35.42%"
      ]
    },
    {
      "cell_type": "code",
      "metadata": {
        "id": "YIN-yO8odkP-",
        "colab_type": "code",
        "outputId": "88862bc4-f533-4dc9-953b-f8dd4f95e184",
        "colab": {
          "base_uri": "https://localhost:8080/",
          "height": 190
        }
      },
      "source": [
        "conf_knn = confusion_matrix(y_test, y_knn_pred)\n",
        "conf_knn\n"
      ],
      "execution_count": 0,
      "outputs": [
        {
          "output_type": "execute_result",
          "data": {
            "text/plain": [
              "array([[491,   8, 105,  14,  60,   9,  40,  10, 254,   9],\n",
              "       [ 90, 204,  87,  43, 162,  53,  71,  24, 233,  33],\n",
              "       [ 87,   1, 386,  53, 258,  47,  87,  13,  61,   7],\n",
              "       [ 47,   5, 174, 212, 185, 136, 136,  38,  56,  11],\n",
              "       [ 50,   1, 212,  39, 502,  34,  70,  22,  68,   2],\n",
              "       [ 39,   1, 175, 138, 177, 277, 106,  19,  61,   7],\n",
              "       [ 14,   1, 202,  70, 294,  44, 329,   8,  36,   2],\n",
              "       [ 71,   7, 137,  48, 263,  59,  75, 266,  68,   6],\n",
              "       [110,  11,  39,  37,  61,  15,  19,  11, 689,   8],\n",
              "       [111,  52,  74,  63, 116,  32,  68,  41, 257, 186]])"
            ]
          },
          "metadata": {
            "tags": []
          },
          "execution_count": 181
        }
      ]
    },
    {
      "cell_type": "code",
      "metadata": {
        "id": "b7948nOnd5As",
        "colab_type": "code",
        "outputId": "38426b4b-ce51-4b81-9c2e-67ad503525d9",
        "colab": {
          "base_uri": "https://localhost:8080/",
          "height": 295
        }
      },
      "source": [
        "plt.matshow(conf_knn, cmap=plt.cm.gray)\n",
        "save_fig(\"confusion_matrix_plot\", tight_layout=False)\n",
        "plt.show()"
      ],
      "execution_count": 0,
      "outputs": [
        {
          "output_type": "stream",
          "text": [
            "Saving figure confusion_matrix_plot\n"
          ],
          "name": "stdout"
        },
        {
          "output_type": "display_data",
          "data": {
            "image/png": "[encoded data removed]",
            "text/plain": [
              "<Figure size 288x288 with 1 Axes>"
            ]
          },
          "metadata": {
            "tags": []
          }
        }
      ]
    },
    {
      "cell_type": "code",
      "metadata": {
        "id": "T9O5MaK6erMm",
        "colab_type": "code",
        "outputId": "b7c9bdff-f93e-42cb-a7fc-0477a224ed48",
        "colab": {
          "base_uri": "https://localhost:8080/",
          "height": 35
        }
      },
      "source": [
        "precision_score(y_test, y_knn_pred, average='weighted')"
      ],
      "execution_count": 0,
      "outputs": [
        {
          "output_type": "execute_result",
          "data": {
            "text/plain": [
              "0.4305535260035026"
            ]
          },
          "metadata": {
            "tags": []
          },
          "execution_count": 186
        }
      ]
    },
    {
      "cell_type": "code",
      "metadata": {
        "id": "FF77CZefeycj",
        "colab_type": "code",
        "outputId": "6bbf7452-fa15-46ee-be86-69328273e63d",
        "colab": {
          "base_uri": "https://localhost:8080/",
          "height": 35
        }
      },
      "source": [
        "recall_score(y_test, y_knn_pred, average='weighted')"
      ],
      "execution_count": 0,
      "outputs": [
        {
          "output_type": "execute_result",
          "data": {
            "text/plain": [
              "0.3542"
            ]
          },
          "metadata": {
            "tags": []
          },
          "execution_count": 187
        }
      ]
    },
    {
      "cell_type": "markdown",
      "metadata": {
        "id": "z3o2-KVhfhM-",
        "colab_type": "text"
      },
      "source": [
        "So far, the best overall accuracy is Random Forrest without PCA. It has 46.54% accuracy. After using PCA reduction, the accuracy dropped a little bit to 43.68%.\n",
        "\n",
        "All other classifiers, including SVM,SGD,OVR,KNN, have overall accuracy below 40%.\n"
      ]
    },
    {
      "cell_type": "markdown",
      "metadata": {
        "id": "HFsrVO4qbldw",
        "colab_type": "text"
      },
      "source": [
        "With the time limitation, mutilclass precison  vs recall chart and ROC curve was not able to apply to all classifiers.\n"
      ]
    },
    {
      "cell_type": "markdown",
      "metadata": {
        "id": "AZCgbDqzcjxQ",
        "colab_type": "text"
      },
      "source": [
        "Many cells takes a very long time to run, e.g. cross-validation, OvR, and KNN. It will take half an hour to 2 hours for a single cell to run.\n",
        "    \n",
        "Once get disconnected, willingly or not, you'll have to run all the previous cells again which consumes significant amount of time.\n"
      ]
    }
  ]
}