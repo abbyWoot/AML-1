{
  "nbformat": 4,
  "nbformat_minor": 0,
  "metadata": {
    "colab": {
      "name": "AML_Project5_Diabetes.ipynb",
      "provenance": [],
      "collapsed_sections": [],
      "authorship_tag": "ABX9TyPXc6dVih+VIN++zDRCkcyC",
      "include_colab_link": true
    },
    "kernelspec": {
      "name": "python3",
      "display_name": "Python 3"
    }
  },
  "cells": [
    {
      "cell_type": "markdown",
      "metadata": {
        "id": "view-in-github",
        "colab_type": "text"
      },
      "source": [
        "<a href=\"https://colab.research.google.com/github/fsclsnow/AML/blob/master/AML_Project5_Diabetes.ipynb\" target=\"_parent\"><img src=\"https://colab.research.google.com/assets/colab-badge.svg\" alt=\"Open In Colab\"/></a>"
      ]
    },
    {
      "cell_type": "markdown",
      "metadata": {
        "id": "SfKTaIoPotjZ",
        "colab_type": "text"
      },
      "source": [
        "# Project 5 - Team 2\n",
        "\n",
        "In this project, we work on the data set that has been prepared to analyze factors relating to readmission as well as other outcomes pertaining to patients with diabetes.\n",
        "\n",
        "Data Set Information:\n",
        "\n",
        "The dataset represents 10 years (1999-2008) of clinical care at 130 US hospitals and integrated delivery networks. It includes over 50 features representing patient and hospital outcomes. Information was extracted from the database for encounters that satisfied the following criteria.\n",
        "\n",
        "1.   It is an inpatient encounter (a hospital admission).\n",
        "2.   It is a diabetic encounter, that is, one during which any kind of diabetes was entered to the system as a diagnosis.\n",
        "3.   The length of stay was at least 1 day and at most 14 days.\n",
        "4.   Laboratory tests were performed during the encounter.\n",
        "5.   Medications were administered during the encounter.\n",
        "6.   The data contains such attributes as patient number, race, gender, age, admission type, time in hospital, medical specialty of admitting physician, number of lab test performed, HbA1c test result, diagnosis, number of medication, diabetic medications, number of outpatient, inpatient, and emergency visits in the year before the hospitalization, etc.\n",
        "\n",
        "The following instructions have been performed:\n",
        "1.  Perform data scrubbing to deal with missing data, and then scale the data. \n",
        "2.  Find out which features have most influence on patients with diabetes or being readmitted, e.g., age, race, weight, blood pressure, etc.\n",
        "3.  Use RF and SVM (linear as well as nonlinear kernels , as necessary) to learn classification of diabetic patients and those being readmitted.\n",
        "4.  If using a LinearSVC, also use SVC and SGDClassifier to see if you can get them to roughly produce the same model.\n",
        "5.  Calculate and present performance parameters (e.g. accuracy, etc.) of each model using appropriate graphs such as bar charts."
      ]
    },
    {
      "cell_type": "code",
      "metadata": {
        "id": "tyQZ0Wv_olsU",
        "colab_type": "code",
        "colab": {}
      },
      "source": [
        "# Python ≥3.5 is required\n",
        "import sys\n",
        "assert sys.version_info >= (3, 5)\n",
        "# Scikit-Learn ≥0.20 is required\n",
        "import sklearn\n",
        "assert sklearn.__version__ >= \"0.20\"\n",
        "\n",
        "# Common imports\n",
        "import numpy as np\n",
        "import os\n",
        "\n",
        "# to make this notebook's output stable across runs\n",
        "np.random.seed(42)\n",
        "\n",
        "# To plot pretty figures\n",
        "%matplotlib inline\n",
        "import matplotlib as mpl\n",
        "import matplotlib.pyplot as plt\n",
        "mpl.rc('axes', labelsize=14)\n",
        "mpl.rc('xtick', labelsize=12)\n",
        "mpl.rc('ytick', labelsize=12)\n",
        "\n",
        "# Where to save the figures\n",
        "PROJECT_ROOT_DIR = \".\"\n",
        "CHAPTER_ID = \"training_linear_models\"\n",
        "IMAGES_PATH = os.path.join(PROJECT_ROOT_DIR, \"images\", CHAPTER_ID)\n",
        "os.makedirs(IMAGES_PATH, exist_ok=True)\n",
        "\n",
        "def save_fig(fig_id, tight_layout=True, fig_extension=\"png\", resolution=300):\n",
        "    path = os.path.join(IMAGES_PATH, fig_id + \".\" + fig_extension)\n",
        "    print(\"Saving figure\", fig_id)\n",
        "    if tight_layout:\n",
        "        plt.tight_layout()\n",
        "    plt.savefig(path, format=fig_extension, dpi=resolution)\n",
        "\n",
        "# Ignore useless warnings (see SciPy issue #5998)\n",
        "import warnings\n",
        "warnings.filterwarnings(action=\"ignore\", message=\"^internal gelsd\")"
      ],
      "execution_count": 0,
      "outputs": []
    },
    {
      "cell_type": "code",
      "metadata": {
        "id": "0aQQT9I1tPPb",
        "colab_type": "code",
        "colab": {}
      },
      "source": [
        "# Download the data\n",
        "import urllib\n",
        "import os\n",
        "\n",
        "DOWNLOAD_ROOT = \"https://raw.githubusercontent.com/fsclsnow/AML/master/\"\n",
        "Diabetic_PATH = os.path.join(\"Data\")\n",
        "Diabetic_URL = DOWNLOAD_ROOT + \"Data/diabetic_data.csv\""
      ],
      "execution_count": 0,
      "outputs": []
    },
    {
      "cell_type": "code",
      "metadata": {
        "id": "ZALy0ISLt0pu",
        "colab_type": "code",
        "colab": {}
      },
      "source": [
        "import pandas as pd\n",
        "\n",
        "def load_dia_data(dia_path=Diabetic_PATH):\n",
        "    csv_path = os.path.join(DOWNLOAD_ROOT, dia_path, \"diabetic_data.csv\")\n",
        "    return pd.read_csv(csv_path)"
      ],
      "execution_count": 0,
      "outputs": []
    },
    {
      "cell_type": "code",
      "metadata": {
        "id": "TZbgj6UeuF8b",
        "colab_type": "code",
        "outputId": "ed9e288b-8255-43c3-8b48-e52bebf25336",
        "colab": {
          "base_uri": "https://localhost:8080/",
          "height": 316
        }
      },
      "source": [
        "diabetic = load_dia_data()\n",
        "diabetic.head()"
      ],
      "execution_count": 0,
      "outputs": [
        {
          "output_type": "execute_result",
          "data": {
            "text/html": [
              "<div>\n",
              "<style scoped>\n",
              "    .dataframe tbody tr th:only-of-type {\n",
              "        vertical-align: middle;\n",
              "    }\n",
              "\n",
              "    .dataframe tbody tr th {\n",
              "        vertical-align: top;\n",
              "    }\n",
              "\n",
              "    .dataframe thead th {\n",
              "        text-align: right;\n",
              "    }\n",
              "</style>\n",
              "<table border=\"1\" class=\"dataframe\">\n",
              "  <thead>\n",
              "    <tr style=\"text-align: right;\">\n",
              "      <th></th>\n",
              "      <th>encounter_id</th>\n",
              "      <th>patient_nbr</th>\n",
              "      <th>race</th>\n",
              "      <th>gender</th>\n",
              "      <th>age</th>\n",
              "      <th>weight</th>\n",
              "      <th>admission_type_id</th>\n",
              "      <th>discharge_disposition_id</th>\n",
              "      <th>admission_source_id</th>\n",
              "      <th>time_in_hospital</th>\n",
              "      <th>payer_code</th>\n",
              "      <th>medical_specialty</th>\n",
              "      <th>num_lab_procedures</th>\n",
              "      <th>num_procedures</th>\n",
              "      <th>num_medications</th>\n",
              "      <th>number_outpatient</th>\n",
              "      <th>number_emergency</th>\n",
              "      <th>number_inpatient</th>\n",
              "      <th>diag_1</th>\n",
              "      <th>diag_2</th>\n",
              "      <th>diag_3</th>\n",
              "      <th>number_diagnoses</th>\n",
              "      <th>max_glu_serum</th>\n",
              "      <th>A1Cresult</th>\n",
              "      <th>metformin</th>\n",
              "      <th>repaglinide</th>\n",
              "      <th>nateglinide</th>\n",
              "      <th>chlorpropamide</th>\n",
              "      <th>glimepiride</th>\n",
              "      <th>acetohexamide</th>\n",
              "      <th>glipizide</th>\n",
              "      <th>glyburide</th>\n",
              "      <th>tolbutamide</th>\n",
              "      <th>pioglitazone</th>\n",
              "      <th>rosiglitazone</th>\n",
              "      <th>acarbose</th>\n",
              "      <th>miglitol</th>\n",
              "      <th>troglitazone</th>\n",
              "      <th>tolazamide</th>\n",
              "      <th>examide</th>\n",
              "      <th>citoglipton</th>\n",
              "      <th>insulin</th>\n",
              "      <th>glyburide-metformin</th>\n",
              "      <th>glipizide-metformin</th>\n",
              "      <th>glimepiride-pioglitazone</th>\n",
              "      <th>metformin-rosiglitazone</th>\n",
              "      <th>metformin-pioglitazone</th>\n",
              "      <th>change</th>\n",
              "      <th>diabetesMed</th>\n",
              "      <th>readmitted</th>\n",
              "    </tr>\n",
              "  </thead>\n",
              "  <tbody>\n",
              "    <tr>\n",
              "      <th>0</th>\n",
              "      <td>2278392</td>\n",
              "      <td>8222157</td>\n",
              "      <td>Caucasian</td>\n",
              "      <td>Female</td>\n",
              "      <td>[0-10)</td>\n",
              "      <td>?</td>\n",
              "      <td>6</td>\n",
              "      <td>25</td>\n",
              "      <td>1</td>\n",
              "      <td>1</td>\n",
              "      <td>?</td>\n",
              "      <td>Pediatrics-Endocrinology</td>\n",
              "      <td>41</td>\n",
              "      <td>0</td>\n",
              "      <td>1</td>\n",
              "      <td>0</td>\n",
              "      <td>0</td>\n",
              "      <td>0</td>\n",
              "      <td>250.83</td>\n",
              "      <td>?</td>\n",
              "      <td>?</td>\n",
              "      <td>1</td>\n",
              "      <td>None</td>\n",
              "      <td>None</td>\n",
              "      <td>No</td>\n",
              "      <td>No</td>\n",
              "      <td>No</td>\n",
              "      <td>No</td>\n",
              "      <td>No</td>\n",
              "      <td>No</td>\n",
              "      <td>No</td>\n",
              "      <td>No</td>\n",
              "      <td>No</td>\n",
              "      <td>No</td>\n",
              "      <td>No</td>\n",
              "      <td>No</td>\n",
              "      <td>No</td>\n",
              "      <td>No</td>\n",
              "      <td>No</td>\n",
              "      <td>No</td>\n",
              "      <td>No</td>\n",
              "      <td>No</td>\n",
              "      <td>No</td>\n",
              "      <td>No</td>\n",
              "      <td>No</td>\n",
              "      <td>No</td>\n",
              "      <td>No</td>\n",
              "      <td>No</td>\n",
              "      <td>No</td>\n",
              "      <td>NO</td>\n",
              "    </tr>\n",
              "    <tr>\n",
              "      <th>1</th>\n",
              "      <td>149190</td>\n",
              "      <td>55629189</td>\n",
              "      <td>Caucasian</td>\n",
              "      <td>Female</td>\n",
              "      <td>[10-20)</td>\n",
              "      <td>?</td>\n",
              "      <td>1</td>\n",
              "      <td>1</td>\n",
              "      <td>7</td>\n",
              "      <td>3</td>\n",
              "      <td>?</td>\n",
              "      <td>?</td>\n",
              "      <td>59</td>\n",
              "      <td>0</td>\n",
              "      <td>18</td>\n",
              "      <td>0</td>\n",
              "      <td>0</td>\n",
              "      <td>0</td>\n",
              "      <td>276</td>\n",
              "      <td>250.01</td>\n",
              "      <td>255</td>\n",
              "      <td>9</td>\n",
              "      <td>None</td>\n",
              "      <td>None</td>\n",
              "      <td>No</td>\n",
              "      <td>No</td>\n",
              "      <td>No</td>\n",
              "      <td>No</td>\n",
              "      <td>No</td>\n",
              "      <td>No</td>\n",
              "      <td>No</td>\n",
              "      <td>No</td>\n",
              "      <td>No</td>\n",
              "      <td>No</td>\n",
              "      <td>No</td>\n",
              "      <td>No</td>\n",
              "      <td>No</td>\n",
              "      <td>No</td>\n",
              "      <td>No</td>\n",
              "      <td>No</td>\n",
              "      <td>No</td>\n",
              "      <td>Up</td>\n",
              "      <td>No</td>\n",
              "      <td>No</td>\n",
              "      <td>No</td>\n",
              "      <td>No</td>\n",
              "      <td>No</td>\n",
              "      <td>Ch</td>\n",
              "      <td>Yes</td>\n",
              "      <td>&gt;30</td>\n",
              "    </tr>\n",
              "    <tr>\n",
              "      <th>2</th>\n",
              "      <td>64410</td>\n",
              "      <td>86047875</td>\n",
              "      <td>AfricanAmerican</td>\n",
              "      <td>Female</td>\n",
              "      <td>[20-30)</td>\n",
              "      <td>?</td>\n",
              "      <td>1</td>\n",
              "      <td>1</td>\n",
              "      <td>7</td>\n",
              "      <td>2</td>\n",
              "      <td>?</td>\n",
              "      <td>?</td>\n",
              "      <td>11</td>\n",
              "      <td>5</td>\n",
              "      <td>13</td>\n",
              "      <td>2</td>\n",
              "      <td>0</td>\n",
              "      <td>1</td>\n",
              "      <td>648</td>\n",
              "      <td>250</td>\n",
              "      <td>V27</td>\n",
              "      <td>6</td>\n",
              "      <td>None</td>\n",
              "      <td>None</td>\n",
              "      <td>No</td>\n",
              "      <td>No</td>\n",
              "      <td>No</td>\n",
              "      <td>No</td>\n",
              "      <td>No</td>\n",
              "      <td>No</td>\n",
              "      <td>Steady</td>\n",
              "      <td>No</td>\n",
              "      <td>No</td>\n",
              "      <td>No</td>\n",
              "      <td>No</td>\n",
              "      <td>No</td>\n",
              "      <td>No</td>\n",
              "      <td>No</td>\n",
              "      <td>No</td>\n",
              "      <td>No</td>\n",
              "      <td>No</td>\n",
              "      <td>No</td>\n",
              "      <td>No</td>\n",
              "      <td>No</td>\n",
              "      <td>No</td>\n",
              "      <td>No</td>\n",
              "      <td>No</td>\n",
              "      <td>No</td>\n",
              "      <td>Yes</td>\n",
              "      <td>NO</td>\n",
              "    </tr>\n",
              "    <tr>\n",
              "      <th>3</th>\n",
              "      <td>500364</td>\n",
              "      <td>82442376</td>\n",
              "      <td>Caucasian</td>\n",
              "      <td>Male</td>\n",
              "      <td>[30-40)</td>\n",
              "      <td>?</td>\n",
              "      <td>1</td>\n",
              "      <td>1</td>\n",
              "      <td>7</td>\n",
              "      <td>2</td>\n",
              "      <td>?</td>\n",
              "      <td>?</td>\n",
              "      <td>44</td>\n",
              "      <td>1</td>\n",
              "      <td>16</td>\n",
              "      <td>0</td>\n",
              "      <td>0</td>\n",
              "      <td>0</td>\n",
              "      <td>8</td>\n",
              "      <td>250.43</td>\n",
              "      <td>403</td>\n",
              "      <td>7</td>\n",
              "      <td>None</td>\n",
              "      <td>None</td>\n",
              "      <td>No</td>\n",
              "      <td>No</td>\n",
              "      <td>No</td>\n",
              "      <td>No</td>\n",
              "      <td>No</td>\n",
              "      <td>No</td>\n",
              "      <td>No</td>\n",
              "      <td>No</td>\n",
              "      <td>No</td>\n",
              "      <td>No</td>\n",
              "      <td>No</td>\n",
              "      <td>No</td>\n",
              "      <td>No</td>\n",
              "      <td>No</td>\n",
              "      <td>No</td>\n",
              "      <td>No</td>\n",
              "      <td>No</td>\n",
              "      <td>Up</td>\n",
              "      <td>No</td>\n",
              "      <td>No</td>\n",
              "      <td>No</td>\n",
              "      <td>No</td>\n",
              "      <td>No</td>\n",
              "      <td>Ch</td>\n",
              "      <td>Yes</td>\n",
              "      <td>NO</td>\n",
              "    </tr>\n",
              "    <tr>\n",
              "      <th>4</th>\n",
              "      <td>16680</td>\n",
              "      <td>42519267</td>\n",
              "      <td>Caucasian</td>\n",
              "      <td>Male</td>\n",
              "      <td>[40-50)</td>\n",
              "      <td>?</td>\n",
              "      <td>1</td>\n",
              "      <td>1</td>\n",
              "      <td>7</td>\n",
              "      <td>1</td>\n",
              "      <td>?</td>\n",
              "      <td>?</td>\n",
              "      <td>51</td>\n",
              "      <td>0</td>\n",
              "      <td>8</td>\n",
              "      <td>0</td>\n",
              "      <td>0</td>\n",
              "      <td>0</td>\n",
              "      <td>197</td>\n",
              "      <td>157</td>\n",
              "      <td>250</td>\n",
              "      <td>5</td>\n",
              "      <td>None</td>\n",
              "      <td>None</td>\n",
              "      <td>No</td>\n",
              "      <td>No</td>\n",
              "      <td>No</td>\n",
              "      <td>No</td>\n",
              "      <td>No</td>\n",
              "      <td>No</td>\n",
              "      <td>Steady</td>\n",
              "      <td>No</td>\n",
              "      <td>No</td>\n",
              "      <td>No</td>\n",
              "      <td>No</td>\n",
              "      <td>No</td>\n",
              "      <td>No</td>\n",
              "      <td>No</td>\n",
              "      <td>No</td>\n",
              "      <td>No</td>\n",
              "      <td>No</td>\n",
              "      <td>Steady</td>\n",
              "      <td>No</td>\n",
              "      <td>No</td>\n",
              "      <td>No</td>\n",
              "      <td>No</td>\n",
              "      <td>No</td>\n",
              "      <td>Ch</td>\n",
              "      <td>Yes</td>\n",
              "      <td>NO</td>\n",
              "    </tr>\n",
              "  </tbody>\n",
              "</table>\n",
              "</div>"
            ],
            "text/plain": [
              "   encounter_id  patient_nbr             race  ... change diabetesMed readmitted\n",
              "0       2278392      8222157        Caucasian  ...     No          No         NO\n",
              "1        149190     55629189        Caucasian  ...     Ch         Yes        >30\n",
              "2         64410     86047875  AfricanAmerican  ...     No         Yes         NO\n",
              "3        500364     82442376        Caucasian  ...     Ch         Yes         NO\n",
              "4         16680     42519267        Caucasian  ...     Ch         Yes         NO\n",
              "\n",
              "[5 rows x 50 columns]"
            ]
          },
          "metadata": {
            "tags": []
          },
          "execution_count": 387
        }
      ]
    },
    {
      "cell_type": "code",
      "metadata": {
        "id": "0_HDTY8VuN4v",
        "colab_type": "code",
        "outputId": "105fcaac-872d-4478-9fd5-a216534c4a7e",
        "colab": {
          "base_uri": "https://localhost:8080/",
          "height": 941
        }
      },
      "source": [
        "diabetic.info()"
      ],
      "execution_count": 0,
      "outputs": [
        {
          "output_type": "stream",
          "text": [
            "<class 'pandas.core.frame.DataFrame'>\n",
            "RangeIndex: 101766 entries, 0 to 101765\n",
            "Data columns (total 50 columns):\n",
            "encounter_id                101766 non-null int64\n",
            "patient_nbr                 101766 non-null int64\n",
            "race                        101766 non-null object\n",
            "gender                      101766 non-null object\n",
            "age                         101766 non-null object\n",
            "weight                      101766 non-null object\n",
            "admission_type_id           101766 non-null int64\n",
            "discharge_disposition_id    101766 non-null int64\n",
            "admission_source_id         101766 non-null int64\n",
            "time_in_hospital            101766 non-null int64\n",
            "payer_code                  101766 non-null object\n",
            "medical_specialty           101766 non-null object\n",
            "num_lab_procedures          101766 non-null int64\n",
            "num_procedures              101766 non-null int64\n",
            "num_medications             101766 non-null int64\n",
            "number_outpatient           101766 non-null int64\n",
            "number_emergency            101766 non-null int64\n",
            "number_inpatient            101766 non-null int64\n",
            "diag_1                      101766 non-null object\n",
            "diag_2                      101766 non-null object\n",
            "diag_3                      101766 non-null object\n",
            "number_diagnoses            101766 non-null int64\n",
            "max_glu_serum               101766 non-null object\n",
            "A1Cresult                   101766 non-null object\n",
            "metformin                   101766 non-null object\n",
            "repaglinide                 101766 non-null object\n",
            "nateglinide                 101766 non-null object\n",
            "chlorpropamide              101766 non-null object\n",
            "glimepiride                 101766 non-null object\n",
            "acetohexamide               101766 non-null object\n",
            "glipizide                   101766 non-null object\n",
            "glyburide                   101766 non-null object\n",
            "tolbutamide                 101766 non-null object\n",
            "pioglitazone                101766 non-null object\n",
            "rosiglitazone               101766 non-null object\n",
            "acarbose                    101766 non-null object\n",
            "miglitol                    101766 non-null object\n",
            "troglitazone                101766 non-null object\n",
            "tolazamide                  101766 non-null object\n",
            "examide                     101766 non-null object\n",
            "citoglipton                 101766 non-null object\n",
            "insulin                     101766 non-null object\n",
            "glyburide-metformin         101766 non-null object\n",
            "glipizide-metformin         101766 non-null object\n",
            "glimepiride-pioglitazone    101766 non-null object\n",
            "metformin-rosiglitazone     101766 non-null object\n",
            "metformin-pioglitazone      101766 non-null object\n",
            "change                      101766 non-null object\n",
            "diabetesMed                 101766 non-null object\n",
            "readmitted                  101766 non-null object\n",
            "dtypes: int64(13), object(37)\n",
            "memory usage: 38.8+ MB\n"
          ],
          "name": "stdout"
        }
      ]
    },
    {
      "cell_type": "markdown",
      "metadata": {
        "id": "GHC8SWNkaiZB",
        "colab_type": "text"
      },
      "source": [
        "# Data Scrubbing"
      ]
    },
    {
      "cell_type": "markdown",
      "metadata": {
        "id": "CiH9gubFKtCF",
        "colab_type": "text"
      },
      "source": [
        "Weight attribute was considered to be too\n",
        "sparse and it was not included in further analysis. \n",
        "\n",
        "Payer code was removed since it had a high percentage of missing values and it was not considered relevant to the outcome.\n",
        "\n",
        "Medical specialty attribute has over 50% missing data.\n",
        "\n",
        "Therefore, there three attributes is dropped.\n",
        "\n",
        "Reference: http://downloads.hindawi.com/journals/bmri/2014/781670.pdf"
      ]
    },
    {
      "cell_type": "code",
      "metadata": {
        "id": "GsonQ6MaLIIZ",
        "colab_type": "code",
        "colab": {}
      },
      "source": [
        "diabetic = diabetic.drop(\"weight\", axis=1)\n",
        "diabetic = diabetic.drop(\"payer_code\", axis=1)\n",
        "diabetic = diabetic.drop(\"medical_specialty\", axis=1)\n"
      ],
      "execution_count": 0,
      "outputs": []
    },
    {
      "cell_type": "code",
      "metadata": {
        "id": "FVsFXZKkMCki",
        "colab_type": "code",
        "outputId": "50a42a0b-b3fc-4853-fed3-a4846fab81b1",
        "colab": {
          "base_uri": "https://localhost:8080/",
          "height": 890
        }
      },
      "source": [
        "diabetic.info()"
      ],
      "execution_count": 0,
      "outputs": [
        {
          "output_type": "stream",
          "text": [
            "<class 'pandas.core.frame.DataFrame'>\n",
            "RangeIndex: 101766 entries, 0 to 101765\n",
            "Data columns (total 47 columns):\n",
            "encounter_id                101766 non-null int64\n",
            "patient_nbr                 101766 non-null int64\n",
            "race                        101766 non-null object\n",
            "gender                      101766 non-null object\n",
            "age                         101766 non-null object\n",
            "admission_type_id           101766 non-null int64\n",
            "discharge_disposition_id    101766 non-null int64\n",
            "admission_source_id         101766 non-null int64\n",
            "time_in_hospital            101766 non-null int64\n",
            "num_lab_procedures          101766 non-null int64\n",
            "num_procedures              101766 non-null int64\n",
            "num_medications             101766 non-null int64\n",
            "number_outpatient           101766 non-null int64\n",
            "number_emergency            101766 non-null int64\n",
            "number_inpatient            101766 non-null int64\n",
            "diag_1                      101766 non-null object\n",
            "diag_2                      101766 non-null object\n",
            "diag_3                      101766 non-null object\n",
            "number_diagnoses            101766 non-null int64\n",
            "max_glu_serum               101766 non-null object\n",
            "A1Cresult                   101766 non-null object\n",
            "metformin                   101766 non-null object\n",
            "repaglinide                 101766 non-null object\n",
            "nateglinide                 101766 non-null object\n",
            "chlorpropamide              101766 non-null object\n",
            "glimepiride                 101766 non-null object\n",
            "acetohexamide               101766 non-null object\n",
            "glipizide                   101766 non-null object\n",
            "glyburide                   101766 non-null object\n",
            "tolbutamide                 101766 non-null object\n",
            "pioglitazone                101766 non-null object\n",
            "rosiglitazone               101766 non-null object\n",
            "acarbose                    101766 non-null object\n",
            "miglitol                    101766 non-null object\n",
            "troglitazone                101766 non-null object\n",
            "tolazamide                  101766 non-null object\n",
            "examide                     101766 non-null object\n",
            "citoglipton                 101766 non-null object\n",
            "insulin                     101766 non-null object\n",
            "glyburide-metformin         101766 non-null object\n",
            "glipizide-metformin         101766 non-null object\n",
            "glimepiride-pioglitazone    101766 non-null object\n",
            "metformin-rosiglitazone     101766 non-null object\n",
            "metformin-pioglitazone      101766 non-null object\n",
            "change                      101766 non-null object\n",
            "diabetesMed                 101766 non-null object\n",
            "readmitted                  101766 non-null object\n",
            "dtypes: int64(13), object(34)\n",
            "memory usage: 36.5+ MB\n"
          ],
          "name": "stdout"
        }
      ]
    },
    {
      "cell_type": "markdown",
      "metadata": {
        "id": "fci48l8aTdFH",
        "colab_type": "text"
      },
      "source": [
        "Since we are primarily interested in factors that lead to early readmission, we defined the readmission attribute (outcome) as having two values: “readmitted,” if the patient was readmitted within 30 days of discharge or “otherwise,” which covers both readmission after 30 days and no readmission at all.\n",
        "\n",
        "Reference: http://downloads.hindawi.com/journals/bmri/2014/781670.pdf"
      ]
    },
    {
      "cell_type": "code",
      "metadata": {
        "id": "aDvNwJRiUd3n",
        "colab_type": "code",
        "colab": {}
      },
      "source": [
        "diabetic = diabetic.replace({\"readmitted\": \">30\"}, \"No\")\n",
        "diabetic = diabetic.replace({\"readmitted\": \"<30\"}, \"Yes\")\n"
      ],
      "execution_count": 0,
      "outputs": []
    },
    {
      "cell_type": "code",
      "metadata": {
        "id": "9pmnRy7_a8hv",
        "colab_type": "code",
        "outputId": "b15f9fd6-3ec9-4748-dbc4-5481aadd8fd9",
        "colab": {
          "base_uri": "https://localhost:8080/",
          "height": 286
        }
      },
      "source": [
        "diabetic[\"readmitted\"][:15]"
      ],
      "execution_count": 0,
      "outputs": [
        {
          "output_type": "execute_result",
          "data": {
            "text/plain": [
              "0      NO\n",
              "1      No\n",
              "2      NO\n",
              "3      NO\n",
              "4      NO\n",
              "5      No\n",
              "6      NO\n",
              "7      No\n",
              "8      NO\n",
              "9      NO\n",
              "10     No\n",
              "11    Yes\n",
              "12    Yes\n",
              "13     NO\n",
              "14     No\n",
              "Name: readmitted, dtype: object"
            ]
          },
          "metadata": {
            "tags": []
          },
          "execution_count": 392
        }
      ]
    },
    {
      "cell_type": "markdown",
      "metadata": {
        "id": "GrgBLUp9IF6M",
        "colab_type": "text"
      },
      "source": [
        "We thus used only one encounter per patient; in particular, we considered only the first encounter for each patient as the primary admission and determined whether or not they were readmitted within 30 days."
      ]
    },
    {
      "cell_type": "code",
      "metadata": {
        "id": "TPDIQCCqIhcO",
        "colab_type": "code",
        "colab": {}
      },
      "source": [
        "diabetic = diabetic.drop_duplicates(subset=[\"patient_nbr\"])"
      ],
      "execution_count": 0,
      "outputs": []
    },
    {
      "cell_type": "code",
      "metadata": {
        "id": "DS_VvU9lI2ql",
        "colab_type": "code",
        "outputId": "39649b22-0767-4252-e610-08b241fab09d",
        "colab": {
          "base_uri": "https://localhost:8080/",
          "height": 34
        }
      },
      "source": [
        "diabetic[\"encounter_id\"].count()"
      ],
      "execution_count": 0,
      "outputs": [
        {
          "output_type": "execute_result",
          "data": {
            "text/plain": [
              "71518"
            ]
          },
          "metadata": {
            "tags": []
          },
          "execution_count": 394
        }
      ]
    },
    {
      "cell_type": "markdown",
      "metadata": {
        "id": "CoLf4L91JGxe",
        "colab_type": "text"
      },
      "source": [
        "Now wo have 71518 distinctive patients records without same patients that have multiple visit records."
      ]
    },
    {
      "cell_type": "code",
      "metadata": {
        "id": "0vQV0ngCPzyR",
        "colab_type": "code",
        "outputId": "5bb167c7-51e3-4927-aa00-061c744aed82",
        "colab": {
          "base_uri": "https://localhost:8080/",
          "height": 370
        }
      },
      "source": [
        "diabetic[\"race\"][:20]"
      ],
      "execution_count": 0,
      "outputs": [
        {
          "output_type": "execute_result",
          "data": {
            "text/plain": [
              "0           Caucasian\n",
              "1           Caucasian\n",
              "2     AfricanAmerican\n",
              "3           Caucasian\n",
              "4           Caucasian\n",
              "5           Caucasian\n",
              "6           Caucasian\n",
              "7           Caucasian\n",
              "8           Caucasian\n",
              "9           Caucasian\n",
              "10    AfricanAmerican\n",
              "11    AfricanAmerican\n",
              "12          Caucasian\n",
              "13          Caucasian\n",
              "14    AfricanAmerican\n",
              "15    AfricanAmerican\n",
              "16    AfricanAmerican\n",
              "17          Caucasian\n",
              "18    AfricanAmerican\n",
              "19                  ?\n",
              "Name: race, dtype: object"
            ]
          },
          "metadata": {
            "tags": []
          },
          "execution_count": 395
        }
      ]
    },
    {
      "cell_type": "markdown",
      "metadata": {
        "id": "_VAoKWFbOpFh",
        "colab_type": "text"
      },
      "source": [
        "Columns \"Race\" have 2% missing data, it's not a lot, therefore they are filled with \"Other\"."
      ]
    },
    {
      "cell_type": "code",
      "metadata": {
        "id": "ccWMJWkAJTE_",
        "colab_type": "code",
        "colab": {}
      },
      "source": [
        "diabetic[\"race\"].replace(\"?\",\"Other\",inplace = True)"
      ],
      "execution_count": 0,
      "outputs": []
    },
    {
      "cell_type": "code",
      "metadata": {
        "id": "xvWQ13YDQv15",
        "colab_type": "code",
        "outputId": "b225b3f4-1fc2-4d98-fd4d-732e65d98f98",
        "colab": {
          "base_uri": "https://localhost:8080/",
          "height": 370
        }
      },
      "source": [
        "diabetic[\"race\"][:20]"
      ],
      "execution_count": 0,
      "outputs": [
        {
          "output_type": "execute_result",
          "data": {
            "text/plain": [
              "0           Caucasian\n",
              "1           Caucasian\n",
              "2     AfricanAmerican\n",
              "3           Caucasian\n",
              "4           Caucasian\n",
              "5           Caucasian\n",
              "6           Caucasian\n",
              "7           Caucasian\n",
              "8           Caucasian\n",
              "9           Caucasian\n",
              "10    AfricanAmerican\n",
              "11    AfricanAmerican\n",
              "12          Caucasian\n",
              "13          Caucasian\n",
              "14    AfricanAmerican\n",
              "15    AfricanAmerican\n",
              "16    AfricanAmerican\n",
              "17          Caucasian\n",
              "18    AfricanAmerican\n",
              "19              Other\n",
              "Name: race, dtype: object"
            ]
          },
          "metadata": {
            "tags": []
          },
          "execution_count": 397
        }
      ]
    },
    {
      "cell_type": "markdown",
      "metadata": {
        "id": "3WgGATt5RC6R",
        "colab_type": "text"
      },
      "source": [
        "Then we'll need to make a desicion on other columns which has small amount of missing data, including \"diag_1\" <0.1%, \"diag_2\" 0.3%, \"diag_3\" 1.3%."
      ]
    },
    {
      "cell_type": "markdown",
      "metadata": {
        "id": "C0wsYgQWTCb8",
        "colab_type": "text"
      },
      "source": [
        "Since this project is only targeting the diabetes here which has value as 250.xx. All values other than this tag will be taged as 'No' while all diagnose as diabetes will be taged as 'Yes'. "
      ]
    },
    {
      "cell_type": "code",
      "metadata": {
        "id": "GMiZV32tUeMp",
        "colab_type": "code",
        "outputId": "782ef0a2-6cc8-4d8a-ab64-fa49199d9fc7",
        "colab": {
          "base_uri": "https://localhost:8080/",
          "height": 202
        }
      },
      "source": [
        "diabetic[\"diag_1\"][0:10]"
      ],
      "execution_count": 0,
      "outputs": [
        {
          "output_type": "execute_result",
          "data": {
            "text/plain": [
              "0    250.83\n",
              "1       276\n",
              "2       648\n",
              "3         8\n",
              "4       197\n",
              "5       414\n",
              "6       414\n",
              "7       428\n",
              "8       398\n",
              "9       434\n",
              "Name: diag_1, dtype: object"
            ]
          },
          "metadata": {
            "tags": []
          },
          "execution_count": 398
        }
      ]
    },
    {
      "cell_type": "code",
      "metadata": {
        "id": "Reh-4nAcTCLW",
        "colab_type": "code",
        "colab": {}
      },
      "source": [
        "diabetic[\"diag_1\"].replace(\"^(?!250).*\",\"No\",inplace = True,regex=True)\n",
        "diabetic[\"diag_1\"].replace(\"^250.*\",\"Yes\",inplace = True,regex=True)"
      ],
      "execution_count": 0,
      "outputs": []
    },
    {
      "cell_type": "code",
      "metadata": {
        "id": "TniwX9caUjhq",
        "colab_type": "code",
        "outputId": "2fa47e3e-9470-460d-cfec-ab61aab75934",
        "colab": {
          "base_uri": "https://localhost:8080/",
          "height": 202
        }
      },
      "source": [
        "diabetic[\"diag_1\"][0:10]"
      ],
      "execution_count": 0,
      "outputs": [
        {
          "output_type": "execute_result",
          "data": {
            "text/plain": [
              "0    Yes\n",
              "1     No\n",
              "2     No\n",
              "3     No\n",
              "4     No\n",
              "5     No\n",
              "6     No\n",
              "7     No\n",
              "8     No\n",
              "9     No\n",
              "Name: diag_1, dtype: object"
            ]
          },
          "metadata": {
            "tags": []
          },
          "execution_count": 400
        }
      ]
    },
    {
      "cell_type": "markdown",
      "metadata": {
        "id": "UxIU4IAXSvTS",
        "colab_type": "text"
      },
      "source": [
        "Let's do the same on 'diag_2' and 'diag_3'."
      ]
    },
    {
      "cell_type": "code",
      "metadata": {
        "id": "ls9HAAXMYu1x",
        "colab_type": "code",
        "colab": {}
      },
      "source": [
        "diabetic[\"diag_2\"].replace(\"^(?!250).*\",\"No\",inplace = True,regex=True)\n",
        "diabetic[\"diag_2\"].replace(\"^250.*\",\"Yes\",inplace = True,regex=True)\n",
        "diabetic[\"diag_3\"].replace(\"^(?!250).*\",\"No\",inplace = True,regex=True)\n",
        "diabetic[\"diag_3\"].replace(\"^250.*\",\"Yes\",inplace = True,regex=True)"
      ],
      "execution_count": 0,
      "outputs": []
    },
    {
      "cell_type": "code",
      "metadata": {
        "id": "u8cXDmauY229",
        "colab_type": "code",
        "outputId": "a0fa6124-2925-4b67-badc-298089a02d35",
        "colab": {
          "base_uri": "https://localhost:8080/",
          "height": 202
        }
      },
      "source": [
        "diabetic[\"diag_2\"][0:10]"
      ],
      "execution_count": 0,
      "outputs": [
        {
          "output_type": "execute_result",
          "data": {
            "text/plain": [
              "0     No\n",
              "1    Yes\n",
              "2    Yes\n",
              "3    Yes\n",
              "4     No\n",
              "5     No\n",
              "6     No\n",
              "7     No\n",
              "8     No\n",
              "9     No\n",
              "Name: diag_2, dtype: object"
            ]
          },
          "metadata": {
            "tags": []
          },
          "execution_count": 402
        }
      ]
    },
    {
      "cell_type": "markdown",
      "metadata": {
        "id": "jRtzy2kRZ-p3",
        "colab_type": "text"
      },
      "source": [
        "Now, all missing data have been handled. Since there are three diagnoses in the columns, here we unite these three columns into 1 when diagnose of diabetes exist in one of the three."
      ]
    },
    {
      "cell_type": "code",
      "metadata": {
        "id": "AnVfmC3-vQQ-",
        "colab_type": "code",
        "colab": {}
      },
      "source": [
        "diabetic[\"Cons_diag\"] = 0"
      ],
      "execution_count": 0,
      "outputs": []
    },
    {
      "cell_type": "markdown",
      "metadata": {
        "id": "YK4zVLzo0TXl",
        "colab_type": "text"
      },
      "source": [
        "Value \"1\" means the patient was once diagnosed for diabetes, whereas \"0\" no diabete diagnosed."
      ]
    },
    {
      "cell_type": "code",
      "metadata": {
        "id": "bTCxoc0slv0b",
        "colab_type": "code",
        "outputId": "ca851dab-11b8-476c-a02c-e6ad422b56bc",
        "colab": {
          "base_uri": "https://localhost:8080/",
          "height": 289
        }
      },
      "source": [
        "diabetic[\"Cons_diag\"][diabetic.diag_1==\"Yes\"] = 1\n",
        "diabetic[\"Cons_diag\"][diabetic.diag_2==\"Yes\"] = 1\n",
        "diabetic[\"Cons_diag\"][diabetic.diag_3==\"Yes\"] = 1"
      ],
      "execution_count": 0,
      "outputs": [
        {
          "output_type": "stream",
          "text": [
            "/usr/local/lib/python3.6/dist-packages/ipykernel_launcher.py:1: SettingWithCopyWarning: \n",
            "A value is trying to be set on a copy of a slice from a DataFrame\n",
            "\n",
            "See the caveats in the documentation: http://pandas.pydata.org/pandas-docs/stable/user_guide/indexing.html#returning-a-view-versus-a-copy\n",
            "  \"\"\"Entry point for launching an IPython kernel.\n",
            "/usr/local/lib/python3.6/dist-packages/ipykernel_launcher.py:2: SettingWithCopyWarning: \n",
            "A value is trying to be set on a copy of a slice from a DataFrame\n",
            "\n",
            "See the caveats in the documentation: http://pandas.pydata.org/pandas-docs/stable/user_guide/indexing.html#returning-a-view-versus-a-copy\n",
            "  \n",
            "/usr/local/lib/python3.6/dist-packages/ipykernel_launcher.py:3: SettingWithCopyWarning: \n",
            "A value is trying to be set on a copy of a slice from a DataFrame\n",
            "\n",
            "See the caveats in the documentation: http://pandas.pydata.org/pandas-docs/stable/user_guide/indexing.html#returning-a-view-versus-a-copy\n",
            "  This is separate from the ipykernel package so we can avoid doing imports until\n"
          ],
          "name": "stderr"
        }
      ]
    },
    {
      "cell_type": "code",
      "metadata": {
        "id": "UxPyG0pgy0ne",
        "colab_type": "code",
        "outputId": "0883c76b-3c49-4e49-abcf-38abd327292f",
        "colab": {
          "base_uri": "https://localhost:8080/",
          "height": 370
        }
      },
      "source": [
        "diabetic[\"Cons_diag\"][:20]"
      ],
      "execution_count": 0,
      "outputs": [
        {
          "output_type": "execute_result",
          "data": {
            "text/plain": [
              "0     1\n",
              "1     1\n",
              "2     1\n",
              "3     1\n",
              "4     1\n",
              "5     1\n",
              "6     0\n",
              "7     1\n",
              "8     0\n",
              "9     0\n",
              "10    1\n",
              "11    0\n",
              "12    1\n",
              "13    0\n",
              "14    0\n",
              "15    0\n",
              "16    0\n",
              "17    1\n",
              "18    0\n",
              "19    0\n",
              "Name: Cons_diag, dtype: int64"
            ]
          },
          "metadata": {
            "tags": []
          },
          "execution_count": 405
        }
      ]
    },
    {
      "cell_type": "code",
      "metadata": {
        "id": "qK-dIA0qyGQC",
        "colab_type": "code",
        "outputId": "ab6e9dc7-81b9-4357-b600-ee53db2e8653",
        "colab": {
          "base_uri": "https://localhost:8080/",
          "height": 67
        }
      },
      "source": [
        "diabetic[\"Cons_diag\"].value_counts()"
      ],
      "execution_count": 0,
      "outputs": [
        {
          "output_type": "execute_result",
          "data": {
            "text/plain": [
              "0    43713\n",
              "1    27805\n",
              "Name: Cons_diag, dtype: int64"
            ]
          },
          "metadata": {
            "tags": []
          },
          "execution_count": 406
        }
      ]
    },
    {
      "cell_type": "markdown",
      "metadata": {
        "id": "IT2iFwuTzFQq",
        "colab_type": "text"
      },
      "source": [
        "Now we can drop the colums: \"diag_1\", \"diag_2\" and \"diag_3\""
      ]
    },
    {
      "cell_type": "code",
      "metadata": {
        "id": "AnhKq_njzNd6",
        "colab_type": "code",
        "colab": {}
      },
      "source": [
        "diabetic = diabetic.drop(\"diag_1\",axis=1)\n",
        "diabetic = diabetic.drop(\"diag_2\",axis=1)\n",
        "diabetic = diabetic.drop(\"diag_3\",axis=1)"
      ],
      "execution_count": 0,
      "outputs": []
    },
    {
      "cell_type": "code",
      "metadata": {
        "id": "X8s5FS6nzkSt",
        "colab_type": "code",
        "outputId": "0d96c053-dee1-4582-a5cf-3bbf5166e923",
        "colab": {
          "base_uri": "https://localhost:8080/",
          "height": 857
        }
      },
      "source": [
        "diabetic.info()"
      ],
      "execution_count": 0,
      "outputs": [
        {
          "output_type": "stream",
          "text": [
            "<class 'pandas.core.frame.DataFrame'>\n",
            "Int64Index: 71518 entries, 0 to 101765\n",
            "Data columns (total 45 columns):\n",
            "encounter_id                71518 non-null int64\n",
            "patient_nbr                 71518 non-null int64\n",
            "race                        71518 non-null object\n",
            "gender                      71518 non-null object\n",
            "age                         71518 non-null object\n",
            "admission_type_id           71518 non-null int64\n",
            "discharge_disposition_id    71518 non-null int64\n",
            "admission_source_id         71518 non-null int64\n",
            "time_in_hospital            71518 non-null int64\n",
            "num_lab_procedures          71518 non-null int64\n",
            "num_procedures              71518 non-null int64\n",
            "num_medications             71518 non-null int64\n",
            "number_outpatient           71518 non-null int64\n",
            "number_emergency            71518 non-null int64\n",
            "number_inpatient            71518 non-null int64\n",
            "number_diagnoses            71518 non-null int64\n",
            "max_glu_serum               71518 non-null object\n",
            "A1Cresult                   71518 non-null object\n",
            "metformin                   71518 non-null object\n",
            "repaglinide                 71518 non-null object\n",
            "nateglinide                 71518 non-null object\n",
            "chlorpropamide              71518 non-null object\n",
            "glimepiride                 71518 non-null object\n",
            "acetohexamide               71518 non-null object\n",
            "glipizide                   71518 non-null object\n",
            "glyburide                   71518 non-null object\n",
            "tolbutamide                 71518 non-null object\n",
            "pioglitazone                71518 non-null object\n",
            "rosiglitazone               71518 non-null object\n",
            "acarbose                    71518 non-null object\n",
            "miglitol                    71518 non-null object\n",
            "troglitazone                71518 non-null object\n",
            "tolazamide                  71518 non-null object\n",
            "examide                     71518 non-null object\n",
            "citoglipton                 71518 non-null object\n",
            "insulin                     71518 non-null object\n",
            "glyburide-metformin         71518 non-null object\n",
            "glipizide-metformin         71518 non-null object\n",
            "glimepiride-pioglitazone    71518 non-null object\n",
            "metformin-rosiglitazone     71518 non-null object\n",
            "metformin-pioglitazone      71518 non-null object\n",
            "change                      71518 non-null object\n",
            "diabetesMed                 71518 non-null object\n",
            "readmitted                  71518 non-null object\n",
            "Cons_diag                   71518 non-null int64\n",
            "dtypes: int64(14), object(31)\n",
            "memory usage: 25.1+ MB\n"
          ],
          "name": "stdout"
        }
      ]
    },
    {
      "cell_type": "markdown",
      "metadata": {
        "id": "sxpHQjYclcvd",
        "colab_type": "text"
      },
      "source": [
        "Similarly, we replace column \"readmitted\" with a new int64 column. \n",
        "\n",
        "Value \"1\" means readmitted, \"0\" means not readmitted."
      ]
    },
    {
      "cell_type": "code",
      "metadata": {
        "id": "Ec2-10ulz8Ll",
        "colab_type": "code",
        "colab": {}
      },
      "source": [
        "diabetic[\"re_ad\"] = 0"
      ],
      "execution_count": 0,
      "outputs": []
    },
    {
      "cell_type": "code",
      "metadata": {
        "id": "0nFwW46f0iwL",
        "colab_type": "code",
        "outputId": "82d6a892-2630-42f5-a68e-b7ac8fe5d829",
        "colab": {
          "base_uri": "https://localhost:8080/",
          "height": 121
        }
      },
      "source": [
        "diabetic[\"re_ad\"][diabetic.readmitted==\"Yes\"] = 1\n"
      ],
      "execution_count": 0,
      "outputs": [
        {
          "output_type": "stream",
          "text": [
            "/usr/local/lib/python3.6/dist-packages/ipykernel_launcher.py:1: SettingWithCopyWarning: \n",
            "A value is trying to be set on a copy of a slice from a DataFrame\n",
            "\n",
            "See the caveats in the documentation: http://pandas.pydata.org/pandas-docs/stable/user_guide/indexing.html#returning-a-view-versus-a-copy\n",
            "  \"\"\"Entry point for launching an IPython kernel.\n"
          ],
          "name": "stderr"
        }
      ]
    },
    {
      "cell_type": "code",
      "metadata": {
        "id": "60GBUHpy01at",
        "colab_type": "code",
        "outputId": "97d79d70-af3e-4396-938a-d34b8ada1bc8",
        "colab": {
          "base_uri": "https://localhost:8080/",
          "height": 286
        }
      },
      "source": [
        "diabetic[\"re_ad\"][:15]"
      ],
      "execution_count": 0,
      "outputs": [
        {
          "output_type": "execute_result",
          "data": {
            "text/plain": [
              "0     0\n",
              "1     0\n",
              "2     0\n",
              "3     0\n",
              "4     0\n",
              "5     0\n",
              "6     0\n",
              "7     0\n",
              "8     0\n",
              "9     0\n",
              "10    0\n",
              "11    1\n",
              "12    1\n",
              "13    0\n",
              "14    0\n",
              "Name: re_ad, dtype: int64"
            ]
          },
          "metadata": {
            "tags": []
          },
          "execution_count": 411
        }
      ]
    },
    {
      "cell_type": "code",
      "metadata": {
        "id": "7HYd3EpM06f8",
        "colab_type": "code",
        "outputId": "c7fff73b-a3c7-4a85-fbef-7da95f7ba8d7",
        "colab": {
          "base_uri": "https://localhost:8080/",
          "height": 286
        }
      },
      "source": [
        "diabetic[\"readmitted\"][:15]"
      ],
      "execution_count": 0,
      "outputs": [
        {
          "output_type": "execute_result",
          "data": {
            "text/plain": [
              "0      NO\n",
              "1      No\n",
              "2      NO\n",
              "3      NO\n",
              "4      NO\n",
              "5      No\n",
              "6      NO\n",
              "7      No\n",
              "8      NO\n",
              "9      NO\n",
              "10     No\n",
              "11    Yes\n",
              "12    Yes\n",
              "13     NO\n",
              "14     No\n",
              "Name: readmitted, dtype: object"
            ]
          },
          "metadata": {
            "tags": []
          },
          "execution_count": 412
        }
      ]
    },
    {
      "cell_type": "markdown",
      "metadata": {
        "id": "rv9WQwLQ0-dl",
        "colab_type": "text"
      },
      "source": [
        "Then, drop the column \"readmitted\"."
      ]
    },
    {
      "cell_type": "code",
      "metadata": {
        "id": "wxsVBNNu1DGL",
        "colab_type": "code",
        "colab": {}
      },
      "source": [
        "diabetic = diabetic.drop(\"readmitted\",axis=1)"
      ],
      "execution_count": 0,
      "outputs": []
    },
    {
      "cell_type": "code",
      "metadata": {
        "id": "CarTbd_K1N5M",
        "colab_type": "code",
        "outputId": "7d8592b2-ad08-4716-d84b-d17ea79cc1ef",
        "colab": {
          "base_uri": "https://localhost:8080/",
          "height": 857
        }
      },
      "source": [
        "diabetic.info()"
      ],
      "execution_count": 0,
      "outputs": [
        {
          "output_type": "stream",
          "text": [
            "<class 'pandas.core.frame.DataFrame'>\n",
            "Int64Index: 71518 entries, 0 to 101765\n",
            "Data columns (total 45 columns):\n",
            "encounter_id                71518 non-null int64\n",
            "patient_nbr                 71518 non-null int64\n",
            "race                        71518 non-null object\n",
            "gender                      71518 non-null object\n",
            "age                         71518 non-null object\n",
            "admission_type_id           71518 non-null int64\n",
            "discharge_disposition_id    71518 non-null int64\n",
            "admission_source_id         71518 non-null int64\n",
            "time_in_hospital            71518 non-null int64\n",
            "num_lab_procedures          71518 non-null int64\n",
            "num_procedures              71518 non-null int64\n",
            "num_medications             71518 non-null int64\n",
            "number_outpatient           71518 non-null int64\n",
            "number_emergency            71518 non-null int64\n",
            "number_inpatient            71518 non-null int64\n",
            "number_diagnoses            71518 non-null int64\n",
            "max_glu_serum               71518 non-null object\n",
            "A1Cresult                   71518 non-null object\n",
            "metformin                   71518 non-null object\n",
            "repaglinide                 71518 non-null object\n",
            "nateglinide                 71518 non-null object\n",
            "chlorpropamide              71518 non-null object\n",
            "glimepiride                 71518 non-null object\n",
            "acetohexamide               71518 non-null object\n",
            "glipizide                   71518 non-null object\n",
            "glyburide                   71518 non-null object\n",
            "tolbutamide                 71518 non-null object\n",
            "pioglitazone                71518 non-null object\n",
            "rosiglitazone               71518 non-null object\n",
            "acarbose                    71518 non-null object\n",
            "miglitol                    71518 non-null object\n",
            "troglitazone                71518 non-null object\n",
            "tolazamide                  71518 non-null object\n",
            "examide                     71518 non-null object\n",
            "citoglipton                 71518 non-null object\n",
            "insulin                     71518 non-null object\n",
            "glyburide-metformin         71518 non-null object\n",
            "glipizide-metformin         71518 non-null object\n",
            "glimepiride-pioglitazone    71518 non-null object\n",
            "metformin-rosiglitazone     71518 non-null object\n",
            "metformin-pioglitazone      71518 non-null object\n",
            "change                      71518 non-null object\n",
            "diabetesMed                 71518 non-null object\n",
            "Cons_diag                   71518 non-null int64\n",
            "re_ad                       71518 non-null int64\n",
            "dtypes: int64(15), object(30)\n",
            "memory usage: 25.1+ MB\n"
          ],
          "name": "stdout"
        }
      ]
    },
    {
      "cell_type": "markdown",
      "metadata": {
        "id": "BVYWQhs6BZ_K",
        "colab_type": "text"
      },
      "source": [
        "Consider HbA1c might be highly related to the diagnoses for diabetes, here A1Cresult is transformed into numeric values.\n",
        "\n",
        "1.   \"None\"   => 0\n",
        "2.   \"Norm\"   => 1\n",
        "3.   \">7\"     => 2\n",
        "4.   \">8\"     => 3\n",
        "\n"
      ]
    },
    {
      "cell_type": "code",
      "metadata": {
        "id": "d7OI-jHyCC8I",
        "colab_type": "code",
        "outputId": "0618861a-77bc-49b6-9388-d4021f1b5b28",
        "colab": {
          "base_uri": "https://localhost:8080/",
          "height": 289
        }
      },
      "source": [
        "diabetic[\"HbA1c\"] = 0\n",
        "diabetic[\"HbA1c\"][diabetic.A1Cresult==\"Norm\"] = 1\n",
        "diabetic[\"HbA1c\"][diabetic.A1Cresult==\">7\"] = 2\n",
        "diabetic[\"HbA1c\"][diabetic.A1Cresult==\">8\"] = 3"
      ],
      "execution_count": 0,
      "outputs": [
        {
          "output_type": "stream",
          "text": [
            "/usr/local/lib/python3.6/dist-packages/ipykernel_launcher.py:2: SettingWithCopyWarning: \n",
            "A value is trying to be set on a copy of a slice from a DataFrame\n",
            "\n",
            "See the caveats in the documentation: http://pandas.pydata.org/pandas-docs/stable/user_guide/indexing.html#returning-a-view-versus-a-copy\n",
            "  \n",
            "/usr/local/lib/python3.6/dist-packages/ipykernel_launcher.py:3: SettingWithCopyWarning: \n",
            "A value is trying to be set on a copy of a slice from a DataFrame\n",
            "\n",
            "See the caveats in the documentation: http://pandas.pydata.org/pandas-docs/stable/user_guide/indexing.html#returning-a-view-versus-a-copy\n",
            "  This is separate from the ipykernel package so we can avoid doing imports until\n",
            "/usr/local/lib/python3.6/dist-packages/ipykernel_launcher.py:4: SettingWithCopyWarning: \n",
            "A value is trying to be set on a copy of a slice from a DataFrame\n",
            "\n",
            "See the caveats in the documentation: http://pandas.pydata.org/pandas-docs/stable/user_guide/indexing.html#returning-a-view-versus-a-copy\n",
            "  after removing the cwd from sys.path.\n"
          ],
          "name": "stderr"
        }
      ]
    },
    {
      "cell_type": "code",
      "metadata": {
        "id": "2ewoKgVRDa14",
        "colab_type": "code",
        "outputId": "dfcc038f-bbd8-44b9-c60e-07ba7f956c48",
        "colab": {
          "base_uri": "https://localhost:8080/",
          "height": 538
        }
      },
      "source": [
        "diabetic[\"A1Cresult\"][70:100]"
      ],
      "execution_count": 0,
      "outputs": [
        {
          "output_type": "execute_result",
          "data": {
            "text/plain": [
              "70     None\n",
              "71     None\n",
              "72     None\n",
              "73     None\n",
              "74       >7\n",
              "75     None\n",
              "76     None\n",
              "77     None\n",
              "78     None\n",
              "80     None\n",
              "82     None\n",
              "83     None\n",
              "84     None\n",
              "85     None\n",
              "86     None\n",
              "87     None\n",
              "88     None\n",
              "89     None\n",
              "90     None\n",
              "91     None\n",
              "92     None\n",
              "93     None\n",
              "94     None\n",
              "95     None\n",
              "96     None\n",
              "97     None\n",
              "98       >8\n",
              "99     None\n",
              "100    None\n",
              "101    None\n",
              "Name: A1Cresult, dtype: object"
            ]
          },
          "metadata": {
            "tags": []
          },
          "execution_count": 416
        }
      ]
    },
    {
      "cell_type": "code",
      "metadata": {
        "id": "iSlnQ1tNDjtl",
        "colab_type": "code",
        "outputId": "b8d9228b-0e29-4a60-9aed-76e6f0d85bfd",
        "colab": {
          "base_uri": "https://localhost:8080/",
          "height": 538
        }
      },
      "source": [
        "diabetic[\"HbA1c\"][70:100]"
      ],
      "execution_count": 0,
      "outputs": [
        {
          "output_type": "execute_result",
          "data": {
            "text/plain": [
              "70     0\n",
              "71     0\n",
              "72     0\n",
              "73     0\n",
              "74     2\n",
              "75     0\n",
              "76     0\n",
              "77     0\n",
              "78     0\n",
              "80     0\n",
              "82     0\n",
              "83     0\n",
              "84     0\n",
              "85     0\n",
              "86     0\n",
              "87     0\n",
              "88     0\n",
              "89     0\n",
              "90     0\n",
              "91     0\n",
              "92     0\n",
              "93     0\n",
              "94     0\n",
              "95     0\n",
              "96     0\n",
              "97     0\n",
              "98     3\n",
              "99     0\n",
              "100    0\n",
              "101    0\n",
              "Name: HbA1c, dtype: int64"
            ]
          },
          "metadata": {
            "tags": []
          },
          "execution_count": 417
        }
      ]
    },
    {
      "cell_type": "markdown",
      "metadata": {
        "id": "v_rFrDW_P1KT",
        "colab_type": "text"
      },
      "source": [
        "Good, data validated, now we drop the column \"A1Cresult\"."
      ]
    },
    {
      "cell_type": "code",
      "metadata": {
        "id": "i6YjDWx7P_AI",
        "colab_type": "code",
        "colab": {}
      },
      "source": [
        "diabetic = diabetic.drop(\"A1Cresult\",axis=1)"
      ],
      "execution_count": 0,
      "outputs": []
    },
    {
      "cell_type": "markdown",
      "metadata": {
        "id": "8PuNlWrTapcL",
        "colab_type": "text"
      },
      "source": [
        "# Data Preparation"
      ]
    },
    {
      "cell_type": "code",
      "metadata": {
        "id": "7XCtSFYcy2iY",
        "colab_type": "code",
        "colab": {}
      },
      "source": [
        "# For illustration only. Sklearn has train_test_split()\n",
        "def split_train_test(data, test_ratio):\n",
        "    shuffled_indices = np.random.permutation(len(data))\n",
        "    test_set_size = int(len(data) * test_ratio)\n",
        "    test_indices = shuffled_indices[:test_set_size]\n",
        "    train_indices = shuffled_indices[test_set_size:]\n",
        "    return data.iloc[train_indices], data.iloc[test_indices]"
      ],
      "execution_count": 0,
      "outputs": []
    },
    {
      "cell_type": "code",
      "metadata": {
        "id": "29mmeTZ9y44R",
        "colab_type": "code",
        "outputId": "206f8b97-c0ec-449c-a2dc-2742329e9a74",
        "colab": {
          "base_uri": "https://localhost:8080/",
          "height": 34
        }
      },
      "source": [
        "train_set, test_set = split_train_test(diabetic, 0.2)\n",
        "len(train_set)"
      ],
      "execution_count": 0,
      "outputs": [
        {
          "output_type": "execute_result",
          "data": {
            "text/plain": [
              "57215"
            ]
          },
          "metadata": {
            "tags": []
          },
          "execution_count": 420
        }
      ]
    },
    {
      "cell_type": "code",
      "metadata": {
        "id": "mnfmr97EOQqA",
        "colab_type": "code",
        "outputId": "8013bc83-00ae-4203-bc1f-d44fe8015f47",
        "colab": {
          "base_uri": "https://localhost:8080/",
          "height": 34
        }
      },
      "source": [
        "len(test_set)"
      ],
      "execution_count": 0,
      "outputs": [
        {
          "output_type": "execute_result",
          "data": {
            "text/plain": [
              "14303"
            ]
          },
          "metadata": {
            "tags": []
          },
          "execution_count": 421
        }
      ]
    },
    {
      "cell_type": "markdown",
      "metadata": {
        "id": "xF2EEJwTzHIc",
        "colab_type": "text"
      },
      "source": [
        "Here we did not use 'train_test_split' from sklearn because, two columns were unreasonably missing after this build-in function called."
      ]
    },
    {
      "cell_type": "code",
      "metadata": {
        "id": "ZWgtEU3Xy-cR",
        "colab_type": "code",
        "outputId": "534aa56e-a1a4-4dc6-bfd5-c86bc4e5202b",
        "colab": {
          "base_uri": "https://localhost:8080/",
          "height": 857
        }
      },
      "source": [
        "train_set.info()"
      ],
      "execution_count": 0,
      "outputs": [
        {
          "output_type": "stream",
          "text": [
            "<class 'pandas.core.frame.DataFrame'>\n",
            "Int64Index: 57215 entries, 92452 to 20791\n",
            "Data columns (total 45 columns):\n",
            "encounter_id                57215 non-null int64\n",
            "patient_nbr                 57215 non-null int64\n",
            "race                        57215 non-null object\n",
            "gender                      57215 non-null object\n",
            "age                         57215 non-null object\n",
            "admission_type_id           57215 non-null int64\n",
            "discharge_disposition_id    57215 non-null int64\n",
            "admission_source_id         57215 non-null int64\n",
            "time_in_hospital            57215 non-null int64\n",
            "num_lab_procedures          57215 non-null int64\n",
            "num_procedures              57215 non-null int64\n",
            "num_medications             57215 non-null int64\n",
            "number_outpatient           57215 non-null int64\n",
            "number_emergency            57215 non-null int64\n",
            "number_inpatient            57215 non-null int64\n",
            "number_diagnoses            57215 non-null int64\n",
            "max_glu_serum               57215 non-null object\n",
            "metformin                   57215 non-null object\n",
            "repaglinide                 57215 non-null object\n",
            "nateglinide                 57215 non-null object\n",
            "chlorpropamide              57215 non-null object\n",
            "glimepiride                 57215 non-null object\n",
            "acetohexamide               57215 non-null object\n",
            "glipizide                   57215 non-null object\n",
            "glyburide                   57215 non-null object\n",
            "tolbutamide                 57215 non-null object\n",
            "pioglitazone                57215 non-null object\n",
            "rosiglitazone               57215 non-null object\n",
            "acarbose                    57215 non-null object\n",
            "miglitol                    57215 non-null object\n",
            "troglitazone                57215 non-null object\n",
            "tolazamide                  57215 non-null object\n",
            "examide                     57215 non-null object\n",
            "citoglipton                 57215 non-null object\n",
            "insulin                     57215 non-null object\n",
            "glyburide-metformin         57215 non-null object\n",
            "glipizide-metformin         57215 non-null object\n",
            "glimepiride-pioglitazone    57215 non-null object\n",
            "metformin-rosiglitazone     57215 non-null object\n",
            "metformin-pioglitazone      57215 non-null object\n",
            "change                      57215 non-null object\n",
            "diabetesMed                 57215 non-null object\n",
            "Cons_diag                   57215 non-null int64\n",
            "re_ad                       57215 non-null int64\n",
            "HbA1c                       57215 non-null int64\n",
            "dtypes: int64(16), object(29)\n",
            "memory usage: 20.1+ MB\n"
          ],
          "name": "stdout"
        }
      ]
    },
    {
      "cell_type": "markdown",
      "metadata": {
        "id": "sDYjAtMnzZRH",
        "colab_type": "text"
      },
      "source": [
        "Still have 45 columns, good."
      ]
    },
    {
      "cell_type": "markdown",
      "metadata": {
        "id": "5dqLydRSaH1E",
        "colab_type": "text"
      },
      "source": [
        "Take a further look into the database, there are 16 columns that are numeric. Let's take them out."
      ]
    },
    {
      "cell_type": "code",
      "metadata": {
        "id": "NYYSDxiAadxD",
        "colab_type": "code",
        "colab": {}
      },
      "source": [
        "diabetic_num = train_set.drop(['race','gender','age', \n",
        "                              'max_glu_serum', 'metformin', 'repaglinide', 'nateglinide',\n",
        "                              'chlorpropamide','glimepiride','acetohexamide','glipizide',\n",
        "                              'glyburide','tolbutamide','pioglitazone','rosiglitazone','acarbose',\n",
        "                              'miglitol','troglitazone','tolazamide','examide','citoglipton',\n",
        "                              'insulin','glyburide-metformin','glipizide-metformin',\n",
        "                              'glimepiride-pioglitazone','metformin-rosiglitazone',\n",
        "                              'metformin-pioglitazone','change','diabetesMed'],axis=1)"
      ],
      "execution_count": 0,
      "outputs": []
    },
    {
      "cell_type": "code",
      "metadata": {
        "id": "LQhvOMhIdOMB",
        "colab_type": "code",
        "outputId": "a0e83d36-c963-4f77-de12-2717a746d79f",
        "colab": {
          "base_uri": "https://localhost:8080/",
          "height": 370
        }
      },
      "source": [
        "diabetic_num.info()"
      ],
      "execution_count": 0,
      "outputs": [
        {
          "output_type": "stream",
          "text": [
            "<class 'pandas.core.frame.DataFrame'>\n",
            "Int64Index: 57215 entries, 92452 to 20791\n",
            "Data columns (total 16 columns):\n",
            "encounter_id                57215 non-null int64\n",
            "patient_nbr                 57215 non-null int64\n",
            "admission_type_id           57215 non-null int64\n",
            "discharge_disposition_id    57215 non-null int64\n",
            "admission_source_id         57215 non-null int64\n",
            "time_in_hospital            57215 non-null int64\n",
            "num_lab_procedures          57215 non-null int64\n",
            "num_procedures              57215 non-null int64\n",
            "num_medications             57215 non-null int64\n",
            "number_outpatient           57215 non-null int64\n",
            "number_emergency            57215 non-null int64\n",
            "number_inpatient            57215 non-null int64\n",
            "number_diagnoses            57215 non-null int64\n",
            "Cons_diag                   57215 non-null int64\n",
            "re_ad                       57215 non-null int64\n",
            "HbA1c                       57215 non-null int64\n",
            "dtypes: int64(16)\n",
            "memory usage: 7.4 MB\n"
          ],
          "name": "stdout"
        }
      ]
    },
    {
      "cell_type": "code",
      "metadata": {
        "id": "B9lUIGGOk1wH",
        "colab_type": "code",
        "outputId": "9cc86b50-bf37-4a75-b94c-0a123012ff64",
        "colab": {
          "base_uri": "https://localhost:8080/",
          "height": 302
        }
      },
      "source": [
        "corr_matrix = diabetic_num.corr()\n",
        "corr_matrix[\"Cons_diag\"].sort_values(ascending=False)"
      ],
      "execution_count": 0,
      "outputs": [
        {
          "output_type": "execute_result",
          "data": {
            "text/plain": [
              "Cons_diag                   1.000000\n",
              "HbA1c                       0.121332\n",
              "admission_type_id           0.035208\n",
              "number_emergency            0.011058\n",
              "re_ad                      -0.009619\n",
              "admission_source_id        -0.024864\n",
              "number_outpatient          -0.027011\n",
              "number_inpatient           -0.027463\n",
              "discharge_disposition_id   -0.034045\n",
              "num_lab_procedures         -0.068033\n",
              "num_procedures             -0.092347\n",
              "patient_nbr                -0.093779\n",
              "encounter_id               -0.102810\n",
              "time_in_hospital           -0.134795\n",
              "num_medications            -0.139743\n",
              "number_diagnoses           -0.416904\n",
              "Name: Cons_diag, dtype: float64"
            ]
          },
          "metadata": {
            "tags": []
          },
          "execution_count": 425
        }
      ]
    },
    {
      "cell_type": "markdown",
      "metadata": {
        "id": "3RCqcTu2JL2u",
        "colab_type": "text"
      },
      "source": [
        "From the numeric colums, the most corelated column to diagnosis of diabetes is 'number_diagnoses'."
      ]
    },
    {
      "cell_type": "code",
      "metadata": {
        "id": "EhpPKi-xT5Xl",
        "colab_type": "code",
        "outputId": "f2ef0d51-2216-46a2-9062-3f1226900280",
        "colab": {
          "base_uri": "https://localhost:8080/",
          "height": 606
        }
      },
      "source": [
        "# from pandas.tools.plotting import scatter_matrix # For older versions of Pandas\n",
        "from pandas.plotting import scatter_matrix\n",
        "\n",
        "attributes = [\"Cons_diag\", \"number_diagnoses\", \"num_medications\",\"time_in_hospital\",\"HbA1c\"]\n",
        "scatter_matrix(diabetic_num[attributes], figsize=(12, 8))\n",
        "save_fig(\"scatter_matrix_plot\")"
      ],
      "execution_count": 0,
      "outputs": [
        {
          "output_type": "stream",
          "text": [
            "Saving figure scatter_matrix_plot\n"
          ],
          "name": "stdout"
        },
        {
          "output_type": "display_data",
          "data": {
            "image/png": "[encoded data removed]",
            "text/plain": [
              "<Figure size 864x576 with 25 Axes>"
            ]
          },
          "metadata": {
            "tags": []
          }
        }
      ]
    },
    {
      "cell_type": "code",
      "metadata": {
        "id": "R3gVqpva2e0C",
        "colab_type": "code",
        "outputId": "2dc09573-0dc1-40f2-ba73-7d7a842578c6",
        "colab": {
          "base_uri": "https://localhost:8080/",
          "height": 302
        }
      },
      "source": [
        "corr_matrix = diabetic_num.corr()\n",
        "corr_matrix[\"re_ad\"].sort_values(ascending=False)"
      ],
      "execution_count": 0,
      "outputs": [
        {
          "output_type": "execute_result",
          "data": {
            "text/plain": [
              "re_ad                       1.000000\n",
              "number_inpatient            0.101205\n",
              "discharge_disposition_id    0.057935\n",
              "time_in_hospital            0.053720\n",
              "number_diagnoses            0.040868\n",
              "num_medications             0.032824\n",
              "num_lab_procedures          0.028207\n",
              "number_emergency            0.026778\n",
              "number_outpatient           0.005574\n",
              "patient_nbr                 0.005406\n",
              "admission_source_id         0.004343\n",
              "admission_type_id           0.003876\n",
              "num_procedures             -0.005019\n",
              "HbA1c                      -0.006868\n",
              "Cons_diag                  -0.009619\n",
              "encounter_id               -0.049307\n",
              "Name: re_ad, dtype: float64"
            ]
          },
          "metadata": {
            "tags": []
          },
          "execution_count": 427
        }
      ]
    },
    {
      "cell_type": "markdown",
      "metadata": {
        "id": "CMusuuCSJYNv",
        "colab_type": "text"
      },
      "source": [
        "From the numeric colums, it seems all these columns have very low corelations with 'readmitted'."
      ]
    },
    {
      "cell_type": "code",
      "metadata": {
        "id": "SJCT523WL8YC",
        "colab_type": "code",
        "colab": {}
      },
      "source": [
        "diabetic_train = train_set.drop(\"Cons_diag\", axis=1) # drop labels for training set\n",
        "diabetic_train = diabetic_train.drop(\"re_ad\", axis=1)\n",
        "dia_labels_diag = train_set[\"Cons_diag\"].copy()\n",
        "dia_labels_read = train_set[\"re_ad\"].copy()"
      ],
      "execution_count": 0,
      "outputs": []
    },
    {
      "cell_type": "markdown",
      "metadata": {
        "id": "co7tPmUWhp1R",
        "colab_type": "text"
      },
      "source": [
        "Now let's build a pipeline for preprocessing the numerical attributes with scaling:"
      ]
    },
    {
      "cell_type": "code",
      "metadata": {
        "id": "JkHW5_5ohtkI",
        "colab_type": "code",
        "colab": {}
      },
      "source": [
        "from sklearn.pipeline import Pipeline\n",
        "from sklearn.preprocessing import StandardScaler\n",
        "\n",
        "num_pipeline = Pipeline([('std_scaler', StandardScaler())])\n",
        "\n",
        "diabetic_tr = num_pipeline.fit_transform(diabetic_num)"
      ],
      "execution_count": 0,
      "outputs": []
    },
    {
      "cell_type": "code",
      "metadata": {
        "id": "p2O_3HCbiAcX",
        "colab_type": "code",
        "outputId": "265852ee-aeaa-4ec7-c0cb-01e2eabfe87e",
        "colab": {
          "base_uri": "https://localhost:8080/",
          "height": 235
        }
      },
      "source": [
        "diabetic_tr"
      ],
      "execution_count": 0,
      "outputs": [
        {
          "output_type": "execute_result",
          "data": {
            "text/plain": [
              "array([[ 1.64636075,  0.56127563, -0.72770604, ...,  1.25718214,\n",
              "        -0.3138021 ,  2.82091165],\n",
              "       [-1.00106661, -1.3950704 , -0.72770604, ..., -0.79542969,\n",
              "        -0.3138021 ,  1.73660165],\n",
              "       [-0.35994688, -0.78339901, -0.72770604, ..., -0.79542969,\n",
              "        -0.3138021 , -0.43201837],\n",
              "       ...,\n",
              "       [ 0.67580196,  0.10742467, -0.72770604, ...,  1.25718214,\n",
              "        -0.3138021 ,  0.65229164],\n",
              "       [-1.49277882, -1.14429881,  2.59374371, ...,  1.25718214,\n",
              "        -0.3138021 ,  0.65229164],\n",
              "       [-0.8362165 , -1.31321727,  0.60087386, ...,  1.25718214,\n",
              "        -0.3138021 ,  2.82091165]])"
            ]
          },
          "metadata": {
            "tags": []
          },
          "execution_count": 430
        }
      ]
    },
    {
      "cell_type": "markdown",
      "metadata": {
        "id": "ioTc5_3bTzAa",
        "colab_type": "text"
      },
      "source": [
        "Next we'll deal with categorical columns."
      ]
    },
    {
      "cell_type": "code",
      "metadata": {
        "id": "DDfKrrIGhgzz",
        "colab_type": "code",
        "colab": {}
      },
      "source": [
        "from sklearn.preprocessing import OneHotEncoder\n",
        "\n",
        "cat_encoder = OneHotEncoder()"
      ],
      "execution_count": 0,
      "outputs": []
    },
    {
      "cell_type": "code",
      "metadata": {
        "id": "D2vJUZeciJIz",
        "colab_type": "code",
        "colab": {}
      },
      "source": [
        "from sklearn.compose import ColumnTransformer\n",
        "\n",
        "num_attribs = list(diabetic_num)\n",
        "cat_attribs = ['race','gender','age',\n",
        "                              'max_glu_serum','metformin','repaglinide','nateglinide',\n",
        "                              'chlorpropamide','glimepiride','acetohexamide','glipizide',\n",
        "                              'glyburide','tolbutamide','pioglitazone','rosiglitazone','acarbose',\n",
        "                              'miglitol','troglitazone','tolazamide','examide','citoglipton',\n",
        "                              'insulin','glyburide-metformin','glipizide-metformin',\n",
        "                              'glimepiride-pioglitazone','metformin-rosiglitazone',\n",
        "                              'metformin-pioglitazone','change','diabetesMed']\n",
        "\n",
        "full_pipeline = ColumnTransformer([\n",
        "        (\"num\", num_pipeline, num_attribs),\n",
        "        (\"cat\", OneHotEncoder(), cat_attribs),\n",
        "    ])\n",
        "\n",
        "dia_prepared = full_pipeline.fit_transform(train_set)"
      ],
      "execution_count": 0,
      "outputs": []
    },
    {
      "cell_type": "code",
      "metadata": {
        "id": "wxSVZz20ikXe",
        "colab_type": "code",
        "outputId": "1692de0b-cd0c-4f97-a449-51d5333c5334",
        "colab": {
          "base_uri": "https://localhost:8080/",
          "height": 34
        }
      },
      "source": [
        "dia_prepared.shape"
      ],
      "execution_count": 0,
      "outputs": [
        {
          "output_type": "execute_result",
          "data": {
            "text/plain": [
              "(57215, 108)"
            ]
          },
          "metadata": {
            "tags": []
          },
          "execution_count": 433
        }
      ]
    },
    {
      "cell_type": "markdown",
      "metadata": {
        "id": "BJ0htNXRKsdO",
        "colab_type": "text"
      },
      "source": [
        "Since all the data has transformed into 2D float array, we are unable to run correlation matrix to seek the most correlated attributes among non-numeric columns."
      ]
    },
    {
      "cell_type": "markdown",
      "metadata": {
        "id": "S78VaY274qM0",
        "colab_type": "text"
      },
      "source": [
        "Now let's do the same on the test data set."
      ]
    },
    {
      "cell_type": "code",
      "metadata": {
        "id": "x6FY53hE43MD",
        "colab_type": "code",
        "colab": {}
      },
      "source": [
        "test_num = test_set.drop(['race','gender','age', \n",
        "                              'max_glu_serum', 'metformin', 'repaglinide', 'nateglinide',\n",
        "                              'chlorpropamide','glimepiride','acetohexamide','glipizide',\n",
        "                              'glyburide','tolbutamide','pioglitazone','rosiglitazone','acarbose',\n",
        "                              'miglitol','troglitazone','tolazamide','examide','citoglipton',\n",
        "                              'insulin','glyburide-metformin','glipizide-metformin',\n",
        "                              'glimepiride-pioglitazone','metformin-rosiglitazone',\n",
        "                              'metformin-pioglitazone','change','diabetesMed'],axis=1)"
      ],
      "execution_count": 0,
      "outputs": []
    },
    {
      "cell_type": "code",
      "metadata": {
        "id": "NeHvDjXO4uLF",
        "colab_type": "code",
        "colab": {}
      },
      "source": [
        "test_labels_diag = test_set[\"Cons_diag\"].copy()\n",
        "test_labels_read = test_set[\"re_ad\"].copy()\n",
        "diabetic_test = test_set.drop(\"Cons_diag\", axis=1) # drop labels for testing set\n",
        "diabetic_test = diabetic_test.drop(\"re_ad\", axis=1)"
      ],
      "execution_count": 0,
      "outputs": []
    },
    {
      "cell_type": "code",
      "metadata": {
        "id": "_Jc3pdoz5Taw",
        "colab_type": "code",
        "colab": {}
      },
      "source": [
        "test_tr = num_pipeline.fit_transform(test_num)"
      ],
      "execution_count": 0,
      "outputs": []
    },
    {
      "cell_type": "code",
      "metadata": {
        "id": "CGyqnNQn5s4y",
        "colab_type": "code",
        "colab": {}
      },
      "source": [
        "num_attribs = list(test_num)\n",
        "cat_attribs = ['race','gender','age',\n",
        "                              'max_glu_serum','metformin','repaglinide','nateglinide',\n",
        "                              'chlorpropamide','glimepiride','acetohexamide','glipizide',\n",
        "                              'glyburide','tolbutamide','pioglitazone','rosiglitazone','acarbose',\n",
        "                              'miglitol','troglitazone','tolazamide','examide','citoglipton',\n",
        "                              'insulin','glyburide-metformin','glipizide-metformin',\n",
        "                              'glimepiride-pioglitazone','metformin-rosiglitazone',\n",
        "                              'metformin-pioglitazone','change','diabetesMed']\n",
        "\n",
        "full_pipeline = ColumnTransformer([\n",
        "        (\"num\", num_pipeline, num_attribs),\n",
        "        (\"cat\", OneHotEncoder(), cat_attribs),\n",
        "    ])"
      ],
      "execution_count": 0,
      "outputs": []
    },
    {
      "cell_type": "code",
      "metadata": {
        "id": "fcP9z1fR5Zcd",
        "colab_type": "code",
        "colab": {}
      },
      "source": [
        "test_prepared = full_pipeline.fit_transform(test_set)"
      ],
      "execution_count": 0,
      "outputs": []
    },
    {
      "cell_type": "code",
      "metadata": {
        "id": "COnZ_hrT5eSB",
        "colab_type": "code",
        "outputId": "5c1b0bc5-2b02-4e00-cd67-479db5d88ccd",
        "colab": {
          "base_uri": "https://localhost:8080/",
          "height": 34
        }
      },
      "source": [
        "test_prepared.shape"
      ],
      "execution_count": 0,
      "outputs": [
        {
          "output_type": "execute_result",
          "data": {
            "text/plain": [
              "(14303, 103)"
            ]
          },
          "metadata": {
            "tags": []
          },
          "execution_count": 439
        }
      ]
    },
    {
      "cell_type": "markdown",
      "metadata": {
        "id": "DQgljsUe7qUf",
        "colab_type": "text"
      },
      "source": [
        "It is probably the variance of data value of the training set and the testing set causing the difference of column number after transforming all the non-numeric data into numeric data.\n",
        "\n",
        "In order to avoid discrepancy, let's try taking out more logically irrelevant catogorical columns."
      ]
    },
    {
      "cell_type": "code",
      "metadata": {
        "id": "O3f0mFVpS65G",
        "colab_type": "code",
        "colab": {}
      },
      "source": [
        "num_attribs = list(diabetic_num)\n",
        "cat_attribs = ['race','gender','age','change','diabetesMed']\n",
        "\n",
        "full_pipeline = ColumnTransformer([\n",
        "        (\"num\", num_pipeline, num_attribs),\n",
        "        (\"cat\", OneHotEncoder(), cat_attribs),\n",
        "    ])\n",
        "\n",
        "dia_prepared = full_pipeline.fit_transform(train_set)"
      ],
      "execution_count": 0,
      "outputs": []
    },
    {
      "cell_type": "code",
      "metadata": {
        "id": "pazdswR3T7BM",
        "colab_type": "code",
        "outputId": "e6e7bcc8-4f26-4fc5-b4db-4d0fcefa3fb1",
        "colab": {
          "base_uri": "https://localhost:8080/",
          "height": 34
        }
      },
      "source": [
        "diabetic_num.shape"
      ],
      "execution_count": 0,
      "outputs": [
        {
          "output_type": "execute_result",
          "data": {
            "text/plain": [
              "(57215, 16)"
            ]
          },
          "metadata": {
            "tags": []
          },
          "execution_count": 441
        }
      ]
    },
    {
      "cell_type": "code",
      "metadata": {
        "id": "oenyjXnwTP9M",
        "colab_type": "code",
        "outputId": "6a9fb57b-a699-4ef9-f268-8a9c69310e77",
        "colab": {
          "base_uri": "https://localhost:8080/",
          "height": 34
        }
      },
      "source": [
        "dia_prepared.shape"
      ],
      "execution_count": 0,
      "outputs": [
        {
          "output_type": "execute_result",
          "data": {
            "text/plain": [
              "(57215, 38)"
            ]
          },
          "metadata": {
            "tags": []
          },
          "execution_count": 442
        }
      ]
    },
    {
      "cell_type": "code",
      "metadata": {
        "id": "AjCm3oVSTWEA",
        "colab_type": "code",
        "colab": {}
      },
      "source": [
        "num_attribs = list(test_num)\n",
        "cat_attribs = ['race','gender','age','change','diabetesMed']\n",
        "\n",
        "full_pipeline = ColumnTransformer([\n",
        "        (\"num\", num_pipeline, num_attribs),\n",
        "        (\"cat\", OneHotEncoder(), cat_attribs),\n",
        "    ])\n",
        "\n",
        "test_prepared = full_pipeline.fit_transform(test_set)"
      ],
      "execution_count": 0,
      "outputs": []
    },
    {
      "cell_type": "code",
      "metadata": {
        "id": "z27v0FsxT9lk",
        "colab_type": "code",
        "outputId": "21463630-527b-450b-af6b-43ec0af2ca0c",
        "colab": {
          "base_uri": "https://localhost:8080/",
          "height": 34
        }
      },
      "source": [
        "test_num.shape"
      ],
      "execution_count": 0,
      "outputs": [
        {
          "output_type": "execute_result",
          "data": {
            "text/plain": [
              "(14303, 16)"
            ]
          },
          "metadata": {
            "tags": []
          },
          "execution_count": 350
        }
      ]
    },
    {
      "cell_type": "code",
      "metadata": {
        "id": "iQtmvdNYTcBQ",
        "colab_type": "code",
        "outputId": "2d1713f9-b199-46c5-8454-63fed72f6ede",
        "colab": {
          "base_uri": "https://localhost:8080/",
          "height": 34
        }
      },
      "source": [
        "test_prepared.shape"
      ],
      "execution_count": 0,
      "outputs": [
        {
          "output_type": "execute_result",
          "data": {
            "text/plain": [
              "(14303, 37)"
            ]
          },
          "metadata": {
            "tags": []
          },
          "execution_count": 444
        }
      ]
    },
    {
      "cell_type": "markdown",
      "metadata": {
        "id": "tzWmA19VUBJJ",
        "colab_type": "text"
      },
      "source": [
        "Still not working. We observed that after transformation, the training set has 38 columns, while the testing set has 37 columns.\n",
        "\n",
        "Therefore, we'll manually transform columns \"race\", \"age\",\"gender\",\"change\",\"diabetesMed\" into numeric data."
      ]
    },
    {
      "cell_type": "markdown",
      "metadata": {
        "id": "v0dvRC7aaCg1",
        "colab_type": "text"
      },
      "source": [
        "Race is transformed into numeric values.\n",
        "\n",
        "1.   \"Other\"               => 0\n",
        "2.   \"Caucasian\"           => 1\n",
        "3.   \"AfricanAmerican\"     => 2\n",
        "4.   \"Asian\"               => 3\n",
        "5.   \"Hispanic\"            => 4\n"
      ]
    },
    {
      "cell_type": "code",
      "metadata": {
        "id": "bIXgywMRYRNk",
        "colab_type": "code",
        "outputId": "d1e7a733-edea-47f8-c918-fba3a37d966a",
        "colab": {
          "base_uri": "https://localhost:8080/",
          "height": 373
        }
      },
      "source": [
        "diabetic[\"Race\"] = 0\n",
        "diabetic[\"Race\"][diabetic.race==\"Caucasian\"] = 1\n",
        "diabetic[\"Race\"][diabetic.race==\"AfricanAmerican\"] = 2\n",
        "diabetic[\"Race\"][diabetic.race==\"Asian\"] = 3\n",
        "diabetic[\"Race\"][diabetic.race==\"Hispanic\"] = 4"
      ],
      "execution_count": 0,
      "outputs": [
        {
          "output_type": "stream",
          "text": [
            "/usr/local/lib/python3.6/dist-packages/ipykernel_launcher.py:2: SettingWithCopyWarning: \n",
            "A value is trying to be set on a copy of a slice from a DataFrame\n",
            "\n",
            "See the caveats in the documentation: http://pandas.pydata.org/pandas-docs/stable/user_guide/indexing.html#returning-a-view-versus-a-copy\n",
            "  \n",
            "/usr/local/lib/python3.6/dist-packages/ipykernel_launcher.py:3: SettingWithCopyWarning: \n",
            "A value is trying to be set on a copy of a slice from a DataFrame\n",
            "\n",
            "See the caveats in the documentation: http://pandas.pydata.org/pandas-docs/stable/user_guide/indexing.html#returning-a-view-versus-a-copy\n",
            "  This is separate from the ipykernel package so we can avoid doing imports until\n",
            "/usr/local/lib/python3.6/dist-packages/ipykernel_launcher.py:4: SettingWithCopyWarning: \n",
            "A value is trying to be set on a copy of a slice from a DataFrame\n",
            "\n",
            "See the caveats in the documentation: http://pandas.pydata.org/pandas-docs/stable/user_guide/indexing.html#returning-a-view-versus-a-copy\n",
            "  after removing the cwd from sys.path.\n",
            "/usr/local/lib/python3.6/dist-packages/ipykernel_launcher.py:5: SettingWithCopyWarning: \n",
            "A value is trying to be set on a copy of a slice from a DataFrame\n",
            "\n",
            "See the caveats in the documentation: http://pandas.pydata.org/pandas-docs/stable/user_guide/indexing.html#returning-a-view-versus-a-copy\n",
            "  \"\"\"\n"
          ],
          "name": "stderr"
        }
      ]
    },
    {
      "cell_type": "code",
      "metadata": {
        "id": "iwMwTQOFZVvR",
        "colab_type": "code",
        "colab": {}
      },
      "source": [
        "diabetic = diabetic.drop(\"race\",axis=1)"
      ],
      "execution_count": 0,
      "outputs": []
    },
    {
      "cell_type": "markdown",
      "metadata": {
        "id": "vwk6_POIayaR",
        "colab_type": "text"
      },
      "source": [
        "Gender is transformed into numeric values.\n",
        "\n",
        "1.   \"Unknown/Invalid\"  => 0\n",
        "2.   \"Female\"           => 1\n",
        "3.   \"Male\"             => 2"
      ]
    },
    {
      "cell_type": "code",
      "metadata": {
        "id": "ib7IitdMZiY9",
        "colab_type": "code",
        "outputId": "eb871eae-17ee-46f8-9da1-98e8bfe3ad69",
        "colab": {
          "base_uri": "https://localhost:8080/",
          "height": 205
        }
      },
      "source": [
        "diabetic[\"Gender\"] = 0\n",
        "diabetic[\"Gender\"][diabetic.gender==\"Female\"] = 1\n",
        "diabetic[\"Gender\"][diabetic.gender==\"Male\"] = 2"
      ],
      "execution_count": 0,
      "outputs": [
        {
          "output_type": "stream",
          "text": [
            "/usr/local/lib/python3.6/dist-packages/ipykernel_launcher.py:2: SettingWithCopyWarning: \n",
            "A value is trying to be set on a copy of a slice from a DataFrame\n",
            "\n",
            "See the caveats in the documentation: http://pandas.pydata.org/pandas-docs/stable/user_guide/indexing.html#returning-a-view-versus-a-copy\n",
            "  \n",
            "/usr/local/lib/python3.6/dist-packages/ipykernel_launcher.py:3: SettingWithCopyWarning: \n",
            "A value is trying to be set on a copy of a slice from a DataFrame\n",
            "\n",
            "See the caveats in the documentation: http://pandas.pydata.org/pandas-docs/stable/user_guide/indexing.html#returning-a-view-versus-a-copy\n",
            "  This is separate from the ipykernel package so we can avoid doing imports until\n"
          ],
          "name": "stderr"
        }
      ]
    },
    {
      "cell_type": "code",
      "metadata": {
        "id": "M-AeSKhoas8o",
        "colab_type": "code",
        "colab": {}
      },
      "source": [
        "diabetic = diabetic.drop(\"gender\",axis=1)"
      ],
      "execution_count": 0,
      "outputs": []
    },
    {
      "cell_type": "markdown",
      "metadata": {
        "id": "LgFSIH08a-I3",
        "colab_type": "text"
      },
      "source": [
        "Age is transformed into numeric values.\n",
        "\n",
        "1.   \"[0-10)\"               => 0\n",
        "2.   \"[10-20)\"              => 1\n",
        "3.   \"[20-30)\"              => 2\n",
        "4.   \"[30-40)\"              => 3\n",
        "5.   \"[40-50)\"              => 4\n",
        "5.   \"[50-60)\"              => 5\n",
        "6.   \"[60-70)\"              => 6\n",
        "7.   \"[70-80)\"              => 7\n",
        "8.   \"[80-90)\"              => 8\n",
        "9.   \"[90-100)\"             => 9"
      ]
    },
    {
      "cell_type": "code",
      "metadata": {
        "id": "47m-Ud0ubiT5",
        "colab_type": "code",
        "outputId": "cfccec06-6db9-4365-eef1-6256f79605d7",
        "colab": {
          "base_uri": "https://localhost:8080/",
          "height": 793
        }
      },
      "source": [
        "diabetic[\"Age\"] = 0\n",
        "diabetic[\"Age\"][diabetic.age==\"[10-20)\"] = 1\n",
        "diabetic[\"Age\"][diabetic.age==\"[20-30)\"] = 2\n",
        "diabetic[\"Age\"][diabetic.age==\"[30-40)\"] = 3\n",
        "diabetic[\"Age\"][diabetic.age==\"[40-50)\"] = 4\n",
        "diabetic[\"Age\"][diabetic.age==\"[50-60)\"] = 5\n",
        "diabetic[\"Age\"][diabetic.age==\"[60-70)\"] = 6\n",
        "diabetic[\"Age\"][diabetic.age==\"[70-80)\"] = 7\n",
        "diabetic[\"Age\"][diabetic.age==\"[80-90)\"] = 8\n",
        "diabetic[\"Age\"][diabetic.age==\"[90-100)\"] = 9\n"
      ],
      "execution_count": 0,
      "outputs": [
        {
          "output_type": "stream",
          "text": [
            "/usr/local/lib/python3.6/dist-packages/ipykernel_launcher.py:2: SettingWithCopyWarning: \n",
            "A value is trying to be set on a copy of a slice from a DataFrame\n",
            "\n",
            "See the caveats in the documentation: http://pandas.pydata.org/pandas-docs/stable/user_guide/indexing.html#returning-a-view-versus-a-copy\n",
            "  \n",
            "/usr/local/lib/python3.6/dist-packages/ipykernel_launcher.py:3: SettingWithCopyWarning: \n",
            "A value is trying to be set on a copy of a slice from a DataFrame\n",
            "\n",
            "See the caveats in the documentation: http://pandas.pydata.org/pandas-docs/stable/user_guide/indexing.html#returning-a-view-versus-a-copy\n",
            "  This is separate from the ipykernel package so we can avoid doing imports until\n",
            "/usr/local/lib/python3.6/dist-packages/ipykernel_launcher.py:4: SettingWithCopyWarning: \n",
            "A value is trying to be set on a copy of a slice from a DataFrame\n",
            "\n",
            "See the caveats in the documentation: http://pandas.pydata.org/pandas-docs/stable/user_guide/indexing.html#returning-a-view-versus-a-copy\n",
            "  after removing the cwd from sys.path.\n",
            "/usr/local/lib/python3.6/dist-packages/ipykernel_launcher.py:5: SettingWithCopyWarning: \n",
            "A value is trying to be set on a copy of a slice from a DataFrame\n",
            "\n",
            "See the caveats in the documentation: http://pandas.pydata.org/pandas-docs/stable/user_guide/indexing.html#returning-a-view-versus-a-copy\n",
            "  \"\"\"\n",
            "/usr/local/lib/python3.6/dist-packages/ipykernel_launcher.py:6: SettingWithCopyWarning: \n",
            "A value is trying to be set on a copy of a slice from a DataFrame\n",
            "\n",
            "See the caveats in the documentation: http://pandas.pydata.org/pandas-docs/stable/user_guide/indexing.html#returning-a-view-versus-a-copy\n",
            "  \n",
            "/usr/local/lib/python3.6/dist-packages/ipykernel_launcher.py:7: SettingWithCopyWarning: \n",
            "A value is trying to be set on a copy of a slice from a DataFrame\n",
            "\n",
            "See the caveats in the documentation: http://pandas.pydata.org/pandas-docs/stable/user_guide/indexing.html#returning-a-view-versus-a-copy\n",
            "  import sys\n",
            "/usr/local/lib/python3.6/dist-packages/ipykernel_launcher.py:8: SettingWithCopyWarning: \n",
            "A value is trying to be set on a copy of a slice from a DataFrame\n",
            "\n",
            "See the caveats in the documentation: http://pandas.pydata.org/pandas-docs/stable/user_guide/indexing.html#returning-a-view-versus-a-copy\n",
            "  \n",
            "/usr/local/lib/python3.6/dist-packages/ipykernel_launcher.py:9: SettingWithCopyWarning: \n",
            "A value is trying to be set on a copy of a slice from a DataFrame\n",
            "\n",
            "See the caveats in the documentation: http://pandas.pydata.org/pandas-docs/stable/user_guide/indexing.html#returning-a-view-versus-a-copy\n",
            "  if __name__ == '__main__':\n",
            "/usr/local/lib/python3.6/dist-packages/ipykernel_launcher.py:10: SettingWithCopyWarning: \n",
            "A value is trying to be set on a copy of a slice from a DataFrame\n",
            "\n",
            "See the caveats in the documentation: http://pandas.pydata.org/pandas-docs/stable/user_guide/indexing.html#returning-a-view-versus-a-copy\n",
            "  # Remove the CWD from sys.path while we load stuff.\n"
          ],
          "name": "stderr"
        }
      ]
    },
    {
      "cell_type": "code",
      "metadata": {
        "id": "C-xtQliScIOK",
        "colab_type": "code",
        "colab": {}
      },
      "source": [
        "diabetic = diabetic.drop(\"age\",axis=1)"
      ],
      "execution_count": 0,
      "outputs": []
    },
    {
      "cell_type": "markdown",
      "metadata": {
        "id": "aAXfXxdpcU3V",
        "colab_type": "text"
      },
      "source": [
        "Change is transformed into numeric values.\n",
        "\n",
        "1.   \"Ch\"               => 0\n",
        "2.   \"No\"               => 1"
      ]
    },
    {
      "cell_type": "code",
      "metadata": {
        "id": "W1G6C6grcZ2o",
        "colab_type": "code",
        "outputId": "25e9df04-2224-4f21-cc47-296c067cf1c3",
        "colab": {
          "base_uri": "https://localhost:8080/",
          "height": 121
        }
      },
      "source": [
        "diabetic[\"Change\"] = 0\n",
        "diabetic[\"Change\"][diabetic.change==\"No\"] = 1"
      ],
      "execution_count": 0,
      "outputs": [
        {
          "output_type": "stream",
          "text": [
            "/usr/local/lib/python3.6/dist-packages/ipykernel_launcher.py:2: SettingWithCopyWarning: \n",
            "A value is trying to be set on a copy of a slice from a DataFrame\n",
            "\n",
            "See the caveats in the documentation: http://pandas.pydata.org/pandas-docs/stable/user_guide/indexing.html#returning-a-view-versus-a-copy\n",
            "  \n"
          ],
          "name": "stderr"
        }
      ]
    },
    {
      "cell_type": "code",
      "metadata": {
        "id": "Wt4eMBvMckFn",
        "colab_type": "code",
        "colab": {}
      },
      "source": [
        "diabetic = diabetic.drop(\"change\",axis=1)"
      ],
      "execution_count": 0,
      "outputs": []
    },
    {
      "cell_type": "markdown",
      "metadata": {
        "id": "kySNzMfDcuPc",
        "colab_type": "text"
      },
      "source": [
        "DiabetesMed is transformed into numeric values.\n",
        "\n",
        "1.   \"Yes\"               => 0\n",
        "2.   \"No\"                => 1"
      ]
    },
    {
      "cell_type": "code",
      "metadata": {
        "id": "6uEoyOalc_7x",
        "colab_type": "code",
        "outputId": "88706fca-6f0d-47ba-97c8-db857ee10d84",
        "colab": {
          "base_uri": "https://localhost:8080/",
          "height": 121
        }
      },
      "source": [
        "diabetic[\"DiabetesMed\"] = 0\n",
        "diabetic[\"DiabetesMed\"][diabetic.diabetesMed==\"No\"] = 1"
      ],
      "execution_count": 0,
      "outputs": [
        {
          "output_type": "stream",
          "text": [
            "/usr/local/lib/python3.6/dist-packages/ipykernel_launcher.py:2: SettingWithCopyWarning: \n",
            "A value is trying to be set on a copy of a slice from a DataFrame\n",
            "\n",
            "See the caveats in the documentation: http://pandas.pydata.org/pandas-docs/stable/user_guide/indexing.html#returning-a-view-versus-a-copy\n",
            "  \n"
          ],
          "name": "stderr"
        }
      ]
    },
    {
      "cell_type": "code",
      "metadata": {
        "id": "kssHVByfdEvW",
        "colab_type": "code",
        "colab": {}
      },
      "source": [
        "diabetic = diabetic.drop(\"diabetesMed\",axis=1)"
      ],
      "execution_count": 0,
      "outputs": []
    },
    {
      "cell_type": "code",
      "metadata": {
        "id": "4zofiQZgZeCj",
        "colab_type": "code",
        "outputId": "f6ecdaa4-573f-4ef0-e4d7-f9621f633da0",
        "colab": {
          "base_uri": "https://localhost:8080/",
          "height": 857
        }
      },
      "source": [
        "diabetic.info()"
      ],
      "execution_count": 0,
      "outputs": [
        {
          "output_type": "stream",
          "text": [
            "<class 'pandas.core.frame.DataFrame'>\n",
            "Int64Index: 71518 entries, 0 to 101765\n",
            "Data columns (total 45 columns):\n",
            "encounter_id                71518 non-null int64\n",
            "patient_nbr                 71518 non-null int64\n",
            "admission_type_id           71518 non-null int64\n",
            "discharge_disposition_id    71518 non-null int64\n",
            "admission_source_id         71518 non-null int64\n",
            "time_in_hospital            71518 non-null int64\n",
            "num_lab_procedures          71518 non-null int64\n",
            "num_procedures              71518 non-null int64\n",
            "num_medications             71518 non-null int64\n",
            "number_outpatient           71518 non-null int64\n",
            "number_emergency            71518 non-null int64\n",
            "number_inpatient            71518 non-null int64\n",
            "number_diagnoses            71518 non-null int64\n",
            "max_glu_serum               71518 non-null object\n",
            "metformin                   71518 non-null object\n",
            "repaglinide                 71518 non-null object\n",
            "nateglinide                 71518 non-null object\n",
            "chlorpropamide              71518 non-null object\n",
            "glimepiride                 71518 non-null object\n",
            "acetohexamide               71518 non-null object\n",
            "glipizide                   71518 non-null object\n",
            "glyburide                   71518 non-null object\n",
            "tolbutamide                 71518 non-null object\n",
            "pioglitazone                71518 non-null object\n",
            "rosiglitazone               71518 non-null object\n",
            "acarbose                    71518 non-null object\n",
            "miglitol                    71518 non-null object\n",
            "troglitazone                71518 non-null object\n",
            "tolazamide                  71518 non-null object\n",
            "examide                     71518 non-null object\n",
            "citoglipton                 71518 non-null object\n",
            "insulin                     71518 non-null object\n",
            "glyburide-metformin         71518 non-null object\n",
            "glipizide-metformin         71518 non-null object\n",
            "glimepiride-pioglitazone    71518 non-null object\n",
            "metformin-rosiglitazone     71518 non-null object\n",
            "metformin-pioglitazone      71518 non-null object\n",
            "Cons_diag                   71518 non-null int64\n",
            "re_ad                       71518 non-null int64\n",
            "HbA1c                       71518 non-null int64\n",
            "Race                        71518 non-null int64\n",
            "Gender                      71518 non-null int64\n",
            "Age                         71518 non-null int64\n",
            "Change                      71518 non-null int64\n",
            "DiabetesMed                 71518 non-null int64\n",
            "dtypes: int64(21), object(24)\n",
            "memory usage: 25.1+ MB\n"
          ],
          "name": "stdout"
        }
      ]
    },
    {
      "cell_type": "markdown",
      "metadata": {
        "id": "N_YFnw1xdTPa",
        "colab_type": "text"
      },
      "source": [
        "Now, we can drop all the non-numeric columns."
      ]
    },
    {
      "cell_type": "code",
      "metadata": {
        "id": "wF56T5RmdZSo",
        "colab_type": "code",
        "colab": {}
      },
      "source": [
        "diabetic_num = diabetic.drop(['max_glu_serum', 'metformin', 'repaglinide', 'nateglinide',\n",
        "                              'chlorpropamide','glimepiride','acetohexamide','glipizide',\n",
        "                              'glyburide','tolbutamide','pioglitazone','rosiglitazone','acarbose',\n",
        "                              'miglitol','troglitazone','tolazamide','examide','citoglipton',\n",
        "                              'insulin','glyburide-metformin','glipizide-metformin',\n",
        "                              'glimepiride-pioglitazone','metformin-rosiglitazone',\n",
        "                              'metformin-pioglitazone'],axis=1)"
      ],
      "execution_count": 0,
      "outputs": []
    },
    {
      "cell_type": "code",
      "metadata": {
        "id": "QJBVP9xvdgpF",
        "colab_type": "code",
        "outputId": "2e43a8b7-d26d-440d-a81b-d0ef34a260ac",
        "colab": {
          "base_uri": "https://localhost:8080/",
          "height": 454
        }
      },
      "source": [
        "diabetic_num.info()"
      ],
      "execution_count": 0,
      "outputs": [
        {
          "output_type": "stream",
          "text": [
            "<class 'pandas.core.frame.DataFrame'>\n",
            "Int64Index: 71518 entries, 0 to 101765\n",
            "Data columns (total 21 columns):\n",
            "encounter_id                71518 non-null int64\n",
            "patient_nbr                 71518 non-null int64\n",
            "admission_type_id           71518 non-null int64\n",
            "discharge_disposition_id    71518 non-null int64\n",
            "admission_source_id         71518 non-null int64\n",
            "time_in_hospital            71518 non-null int64\n",
            "num_lab_procedures          71518 non-null int64\n",
            "num_procedures              71518 non-null int64\n",
            "num_medications             71518 non-null int64\n",
            "number_outpatient           71518 non-null int64\n",
            "number_emergency            71518 non-null int64\n",
            "number_inpatient            71518 non-null int64\n",
            "number_diagnoses            71518 non-null int64\n",
            "Cons_diag                   71518 non-null int64\n",
            "re_ad                       71518 non-null int64\n",
            "HbA1c                       71518 non-null int64\n",
            "Race                        71518 non-null int64\n",
            "Gender                      71518 non-null int64\n",
            "Age                         71518 non-null int64\n",
            "Change                      71518 non-null int64\n",
            "DiabetesMed                 71518 non-null int64\n",
            "dtypes: int64(21)\n",
            "memory usage: 12.0 MB\n"
          ],
          "name": "stdout"
        }
      ]
    },
    {
      "cell_type": "markdown",
      "metadata": {
        "id": "7AvaATxYdkRm",
        "colab_type": "text"
      },
      "source": [
        "Let's run the corr-matrix again."
      ]
    },
    {
      "cell_type": "code",
      "metadata": {
        "id": "ZQUhCw_ee18L",
        "colab_type": "code",
        "outputId": "bf549f45-1696-4553-8e90-542a22bb653d",
        "colab": {
          "base_uri": "https://localhost:8080/",
          "height": 386
        }
      },
      "source": [
        "corr_matrix = diabetic_num.corr()\n",
        "corr_matrix[\"Cons_diag\"].sort_values(ascending=False)"
      ],
      "execution_count": 0,
      "outputs": [
        {
          "output_type": "execute_result",
          "data": {
            "text/plain": [
              "Cons_diag                   1.000000\n",
              "HbA1c                       0.124726\n",
              "Race                        0.056704\n",
              "admission_type_id           0.030759\n",
              "number_emergency            0.008791\n",
              "Gender                      0.001944\n",
              "re_ad                      -0.007960\n",
              "admission_source_id        -0.024060\n",
              "number_outpatient          -0.027486\n",
              "number_inpatient           -0.027817\n",
              "discharge_disposition_id   -0.034008\n",
              "DiabetesMed                -0.067698\n",
              "num_lab_procedures         -0.068966\n",
              "Change                     -0.069543\n",
              "num_procedures             -0.095123\n",
              "patient_nbr                -0.095177\n",
              "encounter_id               -0.105524\n",
              "time_in_hospital           -0.135864\n",
              "num_medications            -0.142989\n",
              "Age                        -0.251714\n",
              "number_diagnoses           -0.419480\n",
              "Name: Cons_diag, dtype: float64"
            ]
          },
          "metadata": {
            "tags": []
          },
          "execution_count": 458
        }
      ]
    },
    {
      "cell_type": "markdown",
      "metadata": {
        "id": "rjlZH5DDe83Y",
        "colab_type": "text"
      },
      "source": [
        "After taking \"race\", \"age\", \"gender\",\"change\", and \"diabetesMed\" into consideration, the column with the highest correlation to \"Cons_diag\" is \"number_diagnoses\", followed by \"Age\"."
      ]
    },
    {
      "cell_type": "code",
      "metadata": {
        "id": "bfcK11lfpRW6",
        "colab_type": "code",
        "outputId": "69aee358-38c4-4ccb-81ea-bc69d3507001",
        "colab": {
          "base_uri": "https://localhost:8080/",
          "height": 603
        }
      },
      "source": [
        "attributes = [\"Cons_diag\", \"number_diagnoses\", \"Age\", \"num_medications\", \"HbA1c\"]\n",
        "scatter_matrix(diabetic_num[attributes], figsize=(12, 8))\n",
        "save_fig(\"scatter_matrix_plot\")"
      ],
      "execution_count": 0,
      "outputs": [
        {
          "output_type": "stream",
          "text": [
            "Saving figure scatter_matrix_plot\n"
          ],
          "name": "stdout"
        },
        {
          "output_type": "display_data",
          "data": {
            "image/png": "[encoded data removed]",
            "text/plain": [
              "<Figure size 864x576 with 25 Axes>"
            ]
          },
          "metadata": {
            "tags": []
          }
        }
      ]
    },
    {
      "cell_type": "code",
      "metadata": {
        "id": "GPZ9XyyufjPX",
        "colab_type": "code",
        "outputId": "7a87cc79-9f14-4990-f9ab-d8d30b647885",
        "colab": {
          "base_uri": "https://localhost:8080/",
          "height": 386
        }
      },
      "source": [
        "corr_matrix[\"re_ad\"].sort_values(ascending=False)"
      ],
      "execution_count": 0,
      "outputs": [
        {
          "output_type": "execute_result",
          "data": {
            "text/plain": [
              "re_ad                       1.000000\n",
              "number_inpatient            0.099237\n",
              "discharge_disposition_id    0.057583\n",
              "time_in_hospital            0.053531\n",
              "Age                         0.042717\n",
              "number_diagnoses            0.041741\n",
              "num_medications             0.034204\n",
              "num_lab_procedures          0.028875\n",
              "number_emergency            0.028249\n",
              "number_outpatient           0.008659\n",
              "patient_nbr                 0.004590\n",
              "admission_source_id         0.004146\n",
              "admission_type_id          -0.000619\n",
              "num_procedures             -0.001392\n",
              "Race                       -0.002100\n",
              "Gender                     -0.002332\n",
              "Cons_diag                  -0.007960\n",
              "HbA1c                      -0.008593\n",
              "Change                     -0.015996\n",
              "DiabetesMed                -0.028916\n",
              "encounter_id               -0.046924\n",
              "Name: re_ad, dtype: float64"
            ]
          },
          "metadata": {
            "tags": []
          },
          "execution_count": 460
        }
      ]
    },
    {
      "cell_type": "markdown",
      "metadata": {
        "id": "T5Blxbq6ftdv",
        "colab_type": "text"
      },
      "source": [
        "The columns with the highese correlation to \"re_ad\" is \"number_inpatient\", but the correlation is pretty low."
      ]
    },
    {
      "cell_type": "markdown",
      "metadata": {
        "id": "69iuZIKc29jU",
        "colab_type": "text"
      },
      "source": [
        "# Random Forrest Classifier Model"
      ]
    },
    {
      "cell_type": "code",
      "metadata": {
        "id": "VOoB9In7mtAu",
        "colab_type": "code",
        "outputId": "cb2f4d07-e64f-4563-bef4-2a22b0467814",
        "colab": {
          "base_uri": "https://localhost:8080/",
          "height": 34
        }
      },
      "source": [
        "train_set, test_set = split_train_test(diabetic_num, 0.2)\n",
        "len(train_set)"
      ],
      "execution_count": 0,
      "outputs": [
        {
          "output_type": "execute_result",
          "data": {
            "text/plain": [
              "57215"
            ]
          },
          "metadata": {
            "tags": []
          },
          "execution_count": 461
        }
      ]
    },
    {
      "cell_type": "code",
      "metadata": {
        "id": "Mc22lAJimvFa",
        "colab_type": "code",
        "outputId": "e0781a99-f91a-4abd-a4aa-62290b159cb0",
        "colab": {
          "base_uri": "https://localhost:8080/",
          "height": 34
        }
      },
      "source": [
        "train_set.shape"
      ],
      "execution_count": 0,
      "outputs": [
        {
          "output_type": "execute_result",
          "data": {
            "text/plain": [
              "(57215, 21)"
            ]
          },
          "metadata": {
            "tags": []
          },
          "execution_count": 462
        }
      ]
    },
    {
      "cell_type": "code",
      "metadata": {
        "id": "D27Jjs0bnCLk",
        "colab_type": "code",
        "colab": {}
      },
      "source": [
        "diabetic_train = train_set.drop(\"Cons_diag\", axis=1) # drop labels for training set\n",
        "diabetic_train = diabetic_train.drop(\"re_ad\", axis=1)\n",
        "dia_labels_diag = train_set[\"Cons_diag\"].copy()\n",
        "dia_labels_read = train_set[\"re_ad\"].copy()"
      ],
      "execution_count": 0,
      "outputs": []
    },
    {
      "cell_type": "code",
      "metadata": {
        "id": "AIP6m4QFnF81",
        "colab_type": "code",
        "colab": {}
      },
      "source": [
        "test_labels_diag = test_set[\"Cons_diag\"].copy()\n",
        "test_labels_read = test_set[\"re_ad\"].copy()\n",
        "diabetic_test = test_set.drop(\"Cons_diag\", axis=1) # drop labels for testing set\n",
        "diabetic_test = diabetic_test.drop(\"re_ad\", axis=1)"
      ],
      "execution_count": 0,
      "outputs": []
    },
    {
      "cell_type": "code",
      "metadata": {
        "id": "PvUWxE7inPCN",
        "colab_type": "code",
        "outputId": "69f0daa8-9b76-477a-cf65-37c959e665f4",
        "colab": {
          "base_uri": "https://localhost:8080/",
          "height": 34
        }
      },
      "source": [
        "diabetic_train.shape"
      ],
      "execution_count": 0,
      "outputs": [
        {
          "output_type": "execute_result",
          "data": {
            "text/plain": [
              "(57215, 19)"
            ]
          },
          "metadata": {
            "tags": []
          },
          "execution_count": 465
        }
      ]
    },
    {
      "cell_type": "code",
      "metadata": {
        "id": "3zl7nrYynTRX",
        "colab_type": "code",
        "outputId": "f226a362-a7db-4416-ac87-b27aa740ead3",
        "colab": {
          "base_uri": "https://localhost:8080/",
          "height": 34
        }
      },
      "source": [
        "diabetic_test.shape"
      ],
      "execution_count": 0,
      "outputs": [
        {
          "output_type": "execute_result",
          "data": {
            "text/plain": [
              "(14303, 19)"
            ]
          },
          "metadata": {
            "tags": []
          },
          "execution_count": 466
        }
      ]
    },
    {
      "cell_type": "markdown",
      "metadata": {
        "id": "LcherHnUnwTB",
        "colab_type": "text"
      },
      "source": [
        "Scaling the data."
      ]
    },
    {
      "cell_type": "code",
      "metadata": {
        "id": "dFdshOarntVu",
        "colab_type": "code",
        "colab": {}
      },
      "source": [
        "dia_tr = num_pipeline.fit_transform(train_set)"
      ],
      "execution_count": 0,
      "outputs": []
    },
    {
      "cell_type": "code",
      "metadata": {
        "id": "NVTFGE6Jsh9L",
        "colab_type": "code",
        "colab": {}
      },
      "source": [
        "dia_te = num_pipeline.fit_transform(test_set)"
      ],
      "execution_count": 0,
      "outputs": []
    },
    {
      "cell_type": "markdown",
      "metadata": {
        "id": "m7AgXP322cjG",
        "colab_type": "text"
      },
      "source": [
        "Train a Random Forest classifier on the dataset "
      ]
    },
    {
      "cell_type": "code",
      "metadata": {
        "id": "NFORPUQk20lA",
        "colab_type": "code",
        "colab": {}
      },
      "source": [
        "from sklearn.ensemble import RandomForestClassifier\n",
        "\n",
        "rnd_clf = RandomForestClassifier(n_estimators=100, random_state=42)"
      ],
      "execution_count": 0,
      "outputs": []
    },
    {
      "cell_type": "code",
      "metadata": {
        "id": "gbnahp0LRLBh",
        "colab_type": "code",
        "outputId": "00ef6126-f68b-4f49-8824-3ad4f3870c11",
        "colab": {
          "base_uri": "https://localhost:8080/",
          "height": 34
        }
      },
      "source": [
        "import time\n",
        "t0 = time.time()\n",
        "rnd_clf.fit(dia_tr, dia_labels_diag)\n",
        "t1 = time.time()\n",
        "print(\"Training took {:.2f}s\".format(t1 - t0))"
      ],
      "execution_count": 0,
      "outputs": [
        {
          "output_type": "stream",
          "text": [
            "Training took 3.17s\n"
          ],
          "name": "stdout"
        }
      ]
    },
    {
      "cell_type": "markdown",
      "metadata": {
        "id": "OmtLQQJIrZLP",
        "colab_type": "text"
      },
      "source": [
        "Accuracy score for predicting diagnoses of diabetes."
      ]
    },
    {
      "cell_type": "code",
      "metadata": {
        "id": "Uo98TPNKRaza",
        "colab_type": "code",
        "outputId": "b39ce797-a000-4302-a55d-5b60819f7e5a",
        "colab": {
          "base_uri": "https://localhost:8080/",
          "height": 34
        }
      },
      "source": [
        "from sklearn.metrics import accuracy_score\n",
        "dia_pred = rnd_clf.predict(dia_te)\n",
        "accuracy_score(test_labels_diag, dia_pred)"
      ],
      "execution_count": 0,
      "outputs": [
        {
          "output_type": "execute_result",
          "data": {
            "text/plain": [
              "1.0"
            ]
          },
          "metadata": {
            "tags": []
          },
          "execution_count": 490
        }
      ]
    },
    {
      "cell_type": "markdown",
      "metadata": {
        "id": "huwJGIIGpQnB",
        "colab_type": "text"
      },
      "source": [
        "Confusion Matrix, Precision and Recall for Prediction of Diagnoses for diabetes."
      ]
    },
    {
      "cell_type": "code",
      "metadata": {
        "id": "IygABqWLwdAi",
        "colab_type": "code",
        "outputId": "8dc32050-f184-4bd7-876b-eaa8f94842b9",
        "colab": {
          "base_uri": "https://localhost:8080/",
          "height": 50
        }
      },
      "source": [
        "from sklearn.metrics import confusion_matrix\n",
        "confusion_matrix(test_labels_diag, dia_pred)"
      ],
      "execution_count": 0,
      "outputs": [
        {
          "output_type": "execute_result",
          "data": {
            "text/plain": [
              "array([[8771,    0],\n",
              "       [   0, 5532]])"
            ]
          },
          "metadata": {
            "tags": []
          },
          "execution_count": 494
        }
      ]
    },
    {
      "cell_type": "code",
      "metadata": {
        "id": "9UF4eu-Jo_Jb",
        "colab_type": "code",
        "outputId": "bd0bc45b-e71d-4964-a0d2-32f75c8d43d1",
        "colab": {
          "base_uri": "https://localhost:8080/",
          "height": 34
        }
      },
      "source": [
        "from sklearn.metrics import precision_score, recall_score\n",
        "precision_score(test_labels_diag, dia_pred)"
      ],
      "execution_count": 0,
      "outputs": [
        {
          "output_type": "execute_result",
          "data": {
            "text/plain": [
              "1.0"
            ]
          },
          "metadata": {
            "tags": []
          },
          "execution_count": 495
        }
      ]
    },
    {
      "cell_type": "code",
      "metadata": {
        "id": "GHTs2UZMpPBT",
        "colab_type": "code",
        "outputId": "df4a2a47-62f9-456f-f7f6-a9655369f5f9",
        "colab": {
          "base_uri": "https://localhost:8080/",
          "height": 34
        }
      },
      "source": [
        "recall_score(test_labels_diag, dia_pred)"
      ],
      "execution_count": 0,
      "outputs": [
        {
          "output_type": "execute_result",
          "data": {
            "text/plain": [
              "1.0"
            ]
          },
          "metadata": {
            "tags": []
          },
          "execution_count": 496
        }
      ]
    },
    {
      "cell_type": "markdown",
      "metadata": {
        "id": "RuebNyAXrfLJ",
        "colab_type": "text"
      },
      "source": [
        "Accuracy score for predicting re-admitted."
      ]
    },
    {
      "cell_type": "code",
      "metadata": {
        "id": "LMGywCXItq2E",
        "colab_type": "code",
        "outputId": "65ebf0c2-841d-4ec0-b34b-3cab4388bbeb",
        "colab": {
          "base_uri": "https://localhost:8080/",
          "height": 34
        }
      },
      "source": [
        "rnd_clf.fit(dia_tr, dia_labels_read)\n",
        "read_pred = rnd_clf.predict(dia_te)\n",
        "accuracy_score(test_labels_read, read_pred)"
      ],
      "execution_count": 0,
      "outputs": [
        {
          "output_type": "execute_result",
          "data": {
            "text/plain": [
              "1.0"
            ]
          },
          "metadata": {
            "tags": []
          },
          "execution_count": 497
        }
      ]
    },
    {
      "cell_type": "markdown",
      "metadata": {
        "id": "pTqt4Hnbqa4R",
        "colab_type": "text"
      },
      "source": [
        "Confusion Matrix, Precision and Recall for Prediction of re-admitted."
      ]
    },
    {
      "cell_type": "code",
      "metadata": {
        "id": "QPR1pngKPxn9",
        "colab_type": "code",
        "outputId": "3eaa52bd-e688-4335-c7b5-6d700e73c428",
        "colab": {
          "base_uri": "https://localhost:8080/",
          "height": 50
        }
      },
      "source": [
        "confusion_matrix(test_labels_read, read_pred)"
      ],
      "execution_count": 0,
      "outputs": [
        {
          "output_type": "execute_result",
          "data": {
            "text/plain": [
              "array([[13053,     0],\n",
              "       [    0,  1250]])"
            ]
          },
          "metadata": {
            "tags": []
          },
          "execution_count": 498
        }
      ]
    },
    {
      "cell_type": "code",
      "metadata": {
        "id": "DmitIE6AqgX_",
        "colab_type": "code",
        "outputId": "24d9255f-72ac-486b-9164-438ff08a3d70",
        "colab": {
          "base_uri": "https://localhost:8080/",
          "height": 34
        }
      },
      "source": [
        "precision_score(test_labels_read, read_pred)"
      ],
      "execution_count": 0,
      "outputs": [
        {
          "output_type": "execute_result",
          "data": {
            "text/plain": [
              "1.0"
            ]
          },
          "metadata": {
            "tags": []
          },
          "execution_count": 499
        }
      ]
    },
    {
      "cell_type": "code",
      "metadata": {
        "id": "ynRXeS4ZqqUo",
        "colab_type": "code",
        "outputId": "1ac139d1-1c8d-4145-fbd9-ffe849ef0e44",
        "colab": {
          "base_uri": "https://localhost:8080/",
          "height": 34
        }
      },
      "source": [
        "recall_score(test_labels_read, read_pred)"
      ],
      "execution_count": 0,
      "outputs": [
        {
          "output_type": "execute_result",
          "data": {
            "text/plain": [
              "1.0"
            ]
          },
          "metadata": {
            "tags": []
          },
          "execution_count": 500
        }
      ]
    },
    {
      "cell_type": "markdown",
      "metadata": {
        "id": "HZMC5ZtDtUWL",
        "colab_type": "text"
      },
      "source": [
        "Let's try using k-cross validation."
      ]
    },
    {
      "cell_type": "code",
      "metadata": {
        "id": "khmDQSmttfK4",
        "colab_type": "code",
        "outputId": "33089e69-b6c4-4794-8982-4e9a52dc155d",
        "colab": {
          "base_uri": "https://localhost:8080/",
          "height": 34
        }
      },
      "source": [
        "from sklearn.model_selection import cross_val_score\n",
        "cross_val_score(rnd_clf, dia_tr, dia_labels_diag, cv=5, scoring=\"accuracy\")"
      ],
      "execution_count": 0,
      "outputs": [
        {
          "output_type": "execute_result",
          "data": {
            "text/plain": [
              "array([1., 1., 1., 1., 1.])"
            ]
          },
          "metadata": {
            "tags": []
          },
          "execution_count": 475
        }
      ]
    },
    {
      "cell_type": "code",
      "metadata": {
        "id": "fZr2f_wyuS7A",
        "colab_type": "code",
        "outputId": "42deb431-7600-4fdb-801d-102bab9ac4c7",
        "colab": {
          "base_uri": "https://localhost:8080/",
          "height": 34
        }
      },
      "source": [
        "cross_val_score(rnd_clf, dia_tr, dia_labels_read, cv=5, scoring=\"accuracy\")"
      ],
      "execution_count": 0,
      "outputs": [
        {
          "output_type": "execute_result",
          "data": {
            "text/plain": [
              "array([1., 1., 1., 1., 1.])"
            ]
          },
          "metadata": {
            "tags": []
          },
          "execution_count": 476
        }
      ]
    },
    {
      "cell_type": "markdown",
      "metadata": {
        "id": "oa4zRiaTqzNO",
        "colab_type": "text"
      },
      "source": [
        "# SVM Model"
      ]
    },
    {
      "cell_type": "markdown",
      "metadata": {
        "id": "MEZXtrCXuRb_",
        "colab_type": "text"
      },
      "source": [
        "# Linear Kernel"
      ]
    },
    {
      "cell_type": "code",
      "metadata": {
        "id": "v4P6tdLLq29_",
        "colab_type": "code",
        "outputId": "e5181a86-119f-429a-893d-d9cf316d91b9",
        "colab": {
          "base_uri": "https://localhost:8080/",
          "height": 151
        }
      },
      "source": [
        "from sklearn.svm import SVC\n",
        "from sklearn.svm import LinearSVC\n",
        "svm_clf = Pipeline([(\"linear_svc\", LinearSVC(C=1, loss=\"hinge\", random_state=42)),])\n",
        "svm_clf.fit(dia_tr, dia_labels_diag)\n"
      ],
      "execution_count": 0,
      "outputs": [
        {
          "output_type": "execute_result",
          "data": {
            "text/plain": [
              "Pipeline(memory=None,\n",
              "         steps=[('linear_svc',\n",
              "                 LinearSVC(C=1, class_weight=None, dual=True,\n",
              "                           fit_intercept=True, intercept_scaling=1,\n",
              "                           loss='hinge', max_iter=1000, multi_class='ovr',\n",
              "                           penalty='l2', random_state=42, tol=0.0001,\n",
              "                           verbose=0))],\n",
              "         verbose=False)"
            ]
          },
          "metadata": {
            "tags": []
          },
          "execution_count": 536
        }
      ]
    },
    {
      "cell_type": "code",
      "metadata": {
        "id": "cAO2n8Qctsr4",
        "colab_type": "code",
        "colab": {}
      },
      "source": [
        "svm_dia_pred = svm_clf.predict(dia_te)"
      ],
      "execution_count": 0,
      "outputs": []
    },
    {
      "cell_type": "code",
      "metadata": {
        "id": "_oN8vX9Nt2WD",
        "colab_type": "code",
        "outputId": "f21effaf-a0ec-408d-cde5-c23ae1de447f",
        "colab": {
          "base_uri": "https://localhost:8080/",
          "height": 34
        }
      },
      "source": [
        "accuracy_score(test_labels_diag, svm_dia_pred)"
      ],
      "execution_count": 0,
      "outputs": [
        {
          "output_type": "execute_result",
          "data": {
            "text/plain": [
              "1.0"
            ]
          },
          "metadata": {
            "tags": []
          },
          "execution_count": 505
        }
      ]
    },
    {
      "cell_type": "code",
      "metadata": {
        "id": "57lS8DQy0PME",
        "colab_type": "code",
        "outputId": "3b7190a2-5fef-4b59-b8b2-ba4dc2145df2",
        "colab": {
          "base_uri": "https://localhost:8080/",
          "height": 34
        }
      },
      "source": [
        "cross_val_score(svm_clf, dia_tr, dia_labels_diag, cv=5, scoring=\"accuracy\")"
      ],
      "execution_count": 0,
      "outputs": [
        {
          "output_type": "execute_result",
          "data": {
            "text/plain": [
              "array([1., 1., 1., 1., 1.])"
            ]
          },
          "metadata": {
            "tags": []
          },
          "execution_count": 538
        }
      ]
    },
    {
      "cell_type": "markdown",
      "metadata": {
        "id": "L_YTILdvuIA0",
        "colab_type": "text"
      },
      "source": [
        "Confusion Matrix, Precision and Recall for Prediction of Diagnoses for diabetes."
      ]
    },
    {
      "cell_type": "code",
      "metadata": {
        "id": "UTq981WMuI5T",
        "colab_type": "code",
        "outputId": "4978fce9-bf11-4962-fa33-68b4f00f6707",
        "colab": {
          "base_uri": "https://localhost:8080/",
          "height": 50
        }
      },
      "source": [
        "confusion_matrix(test_labels_diag, svm_dia_pred)"
      ],
      "execution_count": 0,
      "outputs": [
        {
          "output_type": "execute_result",
          "data": {
            "text/plain": [
              "array([[8771,    0],\n",
              "       [   0, 5532]])"
            ]
          },
          "metadata": {
            "tags": []
          },
          "execution_count": 506
        }
      ]
    },
    {
      "cell_type": "code",
      "metadata": {
        "id": "pXdkLlX_uPue",
        "colab_type": "code",
        "outputId": "eb5b9cdb-2082-49a9-d877-b30f1ca2612d",
        "colab": {
          "base_uri": "https://localhost:8080/",
          "height": 34
        }
      },
      "source": [
        "precision_score(test_labels_diag, svm_dia_pred)"
      ],
      "execution_count": 0,
      "outputs": [
        {
          "output_type": "execute_result",
          "data": {
            "text/plain": [
              "1.0"
            ]
          },
          "metadata": {
            "tags": []
          },
          "execution_count": 507
        }
      ]
    },
    {
      "cell_type": "code",
      "metadata": {
        "id": "Lwz4ExhauXYw",
        "colab_type": "code",
        "outputId": "16bbcfdc-6b20-49a4-c92e-bd011a8e3d14",
        "colab": {
          "base_uri": "https://localhost:8080/",
          "height": 34
        }
      },
      "source": [
        "recall_score(test_labels_diag, svm_dia_pred)"
      ],
      "execution_count": 0,
      "outputs": [
        {
          "output_type": "execute_result",
          "data": {
            "text/plain": [
              "1.0"
            ]
          },
          "metadata": {
            "tags": []
          },
          "execution_count": 508
        }
      ]
    },
    {
      "cell_type": "code",
      "metadata": {
        "id": "dZ6e1sh9ulfJ",
        "colab_type": "code",
        "colab": {}
      },
      "source": [
        "svm_clf.fit(dia_tr, dia_labels_read)\n",
        "svm_read_pred = svm_clf.predict(dia_te)"
      ],
      "execution_count": 0,
      "outputs": []
    },
    {
      "cell_type": "code",
      "metadata": {
        "id": "FxbbDESEuw-m",
        "colab_type": "code",
        "outputId": "cc2011ed-8043-4eb8-dd41-9b974a08e32e",
        "colab": {
          "base_uri": "https://localhost:8080/",
          "height": 34
        }
      },
      "source": [
        "accuracy_score(test_labels_read, svm_read_pred)"
      ],
      "execution_count": 0,
      "outputs": [
        {
          "output_type": "execute_result",
          "data": {
            "text/plain": [
              "1.0"
            ]
          },
          "metadata": {
            "tags": []
          },
          "execution_count": 510
        }
      ]
    },
    {
      "cell_type": "code",
      "metadata": {
        "id": "WRwpa8SI0YXA",
        "colab_type": "code",
        "outputId": "9da681d5-2003-4ab6-dddb-505b9b69d5d4",
        "colab": {
          "base_uri": "https://localhost:8080/",
          "height": 34
        }
      },
      "source": [
        "cross_val_score(svm_clf, dia_tr, dia_labels_read, cv=5, scoring=\"accuracy\")"
      ],
      "execution_count": 0,
      "outputs": [
        {
          "output_type": "execute_result",
          "data": {
            "text/plain": [
              "array([1., 1., 1., 1., 1.])"
            ]
          },
          "metadata": {
            "tags": []
          },
          "execution_count": 540
        }
      ]
    },
    {
      "cell_type": "markdown",
      "metadata": {
        "id": "XhjTdbQHvPVj",
        "colab_type": "text"
      },
      "source": [
        "Confusion Matrix, Precision and Recall for Prediction of re-admitted."
      ]
    },
    {
      "cell_type": "code",
      "metadata": {
        "id": "QqvOn63O13Q8",
        "colab_type": "code",
        "outputId": "fc6205ff-031a-481d-8029-469829a22da6",
        "colab": {
          "base_uri": "https://localhost:8080/",
          "height": 50
        }
      },
      "source": [
        "confusion_matrix(test_labels_read, svm_read_pred)"
      ],
      "execution_count": 0,
      "outputs": [
        {
          "output_type": "execute_result",
          "data": {
            "text/plain": [
              "array([[13053,     0],\n",
              "       [    0,  1250]])"
            ]
          },
          "metadata": {
            "tags": []
          },
          "execution_count": 545
        }
      ]
    },
    {
      "cell_type": "code",
      "metadata": {
        "id": "iakrM6p6u6AP",
        "colab_type": "code",
        "outputId": "439b8f04-67e2-4d33-8dfa-c43baea672b4",
        "colab": {
          "base_uri": "https://localhost:8080/",
          "height": 34
        }
      },
      "source": [
        "precision_score(test_labels_read, svm_read_pred)"
      ],
      "execution_count": 0,
      "outputs": [
        {
          "output_type": "execute_result",
          "data": {
            "text/plain": [
              "1.0"
            ]
          },
          "metadata": {
            "tags": []
          },
          "execution_count": 511
        }
      ]
    },
    {
      "cell_type": "code",
      "metadata": {
        "id": "HXfSobU6u9CN",
        "colab_type": "code",
        "outputId": "09a22b9d-f3fa-4625-f8bc-12c2dd1ad3f7",
        "colab": {
          "base_uri": "https://localhost:8080/",
          "height": 34
        }
      },
      "source": [
        "recall_score(test_labels_read, svm_read_pred)"
      ],
      "execution_count": 0,
      "outputs": [
        {
          "output_type": "execute_result",
          "data": {
            "text/plain": [
              "1.0"
            ]
          },
          "metadata": {
            "tags": []
          },
          "execution_count": 512
        }
      ]
    },
    {
      "cell_type": "markdown",
      "metadata": {
        "id": "OQSrfrSzykIb",
        "colab_type": "text"
      },
      "source": [
        "Let's using SGDClassifier."
      ]
    },
    {
      "cell_type": "code",
      "metadata": {
        "id": "A1__j6eFyocL",
        "colab_type": "code",
        "outputId": "294b601f-4440-4ce2-c0bb-53153ffddebc",
        "colab": {
          "base_uri": "https://localhost:8080/",
          "height": 118
        }
      },
      "source": [
        "from sklearn.linear_model import SGDClassifier\n",
        "\n",
        "sgd_clf = SGDClassifier(max_iter=1000, tol=1e-3, random_state=42)\n",
        "sgd_clf.fit(dia_tr, dia_labels_diag)\n"
      ],
      "execution_count": 0,
      "outputs": [
        {
          "output_type": "execute_result",
          "data": {
            "text/plain": [
              "SGDClassifier(alpha=0.0001, average=False, class_weight=None,\n",
              "              early_stopping=False, epsilon=0.1, eta0=0.0, fit_intercept=True,\n",
              "              l1_ratio=0.15, learning_rate='optimal', loss='hinge',\n",
              "              max_iter=1000, n_iter_no_change=5, n_jobs=None, penalty='l2',\n",
              "              power_t=0.5, random_state=42, shuffle=True, tol=0.001,\n",
              "              validation_fraction=0.1, verbose=0, warm_start=False)"
            ]
          },
          "metadata": {
            "tags": []
          },
          "execution_count": 542
        }
      ]
    },
    {
      "cell_type": "code",
      "metadata": {
        "id": "8bMzaQON1p-k",
        "colab_type": "code",
        "colab": {}
      },
      "source": [
        "sgd_dia_pred =sgd_clf.predict(dia_te)"
      ],
      "execution_count": 0,
      "outputs": []
    },
    {
      "cell_type": "code",
      "metadata": {
        "id": "c5b8PAgV1uDy",
        "colab_type": "code",
        "outputId": "ed18342f-cbb7-4219-dcf3-654a97a53cbe",
        "colab": {
          "base_uri": "https://localhost:8080/",
          "height": 34
        }
      },
      "source": [
        "accuracy_score(test_labels_diag, sgd_dia_pred)"
      ],
      "execution_count": 0,
      "outputs": [
        {
          "output_type": "execute_result",
          "data": {
            "text/plain": [
              "1.0"
            ]
          },
          "metadata": {
            "tags": []
          },
          "execution_count": 544
        }
      ]
    },
    {
      "cell_type": "code",
      "metadata": {
        "id": "ioCVt_c71-s7",
        "colab_type": "code",
        "outputId": "db0f3806-e11e-4d2c-8ff5-f53c1b288067",
        "colab": {
          "base_uri": "https://localhost:8080/",
          "height": 50
        }
      },
      "source": [
        "confusion_matrix(test_labels_diag, sgd_dia_pred)"
      ],
      "execution_count": 0,
      "outputs": [
        {
          "output_type": "execute_result",
          "data": {
            "text/plain": [
              "array([[8771,    0],\n",
              "       [   0, 5532]])"
            ]
          },
          "metadata": {
            "tags": []
          },
          "execution_count": 546
        }
      ]
    },
    {
      "cell_type": "code",
      "metadata": {
        "id": "wEnrI9R_2A5f",
        "colab_type": "code",
        "outputId": "5a5def65-8d19-4182-d5da-9f1e8a5038b0",
        "colab": {
          "base_uri": "https://localhost:8080/",
          "height": 34
        }
      },
      "source": [
        "precision_score(test_labels_diag, sgd_dia_pred)"
      ],
      "execution_count": 0,
      "outputs": [
        {
          "output_type": "execute_result",
          "data": {
            "text/plain": [
              "1.0"
            ]
          },
          "metadata": {
            "tags": []
          },
          "execution_count": 547
        }
      ]
    },
    {
      "cell_type": "code",
      "metadata": {
        "id": "BZg9N6Ry2EVk",
        "colab_type": "code",
        "outputId": "1f581070-e1a5-423c-c405-eaad90e8ed2d",
        "colab": {
          "base_uri": "https://localhost:8080/",
          "height": 34
        }
      },
      "source": [
        "recall_score(test_labels_diag, sgd_dia_pred)"
      ],
      "execution_count": 0,
      "outputs": [
        {
          "output_type": "execute_result",
          "data": {
            "text/plain": [
              "1.0"
            ]
          },
          "metadata": {
            "tags": []
          },
          "execution_count": 548
        }
      ]
    },
    {
      "cell_type": "code",
      "metadata": {
        "id": "Vafydie-2HZ2",
        "colab_type": "code",
        "colab": {}
      },
      "source": [
        "sgd_clf.fit(dia_tr, dia_labels_read)\n",
        "sgd_read_pred =sgd_clf.predict(dia_te)"
      ],
      "execution_count": 0,
      "outputs": []
    },
    {
      "cell_type": "code",
      "metadata": {
        "id": "SRCnhedT2RW1",
        "colab_type": "code",
        "outputId": "922f0475-191d-44a8-f193-ad33b28c735a",
        "colab": {
          "base_uri": "https://localhost:8080/",
          "height": 34
        }
      },
      "source": [
        "accuracy_score(test_labels_read, sgd_read_pred)"
      ],
      "execution_count": 0,
      "outputs": [
        {
          "output_type": "execute_result",
          "data": {
            "text/plain": [
              "1.0"
            ]
          },
          "metadata": {
            "tags": []
          },
          "execution_count": 550
        }
      ]
    },
    {
      "cell_type": "code",
      "metadata": {
        "id": "H3VeDsPG2Wwt",
        "colab_type": "code",
        "outputId": "c8c8cd1e-b8fc-4a37-eb33-36cc2623c024",
        "colab": {
          "base_uri": "https://localhost:8080/",
          "height": 50
        }
      },
      "source": [
        "confusion_matrix(test_labels_read, sgd_read_pred)"
      ],
      "execution_count": 0,
      "outputs": [
        {
          "output_type": "execute_result",
          "data": {
            "text/plain": [
              "array([[13053,     0],\n",
              "       [    0,  1250]])"
            ]
          },
          "metadata": {
            "tags": []
          },
          "execution_count": 551
        }
      ]
    },
    {
      "cell_type": "code",
      "metadata": {
        "id": "VrBsCgQI2Z9y",
        "colab_type": "code",
        "outputId": "8176caf2-ae10-43e1-fbee-55bd147d7e03",
        "colab": {
          "base_uri": "https://localhost:8080/",
          "height": 34
        }
      },
      "source": [
        "precision_score(test_labels_read, sgd_read_pred)"
      ],
      "execution_count": 0,
      "outputs": [
        {
          "output_type": "execute_result",
          "data": {
            "text/plain": [
              "1.0"
            ]
          },
          "metadata": {
            "tags": []
          },
          "execution_count": 552
        }
      ]
    },
    {
      "cell_type": "code",
      "metadata": {
        "id": "YfX6WMfw2c--",
        "colab_type": "code",
        "outputId": "f95cf7ad-5182-442c-e2da-d3aeec5d7af6",
        "colab": {
          "base_uri": "https://localhost:8080/",
          "height": 34
        }
      },
      "source": [
        "recall_score(test_labels_read, sgd_read_pred)"
      ],
      "execution_count": 0,
      "outputs": [
        {
          "output_type": "execute_result",
          "data": {
            "text/plain": [
              "1.0"
            ]
          },
          "metadata": {
            "tags": []
          },
          "execution_count": 553
        }
      ]
    },
    {
      "cell_type": "markdown",
      "metadata": {
        "id": "WskpR1MrvHTN",
        "colab_type": "text"
      },
      "source": [
        "# Non-linear Kernel"
      ]
    },
    {
      "cell_type": "code",
      "metadata": {
        "id": "pe0UpLIjvKyi",
        "colab_type": "code",
        "colab": {}
      },
      "source": [
        "from sklearn.preprocessing import PolynomialFeatures\n",
        "polynomial_svm_clf = Pipeline([\n",
        "        (\"poly_features\", PolynomialFeatures(degree=3)),\n",
        "        (\"svm_clf\", LinearSVC(C=10, loss=\"hinge\", random_state=42))\n",
        "    ])"
      ],
      "execution_count": 0,
      "outputs": []
    },
    {
      "cell_type": "code",
      "metadata": {
        "id": "gs5krxzyvepw",
        "colab_type": "code",
        "outputId": "7b3c7b9b-c9d2-47ce-d7f9-45fbbf9de651",
        "colab": {
          "base_uri": "https://localhost:8080/",
          "height": 255
        }
      },
      "source": [
        "polynomial_svm_clf.fit(dia_tr, dia_labels_diag)"
      ],
      "execution_count": 0,
      "outputs": [
        {
          "output_type": "stream",
          "text": [
            "/usr/local/lib/python3.6/dist-packages/sklearn/svm/_base.py:947: ConvergenceWarning: Liblinear failed to converge, increase the number of iterations.\n",
            "  \"the number of iterations.\", ConvergenceWarning)\n"
          ],
          "name": "stderr"
        },
        {
          "output_type": "execute_result",
          "data": {
            "text/plain": [
              "Pipeline(memory=None,\n",
              "         steps=[('poly_features',\n",
              "                 PolynomialFeatures(degree=3, include_bias=True,\n",
              "                                    interaction_only=False, order='C')),\n",
              "                ('svm_clf',\n",
              "                 LinearSVC(C=10, class_weight=None, dual=True,\n",
              "                           fit_intercept=True, intercept_scaling=1,\n",
              "                           loss='hinge', max_iter=1000, multi_class='ovr',\n",
              "                           penalty='l2', random_state=42, tol=0.0001,\n",
              "                           verbose=0))],\n",
              "         verbose=False)"
            ]
          },
          "metadata": {
            "tags": []
          },
          "execution_count": 515
        }
      ]
    },
    {
      "cell_type": "code",
      "metadata": {
        "id": "0ygXxi8vvpS2",
        "colab_type": "code",
        "colab": {}
      },
      "source": [
        "svm_poly_dia_pred = polynomial_svm_clf.predict(dia_te)"
      ],
      "execution_count": 0,
      "outputs": []
    },
    {
      "cell_type": "code",
      "metadata": {
        "id": "XUAA3-e4vy3V",
        "colab_type": "code",
        "outputId": "af21264a-dcb3-48d6-eeb5-fde8e5ac1b60",
        "colab": {
          "base_uri": "https://localhost:8080/",
          "height": 34
        }
      },
      "source": [
        "accuracy_score(test_labels_diag, svm_poly_dia_pred)"
      ],
      "execution_count": 0,
      "outputs": [
        {
          "output_type": "execute_result",
          "data": {
            "text/plain": [
              "1.0"
            ]
          },
          "metadata": {
            "tags": []
          },
          "execution_count": 517
        }
      ]
    },
    {
      "cell_type": "markdown",
      "metadata": {
        "id": "s64P1Httv5aM",
        "colab_type": "text"
      },
      "source": [
        "Confusion Matrix, Precision and Recall for Prediction of Diagnoses for diabetes."
      ]
    },
    {
      "cell_type": "code",
      "metadata": {
        "id": "CFKKeCLUv2Bh",
        "colab_type": "code",
        "outputId": "2b551814-d537-4a27-c99c-f32385c83ae9",
        "colab": {
          "base_uri": "https://localhost:8080/",
          "height": 50
        }
      },
      "source": [
        "confusion_matrix(test_labels_diag, svm_poly_dia_pred)"
      ],
      "execution_count": 0,
      "outputs": [
        {
          "output_type": "execute_result",
          "data": {
            "text/plain": [
              "array([[8771,    0],\n",
              "       [   0, 5532]])"
            ]
          },
          "metadata": {
            "tags": []
          },
          "execution_count": 518
        }
      ]
    },
    {
      "cell_type": "code",
      "metadata": {
        "id": "dgZ64vq4v_uL",
        "colab_type": "code",
        "outputId": "d2fc7fa8-99db-442e-f0b4-3375985621e5",
        "colab": {
          "base_uri": "https://localhost:8080/",
          "height": 34
        }
      },
      "source": [
        "precision_score(test_labels_diag, svm_poly_dia_pred)"
      ],
      "execution_count": 0,
      "outputs": [
        {
          "output_type": "execute_result",
          "data": {
            "text/plain": [
              "1.0"
            ]
          },
          "metadata": {
            "tags": []
          },
          "execution_count": 519
        }
      ]
    },
    {
      "cell_type": "code",
      "metadata": {
        "id": "PAGAUeIwwE41",
        "colab_type": "code",
        "outputId": "cd293eef-e545-4c57-af3f-17714be023d2",
        "colab": {
          "base_uri": "https://localhost:8080/",
          "height": 34
        }
      },
      "source": [
        "recall_score(test_labels_diag, svm_poly_dia_pred)"
      ],
      "execution_count": 0,
      "outputs": [
        {
          "output_type": "execute_result",
          "data": {
            "text/plain": [
              "1.0"
            ]
          },
          "metadata": {
            "tags": []
          },
          "execution_count": 520
        }
      ]
    },
    {
      "cell_type": "code",
      "metadata": {
        "id": "CtdOstlnwODP",
        "colab_type": "code",
        "outputId": "d23ced64-bb54-418d-ad50-52eea2867b87",
        "colab": {
          "base_uri": "https://localhost:8080/",
          "height": 202
        }
      },
      "source": [
        "polynomial_svm_clf.fit(dia_tr, dia_labels_read)"
      ],
      "execution_count": 0,
      "outputs": [
        {
          "output_type": "execute_result",
          "data": {
            "text/plain": [
              "Pipeline(memory=None,\n",
              "         steps=[('poly_features',\n",
              "                 PolynomialFeatures(degree=3, include_bias=True,\n",
              "                                    interaction_only=False, order='C')),\n",
              "                ('svm_clf',\n",
              "                 LinearSVC(C=10, class_weight=None, dual=True,\n",
              "                           fit_intercept=True, intercept_scaling=1,\n",
              "                           loss='hinge', max_iter=1000, multi_class='ovr',\n",
              "                           penalty='l2', random_state=42, tol=0.0001,\n",
              "                           verbose=0))],\n",
              "         verbose=False)"
            ]
          },
          "metadata": {
            "tags": []
          },
          "execution_count": 528
        }
      ]
    },
    {
      "cell_type": "code",
      "metadata": {
        "id": "wRaqWR_dwS-7",
        "colab_type": "code",
        "colab": {}
      },
      "source": [
        "svm_poly_read_pred = polynomial_svm_clf.predict(dia_te)"
      ],
      "execution_count": 0,
      "outputs": []
    },
    {
      "cell_type": "code",
      "metadata": {
        "id": "y1QSMvBMwVhM",
        "colab_type": "code",
        "outputId": "39242e15-688d-4259-ad85-cb1e8949a71a",
        "colab": {
          "base_uri": "https://localhost:8080/",
          "height": 34
        }
      },
      "source": [
        "accuracy_score(test_labels_read, svm_poly_read_pred)"
      ],
      "execution_count": 0,
      "outputs": [
        {
          "output_type": "execute_result",
          "data": {
            "text/plain": [
              "1.0"
            ]
          },
          "metadata": {
            "tags": []
          },
          "execution_count": 530
        }
      ]
    },
    {
      "cell_type": "markdown",
      "metadata": {
        "id": "8R7Ho67JwIyG",
        "colab_type": "text"
      },
      "source": [
        "Confusion Matrix, Precision and Recall for Prediction of re-admitted."
      ]
    },
    {
      "cell_type": "code",
      "metadata": {
        "id": "KuUeMsXRw6H2",
        "colab_type": "code",
        "outputId": "64b1df70-3a62-4fd9-cd17-8959e876a884",
        "colab": {
          "base_uri": "https://localhost:8080/",
          "height": 50
        }
      },
      "source": [
        "confusion_matrix(test_labels_read, svm_poly_read_pred)"
      ],
      "execution_count": 0,
      "outputs": [
        {
          "output_type": "execute_result",
          "data": {
            "text/plain": [
              "array([[13053,     0],\n",
              "       [    0,  1250]])"
            ]
          },
          "metadata": {
            "tags": []
          },
          "execution_count": 531
        }
      ]
    },
    {
      "cell_type": "code",
      "metadata": {
        "id": "d9CvCmK-w8-W",
        "colab_type": "code",
        "outputId": "c45a0103-b70f-4c29-e258-496acaf0ee5d",
        "colab": {
          "base_uri": "https://localhost:8080/",
          "height": 34
        }
      },
      "source": [
        "precision_score(test_labels_read, svm_poly_read_pred)"
      ],
      "execution_count": 0,
      "outputs": [
        {
          "output_type": "execute_result",
          "data": {
            "text/plain": [
              "1.0"
            ]
          },
          "metadata": {
            "tags": []
          },
          "execution_count": 532
        }
      ]
    },
    {
      "cell_type": "code",
      "metadata": {
        "id": "WAA5DFDuxDYJ",
        "colab_type": "code",
        "outputId": "058f329f-4e0a-4173-850c-d44a780de93e",
        "colab": {
          "base_uri": "https://localhost:8080/",
          "height": 34
        }
      },
      "source": [
        "recall_score(test_labels_read, svm_poly_read_pred)"
      ],
      "execution_count": 0,
      "outputs": [
        {
          "output_type": "execute_result",
          "data": {
            "text/plain": [
              "1.0"
            ]
          },
          "metadata": {
            "tags": []
          },
          "execution_count": 533
        }
      ]
    }
  ]
}