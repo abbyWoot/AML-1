  {
   "cell_type": "markdown",
   "metadata": {},
   "source": [
    "<table align=\"left\">\n",
    "  <td>\n",
    "  </td>\n",
    "</table>"
   ]
  },
{
  "nbformat": 4,
  "nbformat_minor": 0,    "    <a target=\"_blank\" href=\"https://colab.research.google.com/github.com/fsclsnow/AML/edit/master/ML_P1_Wine.ipynb\"><img src=\"https://www.tensorflow.org/images/colab_logo_32px.png\" />Run in Google Colab</a>\n",

  "metadata": {
    "colab": {
      "name": "ML_P1_Wine.ipynb",
      "provenance": [],
      "collapsed_sections": []
    },
    "kernelspec": {
      "name": "python3",
      "display_name": "Python 3"
    }
  },
  "cells": [
    {
      "cell_type": "code",
      "metadata": {
        "id": "BPUPmhbY8AG8",
        "colab_type": "code",
        "colab": {}
      },
      "source": [
        "# Python ≥3.5 is required\n",
        "import sys\n",
        "assert sys.version_info >= (3, 5)\n",
        "# Scikit-Learn ≥0.20 is required\n",
        "import sklearn\n",
        "assert sklearn.__version__ >= \"0.20\"\n",
        "\n",
        "# Common imports\n",
        "import numpy as np\n",
        "import os\n",
        "\n",
        "# To plot pretty figures\n",
        "%matplotlib inline\n",
        "import matplotlib as mpl\n",
        "import matplotlib.pyplot as plt\n",
        "mpl.rc('axes', labelsize=14)\n",
        "mpl.rc('xtick', labelsize=12)\n",
        "mpl.rc('ytick', labelsize=12)\n",
        "\n",
        "# Where to save the figures\n",
        "PROJECT_ROOT_DIR = \".\"\n",
        "CHAPTER_ID = \"end_to_end_project\"\n",
        "IMAGES_PATH = os.path.join(PROJECT_ROOT_DIR, \"images\", CHAPTER_ID)\n",
        "os.makedirs(IMAGES_PATH, exist_ok=True)\n",
        "\n",
        "def save_fig(fig_id, tight_layout=True, fig_extension=\"png\", resolution=300):\n",
        "    path = os.path.join(IMAGES_PATH, fig_id + \".\" + fig_extension)\n",
        "    print(\"Saving figure\", fig_id)\n",
        "    if tight_layout:\n",
        "        plt.tight_layout()\n",
        "    plt.savefig(path, format=fig_extension, dpi=resolution)\n",
        "\n",
        "# Ignore useless warnings (see SciPy issue #5998)\n",
        "import warnings\n",
        "warnings.filterwarnings(action=\"ignore\", message=\"^internal gelsd\")"
      ],
      "execution_count": 0,
      "outputs": []
    },
    {
      "cell_type": "code",
      "metadata": {
        "id": "U1Vc72b3QKav",
        "colab_type": "code",
        "colab": {}
      },
      "source": [
        "import os\n",
        "\n",
        "DOWNLOAD_ROOT = \"https://raw.githubusercontent.com/fsclsnow/AML/master/\"\n",
        "WINE_PATH = os.path.join(\"Data\")\n",
        "WINE_URL = DOWNLOAD_ROOT + \"Data/wine.csv\""
      ],
      "execution_count": 0,
      "outputs": []
    },
    {
      "cell_type": "code",
      "metadata": {
        "colab_type": "code",
        "id": "Wygc1diqRmu4",
        "colab": {}
      },
      "source": [
        "import pandas as pd\n",
        "\n",
        "def load_wine_data(wine_path=WINE_PATH):\n",
        "    csv_path = os.path.join(DOWNLOAD_ROOT, wine_path, \"wine.csv\")\n",
        "    return pd.read_csv(csv_path)"
      ],
      "execution_count": 0,
      "outputs": []
    },
    {
      "cell_type": "code",
      "metadata": {
        "id": "PbqoZFLER6xM",
        "colab_type": "code",
        "colab": {
          "base_uri": "https://localhost:8080/",
          "height": 253
        },
        "outputId": "c60b8def-5db1-433b-d518-6293981ddefd"
      },
      "source": [
        "wine = load_wine_data()\n",
        "wine.head()"
      ],
      "execution_count": 5,
      "outputs": [
        {
          "output_type": "execute_result",
          "data": {
            "text/html": [
              "<div>\n",
              "<style scoped>\n",
              "    .dataframe tbody tr th:only-of-type {\n",
              "        vertical-align: middle;\n",
              "    }\n",
              "\n",
              "    .dataframe tbody tr th {\n",
              "        vertical-align: top;\n",
              "    }\n",
              "\n",
              "    .dataframe thead th {\n",
              "        text-align: right;\n",
              "    }\n",
              "</style>\n",
              "<table border=\"1\" class=\"dataframe\">\n",
              "  <thead>\n",
              "    <tr style=\"text-align: right;\">\n",
              "      <th></th>\n",
              "      <th>class</th>\n",
              "      <th>Alcohol</th>\n",
              "      <th>Malic acid</th>\n",
              "      <th>Ash</th>\n",
              "      <th>Alcalinity of ash</th>\n",
              "      <th>Magnesium</th>\n",
              "      <th>Total phenols</th>\n",
              "      <th>Flavanoids</th>\n",
              "      <th>Nonflavanoid phenols</th>\n",
              "      <th>Proanthocyanins</th>\n",
              "      <th>Color intensity</th>\n",
              "      <th>Hue</th>\n",
              "      <th>OD280/OD315 of diluted wines</th>\n",
              "      <th>Proline</th>\n",
              "    </tr>\n",
              "  </thead>\n",
              "  <tbody>\n",
              "    <tr>\n",
              "      <th>0</th>\n",
              "      <td>1</td>\n",
              "      <td>14.23</td>\n",
              "      <td>1.71</td>\n",
              "      <td>2.43</td>\n",
              "      <td>15.6</td>\n",
              "      <td>127</td>\n",
              "      <td>2.80</td>\n",
              "      <td>3.06</td>\n",
              "      <td>0.28</td>\n",
              "      <td>2.29</td>\n",
              "      <td>5.64</td>\n",
              "      <td>1.04</td>\n",
              "      <td>3.92</td>\n",
              "      <td>1065</td>\n",
              "    </tr>\n",
              "    <tr>\n",
              "      <th>1</th>\n",
              "      <td>1</td>\n",
              "      <td>13.20</td>\n",
              "      <td>1.78</td>\n",
              "      <td>2.14</td>\n",
              "      <td>11.2</td>\n",
              "      <td>100</td>\n",
              "      <td>2.65</td>\n",
              "      <td>2.76</td>\n",
              "      <td>0.26</td>\n",
              "      <td>1.28</td>\n",
              "      <td>4.38</td>\n",
              "      <td>1.05</td>\n",
              "      <td>3.40</td>\n",
              "      <td>1050</td>\n",
              "    </tr>\n",
              "    <tr>\n",
              "      <th>2</th>\n",
              "      <td>1</td>\n",
              "      <td>13.16</td>\n",
              "      <td>2.36</td>\n",
              "      <td>2.67</td>\n",
              "      <td>18.6</td>\n",
              "      <td>101</td>\n",
              "      <td>2.80</td>\n",
              "      <td>3.24</td>\n",
              "      <td>0.30</td>\n",
              "      <td>2.81</td>\n",
              "      <td>5.68</td>\n",
              "      <td>1.03</td>\n",
              "      <td>3.17</td>\n",
              "      <td>1185</td>\n",
              "    </tr>\n",
              "    <tr>\n",
              "      <th>3</th>\n",
              "      <td>1</td>\n",
              "      <td>14.37</td>\n",
              "      <td>1.95</td>\n",
              "      <td>2.50</td>\n",
              "      <td>16.8</td>\n",
              "      <td>113</td>\n",
              "      <td>3.85</td>\n",
              "      <td>3.49</td>\n",
              "      <td>0.24</td>\n",
              "      <td>2.18</td>\n",
              "      <td>7.80</td>\n",
              "      <td>0.86</td>\n",
              "      <td>3.45</td>\n",
              "      <td>1480</td>\n",
              "    </tr>\n",
              "    <tr>\n",
              "      <th>4</th>\n",
              "      <td>1</td>\n",
              "      <td>13.24</td>\n",
              "      <td>2.59</td>\n",
              "      <td>2.87</td>\n",
              "      <td>21.0</td>\n",
              "      <td>118</td>\n",
              "      <td>2.80</td>\n",
              "      <td>2.69</td>\n",
              "      <td>0.39</td>\n",
              "      <td>1.82</td>\n",
              "      <td>4.32</td>\n",
              "      <td>1.04</td>\n",
              "      <td>2.93</td>\n",
              "      <td>735</td>\n",
              "    </tr>\n",
              "  </tbody>\n",
              "</table>\n",
              "</div>"
            ],
            "text/plain": [
              "   class  Alcohol  Malic acid  ...   Hue  OD280/OD315 of diluted wines  Proline\n",
              "0      1    14.23        1.71  ...  1.04                          3.92     1065\n",
              "1      1    13.20        1.78  ...  1.05                          3.40     1050\n",
              "2      1    13.16        2.36  ...  1.03                          3.17     1185\n",
              "3      1    14.37        1.95  ...  0.86                          3.45     1480\n",
              "4      1    13.24        2.59  ...  1.04                          2.93      735\n",
              "\n",
              "[5 rows x 14 columns]"
            ]
          },
          "metadata": {
            "tags": []
          },
          "execution_count": 5
        }
      ]
    },
    {
      "cell_type": "code",
      "metadata": {
        "id": "_AfOK35Xi7W_",
        "colab_type": "code",
        "colab": {
          "base_uri": "https://localhost:8080/",
          "height": 345
        },
        "outputId": "47caea73-e087-4728-e801-d4d5585373e0"
      },
      "source": [
        "wine.info()"
      ],
      "execution_count": 6,
      "outputs": [
        {
          "output_type": "stream",
          "text": [
            "<class 'pandas.core.frame.DataFrame'>\n",
            "RangeIndex: 178 entries, 0 to 177\n",
            "Data columns (total 14 columns):\n",
            "class                           178 non-null int64\n",
            "Alcohol                         178 non-null float64\n",
            "Malic acid                      178 non-null float64\n",
            "Ash                             178 non-null float64\n",
            "Alcalinity of ash               178 non-null float64\n",
            "Magnesium                       178 non-null int64\n",
            "Total phenols                   178 non-null float64\n",
            "Flavanoids                      178 non-null float64\n",
            "Nonflavanoid phenols            178 non-null float64\n",
            "Proanthocyanins                 178 non-null float64\n",
            "Color intensity                 178 non-null float64\n",
            "Hue                             178 non-null float64\n",
            "OD280/OD315 of diluted wines    178 non-null float64\n",
            "Proline                         178 non-null int64\n",
            "dtypes: float64(11), int64(3)\n",
            "memory usage: 19.6 KB\n"
          ],
          "name": "stdout"
        }
      ]
    },
    {
      "cell_type": "code",
      "metadata": {
        "id": "Ow9o9m8-jBLt",
        "colab_type": "code",
        "colab": {
          "base_uri": "https://localhost:8080/",
          "height": 86
        },
        "outputId": "063bdc08-2426-4acf-9021-0d07c9aa6554"
      },
      "source": [
        "wine[\"class\"].value_counts()"
      ],
      "execution_count": 7,
      "outputs": [
        {
          "output_type": "execute_result",
          "data": {
            "text/plain": [
              "2    71\n",
              "1    59\n",
              "3    48\n",
              "Name: class, dtype: int64"
            ]
          },
          "metadata": {
            "tags": []
          },
          "execution_count": 7
        }
      ]
    },
    {
      "cell_type": "code",
      "metadata": {
        "id": "2FMUSFUBjT1A",
        "colab_type": "code",
        "colab": {
          "base_uri": "https://localhost:8080/",
          "height": 343
        },
        "outputId": "7071f78a-16c6-4c34-a75d-f8cb2ef942dd"
      },
      "source": [
        "wine.describe()"
      ],
      "execution_count": 8,
      "outputs": [
        {
          "output_type": "execute_result",
          "data": {
            "text/html": [
              "<div>\n",
              "<style scoped>\n",
              "    .dataframe tbody tr th:only-of-type {\n",
              "        vertical-align: middle;\n",
              "    }\n",
              "\n",
              "    .dataframe tbody tr th {\n",
              "        vertical-align: top;\n",
              "    }\n",
              "\n",
              "    .dataframe thead th {\n",
              "        text-align: right;\n",
              "    }\n",
              "</style>\n",
              "<table border=\"1\" class=\"dataframe\">\n",
              "  <thead>\n",
              "    <tr style=\"text-align: right;\">\n",
              "      <th></th>\n",
              "      <th>class</th>\n",
              "      <th>Alcohol</th>\n",
              "      <th>Malic acid</th>\n",
              "      <th>Ash</th>\n",
              "      <th>Alcalinity of ash</th>\n",
              "      <th>Magnesium</th>\n",
              "      <th>Total phenols</th>\n",
              "      <th>Flavanoids</th>\n",
              "      <th>Nonflavanoid phenols</th>\n",
              "      <th>Proanthocyanins</th>\n",
              "      <th>Color intensity</th>\n",
              "      <th>Hue</th>\n",
              "      <th>OD280/OD315 of diluted wines</th>\n",
              "      <th>Proline</th>\n",
              "    </tr>\n",
              "  </thead>\n",
              "  <tbody>\n",
              "    <tr>\n",
              "      <th>count</th>\n",
              "      <td>178.000000</td>\n",
              "      <td>178.000000</td>\n",
              "      <td>178.000000</td>\n",
              "      <td>178.000000</td>\n",
              "      <td>178.000000</td>\n",
              "      <td>178.000000</td>\n",
              "      <td>178.000000</td>\n",
              "      <td>178.000000</td>\n",
              "      <td>178.000000</td>\n",
              "      <td>178.000000</td>\n",
              "      <td>178.000000</td>\n",
              "      <td>178.000000</td>\n",
              "      <td>178.000000</td>\n",
              "      <td>178.000000</td>\n",
              "    </tr>\n",
              "    <tr>\n",
              "      <th>mean</th>\n",
              "      <td>1.938202</td>\n",
              "      <td>13.000618</td>\n",
              "      <td>2.336348</td>\n",
              "      <td>2.366517</td>\n",
              "      <td>19.494944</td>\n",
              "      <td>99.741573</td>\n",
              "      <td>2.295112</td>\n",
              "      <td>2.029270</td>\n",
              "      <td>0.361854</td>\n",
              "      <td>1.590899</td>\n",
              "      <td>5.058090</td>\n",
              "      <td>0.957449</td>\n",
              "      <td>2.611685</td>\n",
              "      <td>746.893258</td>\n",
              "    </tr>\n",
              "    <tr>\n",
              "      <th>std</th>\n",
              "      <td>0.775035</td>\n",
              "      <td>0.811827</td>\n",
              "      <td>1.117146</td>\n",
              "      <td>0.274344</td>\n",
              "      <td>3.339564</td>\n",
              "      <td>14.282484</td>\n",
              "      <td>0.625851</td>\n",
              "      <td>0.998859</td>\n",
              "      <td>0.124453</td>\n",
              "      <td>0.572359</td>\n",
              "      <td>2.318286</td>\n",
              "      <td>0.228572</td>\n",
              "      <td>0.709990</td>\n",
              "      <td>314.907474</td>\n",
              "    </tr>\n",
              "    <tr>\n",
              "      <th>min</th>\n",
              "      <td>1.000000</td>\n",
              "      <td>11.030000</td>\n",
              "      <td>0.740000</td>\n",
              "      <td>1.360000</td>\n",
              "      <td>10.600000</td>\n",
              "      <td>70.000000</td>\n",
              "      <td>0.980000</td>\n",
              "      <td>0.340000</td>\n",
              "      <td>0.130000</td>\n",
              "      <td>0.410000</td>\n",
              "      <td>1.280000</td>\n",
              "      <td>0.480000</td>\n",
              "      <td>1.270000</td>\n",
              "      <td>278.000000</td>\n",
              "    </tr>\n",
              "    <tr>\n",
              "      <th>25%</th>\n",
              "      <td>1.000000</td>\n",
              "      <td>12.362500</td>\n",
              "      <td>1.602500</td>\n",
              "      <td>2.210000</td>\n",
              "      <td>17.200000</td>\n",
              "      <td>88.000000</td>\n",
              "      <td>1.742500</td>\n",
              "      <td>1.205000</td>\n",
              "      <td>0.270000</td>\n",
              "      <td>1.250000</td>\n",
              "      <td>3.220000</td>\n",
              "      <td>0.782500</td>\n",
              "      <td>1.937500</td>\n",
              "      <td>500.500000</td>\n",
              "    </tr>\n",
              "    <tr>\n",
              "      <th>50%</th>\n",
              "      <td>2.000000</td>\n",
              "      <td>13.050000</td>\n",
              "      <td>1.865000</td>\n",
              "      <td>2.360000</td>\n",
              "      <td>19.500000</td>\n",
              "      <td>98.000000</td>\n",
              "      <td>2.355000</td>\n",
              "      <td>2.135000</td>\n",
              "      <td>0.340000</td>\n",
              "      <td>1.555000</td>\n",
              "      <td>4.690000</td>\n",
              "      <td>0.965000</td>\n",
              "      <td>2.780000</td>\n",
              "      <td>673.500000</td>\n",
              "    </tr>\n",
              "    <tr>\n",
              "      <th>75%</th>\n",
              "      <td>3.000000</td>\n",
              "      <td>13.677500</td>\n",
              "      <td>3.082500</td>\n",
              "      <td>2.557500</td>\n",
              "      <td>21.500000</td>\n",
              "      <td>107.000000</td>\n",
              "      <td>2.800000</td>\n",
              "      <td>2.875000</td>\n",
              "      <td>0.437500</td>\n",
              "      <td>1.950000</td>\n",
              "      <td>6.200000</td>\n",
              "      <td>1.120000</td>\n",
              "      <td>3.170000</td>\n",
              "      <td>985.000000</td>\n",
              "    </tr>\n",
              "    <tr>\n",
              "      <th>max</th>\n",
              "      <td>3.000000</td>\n",
              "      <td>14.830000</td>\n",
              "      <td>5.800000</td>\n",
              "      <td>3.230000</td>\n",
              "      <td>30.000000</td>\n",
              "      <td>162.000000</td>\n",
              "      <td>3.880000</td>\n",
              "      <td>5.080000</td>\n",
              "      <td>0.660000</td>\n",
              "      <td>3.580000</td>\n",
              "      <td>13.000000</td>\n",
              "      <td>1.710000</td>\n",
              "      <td>4.000000</td>\n",
              "      <td>1680.000000</td>\n",
              "    </tr>\n",
              "  </tbody>\n",
              "</table>\n",
              "</div>"
            ],
            "text/plain": [
              "            class     Alcohol  ...  OD280/OD315 of diluted wines      Proline\n",
              "count  178.000000  178.000000  ...                    178.000000   178.000000\n",
              "mean     1.938202   13.000618  ...                      2.611685   746.893258\n",
              "std      0.775035    0.811827  ...                      0.709990   314.907474\n",
              "min      1.000000   11.030000  ...                      1.270000   278.000000\n",
              "25%      1.000000   12.362500  ...                      1.937500   500.500000\n",
              "50%      2.000000   13.050000  ...                      2.780000   673.500000\n",
              "75%      3.000000   13.677500  ...                      3.170000   985.000000\n",
              "max      3.000000   14.830000  ...                      4.000000  1680.000000\n",
              "\n",
              "[8 rows x 14 columns]"
            ]
          },
          "metadata": {
            "tags": []
          },
          "execution_count": 8
        }
      ]
    },
    {
      "cell_type": "markdown",
      "metadata": {
        "id": "skWmmxjYg9n7",
        "colab_type": "text"
      },
      "source": [
        "Classification data against each of the attributes:\n",
        "1. Alcohol"
      ]
    },
    {
      "cell_type": "code",
      "metadata": {
        "id": "6Z6rrSWVg7VW",
        "colab_type": "code",
        "colab": {
          "base_uri": "https://localhost:8080/",
          "height": 286
        },
        "outputId": "baa44547-c2d2-416f-b75c-4996fe3155db"
      },
      "source": [
        "# Code example\n",
        "import matplotlib.pyplot as plt\n",
        "import numpy as np\n",
        "import pandas as pd\n",
        "import sklearn.linear_model\n",
        "\n",
        "# Prepare the data\n",
        "x = np.c_[wine[\"Alcohol\"]]\n",
        "y = np.c_[wine[\"class\"]]\n",
        "\n",
        "# Visualize the data\n",
        "wine.plot(kind='scatter',x=\"Alcohol\", y='class')\n",
        "plt.show()"
      ],
      "execution_count": 9,
      "outputs": [
        {
          "output_type": "display_data",
          "data": {
            "image/png": "iVBORw0KGgoAAAANSUhEUgAAAZsAAAENCAYAAADZp8imAAAABHNCSVQICAgIfAhkiAAAAAlwSFlz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\n",
            "text/plain": [
              "<Figure size 432x288 with 1 Axes>"
            ]
          },
          "metadata": {
            "tags": []
          }
        }
      ]
    },
    {
      "cell_type": "markdown",
      "metadata": {
        "id": "ze-SW0i6iPKQ",
        "colab_type": "text"
      },
      "source": [
        "2.Malic acid"
      ]
    },
    {
      "cell_type": "code",
      "metadata": {
        "id": "janoE1Lgiagq",
        "colab_type": "code",
        "colab": {
          "base_uri": "https://localhost:8080/",
          "height": 286
        },
        "outputId": "cf8ab2ca-d203-4a78-e367-1128d773eea5"
      },
      "source": [
        "# Code example\n",
        "import matplotlib.pyplot as plt\n",
        "import numpy as np\n",
        "import pandas as pd\n",
        "import sklearn.linear_model\n",
        "\n",
        "# Prepare the data\n",
        "x = np.c_[wine[\"Malic acid\"]]\n",
        "y = np.c_[wine[\"class\"]]\n",
        "\n",
        "# Visualize the data\n",
        "wine.plot(kind='scatter',x=\"Malic acid\", y='class')\n",
        "plt.show()"
      ],
      "execution_count": 10,
      "outputs": [
        {
          "output_type": "display_data",
          "data": {
            "image/png": "iVBORw0KGgoAAAANSUhEUgAAAZAAAAENCAYAAAAhRzNRAAAABHNCSVQICAgIfAhkiAAAAAlwSFlz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\nSUVORK5CYII=\n",
            "text/plain": [
              "<Figure size 432x288 with 1 Axes>"
            ]
          },
          "metadata": {
            "tags": []
          }
        }
      ]
    },
    {
      "cell_type": "markdown",
      "metadata": {
        "id": "ILgcUSDqisBg",
        "colab_type": "text"
      },
      "source": [
        "3.Ash and so on omitted."
      ]
    },
    {
      "cell_type": "markdown",
      "metadata": {
        "id": "4NgaqpuplaGn",
        "colab_type": "text"
      },
      "source": [
        "######################################################"
      ]
    },
    {
      "cell_type": "code",
      "metadata": {
        "id": "aMllye9Cjhdg",
        "colab_type": "code",
        "colab": {
          "base_uri": "https://localhost:8080/",
          "height": 1000
        },
        "outputId": "b55901ad-cb32-4490-fef4-7b04d67677b7"
      },
      "source": [
        "%matplotlib inline\n",
        "import matplotlib.pyplot as plt\n",
        "wine.hist(bins=50, figsize=(20,15))\n",
        "save_fig(\"attribute_histogram_plots\")\n",
        "plt.show()"
      ],
      "execution_count": 11,
      "outputs": [
        {
          "output_type": "stream",
          "text": [
            "Saving figure attribute_histogram_plots\n"
          ],
          "name": "stdout"
        },
        {
          "output_type": "display_data",
          "data": {
            "image/png": "iVBORw0KGgoAAAANSUhEUgAABZgAAAQwCAYAAABolTvzAAAABHNCSVQICAgIfAhkiAAAAAlwSFlz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\nrkJggg==\n",
            "text/plain": [
              "<Figure size 1440x1080 with 16 Axes>"
            ]
          },
          "metadata": {
            "tags": []
          }
        }
      ]
    },
    {
      "cell_type": "code",
      "metadata": {
        "id": "7hfjs-b5jsDB",
        "colab_type": "code",
        "colab": {}
      },
      "source": [
        "# to make this notebook's output identical at every run\n",
        "np.random.seed(42)"
      ],
      "execution_count": 0,
      "outputs": []
    },
    {
      "cell_type": "code",
      "metadata": {
        "id": "G7sN5nfnjve0",
        "colab_type": "code",
        "colab": {}
      },
      "source": [
        "import numpy as np\n",
        "\n",
        "# For illustration only. Sklearn has train_test_split()\n",
        "def split_train_test(data, test_ratio):\n",
        "    shuffled_indices = np.random.permutation(len(data))\n",
        "    test_set_size = int(len(data) * test_ratio)\n",
        "    test_indices = shuffled_indices[:test_set_size]\n",
        "    train_indices = shuffled_indices[test_set_size:]\n",
        "    return data.iloc[train_indices], data.iloc[test_indices]"
      ],
      "execution_count": 0,
      "outputs": []
    },
    {
      "cell_type": "code",
      "metadata": {
        "id": "COhSGuezjzyY",
        "colab_type": "code",
        "colab": {
          "base_uri": "https://localhost:8080/",
          "height": 35
        },
        "outputId": "95fef4d0-36db-405e-ee3b-c33eb703e7da"
      },
      "source": [
        "train_set, test_set = split_train_test(wine, 0.2)\n",
        "len(train_set)"
      ],
      "execution_count": 14,
      "outputs": [
        {
          "output_type": "execute_result",
          "data": {
            "text/plain": [
              "143"
            ]
          },
          "metadata": {
            "tags": []
          },
          "execution_count": 14
        }
      ]
    },
    {
      "cell_type": "code",
      "metadata": {
        "id": "AR_wwi7Hj7EK",
        "colab_type": "code",
        "colab": {
          "base_uri": "https://localhost:8080/",
          "height": 35
        },
        "outputId": "c7243fe6-c2cb-4996-bf4f-ec4f993f1f09"
      },
      "source": [
        "len(test_set)"
      ],
      "execution_count": 15,
      "outputs": [
        {
          "output_type": "execute_result",
          "data": {
            "text/plain": [
              "35"
            ]
          },
          "metadata": {
            "tags": []
          },
          "execution_count": 15
        }
      ]
    },
    {
      "cell_type": "code",
      "metadata": {
        "id": "0FHwhM9ukEi2",
        "colab_type": "code",
        "colab": {}
      },
      "source": [
        "from zlib import crc32\n",
        "\n",
        "def test_set_check(identifier, test_ratio):\n",
        "    return crc32(np.int64(identifier)) & 0xffffffff < test_ratio * 2**32\n",
        "\n",
        "def split_train_test_by_id(data, test_ratio, id_column):\n",
        "    ids = data[id_column]\n",
        "    in_test_set = ids.apply(lambda id_: test_set_check(id_, test_ratio))\n",
        "    return data.loc[~in_test_set], data.loc[in_test_set]"
      ],
      "execution_count": 0,
      "outputs": []
    },
    {
      "cell_type": "code",
      "metadata": {
        "id": "mYvsdI4uka2i",
        "colab_type": "code",
        "colab": {}
      },
      "source": [
        "wine_with_id = wine.reset_index()   # adds an `index` column\n",
        "train_set, test_set = split_train_test_by_id(wine_with_id, 0.2, \"index\")"
      ],
      "execution_count": 0,
      "outputs": []
    },
    {
      "cell_type": "code",
      "metadata": {
        "id": "KOVUrwHalq8F",
        "colab_type": "code",
        "colab": {}
      },
      "source": [
        "wine_with_id = wine.reset_index()   # adds an `index` column\n",
        "train_set, test_set = split_train_test_by_id(wine_with_id, 0.2, \"index\")"
      ],
      "execution_count": 0,
      "outputs": []
    },
    {
      "cell_type": "code",
      "metadata": {
        "id": "ZuiM5Da6lw-5",
        "colab_type": "code",
        "colab": {}
      },
      "source": [
        "wine_with_id[\"id\"] = wine[\"Alcohol\"]*1000 + wine[\"Malic acid\"]\n",
        "train_set, test_set = split_train_test_by_id(wine_with_id, 0.2, \"id\")"
      ],
      "execution_count": 0,
      "outputs": []
    },
    {
      "cell_type": "code",
      "metadata": {
        "id": "w_qQzvMsmDX2",
        "colab_type": "code",
        "colab": {
          "base_uri": "https://localhost:8080/",
          "height": 253
        },
        "outputId": "345eefab-8d57-412d-89b8-9205f35ed924"
      },
      "source": [
        "test_set.head()"
      ],
      "execution_count": 20,
      "outputs": [
        {
          "output_type": "execute_result",
          "data": {
            "text/html": [
              "<div>\n",
              "<style scoped>\n",
              "    .dataframe tbody tr th:only-of-type {\n",
              "        vertical-align: middle;\n",
              "    }\n",
              "\n",
              "    .dataframe tbody tr th {\n",
              "        vertical-align: top;\n",
              "    }\n",
              "\n",
              "    .dataframe thead th {\n",
              "        text-align: right;\n",
              "    }\n",
              "</style>\n",
              "<table border=\"1\" class=\"dataframe\">\n",
              "  <thead>\n",
              "    <tr style=\"text-align: right;\">\n",
              "      <th></th>\n",
              "      <th>index</th>\n",
              "      <th>class</th>\n",
              "      <th>Alcohol</th>\n",
              "      <th>Malic acid</th>\n",
              "      <th>Ash</th>\n",
              "      <th>Alcalinity of ash</th>\n",
              "      <th>Magnesium</th>\n",
              "      <th>Total phenols</th>\n",
              "      <th>Flavanoids</th>\n",
              "      <th>Nonflavanoid phenols</th>\n",
              "      <th>Proanthocyanins</th>\n",
              "      <th>Color intensity</th>\n",
              "      <th>Hue</th>\n",
              "      <th>OD280/OD315 of diluted wines</th>\n",
              "      <th>Proline</th>\n",
              "      <th>id</th>\n",
              "    </tr>\n",
              "  </thead>\n",
              "  <tbody>\n",
              "    <tr>\n",
              "      <th>0</th>\n",
              "      <td>0</td>\n",
              "      <td>1</td>\n",
              "      <td>14.23</td>\n",
              "      <td>1.71</td>\n",
              "      <td>2.43</td>\n",
              "      <td>15.6</td>\n",
              "      <td>127</td>\n",
              "      <td>2.80</td>\n",
              "      <td>3.06</td>\n",
              "      <td>0.28</td>\n",
              "      <td>2.29</td>\n",
              "      <td>5.64</td>\n",
              "      <td>1.04</td>\n",
              "      <td>3.92</td>\n",
              "      <td>1065</td>\n",
              "      <td>14231.71</td>\n",
              "    </tr>\n",
              "    <tr>\n",
              "      <th>1</th>\n",
              "      <td>1</td>\n",
              "      <td>1</td>\n",
              "      <td>13.20</td>\n",
              "      <td>1.78</td>\n",
              "      <td>2.14</td>\n",
              "      <td>11.2</td>\n",
              "      <td>100</td>\n",
              "      <td>2.65</td>\n",
              "      <td>2.76</td>\n",
              "      <td>0.26</td>\n",
              "      <td>1.28</td>\n",
              "      <td>4.38</td>\n",
              "      <td>1.05</td>\n",
              "      <td>3.40</td>\n",
              "      <td>1050</td>\n",
              "      <td>13201.78</td>\n",
              "    </tr>\n",
              "    <tr>\n",
              "      <th>8</th>\n",
              "      <td>8</td>\n",
              "      <td>1</td>\n",
              "      <td>14.83</td>\n",
              "      <td>1.64</td>\n",
              "      <td>2.17</td>\n",
              "      <td>14.0</td>\n",
              "      <td>97</td>\n",
              "      <td>2.80</td>\n",
              "      <td>2.98</td>\n",
              "      <td>0.29</td>\n",
              "      <td>1.98</td>\n",
              "      <td>5.20</td>\n",
              "      <td>1.08</td>\n",
              "      <td>2.85</td>\n",
              "      <td>1045</td>\n",
              "      <td>14831.64</td>\n",
              "    </tr>\n",
              "    <tr>\n",
              "      <th>9</th>\n",
              "      <td>9</td>\n",
              "      <td>1</td>\n",
              "      <td>13.86</td>\n",
              "      <td>1.35</td>\n",
              "      <td>2.27</td>\n",
              "      <td>16.0</td>\n",
              "      <td>98</td>\n",
              "      <td>2.98</td>\n",
              "      <td>3.15</td>\n",
              "      <td>0.22</td>\n",
              "      <td>1.85</td>\n",
              "      <td>7.22</td>\n",
              "      <td>1.01</td>\n",
              "      <td>3.55</td>\n",
              "      <td>1045</td>\n",
              "      <td>13861.35</td>\n",
              "    </tr>\n",
              "    <tr>\n",
              "      <th>18</th>\n",
              "      <td>18</td>\n",
              "      <td>1</td>\n",
              "      <td>14.19</td>\n",
              "      <td>1.59</td>\n",
              "      <td>2.48</td>\n",
              "      <td>16.5</td>\n",
              "      <td>108</td>\n",
              "      <td>3.30</td>\n",
              "      <td>3.93</td>\n",
              "      <td>0.32</td>\n",
              "      <td>1.86</td>\n",
              "      <td>8.70</td>\n",
              "      <td>1.23</td>\n",
              "      <td>2.82</td>\n",
              "      <td>1680</td>\n",
              "      <td>14191.59</td>\n",
              "    </tr>\n",
              "  </tbody>\n",
              "</table>\n",
              "</div>"
            ],
            "text/plain": [
              "    index  class  Alcohol  ...  OD280/OD315 of diluted wines  Proline        id\n",
              "0       0      1    14.23  ...                          3.92     1065  14231.71\n",
              "1       1      1    13.20  ...                          3.40     1050  13201.78\n",
              "8       8      1    14.83  ...                          2.85     1045  14831.64\n",
              "9       9      1    13.86  ...                          3.55     1045  13861.35\n",
              "18     18      1    14.19  ...                          2.82     1680  14191.59\n",
              "\n",
              "[5 rows x 16 columns]"
            ]
          },
          "metadata": {
            "tags": []
          },
          "execution_count": 20
        }
      ]
    },
    {
      "cell_type": "code",
      "metadata": {
        "id": "hPtqJTUynaiC",
        "colab_type": "code",
        "colab": {}
      },
      "source": [
        "from sklearn.model_selection import train_test_split\n",
        "\n",
        "train_set, test_set = train_test_split(wine, test_size=0.2, random_state=42)"
      ],
      "execution_count": 0,
      "outputs": []
    },
    {
      "cell_type": "code",
      "metadata": {
        "id": "vjYrD-nfnieo",
        "colab_type": "code",
        "colab": {
          "base_uri": "https://localhost:8080/",
          "height": 253
        },
        "outputId": "81748cc7-0174-435b-a9ea-37e538942da5"
      },
      "source": [
        "test_set.head()"
      ],
      "execution_count": 22,
      "outputs": [
        {
          "output_type": "execute_result",
          "data": {
            "text/html": [
              "<div>\n",
              "<style scoped>\n",
              "    .dataframe tbody tr th:only-of-type {\n",
              "        vertical-align: middle;\n",
              "    }\n",
              "\n",
              "    .dataframe tbody tr th {\n",
              "        vertical-align: top;\n",
              "    }\n",
              "\n",
              "    .dataframe thead th {\n",
              "        text-align: right;\n",
              "    }\n",
              "</style>\n",
              "<table border=\"1\" class=\"dataframe\">\n",
              "  <thead>\n",
              "    <tr style=\"text-align: right;\">\n",
              "      <th></th>\n",
              "      <th>class</th>\n",
              "      <th>Alcohol</th>\n",
              "      <th>Malic acid</th>\n",
              "      <th>Ash</th>\n",
              "      <th>Alcalinity of ash</th>\n",
              "      <th>Magnesium</th>\n",
              "      <th>Total phenols</th>\n",
              "      <th>Flavanoids</th>\n",
              "      <th>Nonflavanoid phenols</th>\n",
              "      <th>Proanthocyanins</th>\n",
              "      <th>Color intensity</th>\n",
              "      <th>Hue</th>\n",
              "      <th>OD280/OD315 of diluted wines</th>\n",
              "      <th>Proline</th>\n",
              "    </tr>\n",
              "  </thead>\n",
              "  <tbody>\n",
              "    <tr>\n",
              "      <th>19</th>\n",
              "      <td>1</td>\n",
              "      <td>13.64</td>\n",
              "      <td>3.10</td>\n",
              "      <td>2.56</td>\n",
              "      <td>15.2</td>\n",
              "      <td>116</td>\n",
              "      <td>2.70</td>\n",
              "      <td>3.03</td>\n",
              "      <td>0.17</td>\n",
              "      <td>1.66</td>\n",
              "      <td>5.10</td>\n",
              "      <td>0.96</td>\n",
              "      <td>3.36</td>\n",
              "      <td>845</td>\n",
              "    </tr>\n",
              "    <tr>\n",
              "      <th>45</th>\n",
              "      <td>1</td>\n",
              "      <td>14.21</td>\n",
              "      <td>4.04</td>\n",
              "      <td>2.44</td>\n",
              "      <td>18.9</td>\n",
              "      <td>111</td>\n",
              "      <td>2.85</td>\n",
              "      <td>2.65</td>\n",
              "      <td>0.30</td>\n",
              "      <td>1.25</td>\n",
              "      <td>5.24</td>\n",
              "      <td>0.87</td>\n",
              "      <td>3.33</td>\n",
              "      <td>1080</td>\n",
              "    </tr>\n",
              "    <tr>\n",
              "      <th>140</th>\n",
              "      <td>3</td>\n",
              "      <td>12.93</td>\n",
              "      <td>2.81</td>\n",
              "      <td>2.70</td>\n",
              "      <td>21.0</td>\n",
              "      <td>96</td>\n",
              "      <td>1.54</td>\n",
              "      <td>0.50</td>\n",
              "      <td>0.53</td>\n",
              "      <td>0.75</td>\n",
              "      <td>4.60</td>\n",
              "      <td>0.77</td>\n",
              "      <td>2.31</td>\n",
              "      <td>600</td>\n",
              "    </tr>\n",
              "    <tr>\n",
              "      <th>30</th>\n",
              "      <td>1</td>\n",
              "      <td>13.73</td>\n",
              "      <td>1.50</td>\n",
              "      <td>2.70</td>\n",
              "      <td>22.5</td>\n",
              "      <td>101</td>\n",
              "      <td>3.00</td>\n",
              "      <td>3.25</td>\n",
              "      <td>0.29</td>\n",
              "      <td>2.38</td>\n",
              "      <td>5.70</td>\n",
              "      <td>1.19</td>\n",
              "      <td>2.71</td>\n",
              "      <td>1285</td>\n",
              "    </tr>\n",
              "    <tr>\n",
              "      <th>67</th>\n",
              "      <td>2</td>\n",
              "      <td>12.37</td>\n",
              "      <td>1.17</td>\n",
              "      <td>1.92</td>\n",
              "      <td>19.6</td>\n",
              "      <td>78</td>\n",
              "      <td>2.11</td>\n",
              "      <td>2.00</td>\n",
              "      <td>0.27</td>\n",
              "      <td>1.04</td>\n",
              "      <td>4.68</td>\n",
              "      <td>1.12</td>\n",
              "      <td>3.48</td>\n",
              "      <td>510</td>\n",
              "    </tr>\n",
              "  </tbody>\n",
              "</table>\n",
              "</div>"
            ],
            "text/plain": [
              "     class  Alcohol  Malic acid  ...   Hue  OD280/OD315 of diluted wines  Proline\n",
              "19       1    13.64        3.10  ...  0.96                          3.36      845\n",
              "45       1    14.21        4.04  ...  0.87                          3.33     1080\n",
              "140      3    12.93        2.81  ...  0.77                          2.31      600\n",
              "30       1    13.73        1.50  ...  1.19                          2.71     1285\n",
              "67       2    12.37        1.17  ...  1.12                          3.48      510\n",
              "\n",
              "[5 rows x 14 columns]"
            ]
          },
          "metadata": {
            "tags": []
          },
          "execution_count": 22
        }
      ]
    },
    {
      "cell_type": "markdown",
      "metadata": {
        "id": "4CfFhXgo6rvV",
        "colab_type": "text"
      },
      "source": [
        "Take attribute 'Alcohol' as an exercise example"
      ]
    },
    {
      "cell_type": "code",
      "metadata": {
        "id": "6WnyLNI0nnU-",
        "colab_type": "code",
        "colab": {
          "base_uri": "https://localhost:8080/",
          "height": 285
        },
        "outputId": "88c28f1e-0cda-4aee-9762-87bb466de6ac"
      },
      "source": [
        "wine[\"Alcohol\"].hist()"
      ],
      "execution_count": 23,
      "outputs": [
        {
          "output_type": "execute_result",
          "data": {
            "text/plain": [
              "<matplotlib.axes._subplots.AxesSubplot at 0x7fad676312e8>"
            ]
          },
          "metadata": {
            "tags": []
          },
          "execution_count": 23
        },
        {
          "output_type": "display_data",
          "data": {
            "image/png": "iVBORw0KGgoAAAANSUhEUgAAAX4AAAD7CAYAAABt0P8jAAAABHNCSVQICAgIfAhkiAAAAAlwSFlz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\nB4Q4WtStlStjAAAAAElFTkSuQmCC\n",
            "text/plain": [
              "<Figure size 432x288 with 1 Axes>"
            ]
          },
          "metadata": {
            "tags": []
          }
        }
      ]
    },
    {
      "cell_type": "code",
      "metadata": {
        "id": "S1hd-ZPioEYF",
        "colab_type": "code",
        "colab": {}
      },
      "source": [
        "wine[\"alcohol_cat\"] = pd.cut(wine[\"Alcohol\"],\n",
        "                               bins=[11.0, 12.0, 13.0, 14.0, np.inf],\n",
        "                               labels=[1, 2, 3, 4])"
      ],
      "execution_count": 0,
      "outputs": []
    },
    {
      "cell_type": "code",
      "metadata": {
        "id": "okC9oYP6osU2",
        "colab_type": "code",
        "colab": {
          "base_uri": "https://localhost:8080/",
          "height": 104
        },
        "outputId": "308635f2-9e22-40f5-e5ee-bfef8ac64fe7"
      },
      "source": [
        "wine[\"alcohol_cat\"].value_counts()"
      ],
      "execution_count": 25,
      "outputs": [
        {
          "output_type": "execute_result",
          "data": {
            "text/plain": [
              "3    70\n",
              "2    64\n",
              "4    22\n",
              "1    22\n",
              "Name: alcohol_cat, dtype: int64"
            ]
          },
          "metadata": {
            "tags": []
          },
          "execution_count": 25
        }
      ]
    },
    {
      "cell_type": "code",
      "metadata": {
        "id": "H8WVcxpOo8Zj",
        "colab_type": "code",
        "colab": {
          "base_uri": "https://localhost:8080/",
          "height": 285
        },
        "outputId": "fa13308f-8d05-437b-ad99-37925292e483"
      },
      "source": [
        "wine[\"alcohol_cat\"].hist()"
      ],
      "execution_count": 26,
      "outputs": [
        {
          "output_type": "execute_result",
          "data": {
            "text/plain": [
              "<matplotlib.axes._subplots.AxesSubplot at 0x7fad6d48ef98>"
            ]
          },
          "metadata": {
            "tags": []
          },
          "execution_count": 26
        },
        {
          "output_type": "display_data",
          "data": {
            "image/png": "iVBORw0KGgoAAAANSUhEUgAAAXMAAAD7CAYAAACYLnSTAAAABHNCSVQICAgIfAhkiAAAAAlwSFlz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\n",
            "text/plain": [
              "<Figure size 432x288 with 1 Axes>"
            ]
          },
          "metadata": {
            "tags": []
          }
        }
      ]
    },
    {
      "cell_type": "code",
      "metadata": {
        "id": "oSBM970upCXj",
        "colab_type": "code",
        "colab": {}
      },
      "source": [
        "from sklearn.model_selection import StratifiedShuffleSplit\n",
        "\n",
        "split = StratifiedShuffleSplit(n_splits=1, test_size=0.2, random_state=42)\n",
        "for train_index, test_index in split.split(wine, wine[\"alcohol_cat\"]):\n",
        "    strat_train_set = wine.loc[train_index]\n",
        "    strat_test_set = wine.loc[test_index]"
      ],
      "execution_count": 0,
      "outputs": []
    },
    {
      "cell_type": "code",
      "metadata": {
        "id": "boERhIHXpUEz",
        "colab_type": "code",
        "colab": {
          "base_uri": "https://localhost:8080/",
          "height": 104
        },
        "outputId": "d314ebfa-ad62-4976-93c1-5ce2a9f39110"
      },
      "source": [
        "strat_test_set[\"alcohol_cat\"].value_counts() / len(strat_test_set)"
      ],
      "execution_count": 37,
      "outputs": [
        {
          "output_type": "execute_result",
          "data": {
            "text/plain": [
              "3    0.388889\n",
              "2    0.361111\n",
              "1    0.138889\n",
              "4    0.111111\n",
              "Name: alcohol_cat, dtype: float64"
            ]
          },
          "metadata": {
            "tags": []
          },
          "execution_count": 37
        }
      ]
    },
    {
      "cell_type": "code",
      "metadata": {
        "id": "kLmnx3RjpbY2",
        "colab_type": "code",
        "colab": {
          "base_uri": "https://localhost:8080/",
          "height": 104
        },
        "outputId": "8cdce1c5-e193-42e9-a77f-5ff0c349df45"
      },
      "source": [
        "wine[\"alcohol_cat\"].value_counts() / len(wine)"
      ],
      "execution_count": 38,
      "outputs": [
        {
          "output_type": "execute_result",
          "data": {
            "text/plain": [
              "3    0.393258\n",
              "2    0.359551\n",
              "4    0.123596\n",
              "1    0.123596\n",
              "Name: alcohol_cat, dtype: float64"
            ]
          },
          "metadata": {
            "tags": []
          },
          "execution_count": 38
        }
      ]
    },
    {
      "cell_type": "code",
      "metadata": {
        "id": "i-28MDoypkoF",
        "colab_type": "code",
        "colab": {}
      },
      "source": [
        "def alcohol_cat_proportions(data):\n",
        "    return data[\"alcohol_cat\"].value_counts() / len(data)\n",
        "\n",
        "train_set, test_set = train_test_split(wine, test_size=0.2, random_state=42)\n",
        "\n",
        "compare_props = pd.DataFrame({\n",
        "    \"Overall\": alcohol_cat_proportions(wine),\n",
        "    \"Stratified\": alcohol_cat_proportions(strat_test_set),\n",
        "    \"Random\": alcohol_cat_proportions(test_set),\n",
        "}).sort_index()\n",
        "compare_props[\"Rand. %error\"] = 100 * compare_props[\"Random\"] / compare_props[\"Overall\"] - 100\n",
        "compare_props[\"Strat. %error\"] = 100 * compare_props[\"Stratified\"] / compare_props[\"Overall\"] - 100"
      ],
      "execution_count": 0,
      "outputs": []
    },
    {
      "cell_type": "code",
      "metadata": {
        "id": "4cDKu1B9p0T7",
        "colab_type": "code",
        "colab": {
          "base_uri": "https://localhost:8080/",
          "height": 168
        },
        "outputId": "f9f04e57-467d-420f-d651-8868be33f433"
      },
      "source": [
        "compare_props"
      ],
      "execution_count": 40,
      "outputs": [
        {
          "output_type": "execute_result",
          "data": {
            "text/html": [
              "<div>\n",
              "<style scoped>\n",
              "    .dataframe tbody tr th:only-of-type {\n",
              "        vertical-align: middle;\n",
              "    }\n",
              "\n",
              "    .dataframe tbody tr th {\n",
              "        vertical-align: top;\n",
              "    }\n",
              "\n",
              "    .dataframe thead th {\n",
              "        text-align: right;\n",
              "    }\n",
              "</style>\n",
              "<table border=\"1\" class=\"dataframe\">\n",
              "  <thead>\n",
              "    <tr style=\"text-align: right;\">\n",
              "      <th></th>\n",
              "      <th>Overall</th>\n",
              "      <th>Stratified</th>\n",
              "      <th>Random</th>\n",
              "      <th>Rand. %error</th>\n",
              "      <th>Strat. %error</th>\n",
              "    </tr>\n",
              "  </thead>\n",
              "  <tbody>\n",
              "    <tr>\n",
              "      <th>1</th>\n",
              "      <td>0.123596</td>\n",
              "      <td>0.138889</td>\n",
              "      <td>0.083333</td>\n",
              "      <td>-32.575758</td>\n",
              "      <td>12.373737</td>\n",
              "    </tr>\n",
              "    <tr>\n",
              "      <th>2</th>\n",
              "      <td>0.359551</td>\n",
              "      <td>0.361111</td>\n",
              "      <td>0.333333</td>\n",
              "      <td>-7.291667</td>\n",
              "      <td>0.434028</td>\n",
              "    </tr>\n",
              "    <tr>\n",
              "      <th>3</th>\n",
              "      <td>0.393258</td>\n",
              "      <td>0.388889</td>\n",
              "      <td>0.472222</td>\n",
              "      <td>20.079365</td>\n",
              "      <td>-1.111111</td>\n",
              "    </tr>\n",
              "    <tr>\n",
              "      <th>4</th>\n",
              "      <td>0.123596</td>\n",
              "      <td>0.111111</td>\n",
              "      <td>0.111111</td>\n",
              "      <td>-10.101010</td>\n",
              "      <td>-10.101010</td>\n",
              "    </tr>\n",
              "  </tbody>\n",
              "</table>\n",
              "</div>"
            ],
            "text/plain": [
              "    Overall  Stratified    Random  Rand. %error  Strat. %error\n",
              "1  0.123596    0.138889  0.083333    -32.575758      12.373737\n",
              "2  0.359551    0.361111  0.333333     -7.291667       0.434028\n",
              "3  0.393258    0.388889  0.472222     20.079365      -1.111111\n",
              "4  0.123596    0.111111  0.111111    -10.101010     -10.101010"
            ]
          },
          "metadata": {
            "tags": []
          },
          "execution_count": 40
        }
      ]
    },
    {
      "cell_type": "markdown",
      "metadata": {
        "id": "eWjyM67v6-W0",
        "colab_type": "text"
      },
      "source": [
        "From the %error it seems alcohol is a bad estimating attribute"
      ]
    },
    {
      "cell_type": "code",
      "metadata": {
        "id": "Epql6A3xp62c",
        "colab_type": "code",
        "colab": {}
      },
      "source": [
        "for set_ in (strat_train_set, strat_test_set):\n",
        "    set_.drop(\"alcohol_cat\", axis=1, inplace=True)"
      ],
      "execution_count": 0,
      "outputs": []
    },
    {
      "cell_type": "code",
      "metadata": {
        "id": "2gr-v6-s_NMG",
        "colab_type": "code",
        "colab": {}
      },
      "source": [
        "corr_matrix = wine.corr()"
      ],
      "execution_count": 0,
      "outputs": []
    },
    {
      "cell_type": "code",
      "metadata": {
        "id": "wgDyKPUBAPQP",
        "colab_type": "code",
        "colab": {
          "base_uri": "https://localhost:8080/",
          "height": 276
        },
        "outputId": "8cf6a575-b9c9-458c-88ef-57b395ee0e19"
      },
      "source": [
        "corr_matrix[\"class\"].sort_values(ascending=False)"
      ],
      "execution_count": 44,
      "outputs": [
        {
          "output_type": "execute_result",
          "data": {
            "text/plain": [
              "class                           1.000000\n",
              "Alcalinity of ash               0.517859\n",
              "Nonflavanoid phenols            0.489109\n",
              "Malic acid                      0.437776\n",
              "Color intensity                 0.265668\n",
              "Ash                            -0.049643\n",
              "Magnesium                      -0.209179\n",
              "Alcohol                        -0.328222\n",
              "Proanthocyanins                -0.499130\n",
              "Hue                            -0.617369\n",
              "Proline                        -0.633717\n",
              "Total phenols                  -0.719163\n",
              "OD280/OD315 of diluted wines   -0.788230\n",
              "Flavanoids                     -0.847498\n",
              "Name: class, dtype: float64"
            ]
          },
          "metadata": {
            "tags": []
          },
          "execution_count": 44
        }
      ]
    },
    {
      "cell_type": "markdown",
      "metadata": {
        "id": "js_t6-f8BhEP",
        "colab_type": "text"
      },
      "source": [
        "# **From the correlation matrix above we can find out that the attribute with the strongest correlation is Flavanoids.**"
      ]
    },
    {
      "cell_type": "code",
      "metadata": {
        "id": "c09ldufJDlvO",
        "colab_type": "code",
        "colab": {
          "base_uri": "https://localhost:8080/",
          "height": 624
        },
        "outputId": "55dd894b-a4ab-4902-b6ec-f7b48df82388"
      },
      "source": [
        "# from pandas.tools.plotting import scatter_matrix # For older versions of Pandas\n",
        "from pandas.plotting import scatter_matrix\n",
        "\n",
        "attributes = [\"class\", \"Flavanoids\", \"OD280/OD315 of diluted wines\",\n",
        "              \"Total phenols\"]\n",
        "scatter_matrix(wine[attributes], figsize=(12, 8))\n",
        "save_fig(\"scatter_matrix_plot\")"
      ],
      "execution_count": 46,
      "outputs": [
        {
          "output_type": "stream",
          "text": [
            "Saving figure scatter_matrix_plot\n"
          ],
          "name": "stdout"
        },
        {
          "output_type": "display_data",
          "data": {
            "image/png": "iVBORw0KGgoAAAANSUhEUgAAA1gAAAI5CAYAAAC8QJvjAAAABHNCSVQICAgIfAhkiAAAAAlwSFlz\nAAALEgAACxIB0t1+/AAAADh0RVh0U29mdHdhcmUAbWF0cGxvdGxpYiB2ZXJzaW9uMy4xLjIsIGh0\ndHA6Ly9tYXRwbG90bGliLm9yZy8li6FKAAAgAElEQVR4nOzdeZQc53nf++9bVb1O9/TsC2aAGawk\nQYArSImkRFGmbG2UZVu2YzteZDtWbCfOzXLviZ3rOI5PFtk3vknsc50jJbGt6ys7sq2FsmSLWqiN\nOwGSIAViXwYDDGbtmel9qar3/tE9A4AcEDNEA+CQv885OKiurqp+uqaeqnrqrXrbWGsRERERERGR\nK+dc7wBERERERETeLFRgiYiIiIiItIgKLBERERERkRZRgSUiIiIiItIiKrBERERERERaRAWWiIiI\niIhIi1yzAssYs8sY84Qx5rvGmD8xxphr9dkiIiIiIiLXgrlWv4NljIlYa+vN4T8B/sha++xK0/b0\n9NjR0dFrEpdIq+zbt2/WWtt7veNYyYU5FVrwg5CI57B0laNY9clXfCKuIRZxKFUDAmtJRlxqgSW0\nlnTcIwgtQWiJug61IKQt6uG5DqWaj+s4eK7BcxpLtRZKdZ+o6xBxHUJrqdZDMCx/ruMYDIYgDPFc\nZ3neJaG1+IEl6qmx/a1o/eSUpeaH1PyQqOfgh43jatRzcI3BdQzWQr2Zd1go1wM81+AHFtcxRFzD\nYqmOMRBxHVzHUPVDHAPJmEcQWMr1gHjEBaBSDwjCRl6GYSOmqh8QcR0inoO1EHEb+VTzQzzXEFqw\n1uI5TiMW1wEDlVqA4xhinkMQNvLdcx3qfiMvnde4HLraHK0HFmN4VY7LtbWecmo129VSrr1yu6r5\nIY5jCJZy0XWwNI59gbXkKz6eY8gkIrjNeRfLdRwDXvNYVqoFJKIujjHYZo67jsEPLV4zP62F9rjX\nGOc2jqmL5RquY4h5Lp5rcIy5KKYwtM0cbRwTQ2tJRl1CILjMd64F4fI+ZYm1jfHQyHnndbRfWKDu\nN/YJq5ndDywon4FL55R3rQJYKq6aqsD4paYdHR1l7969Vz8okRYyxoxd7xguZSmnwtDyqSdPsVCq\ns6W3jQ/fNsQXXjjDb37+e3jVAADfASdsNG/XaRRDLhB4jQNG1Q/BWFKey3BnkluGMxyYyFGo+nxg\n9yA/fPsQW3pT/JevH+HJ43O0xTz+3Ydv5n89O85jx2ZZKNVJRF1cYxjsiGMt5Cp1dg6287P3jDLa\n0wZAqebzqSfGqNQD7hzp5P4db8hzArmK1kNO1YOQTz1xis/uG2c6X7ugGDHctjHDrRs7+Om3j/Dw\nCxNkizVGe5KcyZZ4/Ngc+arfKKCiHvUg5NBkjpofkkpGcR2DqQZEPMM7tvVydCrPXLFKIuIRiziM\nzZXwDLS3RdnSl+ZMtsh8uU5b1OOOTR2M9qT44C2DnJ4r8dLZRcLmxdSlk0VjDH3tMfwg5CvfmyQW\ncfn5+0Z56czicjFkLWQSET567yjOCidS5VrAnz5xiko94PZNHTxwQ9+K6+roVJ4vvXgOY+Ajdwyz\nsSt5lf4qcjnrIacq9YBPPXGKUi1g91CG9+zsX3H6EzMFvrh/AoAfum1o+djxjYNT7B9f4OVzOcLQ\nEvVc7tnWjR9Yjk7l+buXzuFVfBzHsHNLJ3/0U3v4T189xCMHJslXfDb1tFGth6T8gHQswju293Bo\nMsdiuc7kYoXedIzpfBW/4hOLOGzqSfGuHb10JCPsH5/nG4dmsNayZ3M3d4128dF7R3nqxBzPn57n\n5XM5buhPM9KTZCZX5XPPncVzHe4c7WS4M0G1HrJntJN3bn/18e6pE3M8eXyOqOfw028fIZOIAPDn\nT5/msWMzVP2Qe7Z089F7R/HctV2U/MLzZzk5W6QzGeHn7h3ltW4yOzad52/2K5+XXCqnrullYWPM\nDxpjvgf0A3OveO9jxpi9xpi9MzMz1zIskbcMP7Tkyj4AC6XGNY/Tc2XqzatfFvDDlecNAosfhI2r\nbkGjJStf9ZnMVfADS6UeUPND5ks1ACYXKwCUaz6zhRpzxRp+EFL1Ayr1gKofkK/4FKp1rG2crC3N\nC1CqNaYDLhov8kZSD0IKVZ9iNSAIQ8q1AD+0BGHIQqlOPWjk3GK5kW9zhRrT+SoWyFca7/tByGy+\nShhCGELVDynWGq3IfmCZzpUp1wNCC+W6T7kWEDZbmgpVn2o9oFANCAJL1Q8oVBs5ni3WyDZzZ75U\no95M7ul8tTGuWOPcYoXQQrUecna+TD1oFGJTzfzNV3zq4co7hVLNX1WOZouN96w9v98RuZRqPaRU\nu/x2NV9qHDusZXk7h8b2FlpLoeIvH0ey+Sr5cp1Cxafmh1gax7v5Yp18tc65xQpBCEFoKdd8cpXG\ndlqs1Sk07/Co+QFVv5Hj1XpAaBvHwWyxkU+LpTpn5svQHL9YqlGpB5RqPtliDQsUKj710DKdqzZy\n1w/xw5CpxXLjDo/m91rx+zbzqOaHyzm+tI7KtYBKrZH7Szm8Fks5ulj2l1v9Lj1tIz5rdWx+Ldes\nBQvAWvtF4IvGmD8EHgI+f8F7nwQ+CbBnz55rc9+iyFtM1HN4364Bjk0XuH1TBwA/d88IL08s8vSp\nOTKxCEOdSQ5P5qiHlg2ZOLlKnZpvuX1TB6GF2XyVgUycXMXn+27oY89oB1/cf45ExGXPaBe7hxrL\n/YX7NvPXz51hW1+KXUMZHMfQmYxQrQckY41dz3BnkojjcHq+xM0b2tk1lFmOtScV41039DK1WOHt\nW7qv/coSWYVk1OP7d/bjAC+MLzDanWQyX8UA77lpgA0dcTZ1J3n/rgGOTBW4ZThDqRbwN/snyCQ9\nZnJVulMxRrsS/LfvnKDuh9zQn6I7HePguQLpuMdP3b2R/WcW2T++wA0D7URcwxPH56jUA37g5n4S\nEZdcpc5LZxbZ1J1kz2g3cc/hto0dbO1N8eypLBsyvRSqAeV6wAd2D3BsusiNg2kijiHqOXS1RfnQ\nrRs4MJFjoVTnoVsGOTJVYGtfGzHPXfG7d6diPHBDL5OLFd72Gjl626YOClUfz3W4aTB9df4Q8qaR\nSUZ48KY+zsyXuXtz1yWn2z2UIVeug2kML3n3jX08czLLjoE088U6rjG8fWs39SBk61SeRMzl8WOz\ntMc9fuVdWxnuTPLPf2AHv//IYcr1kDs2ddKR9Hj65Dx7Rjq4cTDDbRs7ODqdox6AZwy+tRw4u0jc\nc/jJt41gjGFbX4oHdnTz7//uMMmIy0O3DLKtP72cJ8+cdNnWl8JzHG7b1MFUroJvLaVqwI/eOUxo\nYTpX4Z6tK+fSvdt6MAa62mIMdSSWx79/1wAdiQj1MOTu0W4S0ZXz9bX8wM397B9fZHt/6rKtX7du\nzFCo1nGMYedg+5o/663iWj6DFbPWVpvD/x74rrX2KytNu2fPHqtbBK+O0V//8hUv49THP9iCSN58\njDH7rLV7rnccK1FOyXqknBJpLeWUSGtdKqeuZQvW+4wx/7w5fBT46jX8bBERERERkavuWnZy8TDw\n8LX6PBERERERkWtNfR+LiIiIiIi0iAosERERERGRFlGBJSIiIiIi0iIqsERERERERFpEBZaIiIiI\niEiLqMASERERERFpERVYIiIiIiIiLaICS0REREREpEVUYImIiIiIiLSICiwREREREZEW8a53AKsx\n+utfvuJlnPr4B1sQiYiIiIiIyKWpBUtERERERKRFVGCJiIiIiIi0iAosERERERGRFlGBJSIiIiIi\n0iIqsERERERERFpEBZaIiIiIiEiLqMASERERERFpkdddYBljEsaY9xhjRloZkIiIiIiIyHq16gLL\nGPOnxphfbQ5HgWeArwKHjTHvv0rxiYiIiIiIrBtracF6L/BUc/gHgTQwAPx285+IiIiIiMhb2loK\nrE5gujn8PuCz1tpp4H8BO1sdmIiIiIiIyHrjrWHaSWCXMeYcjdasjzXHp4B6qwMTuZpGf/3LV7yM\nUx//YAsiEREREZE3k7UUWH8MfAaYAALgG83xbwMOtTguERERERGRdWfVBZa19neMMQeATcBfWWtr\nzbd84HevRnAiIiIiIiLryVpasLDWfnaFcZ9qXTgiIiIiIiLr11q6af9xY8wPXPD6t4wxZ4wxjxhj\nBq9OeCIiIiIiIuvHWnoR/O2lAWPMHcC/Av4AiAC/39qwRERERERE1p+13CI4AhxuDv8w8AVr7e8Z\nY74KPNLyyERERERERNaZtbRgVWj8uDDAg8DXm8OLF4wXERERERF5y1pLC9Z3gd83xjwG7AF+tDl+\nBzB+uZmNMW8D/jMQAs9aa//ZGmMVERERERF5Q1tLgfWPgf9Go7D6ZWvtRHP8+1ndLYJjwPdZayvG\nmE8bY3Zba19aW7gicrWNZ0scnymwayhDTyq26vmstewbm+flczk2d7expbeNo9MFtvenGepILE/3\nmWdPc2AiRyLi0pmIsKErQUciSmgtnmMo1wNqvmVTV5LFcp3//LVDBBZ2DrazsTNJPbRs6ozz3WNz\ndCWj3Lapg+8cmWG0p42HbtnA1w9O0ZOK0ZGM8MlvnyBfrfMTdw2TLfqMzRUJQktve4xNXUm+8r1J\nxmaLvOfmfv7xu7fTkYwCUA9Cnj2VxfcthWqdU3NFQmBTV5IbB9J86vFTdLRF+T/eeyMApZrP3lPz\n9KRiWCz7xxfwA0t/Js4twxmOThWYL9XoScUY7W7j6HQezzGcXaiQirncu7WHzrboFf/tXp7IMVuo\nsme0k2R0TZ3EXlcz+SoHJhbZ2ptiY1fyeodzXeUrdZ47vcBgJs6O/sbNIdP5Ci9P5F5z/ZycKfA3\nL57j9k0dvHN770XvHZ3KM7FY4Y5NHaTjEQBeGF+gWPXZM9rJ4ck8uXJjOLSWZ09mmcxV2NyTYs9I\nJ45jgPP7hrPzZfafWeBdO3o5PJknX/X52Du3MHhBnteDkL2n5nn82Aw1P2RrbxsRzyEIIbSWLb0p\nbh/u4LnxBQDuHOkkV66zdyzLYslnx0CKW4Y7sNby3OkFjkzmmCvWODlb5MhUngdu6OXmDRnGZou0\nxSNYG1Kshvzk3RvJNPN478k5Pv3MOA/s6OXDtw/x8kSO6XwFzzGczpbIFqq0J6NM56o8c3KW3nSc\nRNSlVPXZ2N1GaC13jXRx37YenjmZZaZQYTxbJu453DTYTioe4Y6NHXzryAzHZwp8/85+tvSmAJpx\nz3N8ukhPOsrdm7tJxTwmFyscmsxxw0CawUyCQtXnubF5+tvjDHcm2Dc2T286xk2D7S3cqt5c9o8v\nUGhuuzHPXdO8YRjymb1nKFTr/ORdIySjDv/r2TMUa3X+/ttGVtxvnpwp8D8fP0ki4tLVFiVfaWyf\nPW1xBjMxxufLGBrbNRg626LctrGDqh+w99Q8fhBycCLHTLHK5p4UqZjH6WwJ12nss8v1gLdv6ebG\ngTRguH1jhr/ad5aXJxa5ZTjDHSNd7BrKsO9Uln/+mRdIxlw+cudGPrB7gA0dF+8Pan7I3rEs8YjL\n7Rs7+ObhGQ6cXaC3Pcb0Yo2OZITx+RKDmTgdySh/99I52mIuv/jOLZzJlinWAm4dzrC9/+Ib016e\nWOTrB6e5d2s3e0a7AFgs13n6xBxHp/OkYhHetaOXU3NFNnYlaYt6HJrMYQDHMQx1JDidLXHjQDsD\nmfiKf5tjU3n+9nuT7Bnp5N5tPRe9t7TvuXlDht50jCBsnG8AF+2jACr1gKdPZDm7UGZ7f4o7N138\n/rWylt/BOgN8aIXx/3SV809e8LJO48eKReQNxA9CHn7hLPXAcjpb4mfvGV31vIcm8zz8wgRHpvJs\n7EoSj7h0t0U5MJHjVx/YijGGbx+e5i+ePs34fIkghHTcozcdozsVpScVY2yuRCYRoVwL2DGQ5qvf\nm2R8oUQYwpHJPJ7rsLknydhcGc8x1IKQv/3eBPXAEjnm8MLpeRbKPsbAXKHKiZkiAMemC3Qlo2SL\nNQJrSUZdHGOYLTR+zu/PnhxjMJPgF9+xBYB9Y/M8fSLLyxOLFKsBY9nGcjb3pCjVfKZyFQCGOxP8\n5N0jfOfIDAfP5SlWfcp1n0OTefIVn629KR4/Notprp9bhzN8pR7SFnN54fQCFsgkIhSqPn/vrk1X\n9LebzlV45EBjN1uqBbxv18AVLe9a+vKLE8yX6hyYyPHL79qKex0Ohm8Ujx6a5sRMEWOgLx2jIxnl\nyy+eY6G5fn7lXVtXPFn4w0ePcXahzFMn5tg9lFm+WLBYqvPll85hLSyUanz4tiFOzhb55qFpACYX\ny5zOlgHww5BKPeSbh6c5NVtk91CGeMThluEOgtDyxf0TnFso89WXJ4m4Do8dmSEAPMdQ9UP+ww/v\nXo7nubF5/mrfaZ46nsUPQ5JRj/a4hwUSEZdbhjs4ky1xaq4EQNRzOHQux5Mn5pjKVbhzUyedySjl\nesBXD0zynSMz5Ct1zi1WMMZwdLrAbcOZ5YsUpVrAQCZBNQj43x7cAcDvfOkgc8Uq+8ay7Bxs55ED\nk8zkq8zkK5zOlqgHIUFomSvWqNQDrAXPdcBCxJslFfN46cwiE4tlDpzNcWBikWyxRjLq0Zue5e1b\nujkzX+JLL56jWPUZy5b4Nx/aScxzOTSZ55EDU+wfX2BTV5JiNeBDt27g4RfOUqoFHJ7M8w/ftZVv\nHprm2HQBY2Aok+DMQuNv0ZOK0Zte/QWut4rTcyUebW679SDkgRv61jT/Nw/P8IXnzy6/Hulq4+EX\nGq9d4/AL79j8qnk+/pVDvHhmgUIlIOo5tMVcvO85fOjWQcazZTKJCMdnCnSnogQhbO5pI5OIcDpb\n4rmxeZ46Mcu5xQrFakBPKkrND4l6DmfnS9QCsFhePLPIjv40e0Y6eeLYLF99eYqFUo1nTmV5KFel\nOxXlVz69j5l8DQv8yeMnmFys8JsP7bwo1r1jWZ4+kQUaxdZ//84J8pV6c7t1yVd8XMc097GWqXyN\nmGs4PlNkqCPBYtnn9FyRX3zHFjLJyPJy/+vXj7JQrvPsqSx/8nN34XkOX3t5ikcPTvHimUUGMnGe\nOjHHjv40+8cXcR1YKNU5OJljz0gXn58/y8bOJEem8nzs/q0r/m3+4NFjTOUqPH1ijluGO0jFGyVK\n2Nz31PyQU7NFPnrfZl46u8jjx2YBlvdRS544Ptu4eDpXYueGdhIRl11DmTVtJ62wlmewWsIYcwvQ\na619+RXjP2aM2WuM2TszM3OtwxIRwDFm+YpgPLK2K4OJiIvnNk78Io4hFfOWl2NMY3x7IoLjGIwx\nuAZcxxBxHSKOQ8QxRD2HqOvguQbPMcSjDobGvE7zoOAYh6hnMM35ExEPg8F1HNoTjQNC1HVIeC7N\nj8VzDK5rME7jO3qOIeY5LJ2musaQjnkXfRdonGzFIgbPcXCNQ8Q1tF0wXWeycQIUa04fcR3inotr\nnOZ3M7RFPTzHwTEGp7leltaz6zS/5xrX9UqinrNcmMQj13zXfkUS0cb3j3kOb+HaCrhg22vmxoXj\nYp6zvE2/0tJ2GXEdPOf8338pl+B8Tscj55eTjkeWh+MRl0TUJeJcmF+NeRzT+PyId3750YiLaxr5\nnIpdvA0noi4xt5GDjjFEXYeI5xJxneVcTscvzrlE1G3kajNXYp5DItK4GOK6Bs9t5JGhuUzPxXMd\nIq6D21xX6dj5k8J49HxephORRr65pvkdGvuMpZNNY2jGyvJ3X8rPdCzSWI/Nz/cciHrNfVo8srx+\nE831sTTsmPP7m6V1v7StL79u/u+a8/sWr7kvlFeLXbDtJl7HfvPCba49HiGTiFzweuU2h1TMwwCu\na4g0t8+I5wCGRLSxH1/Ki4jb2JbiEWc5vmhzX++axjElurz9mcY2QmMbjboOxhg62yLN7bBxDHGd\nRv4kIufji7rucgFyoQuPJem4h+eaxjbY3HYjbuO45zqNY5Ch8TltMQ/PdZr7HbN8LF+SaLbsxT0H\nzzu/X4o0jzuOYfkYGvHOr5doMy+XWgZf62/WFl1aXw4Xbv6mue9pxHFx3rzyOy+99pzG9/QcszzP\ntWastaub0Jgo8H8CPwlsotE9+zJr7WW/gTGmC/gC8OOvaNG6yJ49e+zevXuXX4/++pdXFeNrOfXx\nD17xMt4MtC4brsZ6MMbss9buueIFXwWvzKnXsliuc3a+zJbetjWf+I9nS4xnS/S1xxjMxBmbK7Ox\nK7F8WxI0WodOTOeJeQ7tySidbVHSMY+qH5KIOBSrAYG19KXj+GHI//jOCQyW7QPtbOpKsFDy2dGf\n4jtHZxloj7O9P8WTx+fY0tPG7SOdPH96nkwySkfC47P7zjBXrPJTd29icrHGuVzj6nAmHmWwI86T\nR2c4MJnjQ7du4D07By663eTYdAHH0GyxqmKtpScVY2tvki+8cI6eVIz37278BGAQWo5O5+lKRrHQ\naDmzlnTCY2tvirHm1fK45zLcmeDkbIlE1GU6VyERcblhML3mW11WMp2rMF+qs60vta5agcq1gJOz\nRYa7ErRfsK28WXJqLfwg5Oh0gd50bPkW3UutnwvlK3W+fXiG3cMZRrrbLnpvtlBlJl9le1+q0UID\nnF0oU6r6bOtLMZmrUKg0hkPb2PbzlXrjltae88vKVeqcyZap1H1eGF/gndt7OTZVIFet8+FbNxB/\nxe1Vx2cKHJ3KU64FbOxM4DiGEMBCbzrGSHcbp2YbrcOjPW1U/YBj0wXKtYChzgSDmcYth+PZEucW\nyyyUaiyW6jxzKssHdg3Qk44zW6gS9VxiniFbrPOem/pwmgXgdK7M5547y/3be9k5lGE6VyFbqhHz\nXGbzjeFMPEK+Wuep43OMdLdhgUo9ZGNnnErdsnNDO9v6UhybKZCv+GQLVYwxbOluIxJxGOlu4/Bk\njtPZMneNdi63HC7FPZmrkI57bOttrPti1WdsrsSm7iSpmIcfhBybKdDdFqOrLdrYj7RF6UuvfBvV\nlXoz5NTEQplic9s1l7ri8Br2nsqSq/g8sKMHx3F45uQchWrA9924cmtYvlLn4ecnSCdcOhJR5os1\ndgyk8VyHvnSMiYUK8YhDPQgBSMUjDHUksNZybLqA6xhOzhZYLNXZ0JkgE49yfKZAeyLCwXOLlKo+\nd432sKErTs0P2d6X5pmTcxyazHHTQDube1P0t8cpFGv8i8++SG86yvfdOMDdW7qWL2QusdZyfKZI\nPOIw3Jnk2FSeI1MFhrsSTCyU6UxGObtQZjATJxHxeOzYDDHX4UfuHGZioUzFD9nc0/aqxwNmCxWe\nOp7l9pEOhpq3Jdb8kKPTeaYWK0Rch9s3dXA6W2YgEyfmOYzNlZrrxTKQiXN2vsxId/Kii5QXWizV\n+O7RWW4d7mBj98W3Pi7tezb3tC0XTBfuOy4UhpZjMwXmizUGMvFX7Q9b7VI5tZYC63eBvwf8Rxqd\nVfwmMAr8BPCvrbWfuMz8HvBF4Lettc+81rQqsK4ercsGFVgib3zKKZHWUk6JtNalcmotbdA/TqNz\ni0/QeH7qYWvtPwH+DfD9q5j/x4C7gN8zxnzLGHPPGj5bRERERETkDW8t3Uz1A0vPTRWApSfKvgL8\n7uVmttb+BfAXa4pORERERERkHVlLC9ZpYENz+Bjw3ubwPUC5lUGJiIiIiIisR2spsD4PPNgc/q/A\nvzXGnAT+FPgfLY5LRERERERk3VnL72D9xgXDf22MOQPcCxyx1n7pagQnIiIiIiKynqzlGayLWGuf\nAp5qYSwiIiIiIiLr2msWWMaYH1ntgqy1n7vycERERERERNavy7Vg/fUql2OB6/NTySIiIiIiIm8Q\nr1lgWWvX0gmGiIiIiIjIW9qqCyhjzL83xvzyCuN/2RjzO60NS0REREREZP1ZSwvVzwDPrzD+OeDn\nWhOOiIiIiIjI+rWWAqsPmFlh/CzQ35pwRERERERE1q+1FFingXeuMP5+4ExrwhEREREREVm/1vI7\nWJ8A/rMxJgo82hz3IPAfgd9tdWAiIiIiIiLrzaoLLGvt7xtjeoA/AKLN0TXgv1prf+9qBCciIiIi\nIrKerKUFC2vtbxhj/h2wsznqoLW20PqwRERERERE1p81FVgA1toi8OxViEVERERERGRd0w8Ji4iI\niIiItIgKLBERERERkRZRgSUiIiIiItIiKrBERERERERaRAWWiIiIiIhIi6jAEhERERERaREVWCIi\nIiIiIi2iAktERERERKRFVGCJiIiIiIi0iAosERERERGRFlGBJSIiIiIi0iIqsERERERERFpEBZaI\niIiIiEiLqMASERERERFpERVYIiIiIiIiLXLNCixjzAZjzHPGmIoxxrtWnysiIiIiInKtXMtCJws8\nCHz+Gn6miMhFZvJVHjkwSSrm8YHdg0Q9h/Fsia++PMWZ+RIO8ML4AhHP4R+9exsPP3+WQ5N5Hrp1\nA7dv7OAPHj3KyZki2VKNmGu4Y6STo9MFXOPwE3cN86N7NvGJbx/jay9PY7D4YchssU7MdRjIxLhr\ntJufvWeET373BI8fnaMt7tKbinFusULUdRjuSnD7pk66klH+4pnT9LXH+N0f2c0TJ7KcW6wwlasw\nX6zxoVs3EPUcHjkwybmFChs7kwxk4vRnYnxg9yAxz13+zvvGsrx4ZpFbhju4c6Tz+q18ecv79pEZ\nTswUuGdrN8OdSf72xXNYLB/YPUg6HmE6V+GRl6dIxVyirsO+0/PU/BBrLdZCruIThJZ3bOvh5YlF\nDkzkyFVqzBZqhNbQn44ymIlT8UNu3djJv3zfjRybzvOrn36Omh/y0C2D3DyU4QO7B/EDy5dfOkfN\nD3n/rgEyCY/f/9pRDp/L4duQci3kjpEO7t3aw4mZIn3pGLs2ZPj8C2f47tFZ6n5IaENCa3AdQ397\njPfvHuTJ43PMl2rsHMzwfTf2ka/W+au9Z8iV6mBgcrGM4zh85PYhOtuiFGsB7715gN50jMVynb97\n6RyOMXzwlkHaYudP0w5P5nny+Cybe1O8a0fv8vjjMwW+e2SGjV1Jvu/GPowxPHd6nv3jC+weyrBn\ntOt6/KmlxSYWynz94BRdbVHev2sQ1zGvmubRQ1Ocnitx12gX//OxE+wdm2e4I0Gu4mOx7BnppBZY\nBjNxElGXnYMZ7tvWw7/67Cs52IMAACAASURBVH6+9OI5EjGX9lgE1zH8/DtGOTFT4vnxeXb0pRnI\nxOlIRknHXX77iy/jGMMv37+FTz9zmnoQ8r6bB3jf7kHuGu3i1/78Ob51ZIauZJT5UpVKPeT7d/bz\n//z9OwGYLVT4va8cph5Yfv7eUV6aWCQRcbllOMPjx+bob49R8QM+t+8s8YhDezxKvlrnfTcP8sN3\nDAFQ80P+9qVzFKr+cv5cDePZEt88PM1CqU4q5nHHSCe3bey47HzXrMCy1laAijGv3iBERK6V/eML\nzOSrzOSrjM0V2d6fZu9YllOzBY5MFVgs1ZkuVEhEXD71xClOzBSp+gGPfO8c43NFDk/mmS/WCCzU\n6/D40Vkcx8EY+OrBafozCZ44Psd0vkIYWqqBxQCVekgQhhgzTyrusffUPNlSlYWy4ex8GQOEFnKV\nOnHP5cRskXylznypxueeP0upFnJqrsixqQKpuMdXD0zSlYyyf3yBXNnn3GKZbX0pyvUUY3MldvSn\nl7/zE8fm8EPLk8dnVWDJdVOq+Tw3Ng/AMyezFCo+ZxfKAByazHPXaBcvjC8wm69yatan5gccnSqQ\nq9SxFlzHkK/4tCc8Hn7hLBU/4NRsiUo9oBZYHANjWZ9sqY7rGIwxvDA+z58/fZq5QpV6YPnGoWkS\nUY/xbIliNWA8WwLgwESOgfYYe09lyRarZIs14hEXsMwVagxmEmSLNWYLVfaNzXN6rkS55hNYWDrP\nrQch/++TY0Qcw9mFMmFoSUZdTs+VGM+WGMuWiLkOC6UaqbjHF/af5e7RbtpiHi+eWeDBm/o5eC7H\nucUKAIen8tyx6Xy+Pn1yjvlSnfmxefaMdC4XX8+czDbGlxa5c6STjmSUJ4/PUfNDnjg+pwLrTeK5\n0/PMFWrMFWrcOlxmY1fyovcXS3X2jy8C8NnnzvDc6QXmm9us5zg4xlCsztDfnuDETJHtfSkKlYC7\nRrv4u+9NUq6H5KsB826NZDTCp58aJxZxmFgoky3U2NDRuPj3p49PUKz6APzRt4/jByFVP+Tx47O0\nJ6LcNdrFNw9PU62HjFUa+WWAbxycXo71W4dmGJtrvPfpp8cYyCQAOLdYoeaHZIs1nj89z5n5MpV6\ngLUhA5kkf/Pi2eUCa2yuyMnZIsBy/lyt9T6br/LMySw7N7RT8YNVFVhvmGewjDEfM8bsNcbsnZmZ\nud7hiMib1ObeNlzHkIp59GfiAGztTZGOR+hIRNjUlSQV80hEPe7f3ktfewxjDDv609w50kVHMko8\n6uIYcFzDUFeSqOcQ81y29abYPZRhU3NcPOKSiDROwCKOIRH1GGiPc8+WHgYzcSKuQyLq0pOKEY24\ntMU8OpNRulJR7t7ciTGGTCLC/dt7Scc9upJRNnQ25rt5Qzube9voTcdIxz02ZBJ0tcVoi7kMNL/X\nkq19KQC2Nf8XuR7instQZ+NEamtvajlPop7DpubJ4pbeNhxj6EvHGOluoysVZTCTYCATpzsVoysV\nJe457B7O0JWMkop7tEVdPKfRitQW9ehqi5KKeXS3RdnRn+Y9O/twXYeI67C1t4103KO/Pc5QZ4JE\nc96R7iTDnY3PSUZdulMxYp7LhkzjpNIY6GqLsmsow4aOBMmoS1vMpT3h0RbzSMU94hGXt2/pJhn1\n6GyL0puKsbU3xS0bM8QjLj1tUTrbIrTFPDzHYdeGDnpSMVzHMNrTBsBId3N/EnHY2HnxCfTW3kb+\nDnUmSETOt1Av5XV/e5xUs+hamnbpf1n/tvSkMAYyiQg9qVe31qTi3vK+/54tXfS3x3Bdh55UjGTU\nJRFx2NzdRlvMY2NnglTcY6Q7ScQ1bO1LYwzEIg6peJSY5/C2LV30pWPEIy7DnUk2dMRxHcODN/bh\nGIPjGO7b1o3nNo5/m7qSbO1rbMebuhIYAwkPvGalsakrsRzrbRs7iEdcIq7h/h29eI4hGXW5fWMH\nxkB3KsodIx0koi5dbVGGOhJ4rmH3UGZ5GQOZxvZ+Yf5cDVt7UziOYbi5v9i2ypwy1tqrFtSKH2jM\nt4D3WGv915hmBhi7ZkGJtMaItbb38pNde8opWaeUUyKtpZwSaa0Vc+oN2dnEGzX5RdYr5ZRIaymn\nRFpLOSVvJteyF8GIMebrwK3AI8aYt12rzxYREREREbkWrvktgiIiIiIiIm9Wb5hOLkRERERERNY7\nFVgiIiIiIiItogJLRERERESkRVRgiYiIiIiItIgKLBERERERkRZRgSUiIiIiItIiKrBERERERERa\nRAWWiIiIiIhIi6jAEhERERERaREVWCIiIiIiIi2iAktERERERKRFVGCJiIiIiIi0iAosERERERGR\nFlGBJSIiIiIi0iIqsERERERERFpEBZaIiIiIiEiLqMASERERERFpERVYIiIiIiIiLaICS0RERERE\npEVUYImIiIiIiLSICiwREREREZEWUYElIiIiIiLSIiqwREREREREWkQFloiIiIiISIuowBIRERER\nEWkRFVgiIiIiIiItogJLRERERESkRVRgiYiIiIiItIgKLBERERERkRZRgSUiIiIiItIiKrBERERE\nRERaRAWWiIiIiIhIi6jAEhERERERaREVWCIiIiIiIi2iAktERERERKRFVGCJiIiIiIi0iAosERER\nERGRFlGBJSIiIiIi0iIqsERERERERFpEBZaIiIiIiEiLqMASERERERFpERVYIiIiIiIiLaICS0RE\nREREpEVUYImIiIiIiLSICiwREREREZEWUYElIiIiIiLSIiqwREREREREWkQFloiIiIiISIuowBIR\nEREREWkRFVgiIiIiIiItogJLRERERESkRVRgiYiIiIiItIgKLBERERERkRZRgSUiIiIiItIiKrBE\nRERERERaRAWWiIiIiIhIi6jAEhERERERaREVWCIiIiIiIi2iAktERERERKRFVGCJiIiIiIi0iAos\nERERERGRFlGBJSIiIiIi0iIqsERERERERFpEBZaIiIiIiEiLqMASERERERFpEe96B7CSnp4eOzo6\ner3DeNMJQguA65jrHMmb0759+2attb3XO46VKKdkPVJOyVuNH1ocA465Osdp5ZS8kdUDi+cYrtLm\nf1VcKqfekAXW6Ogoe/fuvd5hvKmcXSjz13vPYLF8+LYhNve0Xe+Q3nSMMWPXO4ZLUU7JeqSckreS\np0/M8cTxORJRl595+whtsdafoimn5I3qK987x8FzebpTUX76bSM466Qx4FI5pVsE3yJm8lVCa7EW\npnOV6x2OiIiIXGAqXwWgXAvIV/zrHI3ItTWVa2z/2WKNWhBe52iu3BuyBUtab+dgO1O5CmFouXVj\nx/UOR0RERC5w39ZurLX0pmIMZOLXOxyRa+rdN/Sx73SWrb0p4hH3eodzxVRgvUVEPYf33jxwvcOQ\nN4jRX//yFS/j1Mc/2IJIREQEoDsV48O3DV3vMESui03dSTZ1J693GC2jWwRFRERERERaZE0tWMYY\nB8BaGzZfDwAPAQettY+3PjwRkaunFS15raDWQBERkTePtbZgfRn4NQBjTArYC/xfwLeMMT/b4thE\nRERERETWlbUWWHuAR5vDPwLkgD7gl4D/vYVxiYiIiIiIrDtrLbBSwEJz+AeAz1tr6zSKrq2tDExE\nRERERGS9WWuBdRq4zxjTBrwX+FpzfBdQamVgIiIiIiIi681au2n/v4E/AwrAGPCd5vj7gZdaGJeI\niIiIiMi6s6YCy1r7CWPMPmAj8LWl3gSB48C/bnVwIiIiIiIi68maf2jYWruXRu+BF457Y/R1LCIi\nIiIich1dtsAyxvzWahdmrf2dKwtHRERERERk/VpNC9aPveL1CJAEJpqvN9Do4OIUoAJLRERERETe\nsi7bi6C1dvfSPxqdXOwDtlhrN1lrNwFbgGeB/7KaDzTG/DNjzGNXErSIiIiIiMgb0Vq7af8t4J9a\na08vjWgO/wvg31xuZmNMDLhtjZ8pIiIiIiKyLqy1wOoHEiuMjwM9q5j/F4FPrfEzRURERERE1oW1\nFlhfA/67MebtxhjXGOMYY94OfILzPzq8ImNMBHjAWvvoJd7/mDFmrzFm78zMzPL47x6d4RPfPs7e\nU9k1hioiIiJvRpV6wF8+O84fP3aSycXK9Q5HRK6ibx9p1AL7xuavdyirttYC6x8A48ATQAWoAo8D\nZ4Ffusy8PwP8+aXetNZ+0lq7x1q7p7e3F4AwtOw9NU+pFrB3Ha1UERERuXpOZ0ucXSizWK5zYGLx\neocjIldJEFqeG2vUAvvG1k9jy5oKLGvtjLX2A8CNwEea/26y1n7AWjvz2nNzA/ArxpivADcbY37t\nssE5hpsG0wDcNNi+llBlBUFo8YPw8hOKiIi8AYXN49hQR4JMIkLENWzvS1/vsETkKnEdww0Da68F\n/CAkCO3VCuuy1vxDwwDW2iPAkTXO8y+Xho0xj1lr/3A186XjHhHXkI65a4xSLjRXqPKXe88QWstH\n7hhmIBO/3iGJiIisSqnmU62H/PW+M1TqAR++bYifv28UaxsXY6+mU7NFvnFomr50jA/sHsS9yp8n\n8lZQ80NCa4lHLn9+/4Hdg7z35oFV597kYoXPPncGxxh+bM8wPanYlYbLk8fnODCxyO2bOrhzpOuy\n06/mh4b/APgNa22xOXxJ1tp/spogrbXvWM10YWj5L18/yrnFCs+NzfPHP3/3amaTFYxlS1TqAQAn\nZ4sqsEREZF145mSWx4/NEoQWY8AxhuOzBTZ1JzGmcXfGNw5Okav4PHhjH51t0VctY3KxgsUymFmp\nn67X9vz4PLlynVy5znS+8rqWISLnzRaq/OXecYLA8sN3DDHcmXzN6Us1n8nFCsOdSaJe4+Y7Pwj5\n+sFpilWfB2/qoyN5Pu9Pzhap+Y07tk5nS1dcYFlrefrkHNbC0yezrSmwgN1A5ILhS37+Kpa1JmFo\nOTVXolzzOTJVaPXi31J29Kc5MpnHDy07dbuliIisEydnG8d/ay296TjGwK4NmeX3T80VOTCRA+DZ\nU1l+4OaBV8xf5AvPnwXgQ7cOsm2NtxRu70szNleiOxWju+3KTtTCZpFojFrB5K3r7HyZar1ZAM2V\nLllgBaHFMfCZZ8dZKNXZ2JXkR+8cBhp5ffBcI+/3jc3z4E39y/PtHGzn+EwBzzHs6L/yW4iNMdzQ\nn+bQZJ4bVrm8yxZY1tp3rzR8LTiOIe455CuWVFy3CF6JVMzjJ+7edL3DEBERWZO7N3fz2NEZhjuT\nvPvGvle935OKEY+4VP1gxRO1XLm+PLx4wbAfhHz7yAw1P+SBG/pIRFc+z9g1lOHGgTSuY66oMBrP\nlvji/glinsOP37WR9njk8jOJrAPHZwq8dGaRnRvaV1XQ7OhPc2y6QBBabh7KrDjNE8dmefpkltGe\nNgoVH7g4f3vTMWIRh5ofMtR5catyJhnhp98+cgXf6NXev3uQ9+zsJ+KurvuK1/UMFoAxJgVYa23x\n9S7jcsLQEnEMiYiLq6s9IiIibzmbe9rY3NN2yfcziQg/f98oVT8kk3h10XLzhnZylTqhhVuGO5bH\nH5rM8+KZxeVl3Lvt0j/n6a3ypCoILV96cYLpXJX37Oy/KO5jMwVqfkjNDzmTLbNzgwoseXP46oEp\nKvWA8WxpVQVWIurykWZL1KUcnMwDjWcg37drgLG5ErcMny/GOpJRfuG+zdSC8KperDg1W+TrB6fo\nScV46JbBVc+35gLLGPOPgH8JDDVfnwF+11r7R2td1uU4jiHiOYShJbaKh+BEZP0Y/fUvX/EyTn38\ngy2IRESuB2stByZyWAu7htpfd+vQeLaE55pLPhvluQ7v3N77qvE9qRiuYwitpSe9tlv/zsyXMMYw\n1HHxZ07nK5yYaVx33j++cFGBdfOGdsZmiySi7msWjCLrTW86xni2RG8zj7LFGken8mzrS9F9ieef\nzi2W8QPLxq6Vbw/cM9LJUyfmSMc9BtrjK/YgGI+4q+ok40rsP7NAvuKTr/hM56ts6FjdM5hrKrCM\nMf8K+A3gPwGPNUe/E/i4MabdWvvxtSzv8p8Hi6UatSBkvlhr5aJFRETkOnr5XI6vvTwFNI73uy5x\nq9BrLmMixyMHJgH4yB3DbOp+7YflLzSQifNz94zih+HySWClHrBYrtOXjl2y4Ds6ledLL54D4Adv\n28DW3tTye91tMfraY8zma8tdSy/pS8f56H2b1/T9RNaDH7ptA9P56nKB9dl940zmqrwwvsA/fNfW\nV00/Nlfkc881not8366BFYunWzd2MFessn98kT9/5jQfvXeUttjrvvHudbthIM2p2RLdqeiaOstY\na6S/DHzMWvsXF4z7hjHmKPAfgJYWWL4fUqwF+EFIrlK//AwiIiKyLhgu32JlraVUC0hG3RULnvwF\n5wb5ap1i1efYdIFNXckVexN8pUzy/K1FVT/g/3tqjHzF546RTt6149WtXgC55vMgsHSl/hzWwrtv\n7CMecfn7bxshCK26c5c3hWyxxni2xPb+FMnoymWD5zoXtex8byLH5GKFvnSMMLSU68FFxVGhej6H\npvNVjk1PkIi4PHBD70W34+abuVbzQ6p+yBX2MfO63DjQzo6+9Jp/DmKtBVYf8OwK458B+lcYf8Wq\nfkg9hHJdP5ArIiLyZnHTYBpjwNrG8Er+5sVzHJ8ucNNgmvftevXzDzU/pFD12T2UYSiT4PPPn2Um\nXyUZdfmld25Z00lRoeKzd2yefLmO63DJAuvW4QzlWoDTjP3gucazIr3pGHtGG903q7iSN4MgtPzl\n3nHKtYDDk3l+/K6NzBWqPPzCBJ5r+KHbh0hGXApV/6Ju0jd2Jom6Dr3pGB//yiGOzxR4aPcgP3xH\n47mrmwbaWSzXCUJLzQ85Nt3oKXS4K8GNA+dbsx64oY9ULEt/e5yuVVwwuVpez2/trbXAOgL8FPA7\nrxj/U8DhNX/6ZYShpd78FeaqH7R68W8p88Uqf/joMQJr+dUHttHfrt/BEhGR68cY86pbg6y1HJ8p\nko579KVjnGw+z3Ri9tX9aeUqdR49NE2uUufFMwucnC1yZCrPlp42/NB5Xb8d4wAz+SovnV0kX6mT\nXuHhec91eMf2RocY49kSTrNlrS8d59h0gSdPzLG5u215miVjc0XOLVa4ZThzyZaAfKXOIwemcAy8\nf9fgJXs2FLkWQmsJQtsosKZyTOcqHJ8pMjZXxDGGo1N5Dk3mmc5VuW1jx3Ivnx++bQPPn57nmZNZ\nvvbyFG0xlzC0ywWW4xju3drIj0OTOV46u4jnmItuwTs8meeZU1m296Ve1+3D19taC6zfBv7SGHM/\n8Hhz3H3Au4Afa2Fc59lX/C+vy9cPTvHY0VksMNKd5Bfu23K9QxIREbnIs6fmefzYLI4x/OTbNvKO\n7d0cmMhx6wW9/y0xFsayJQqVOsf8kA0dCfrb49w4mGbPaNeaW5E6klGGOhNkizV62mKczpa4ecNr\nn9ht7Ery0ftGwTZuN/yzp8aYzVeZzVe5bVMHqeZtUblKnS88P0FoLdP5Kj9464YVl3dgIsd4tgTA\nwckcd2zqXFXslXpA1HVe15V2kUuJuA4/dPsQn/z2ceIRl88+d5bdQ2mOThdwDARBP9O5KtD4Qd8l\n2/vTlGoBn9k7Tj205Cs+6RV6+ITGLXh96TgR11x0QePxY7MsluvM5qvcvqmDmLe6iw2L5TrfOTJD\nJhHhndt7rttvzq2pwLLWfs4Y8zbgnwEPNUcfBO621j7f8uA8B8+BeggxXcS5IkHY2OgsFt9XtSoi\nIm88xVrjmYvQWiq1kDtHurhzpGvFaSOew20bOzg7X2IqV6UehLQnPB66ZcPrOqlyHcM/eOcWHn7h\nLImIy2j3yj39Fao+Mc+hVPN54vgcGzIJbt3YKABHu5PM5qv0t8dJNHs3qwchjx6a5vBkjpHuNrwL\niqBcpc6+U/P0tce4eUOGjV1Jnj2ZxXEMw6vsrezZU1keOzpLf3ucH98zvOou5UUu58DEIlO5CsNd\nSQoVH9eBQiXAWkuIoRZaRruTPD++wP07Lm6x7W+P0ZmMkol7JKMeD1zillvgotv/ClWfuOcw2pNk\n//giQ50JomvYpp8+Mbd8y+FId5KRS+Tx1bbm7jistfuAn74KsbxKEFj85qNXNT2CdUWSMRfHMVjb\nGBZ5M2hFV+8i8sZxz5ZuXGNIx73L9gh4OlsiV64xlasS9Ry296d48Mb+K7pi3d8e52P3N3o9q/kh\n2WLtopO/F88s8I2D08Q8hyPTeQ6czZGIurz/5gG29qV4+9ZubtvYweHJPJ95dpzbN3VgLZycKTLY\nkWAgE+fBm87/WPK3Ds9wvHkyONAeZ6gjwS/d37jDZLXdTy+dTE7lKq96FkZksVTnc8+fIQgtP3T7\n0Kp7wpsrVPnk/8/efQfJed4Hnv8+nXP35JyAQc4gCAYwU6RISZasYMmKlk62bN/WncNt2d49X12t\nt3btWu+uw/rWZ92VdZZlyQqWV7apQAWKpCgKGQRAEBmYHHqmezrn97k/3sZgBhN7pofAAL9PFWt6\nejo8GHb3vL/3+YWXr5LMFTnYU8sTWxrorvNy7HqUfEljVTA8leabJ8wGFWeHYtMnQ/on05wbifHR\nA5389/RltIbTgzE+sH/x2Vcn+qO8fMHcffrYA53c312L12Gr6D19o5Ohw2Yh5L5974UV9TtUSrVi\nNryYFVJqrU9UY1E35Aul6czAogRYq1IoabMgF0XJkB0sIYQQdx6X3cpj85zpjqTyfPfsKB6Hled3\nNeO0WTkzGCOSKpAplGgMONGYjbGq4VR/lG+dGsLrtNNT7yWdL9Lgd5Et14OPJ3KkskXS+SLFksGr\nlyfIFg2Khua5Hc385PIEWsN3zozw0MZ6rAr8LhuHeutmpTr5yic87VY1Pe+z0rk+93fX8pNLYTpq\nPdODloslg4lknjqfA7vsaN3TrkwkmUqb3TYvjSXnDbAiqTwn+qM0B1zT9U7xbJFwMkfJ0JwZinFx\nLEGt18n2Vj8htx2l4PXLk2a6IHBf18101hfOjJAtlDC0gd9pJ1MoYSzj2LNv0qy1jGUKxDKF6X4B\n8WyBwUiGnnrvknWJ+zpraAu5cTus89ZQvl0qnYO1D/gSsBXm9FfVQFW3Ruw2+VColnSuSDJbRAPx\njLS8F0IIsX68MTjFWDwLwNVwim0tAXa2BXlrJE4qXySVKxJw23nt8gRddZ4VNXK6PJ7kxxfGcVgt\nDE2lOTeSoDXkZjyRpSXoZiKZ5+ltjaRzJba1BDB0Dc7TVrzlDBGAkNtupvfVeLg8nmB4KoNSit5G\nH49tapjVFh7g8c2NdNZ6qPU6p+u1KtXb6KO30Tfrun96Y5i+yTRtITcfvr9jRY8r7g4b6r2c7J/C\nMPSc18kNXz82wMsXw2jg957byp6OEC1BFw9vrGcsnmEylWcwmmEwmmFjg5c9HSGsFsWF0ThOmwWl\nYfuM7n/RdJ63RuJsafbz6UPdnB9N8MyMnduFHOypI5M3aAo4aSzvRGmt+drRARLZIq0hFx+5v3PJ\nx2m8Axq5Vfpu/jwwAPwKMMwat56w2Sx47BbSBYOg6+0fLnY3yRaKWK2qfFm2A4UQQqwf3XVezgzG\ncNgstAbN2qQtzX5+/z3bSeWKHL0e4WT/FPmSwUAkzSsXw9T5HDy5pXE6vSidL/Kzq5ME3fZ567pO\n9EVJZIsksgWsFkV7jZtGv4t9nSHOjcQJue1safaze0bDjXftauVqOMl3zo7isVt5cIP5uB/Y18ZA\nJM0/nhyaPlC6NbgCs+6rt3H+FvWrMVZuPHAjKBX3rpDHwWcfWXzAdTpfIpkr4nVYGYiaXTzbazz8\n6uMbSOdLvHR+nG8cH8DvsnOwp5bmoAuLUrx2eYJMwcDvtNEQcPLVo/101npx2Sx47FbCiRw2i6LG\nY19WbWBbyM3HHpgdQGl9c2c6k18/HcUrjVq2A/u01hfXYjG30hpu7Cga0kZwVXob/bQG3Rhas3WB\neSNCVELqn4QQb5eeei+fe2wDVouabot+g9dp42BPLZlCkdMDcf76tWv4nTbqfU42N/nxOmx84/gA\nF8eShDx2PA4bDT7XnBqvzc1+hmMZNjX5OdhTQzZvsK0lgMWieHRTAw6bZd7OhC+eG+Mnl8IYGrrr\nvTy5tRGLRdFV7+X5XS2MxbPs71peN8BqeWZ7I6cHY0t2QRR3t1yxRDxTpN7nQOuF5zk1BhyEXDZ8\nbjvXwikujaXoqvPwgf3tBN1mJ8EntzbgsFpwO2zEMgUsSvP0tia2twbwOm38yxsjjMWzDE9lGYll\nOTscoyng4psnhuio9fDqpYkVNZywWBTv3dPKlXCS7a2Bpe9wh6g0wDoDNGPOw1pzhqHJlqPWRHb9\nRK13oo0NPlw2C0VDs7lp/bxAhRBC3JlimQJvDEzRXuNmQ8P8qUerMR7PEk7m2Nzkx2614LJbOT04\nxY/Oj9MccPGh+8yOebF0gS8d7uP6RAqbRZErGPRNxmn0O3FYLZwcmOL7b42RyBTY0OBjS3MAr9OK\n1pqTA1PkiwYHumrY2xFiR2uATL7I144Nki2U8LvsdNZ5cNgsHO+LYrUo9rQHOTkwhQL2d9ZQ53Vg\naPA6bKTLXRBv2NLsZ0vz239Ss7fRvyY7Y2L96JtI8d9/fJl4pojLYWVTk48P7m+fN332ZP8UI7Es\nmXCKa+UU3JpbdlyD5YYR1ydSfOvUMErBz+1pYXgqS8hjp63GzVg8S53PQTJXoDXkxqoUTQEz1a+9\nZnldMefTUeuho3bxpjd3mkoDrH8L/Cel1O9jBluzinm01pFqLQwgVygufSOxLP9yZpi+SBoN/I+T\ng/zu89tu95KEEEKsYz84N0Z/JM3J/ik++2jPimuI5hPPFvjq0QGKhmYomuHZHc0AnB9NoLV5kPfK\npQn2dYSIpvPkiwZNARdWq6LW52BDgxeHzUK+ZBBNmp0GtaHZ3OTnYw90UudzcmE0wcsXwgBYlOJg\nTy12q4WrsRyJrHn8X+cuLAAAIABJREFUcTmcoLPOw6kBcz4XmN0Lr5cHH7vsVj50XzsNfifZgsHD\nvXVV+x3c6uxQjJ9emaCn3scz25vW7HnE+hdO5Pji63385PIkNovC67TSWevhajhFU8DFqYEpDl+d\nZHOTnye3NhJO5JjKFEjkiuRKBhfHE/zKY/OnFY7Gsxhag4bvnxsnlTPfK794sIPdbUF8LhuHr0Zw\nWK30Nvl4755WktkiNd7FO/qlckUujCXoqPFMdwJczyr9NPxB+euLzK6/UqxBkwun3YpFmWmCNhme\ntyrRZIFoOg/AeEJysoUQQqyO027WVNisqup/o0slTUmbhxn5kkG+aJDMFdnfWUMsXWB4KsOp/ihX\nw0k+83A3TpuFSCrPZx/owWGz8PLFMHU+J20hN00hJxvqzdSk3e3B6S5qrvL6k7kCf3+kj2+eHOQz\nD3fTVeelLeQmlS+ys5xiN1/nP/N6C0opntiydAH/DT+9PMFUpsA7dzRXNAz5RH+UVK7E2aEYD2+s\nw1vFgFbc+RLZAq9fmaTO51hwNty54Tj9kTTtNW5cdgs1HjtKKXrqvdT5HPQ2ejnRH+V7Z0dx2a28\nfnWSA901bGsJ0B9JUzLAbbeyszW44GDf3e1BJpI5hqMZLozGSeVKbG02d5lvBFGPbKrnkU0352It\nFVwBvHB6hKGpDE67hV95dMO6735Z6bvzyTVZxQKsVgs+p5V0rkStRz5IVkVRbtMOVsv6ftEKIYS4\n/Z7d3kxPfYKmgGvZrcW11hRKGscSXYJrvA7es7uF0ViOHa0B/vZnfcQzBQ501/Do5nqyhRKFkkGh\nZDAQzZArGnidNs6NxHl6W9OseTsHu+vI5g1KWvPQxpsHfV11Xj64v51XL4X5l+FhDA1fOzbA//Ge\nHXM67+1sC+KyW7FZFN31XjY0+LCUD1wrcfT6JH/2w0uA2Rr7Ew92Lfu+W5sDvHZ5gu56D54lWlWL\nu89rlyd4czhOLJ0HDfd1zw6ykrkiL54bRWuIZfK8e3crO9uCNAddbG0OYLcqjlyPcPhqhHAiRzpf\nAgVfPTpAS9DNwe46lNLsbg/RXuNZcNC2x2EO8/7y4X7aQm4mU3me29W87PlaC7lxQkXfJS0XKopa\ntNYvr9VCFlIyzKCgeJf8wm+XGrcdu9X8QA65b99cACGEEHcHh81SURMFrTX/cGKIgUiaBzfU8dDG\nxdPpbtQRTSZz0+NFfnBujJDHQSpvdvurcTuIpPJYLeaMx9A8nfocNgvvWCClrrPOwxPWRl65GCZX\nMuioWbjOY2aL640V1JydH43z5lCcPR1BMvmbXXwz+SKFkkHJ0MsKUA/21HJfV01Fu17i7hHLFHjp\n/DjJXBGHzUq93zmraYTdqvA4rKRyJYJuBw1+JxfHEozGsvzsagRDa1oCLgyt6ag1g/R0vkQiW8Rm\nUTQHXdgsig8f6FhWx79dbUEmkzkO9tSyuQr1fu/a1cJbI3E6az3rfvcKVjdouBOYteentX6lGou6\noVQqR1Xq7olob5cHN9ZzrC+KoXVFqQxCCCFENaTzJQYiaQAujiWWDLBuqPM5ub+7luFYhhqPnWi6\nQK5gEHI7cNqtRNPmTlAqV1xRIXxbyM2ffXQfI7EsLcHqz8/5/ptjFA3NeCLHrz2+gdFYhgujSQ52\n1/CF166RyRu8e3fLgjOKZpLg6t7lcVhpr/EQTmQpGXrOyB2nzcpHD3YykczTWevhX04Pc20ixUgs\nQ8BlJ5ErcmU8Qb3fxc/vbaPGa+fVSxO0BF1savRzZihGb6OPaLpA32SKzc1+AosM6t3VHmRXe/W6\nVAbddh7csHY1jG+3SgcNtwJfBh7D3Fi6UXt1Q1X3rK1Whdtudr6T7fDV2dTgJZLOUygabGqsvE2m\nEEIIUSmtNYY2AwOv08bejhBXwknu755bQxLPFnhzKE5HrZv2W3aSbtRzjMez/OPJIXa01hHPlkjl\niuxqC1LrdVB7S51Hrlji+kSalpBr0QPFSCrPZDLHhgYfVovi9OAUbwzG2NkaYF/n7Pbq6XyRbMGY\n81yLaQq4GJrK0Bx0opTC67Tjc9n45slh3A4rTpuVvsnUsgIscW8pGRqLAqUU+zprGIvnmErneWxT\nA5ub5r5e/C47/vJrvSng4txwHJfdQr3PwXg8S1PQRTSVJ5LO0V3nYTKZY2QqQ3edl2e2N1EyNJ9/\n5SrZQomLY8k5M6lWKp0vMhDJ0FHrxuO4N0p+Kv1X/ilQwpyHdRR4DmgC/gD4reouzex9//S2Ji6N\nJ9/2GRJ3m9/86klODcQA+PUvneAb//Oh27wiIYQQd7NUrshXjw6QyhX5uT2t0zOintw6fxbFd8+O\nMhTNcOy64lce2zBv2txLF8JMJHNkCwafeaR70cDphdMj9E2m8Tlt/E+P9Mza/ckVSxzvi2KzKI5e\nj5IvGuxsC/LM9iZevTRBvmjw6qWJWQFWLFPg7w73kSsYvGNb07LP3n9gfxuTqfx0jYoun5cOeRy0\nhtyUDM2ejtBiDyHuQZfHE3z7zChBt52P3N9Bvc9Zbp/uWNY8qN4GL985WwKteHM4ToPfSSSVJ1c0\nOHotwqn+KV69NIHCfC3+0sPdwM3Xp67i/Nl/OD7IRDJPvd/JJyuoO1zPKg2wHgferbU+r5TSQFhr\n/ZpSKgf8e+D71VycUooNDT5KBvSsYDiZuGkwmpm+PByTLoJCCCHW1vBUhli5durSeJLuJRpC3OhE\naLEo1DyZcOOJLD+5FGY8Yc7GujFwOFcs8a1TwySyRZ7f2UxryJy3c2EswZtDcep9DkqGnhVgHb4a\n4XhflGzBrEFJZAt4HRagie46LxfHEnTdMog4ksqTK6dlDccyyw6wbFbLrNlD79jWRHPARVPAte5m\n+4i3z8WxJCVDE0nlGYtnuTCa4PUrk0wkc3TVezm0sX7BNNtYusAXf9bH+ZEEPqeNRK5INF2YtTvs\nd9lw261ki6Xp17rVovjQ/nauT6arOr8tmTNn2aZz1Rm/pLXmwlgChbotc+aWo9IAyw1MlC9HgEbM\nocPngN2L3VEp9QDwJ4ABHNVaL7njZRiaXNGgrcZtdjsRK9ZW4+LCuDm3o9EvTS6EuJN0/94Lq7r/\n9T96d5VWIkT1dNZ5aKtxk8yaaXxLeX5nC+dH47TVuOdtER1NFeis8+Bx2NjfVTM9d2sgkmGofBLx\nzFBsOsAyDE22UERruzm3Zwan7WaL+ZFYhqGpDCVDMxBJ865dzTy2uX7OXK+uWg97OoLEM0Ue6DFT\nHKfSeb55YggNvH9f27JSB112KwfmSZEU955LYwmuhJPs7aih+Zb6v93tQYanMtR6zZ3O75wd5dxI\nnJFYhlqfg2PXIwsHWJkCCsWmRh8+l52RWIZ80aDG7eCxzfXUep00B1xEkwVi2cKsEwCNAReN8wwj\nXo337m3lwmicrc1L77wtx7mROC++OQaAoTXbWqrzuNVUaYB1HtgKXAdOAb+mlBoA/hUwtMR9+4Cn\ntNZZpdTfKaV2aa3PLHYHi0Xx7I4mLowm2N0u2+erc/OPlU3atAshhKiCiWSOiWSO3gbfnM5jTpuV\nDx8w2533T6b5ypF+ktkiu9uDPDBPMbvbYZ1T8zRTb6OPA921ZPMlHtvcMH19a8hFyGMnmS2yuenm\n2exiSWO1WMiXNIZh8N2z44QTOZ7a1sTBnlpCHgeFUomRWJZ0vkTJ0JwZmuLUwBQPbqjD75q9jWax\nKJ7aOrsb4eXx5PQu3eXxJAd7bgZO8WyBUkkvawaQWB8ujyc4N5Jgd1twekdWa81Pr0wSzxR4ZFP9\ndA3UQvon05wanGJDvZcfvjWOoc0GKJ96qHv6Nlpr7FYLn3iwazpVtqPGTW+jj4DLjkWpeYOKaCrP\nd98cxWmzsKc9RLpQ5NFNDZwbjvPTKxN4HFY6ajw0BlxMJHNoBQG3nTNDsTUNUtpCbtrKJz6qwZjR\n36Nk3Jld8CoNsP4MaC5f/gPgu8BHgRzwS4vdUWs9OuPbAmYt15K2NgeqFvHey6Kpm2mB0Uz+Nq5E\nCCHE3SCZK/L3R/oplDQ7WgM8u6N5wdu+eG6U431Roqk8iay5E9USrOyAy2pRPDlPF1yPw8anH+5G\nazMIumFvZwi/y0bQ42AiVeCtkQQAx65HeN/etunUoo8f7OT1q5Nsafbx0ysRM22qUOIXDnTMea5b\nbWzwcWpgqnz5ZgrkaCzL144NYGjNe3a3SgOLu4DWmu+cGaVoaEamMvzq4xsB6JtMc+RaBDDTQZ9Z\nYCTADS+eGyWRLXI1nDTT97JFgreMz/nxhTCnBqYIuO186qEu7FYLj25uIJ4p0rLdxaObGubtKPnG\n4BSj5TKQrTsC07VaD22sI5ktcHY4zlePDvDpQ93UeBx01XkYnsqwYxk1XXeSnW0BDK1Rijt27ZXO\nwfq7GZdPKKW6MXe0+rXWEwvdbyal1G6gQWt97pbrPwd8DqCzszpdS8RN9YGbA+BqPKsbBieEEEIU\nSwbF8tnjTGHxc6b1Piceh5VswYrLYV3yLH+llJpbt/WuXS0MRNI0B11YlCLksRPLFNhQPzvYua+7\nlvu6a3nx7CiXxpLA8ptO1Hgd/PKjG+ZcP5HMTZ9ZH09kpwOsn16e4NTgFHvaQxzqrZ9zP3HnUkpR\n63MwHs9RN2OobtBtx25VFEqaOt/Su5V1PgeJbJE6r4MP3tfOaCw7pxZvLG4GSfFMgUyhhN1q4aXz\n47xwZgS/y8au9iB13rnHct11Xk4PxnDYLLSGZqf55Urmtk+pPOzbalGzBnKvJ0qpO74xTKVt2n8e\neEFrXQDQWqeBExXcvxb4C+DDt/5Ma/154PMABw4cuDP3+9axg521/PitMBpmpTAIIYQQKxF026n1\nOLgSTrKlaeHdK4D37G7hvq4aioZBvc85p75puSaTOY5ci9AScrN3iQMsu9XChhkDgT/1UDeFkrHg\nUN94ueV7tlDiYPfcVEWtNT+7GiFWTgVb7N+wpdnP8FSGoqFnrfNEf5RCSXOiLyoB1jr0ofvaGY9n\n6Yuk+e7ZUQ711lHjdfDJh7rJ5Etz6qgABqNpfvjWOJPJHPs6a3jPrhZG4zkaA06cNuus1+gNj21u\n4PC1STprPdOdMs8MxiiUDCKpPFfDqfkDrHovn3tsA1aLmjOs94ktjfhddpoCzorGDIiVqfQT7stA\nRin1deBvtdavLfeOSikb8CXgX9+SLijeBgOxDIY2h5YNTWWWvL0QQggxU65YYjKZpyngwmpRhJM5\nJlN5Qh4HZ4fjbJ1Rw6G15vJ4EofNwtVwiuuTKQ711s+qkQKzZkTDsg/4Xr4Ypm8yzfnRBF21norq\nm6wWhdWy8EzNJ7Y04LJbaAu5qZnn4LU/kuZnVyenH2uxVDC71TJvyuSO1iBvDE6xo+3OTGu6F/RP\npskWS2xq9KHma1e5CLP5iuLotSgAFgXP7mgm6LbPSfO74cU3x3jlUphEpoDGHNC7WPfIbKHEj94a\nJ5kr8timm7WG79nTylg8S2PAxe5FOlgudALB57Tx+IzaRbG2Kg2wmoAPAR8DXlZK9WMGXV/SWp9f\n4r6/ANwP/KfyC/rfaK1fr/D5xQpNJnMYmAHWRCJ3u5cjhBBinfnasUEmEjlagi4O9dbT4HdQ47ET\nTRfoqZ99wHh6MMaPzo+TK5bI5EuEPA4OX4vMCrD6J9N88+QgYHbg61piHMvwVGa67sTtsOJ2LBws\nrUS9z8l7drcu+POAy47NoigamlrvylIcn9zayBNbGio+sBfVMRBJ8w8nzNfcY5sbuG8FM1b9Ltt0\nSuCtJwaGpjK47dZZ19utFsKJLMlsiVzBwG03B0s3BVzzBkPHrkd54cwIhtZ4nVY+WW5+sbcjxJ9/\ndJ+8dtaJSmuwEsAXgC8opVqBX8QMtv6NUuqE1vr+Re77FeArq1msWAV9c2ScvDeFEEJUomRoIsk8\n+aLB994cZSSW5UB3DZ94sIts0ZiTLpcrmvUeyWyRoqExDM2mWxo9TKRy3OiePpHMLRpgnR2K8f1z\nY1gUPLG5gd4m34Jn6pfy5nCMkqHZ2Rqc1RTjVlrrWQezZipYF6l8aVUd0eQA+fa58boEyM+4XImQ\nx8EnHuwimStOz5QCeGNgih+dH8dqUfziwQ4a/Wa64MGeGi6PJ3BYLRzoDvHds6P0R9LUeh08t7OZ\nvsk0W1v806mALpsFqwUwwH3La3y1r51iyeDMUAyv0zZnN1lU18qSoAGt9bBS6i8w26//PrC/aqsS\nVTezqE2XpMRtNbKFElfDKdpCboIemSkmhDCNxrLEswV6G3yLHrjfboahee3KBKmc2cLZO08t0fWJ\nFEoxHfRYy2NTjl2PkCmYw0Kj6QI2qwWfde7oj/2dIcYTWUZjWZoCDvZ11vDgLa3Zd7QGmEzm0Vqz\nc5E5WacHpzhyLVKeZaXwumwrbpJxcSwxPT+nZOgF28L/9PIEf3e4n846N//bM1umW9CHPA6slgJf\nOzqAUmYjjfl+f+LO1Nvo46mtjYzEMgTctjkDqBcyFs+a7fg1nB+b3ab9hmja7NBcMjTxTJHGcvyy\nqdHPU9uauBZOcXYozoWxBBvqvRy9HuHFc6P4nDYO9tTy2UfMZin7umr4zKEe0vkST2292TUzli7w\nk8sT1HodC86/WsqR6xEOXzU7Hrr2W+msk0HXa2VFnwpKqSeBjwMfLF/1TeC3q7UoUX2Xx1LTl69F\n0rdxJevft8+M0DeZxuOw8tlHeubMfhFC3HvCiRxfPWq25X6gp5aH7+AGBlcnUhy7btaQOO3WOa3P\nL4wm+PaZEcBsTrGpfKZ7W0uAbS0BjvdFuTgWZ+8idSA2q4V9nTXlrnw3B/vO5LRZl2xpfXk8wQ/f\nGqdQMvA6rOztrKF3nqYAyzXzUHqx3YB/Pj0yPePrcjg5a1zMueH4dC3z+dHEitLMxO3TXefl5Yth\n3hpJMJ7Izdv6f6bxeJa/evkqTpsinMjTVuOe1ab9hoM9tRRKGq/DOqtlv8WieHxzA7lCiWg6T2vQ\njctuxe+ycXpwCpvFgmdGuqvVonh629z3xU+vTHBxzBw10FnnWdEuqprxDpCN1LVVaRfBP8ZMC2zE\nnIH1OeCftNZS1HOH29Ue4GLYDLJ6GxbPcxeLu9GOOF80KGm98m1gIcRdI1cslXdYlm5ZfruFPDdr\nieq9To5dj5DIFnlwQx1uh3XW+uf7t9gsitFYjm+dGuZjD3TOalk9U1vIzXv3tpLMFhfdoVrMjU5o\ndquFh3rr2b/IIOLl2NTk5127oFAyFp2fs6c9QH8kRZ3XQXto9ln+zjoPx/rMALWjpnrDU8Xa01rz\n+tUJroSTtNe4yeaXfq9+/9wYbw7HcNostJebU8z3mvc4bIueMNjRFqQ/kqY15OL5nS184/ggl8eT\nBFz2RQds32A+ZwKHzYLftbIjj4M9tXidVjwO26KNNsTqVfp/6GHgPwJf1VpH1mA9Yo3c11U3PTH8\n4U3SRWY1DvXW88LpEe7vril3FBJC3Ovaazy8Y1sT0XQep93CGwNT7G4PLrhLslBq0kAkzcsXw7SG\nXDy5pXFN6nXqfU4+9VA32WKJbKHEN0+MTf/sya2N7GoLkiuUUEqxs3VuYDSZMs+pFg1NLFNYMMAC\ncxDvanTVefn5fW3kiiW2NPnRWs8ZKFypGwOGF/OR+zt5dHMjIbd9TgpgS9DNLz/ag0LhmGdnTty5\nLo0neWskgctuIZrO017rnn5NaZj3PWkAGxq8ZAsGv/HUJvIlY9527EtpC7lnzUz7pYe7eefOZo5c\nnSSSLnC8L7robujBnlraa9z4XLbpeq1KWS2K3e139vyou0WlTS4OrdVCxBpToCwWLDc+RcSKfen1\n6xzri3K6PCzSucJCayHE3WVXe5DTg1P88K1xwDyYmW/n5jtnRjg/mmBfZ4gnbklPOnwtQjiRI5zI\nsastRIN/9YPhDUOTLxnkigb5okGD30nQYyeInXAih9WiKBl6+qy41aJ4YMPCNR4He+rIFw18Tjs9\n9ZVnRFweT2JRzDv/Zz43niOeNWufsoUS79vbtqZn4JVSi6Zgycm19cnntKEUpPMlvA4bL5we4ftv\njpHIFbFaFJ21Hj58oGNWA5V3bDMD7Z56L023BFaxTIGBSJqeem/FtXhWi/kaG0vkyORLvHopzL6O\n0KInD1pX0VzlVtlCCafNsqKTOJNJ83Mj5JF5WgupeI+xPM/qINAJzPrNaq2/WKV1iSqLpvKksgVp\n014FP7saoT+SZjSWI50vSYAlhKBQMhieypDOF7k4lkABT2+bW9thGJoL5TqK86OJOQFWd52HgXKH\nsYXm6lS6rq8eHeD6RIpUvkij38U7dzSzvZwe1+B38tGDnaRyRbrrvWitGYxmCLjsCzbx8TltPLez\nZUXrOTcc53tvmqMwZ9Z3zTQYTeN12ObMuBqKZkhkzQYbl8PJVQVYP7k0wVg8y6Ob6mkMVL4bIdan\n1pCbjx3s5OWLYQajGcKJHBZltlcPuu24bBZO9UfZ13UzQ6Ul6Obn9rhJ5or0TaboqPFgsSi01nz9\n2ACJbJHGgJOPP9A167li6QIvXRjH57Tx5NbGBZtpdNd5eWskTledZ9HgajKZ4+WLYWq9Dh7fvLpW\n/y9fDHOiL0pXnYcP7G+v6L5Xwkn++Y1hFIoP3tc2q5OiuKnSGqytwD8DPZi1oqXyYxSAHCAB1h3q\nwmiCEuYHwqVw8nYvZ12LZQqk88VyWoFsBwoh4GvH+jnZF8NqMYfmKgWFGR1bj/dFuVBuiHCgq5Zz\nI7F564kOdNeytSWAy2apSgOdqXSBcCJHplBiIpGj0e9iIjn7JFuD3zm9U/b61UkOX43gsFn45ENd\nK05FWki+dLM1dm6eNtnH+6K8cjGMzaLm1Hd113lpDblI50uL1k8tZSye5eh1s8rhp1cm+fl9bSt+\nLHFnOzcc59TAFNtbA+ztMFPjGgMu3r+vjXMjcRLZAl947fp06/3xRI7XLk9ybTLNRw92Tj9Orlji\ny4f7SOXM196zO5oZjGa4Ek5S43GQK8x9LR/ri3Btwqx976730ts4/47tO3c0cai3Dq9j8UPyn12N\n0DeZpm8yzcYG36pOMFweN48D+ybT5IqlinZkJxK5ckqlZjKZlwBrAZXuYP0pcBzYC4yWvwaBv8Rs\n1S7uUFubA7x0YRwNbG2SCfKrYRgGNosCpSgYK5ujIYS4u7x2eZLJZJ6SoTm0sQ6r1UJTwAwOiiWD\nVy+F0RpevRTmlx/dwCObFu4yeOtMqdWo9znY3hpgKJpmd1uQgNu+aJ3HVLoAmE18Urli1QOsXW1B\niiUDpWB7y9y/RVPlVtdFQ5PIFmcFWG6HlY/c3znnPpUKuu34nDaSuSItK6ilEevHK5fCZPIlwokc\ne2bURNqsFna3h3hrJM6Ocp3hAz21nByYIl80pluu32C+H8yGGNF0nlSuyD+eHMJtt2Jozc/tmTug\nuiXo5vRgDIfNQr1v4VQ6pdSyxg60hFxcHEvgdljn7O5W6oGeWo5eNwd/V5ruuqcjZI5osKjpnXAx\nV6Wf4vcDj2utU0opA7BprU8opX4H+G/A7qqvUFTFJx7s5OxwjIJh8CuPbVj6DmJBXXVepjJFaj12\nQm7JPxZCwPbWAOeG47QE3XzmkR4S2SLH+6JcDad4dFM9rSE3Q9HMis72Xg0nOTUwxeYm/6yarmLJ\n4IUzI0wm8zyzvWneM9pKKd65o3nZz3Wotx6LUtT7HLQEq98hz2pRHOiuXfDnD26oK9eD2elaoxk9\nLrvVHBicKy7aoEPc2bKFEj++YNY7PrGlcd7B0521Hi6MJmivcc+bUre5yc9EMkeuYLC/q4aWkJu3\nRuJzgn+/y84z25sYiKQ50F2LUmYal99lZ2Ojb95aye2tAVpDLhw2C54ldqfAnL02nshxqLd+3sfb\n31lDd50Xj8O64iHbN+xsC876LHljYIqj1yNsafbz6BKN0Fx2K8/tXP5nyr2q0gBLATeGKIWBNuAC\nMAj0VnFdosouhVPYrAqLsnBhLE69XzoJrpTXZaO9xo3HYZMaLCEEAJ96qJtLYwm66ryEPA5evzLJ\n1XAKSNFT7+WD+9tJZosE3JXvTv3o/DiJbJGBSIZtLYHpWo6RWLb8HOaZ+ka/i+46z7x1TcsVdNuX\nPHjKFw0yhVJVasRu5XXaeLaCgHClXPbVH6SKt5/WmuN9URLZIg6rhbdGzHrGBr9r3p3Z53c2c2hj\n/YJtza0WNSug6Kn3ztu4ZSqdZ2vz7BMcHzrQzvBUdtF01eU2gRiLZzl8zUxbVQret3f+tNXaVe5c\nLeRoeVTDsetRHtxQNz0eQaxcpb/Bs8Ce8uUjwO8qpR4H/h1wuZoLE9V1bTLJyf4pTg3EuDgmNVir\n0VXrpVgyqPU6CKxwFoUQ4u4ScNm5r6uW+vKOyI1uY067haDHjtWiCHrsixamG4bGMAwMY3Zt540m\nDA1+56xC+Qa/k1qvA4tSjMVynB2K8e0zo2RmzPYJJ3J8+8wIpwenqvLvzBZKfPH16/z1T65xvE+m\ntYi3V99kmlcvTXBqYIrBqTQWpbAoReMC3TaVMt93q2nr/9L5cb7w2nW+emxg1nuzJehmb0doxYH6\nif4o3zkzQjSVx++yTQ8bblpB05WSsbp68M3lkzIbGrwSXFVJpUeH/wG4Edr/PvAC8BIwAXy4iusS\nVeax22gMOEFXN7//XjQYTZPMlxhPZMkXS7jlw0gIcYv9nTV01Himh3ouZSCS5uvHBjg3Emdbs58P\n3985nfL37l0tTCRzc85eu+xWPvVQF0VD892zo1weT+J2WLBZbx5MvnRhnKFohguj5u7aanedptKF\n6U5+A5EM93UtcQchqsjrtGFRCkNrNjb4eG6H2c1yoY6X1TAQNRO3xuM5ckUDt8NKydD8w/FBhmMZ\nHt/csKxBwTNNJHO8fCEMmI1f3re3jU891E0iV6DRX1mA9eKbo7w5HGd3e5Cnty086Hgxj21u4MEN\ndTLXrYoqnYO0jwjWAAAgAElEQVT1vRmXrwLblFK1QFRLO7U72lNbGwknshQNzbt2ray9rjBdGE0y\nlcqTKxgkcwZuSeEXt1n3772w6se4/kfvrsJKxExLzbDKFkocuRbB67SSyBSZTOVJZItMpgpcHk8S\n8tg5dj1KY8A5XYh/K6UU54ZjpPJF9naEONBdM+sMdK3HwVA0g8dhxTnPwZPWmkSuiM9hW9ZZ/qaA\nk70dIcbiWR5cZFaWEGuhwe/kYw/cHCuwVsKJHK9cDFPvd3JoYx1HrkfZUO/FXd5limcKDE1lALNL\n840AK180+NvXr2Og+eQDXbgWOLnicVhx2i1k86Xp96XbYZ1+/EqcH7059mGlARYgwVWVrXorQ2st\nOQLrgMtu5Zce7rndy7grhBNpciVNIVPA0NJFUAixMkeuRTjeFwXgkU31BD126rwOajx2Iqk8//eP\nr5AvGXgcNpoCrun0w5kKJcPsEKshlSvx5NbZc7We2trI5iY/tT7HdCrT2aEYpwdj7GgNMBLLTs/g\nWc48HKXUnOcQ4u00c6xApfJFgxfPjZItGDyzvWnBHd2fXZ2kP5KmP5JmU2PHrJbtACGPna3Nfgaj\nmVm7V//8xhD/fHq4nC1kn3O/8XiW65NptjT7+fgDnXzl8ADnhuM4bBY2NvgIJ3LsbAtWlHZ4oLuG\ns0Mx9rSHKvhNiLW2ZICllPqn5T6Y1vq9q1uOEHe+VN7crDWAaDZH0xp02hJC3P285XRtpSCRKZDI\nFKnzOciXDL51aoho2qzNeGhjPaWSwXgiy0Akg0WZ7df7Ixm2t/hp9LsYi2dpnafluMWi6LylG98r\nl8LkCgYTyRyOcjphfySNYehV1aoIcSfLFUscuRrhzOAU44k8htZ8+EDHvLdtDbm4PJ7E47CSyBa4\nGi6xocFHoWQQSeWZSOao8Tp4alvjrDbn2aJBOGHOmcsVSrMes2Rovn58kHzR4PJ4kg/sbyNTKJV3\noeOcHoyhNUwk8xV16Xt4Yz0Pb1x47IO4PZazgzW55qsQYh2ZmQtrQw5GhBCVuxpO4nVaee+eFrxO\nO997c5Tzo3HCiSxBj4NUrog2oMbj4D27WvjGiSH6J9MoBfU+J2eHpigamj0dNfzmOzYxlS5Q53WQ\nL5o7WsWS5qmtjfOmHHXWerg0lqSj1s3mJj8n+qfY3uKX4ErctUqG5u+PDDA0leHY9SgOq4Vzw3HS\n+SIeh42BSJrvnxujzufg3btauK+rlu46LxPJHN8+M0osU8BuVSRzJVw2C0PRDD6XjR++NcZHD3aS\nyBbpqPWwszXIQxvrQMPujrk7SpZykxulzMyihzbWcWk8ybYWP69dmkSjWaQPjlhHlgywtNafUUrt\nBt7UWpeWur24c701EqdkaHa0BhbtZCWWbzyWpbdp/toIIYSYz7WJFN86NUzRMLuR7moLYVFmTZbD\namVDnZfJVJ56n4OmgBsNjExlODccw2pRhDwO3hiM4XPaCLjt2K0WHFbFC2eGsVktnC+3rq7x2uc9\ns/3uXS3Ee4v4XWbd1Y36rlyxxLdODjOVydNV6+HqRJreRh/PbF95XYcQd4JCyRwe7LZb6arz0BJ0\nTzfMAPjZtUlODUSxWy3saA3Q2+inzudkvLwbNRrL4HXaeHM4js0C4UQem9XClmY/f/njK7SG3Lgd\nVjbUe7FaFL2NfgIuG7FMgaDbzlQ6z9HrUXa1BXE7LGxu8jMQSTOeyFLrtdNZ46Fpv4twMrdo2/eF\nnB6c4rXLk2xo8PLs9iY5xrsDLLcG6yTQAowDKKVeAH5Zaz2yVgsT1XVhNMF3z44CYGjNbsnVrYpc\nSc45CCEqUyiZtZtD0Qzj8Rzj8RzJXJHuOi/RdIGeei/v39/G6aEYzQEXfpeNy+MJ0oUSLQE3qVyR\noNtOydA8vsmsh/rjFy9yfjgGCh4oz7FZqN3zjdbVYDa5eP3qpHkGvsY9Xbj/g7fGaQ25OTsU49FN\n9QvWhERSeSaTOTY0+Ga1kL9V32QKq0WtaNCyEJUKJ3IE3Lbp9D2X3cqTWxq5Ek7y9LYGXr8Sob3G\nhaPcECaeLtA/mWYqU+Dvj/bz3I4WzgzF2N7i59FN9TQHnQxG0vRP2rBbLZQMsymF02aZbq9eKBmc\nHozRHHBzaSxBMlvEabfw6Ye7eenCONcnzG6EnznUjWHA148NcuT6JHVeB5Fknk8+1D3vsPDlODUw\nRbZQ4txwnEd666fTj8Xts9z/A7d+aj4GSOHJOqJnJLZJv8fqCckcLCHueebBU4qHN9azpXnpIb+b\nGn08va2Rs0MxRmJZtDYH/Nb7nOxoDfDU1kZGYlmO900xEMnw4wthepv8KJWkJegk6HZwtC9CwG1n\nW6v5fNfCSS6OJ7FaFJ851M2h3oZlDTm9Ppnm8FWzV5VhaOp9DmKZAod667g+ae5gLRRcpXJFvnKk\nn3zRYFdbkHcssNN1bjjO9940T/C9f1/bmnZ/E+LVS2GOXY8ymczRVefl4d46drQG2dMRYkuzn3/7\nzTOcHIhS53Vgt1p5dkczW1sCnB6K4YplKRY1f/aDS+TLAdPvPrcVr9PGSCzL5mYfIbcDDTQGnBzs\nrqUl6OLcSILuei9nBmOcH41PN6TJFQyyBQO/0zyh4bRbcNqs5IsGSjHd8dPvWl2b+e0tAV67PEl3\nvWc64BO3lxwd3iO2NPkpGRrDgJ1tlW8/i5sUN+uwSlo+yIS4lyWyBU71m0N8j1ybXFaApZRid3uI\n3e0h+iZT5plwq5WJVI7uOjPFaOZuUGvIjd9lZ3ebOecmUyhRMIzpNu67280Dx77JND6XlVTeWFZw\nBRBw2bBZFEVD0xR08fyuFrTWKKWmvy4kXzTIF83duFS+uODtZv5ssdsJUQ0jU1mKhsGl8SRep43D\nVyPTabBXwkkiqTz5okEqXyJdHsr98MY6/C4bJ/unsChFNF1gNJ5Fa43XaeXwtQQKRb3PxYcPtNN2\ny07soV4zoGoLuXnnjiZimQKHr0VoDbqp9Tp4cmsjPQ1e6r3O6XbsH9zfzoGuGmq9DjY1Lf25sZgD\n3bXc11UjqYF3kOUGWJrZtf3M8724gymlFpyjIipzoLOGE/1Ran0O9ndXNlxQCHF38TpstIXM1Lre\nRj/pfJEX3xxDKXh2e/OSc2266m7u5swcltoacvP+fW0kc0W2tQRmBVy6nObdH0mzqckHmDtDmXwJ\nt8PGk1uW30a9zufkkw91kcqXaAuZiSlquhB/8YO1Gq+D53Y2MxrLct8in4V7O0IUigZWi2Jbs5zg\nE0t79VKYwWiGR3rrK06be2RTPZbLZraO3WqZfo8AtIc8HOiuwWW3cKCrdnrXdeZJD4A97UEujCV4\ndFM9fpedPe0hwokcDX7ngqm3Nyhl1km+c8fNToBWi2Jjg2/W7TrrPHM6fK6GBFd3lkpSBL+klMqV\nv3cB/49SKj3zRtKmXdwL3r2nhf3dIZw2C/mSxiWz+YS4Z4cdWyyKXzjQTq5o4LJbOXo9wrWJFADn\nRuLc17XykzALpdIppfjA/rbp5wTY1R7iD1dYWxvyOAit8DhvW0uAbS2LB012q4WHe6WNtFieaCrP\nsevmfLifXpngI7WdS9xjttaQmw8d6EBrPes9AuZJjF97fCOGXnyw7u6O0KwugN31Xn750Q0V/kvE\nvWy5Adbf3PL9l6q9ECHWi846D9F0gebgzQJZIcS9Syk1fRDXGnJjsyiUMmfpvB3PKcTdxOeyUet1\nEEnlV9z0ARZ+j9jk77Z4GywrwNJaf2atFyLEevHU1ibu66zFV25xLIQQN7SF3Hz20R4Uasn0QCHE\nXHarhY8/0EkqXyLoXl3zByFuF6VX0VJOKdULDGqts9VbEiilwkBfNR9TiLdBl9a64XYvYj7ynhLr\nlLynhKgueU8JUV3zvqeWHWAppf4jcEFr/TfKrKR7EXgaiAHPaa0PV3O1QgghhBBCCLHeVJKI+nHg\nQvny88Be4EHgi8AfVXldQgghhBBCCLHuVDIHqwkYLF9+F/A1rfURpVQEOFb1lQkhhBBCCCHEOlPJ\nDtYk0FW+/Czww/JlG2YbdyGEEEIIIYS4p1Wyg/UPwJeVUheBWuB75ev3ApervTAhhBBCCCGEWG8q\nCbB+G7O7SyfwO1rrVPn6FuAvq70wIYQQQgghhFhvVtWmXQghhBBCCCHETRWNs1ZK7VJK/YVS6jtK\nqZbydT+vlNq3NssTQgghhBBCiPVj2QGWUupZ4CjQBjwFuMs/2gj8n9VfmhBCCCGEEEKsL5XsYP17\n4Le11u8H8jOu/zFwsJqLEkIIIYQQQoj1qJIAayfw7Xmuj2B2FRRCCCGEEEKIe1olAVYEMz3wVvu5\nOYBYCCGEEEIIIe5ZlQRYXwb+WCnVDmjAppR6HPjPwBfXYnFCCCGEEEIIsZ4su027UsoO/H/ALwIK\nMMpfvwx8WmtdWqM1CiGEEEIIIcS6UPEcLKXURmAf5u7XSa31pbVYmBBCCCGEEEKsNzJoWAghhBBC\nCCGqxFbJjZVSHwGeBhq5pX5La/3eKq5LCCGEEEIIIdadZQdYSqk/Bn4TeAkYxmx0IYQQQgghhBCi\nrJImF2PAv9Jaf2NtlySEEEIIIYQQ61MlbdotwKm1WogQQgghhBBCrHeVBFifBz6xVgsRQgghhBBC\niPWukiYXIeBjSqlngNNAYeYPtdb/azUXJoQQQgghhBDrTSUB1nZupghuveVn0vBCCCGEEEIIcc+T\nOVhCCCGEEEIIUSWV1GAJIYQQQgghhFjEoimCSql/Aj6htY6XLy9IBg0LIYQQQggh7nVL1WBNcrO+\nanKN1yKEEEIIIYQQ65rUYAkhhBBCCCFElSy7Bksp9bBSqpKug0IIIYQQQghxT1n2DpZSKos5++p1\n4Mfl/45orYtrtTghhBBCCCGEWE8qCbDcwCHgceAJ4H5uBlwvaa3/cI3WKIQQQgghhBDrwoprsJRS\nG4H/HfgEYNVaW6u5MCGEEEIIIYRYb5ZdU6WUasTcuXqy/LUTOAL8B8x0QSGEEEIIIYS4p1WSImgA\nYeCvgB8Ah7XWuTVcmxBCCCGEEEKsK5UEWF8CHgOCwKvAS5g7Vye09HoXQgghhBBCiMprsMq1V0+U\n/3sMCACvaK3fV+3FCSGEEEIIIcR6spK5VteAeqARaMIMtJ6r4pqEEEIIIYQQYl2qZNDw7yilvg1M\nAa8APwccL3+tXZvlCSGEEEIIIcT6UUkN1swBwz/RWqfWbllCCCGEEEIIsf6seA6WEEIIIYQQQojZ\nlp0iKIQQQgghhBBicRJgCSGEEEIIIUSVSIAlhBBCCCGEEFUiAZYQQgghhBBCVIkEWEIIIYQQQghR\nJYsOGlZKvQQsq82g1vqpqqxICCGEEEIIIdapRQMs4OyMy1bg48AocLh83UGgBfhS9ZcmhBBCCCGE\nEOtLJYOG/wQzyPoNPeNOSqk/LT/Ob6zNEoUQQgghhBBifagkwJoEHtJaX7zl+s3Az7TWtWuwPiGE\nEEIIIYRYNyppcqGAXfNcP991QgghhBBCCHHPWaoGa6a/Bv5fpdQm4Gfl6x4Efgf4QrUXJoQQQggh\nhBDrTSUpghbgXwO/gdnYAmAE+DPgv2itS2uyQiGEEEIIIYRYJ5YdYM26k1IBAK11vOorEkIIIYQQ\nQoh1quJBw0qpA8DzQKn8vVcpVUmqoRBCCCGEEELclZYdGCmlmoBvYc6+0sAm4CrwX4EsZuqgEEII\nIYQQQtyzKtnB+hNgDKgD0jOu/zrwbDUXJYQQQgghhBDrUSWpfU8DT2uto0qpmddfATqruiohhBBC\nCCGEWIcq2cFyA/l5rm/ATBEUQgghhBBCiHtaJQHWK8CnZ3yvlVJW4HeBH1ZzUUIIIYQQQgixHlUy\nB2s78DJwCngc+BdgBxAEDmmtr6zVIoUQQgghhBBiPahoDpZSqhn4deA+zN2vE8D/pbUeWZvlCSGE\nEEIIIcT6UckOVicwoOe5g1KqU2vdX+3FCSGEEEIIIcR6UkmAVQJatNbjt1xfB4xrra1rsD4hhBBC\nCCGEWDcqaXKhMAcM38qHdBEUQgghhBBCiKXnYCml/rx8UQN/qJSaOWTYChzEbHwhhBBCCCGEEPe0\n5Qwa3lX+qoBtzJ6FlcdsdPGfq7wuIYQQQgghhFh3KqnB+gLwG1rr+KqeUKnfAj6otX5kNY8jhBBC\nCCGEEHea5exgAaC1/sxqn0wp5QT2LnW7+vp63d3dPf19ydBYLWq1Ty/Emjp+/PiE1rrhdq9jPre+\np8TaMrQGFPKxtTrynhKiuuQ9JRaiNRhorEr+cFVioffUsgMspdQ/LfZzrfV7l/EwnwX+BviDxW7U\n3d3NsWPHAPj6sQEGoxm2NPt5166W5S5XiLedUqrvdq9hITPfU2JtXR5P8sLpEWxWxS/e30Gdz3m7\nl7RuyXtKiOqS95SYTyxd4MtH+skVSzy3s5mtzYHbvaR1Y6H3VCVdBCdv+S8O9ACPARPLWIAdeEJr\n/aMFfv45pdQxpdSxcDgMgGFohqYyAAxE0vPdTQgh7ijDUxkMrckXDcbiudu9HCGEEGJR4WSObKGE\n1jAYydzu5dwVVp0iqJT6L5jB1lI+CXx5kcf/PPB5gAMHDmgAi0Xhd9k4ci3CO7Y1LXepQghx2+zp\nCDGRzOGyW+lt9E1fnyuW+NbJYaYyeZ7f2UJHrec2rlIIIYQwddd52NYSIJkrcl9XzaK3nUzm+Nap\nYWxWxfv2thF029+mVa4vyw6wFvFXwE+Af7fE7bYAe5VSvwbsUEr9L1rr/7bYHQxDE88U2docYDKV\nX+ymQghxRwi67Xxgf/uc64enstM78meHYhJgCbGA7t97YVX3v/5H767SSoS4N9isFp7b2bys214c\nSxLLFAC4Gk6yr3PxgOxeVUmK4EK2LOdGWuvf1Vq/U2v9HPDmUsEVmDtYW5v9ZPIltrdIPqgQ4vYq\nGZpwIkfJWF731Zlagi7q/U7sVsVW+TwTQghxm2ht/i0rlIyK77ux0YvHYcXvstFT712D1d0dKmly\n8ee3XgW0AM8Df13Jk1bSoj2eLeB2WKajZSGEuF2+dWqIvsk0XXWeeXepFuOyW/nkg11orVHSpUkI\nIcRt8r03R3lrJEFjwMnHDnZW9Dep0e/iVx/fuIaruztUkiK465bvDSAM/BYVBljLZRia0VgOUIzE\npOhOCHF7jcSys76uhARXQgghbqfhKfNvmLmLpXHY5O9StVXS5OLJtVzIfCwWxeNbGjg1EOXhDXVv\n99MLIcQsT21t5MxQjF1twao8XjpfBMDjqEY5rBBCCLG0J7Y0cKwvyuYmPw5bNaqFFlYsGaRyJYKe\ne6sZxh3/V/3yeJJoqsCVcIrN0pd/xQxDc/R6hJKhOdhTi826tm8oIe5G21oCbKtS/dRILMM3jg0C\n8P79bbTX3LtNL8bjWc4Ox+ht8NNZd+/+HoQQ4u2wocHHhgbf0jdcpZKh+crRASYSOfZ31fD45oVn\nXE8kc5wenKKn3ndX1HYtGmAtNVx4pmUOGq6IYWgGo+b8q36Zg7Uq50bivHR+HA047Rbu66q93UsS\n4p6SzBXJFUrTg4eHp7IUy80yhqey93SA9e0zI0TTBc4Nx/n1J3qxWiRdRQgh1oNcscRUukCDz4nl\nls/udL7IRMKcB7nUPNvvnh0lnMhxdijOrz6+AafNumZrfjsstYM1+basYgEWiyLgsnH4WpR3bGu8\nnUtZ9xLZAqcGp9Aa7u+W4EqIW2ULJf7HySGSuSLv2tVCa8hdtceOpPJ85Ug/+aLBM9ub2NkWZHtL\ngMFoGq1hZ9u9vTvvcdiIpgu47FYkthJCiOq7PJ7k/2fvvYMcO897zeccZKARGuicw+TMyTMMYjBF\nUqKoTGVbkm3Ztd5d7/V6Xd5dl111995rl329dnlvXfva3ut1kOUoiZIl2aREiqQYhmE4w8k90z3T\nEd1AI2ccnPPtH6cH0z2d0GHy91SxCn0AHHzAgHjP+73v+/v96NwUzT4nH9ndti4bWboh+Lu3Ronn\nymxr8/HE9rlS716njUN9QYZjeY4sM+rjtpsJldOmYlXv/C6rJROsxcyFbxaGIXjt0jRD0RxOq8Kn\n93feyuXc0bjsVnpCHgwh8Dpv+85QiWRVFDWdqXSRVr9rRX3l48kC//D2CEPRHL0NHs5OpGkLuDAM\nwQ9Oh5lIFvnk3g6CdfZVrSueK1GumHK4kUwR8OOyW/jonvZVne9uUyJ8Zk8bw7E8bQHnXfW+JBKJ\nZD0ZjefxOW2rmmd6fyxJplhhYCqK32XlkS3N1fti2RJnJtL0NXoYTxQYiGTZ312/bEu8phvEZ3xq\np9ILiz8d7W/gaA2igx/e1cqV6TytAWc1+buTY91tfaVdqRi8ORSjqBkk8tJoeC14HVaypQqGIahz\n3NllV4lkMf7xnVGms2U6g24+ta92GfW3LsfQdEG6qFHWDTY1ewF4bzTBX785jBCQKpT51Se2rGpd\nvQ117OzwE0kX2TtjyvjOlThjiQKH+0K0+J0rWGucNwZj9Dd5eHpX26rWc7vhtFnY3OK91cuQSCSS\n25Y3h2K8MRjDblX54uFu/K6VJVlbW328dilGMq/x7nCSnlmzTt87FSaWLXNiNElFN1AUhdcuTS+b\nYDltFh7Z0sRQNDuvO0oIweuDMabSRXZ3BOhvWnrmy2GdGwfeHIpxbCjOhqY6PryrdUXv9Xaglhms\nLwoh0svNY92IGSwQlDSBLqCg6et/+nuIXLlCo9eBEJDXVm4sJ5Hc7gghSOZNv7xEbmUbMj0hD1em\n8zy8uYnNzXU8f3aSbW0+Ai4bFkWhIsSKlP5i2RKJfJnehjosqoJFVUjlNabSJV4eiPLwpiZevTgN\nQLli8OyB2qvzp8dTGEJwcSpLUdNx2uSGiUQym55f/96az3Hldz68DiuRSNaPq3GtXDHIlirLJljD\nsRw/PBehyevgQztb2drq4zMHOnjtUgxFAcesLo+rt502lYDPyXiyULPQxJ7OAHs6A/OOT6SKvDkY\n49R4ih+eneLTBzp5ZHPt4z5nJtIYQjAwleFwLkgsW6Yr6L5jYl4tM1hi1u2biqqqeF1m5aXes7rW\nHImJRVV4fyyFEIIP7WxZ/gkSyR2Goig8tbOVC5MZdrb7eOlChGi6xEObGpetEN3XVc+mZi8Oq8qf\nvjpESTN463KcX35sI//bE5uZTBd5uMbAkClqfOOtETRdsKczwKYWL8OxHEPRHFaLwliigMtuweu0\nkilWaPQ5VvQ+7+sK8MZQjA2NdXdMoJFIJBJJ7YzE8rw+OE1X0M3RDQ0AHN3QgKJA0OOgvYYZ4fdG\nkqQLGumCRiRjts4f6AkScNtx2Sxz5oyf2d3OYDRLZ70br9NKrlzB67QxFM0ylS6xpzOAy76yeON3\n2bBYFAqaTqPXwXhiZX6293UFeHMoxsbGOr793gTpgkZ7wLWiDclbSc0zWLdiHstiUQh6bBQ1nWZv\n7S00kvmcC6exqgqgcC6c4WCv9BWT3H1saKpjQ1Mdk6kiJ0aSABy7HKtp1snjMH8Ot7R4OTmaYlOz\nF0VR2DPT0lcrpYqBppv7UsmCxreOj6HpAlWF9oCLnR1+7FaVzxzo5PmzU1R0g3LFWHJmrKjpfPP4\nOOmixod3tvI/PLxhRWuSSCQSyZ3Da4PTTKaKhFNFtrf78bts+F02ntxRe6vcxuY6rsRyhOochDzm\nRp6iKNUW+Nm47BZ2zPJ39DptJPNlvnNyAiFMoaaVtunVOaz8/IN9bG31kspXOLxCP9smr4POejdt\n9S4uTGUAsxvrZnMpkuX5s5M01jn42H3t2Gq0ObrtZ7AyRR2LopCUM1hr4khfAy+fj1AxBA9tarjV\ny5FIbigBt61aIeqoN3fphBAIwTwZ2et5dEszD25srPlHNFPUeOdKHAHs7aqnoc7B49uaiWZK7Gz3\n8X//ME5R0znYE5yz83YpkmUkZsrWBj32qnWCboh56k7jyUJ1gPjMRJrO4L0r6S6RSCR3Ox31LiZT\nRUJ1djwrrBxdZXubn03NXqyqsqRQxPUxZySWZzCapSfkQVUUdDE/Ji12nuFYjkavg2ypwvlwhs0t\nXp7YvnxiZhgCRWHOOn94dopEXmMomuPDO1sYjufnJIE3izMTKUqawViiQDRTqllheLkZrJe41iK4\nJEKIR2t6xRWgKAqZokZRM7AUtPU+/T3FdLbEdF7DMASTqSK9DTfeYE4iuVU4bRZ++kgPhbLpHp8q\naPzjO6OUKgYfu6992faKWpMrgJcuRHnpfISJZIH93fX8wsP91SBwdiKNgmB4Oo/brvLeiJed7X6s\nFpWgx87VWFLvtlPUdP7hnVGSeY0P7WxhQ9O1Xcb2gItGr4N0UWPbOhkdSyQSieT25MGNjexs9+Nx\nWLGuIB5dj82iUqrovHgugi4Ej21prrb6VXSDfz4+RjhV5NEtTezqCFDRDZ47MU7FEIwm8ty/IcTF\nqSxH+5evPr1wdpJz4QxuuwVDCIqawYWpDF+5v4dUwfTJWijRG43n+c7JCRwznR1epzlbFqpzkMhr\n+F1W+hrr2LBA5e1mYFqqFGisc9Dorb2lf7kK1ulZty3AF4BJ4NjMsYNAK/A3K1hrzei6TlEzEECh\nJEUu1sK5yTTxrGn2dnYizZF+WcWS3BmcHk8xlihwoKe+atJbC3arWm27G43nyRTN1oLBSLam/vXF\nKGo6r12axmW3cLg3hNtmoaTpqAoYQKGs45sJEC67hfFEkbFEjpF4jnzJ4FP7Oji6oYHukIcvHu5G\nCGj0OhiO5YhlzUr9hcks9W47b19J0FHvYke7ny8e7l71miUSiURye3FiNMlUusihXnMu6noWOrYa\nzoUznJ80W+wa6xwcmmnVSxY0JpJmZ8T5yQy7OgKoioLTZjFVp4XgJxdjGMK0THpq5/xKVLZU4fVL\n09R77KRmCiEFTafObqGIKZ7xjWMjJPIauzv9PDojDa8bgtcHp6kYAm2mTb5cMatEPSEzdj+1o4Vw\nqkijdxCuz54AACAASURBVL6B8c1kY7OXjatI7pabwfqfrt5WFOUPgL8EflkIIWYd/0PgBr1zBVUB\nXdy4V7hXCDrtRDJFDAFepxyMl9wZpAoaL5ydAswf8oWk169M53htcJrOejcPbWpc8Dx9jR5a/E5K\nms62NrMClClq/NuZKayqwpM7WmoWjHj7SpzXL8WwWBQa6xw8vLmRoMfO0HSWvsY6mn3X5kV7Gzzs\n6vBzdiJFWTdI5EtzztUwK2FsC7joDrmJ58rs6vDzo/MRxhMFzk+m6Qq5q0mbRCKRSG4duiF44ewk\nybzGY1ubV1TVuMp0tsRL5yOAuWm3Wk/EWvA5rQxMZdANwRPbr3lfBd12NjV7mUgW2N3hZzSep9Hr\n4DMHOxlPFAh57HzjrdElz/3apWnOTqQBeGxLE36Xne6Qm66gm5F4npDHztePjQAQTl3zyToXTvPO\nlQQAW9u8BNw2XDYL6YLGn7w8SNBj57MHO+/odviVzGD9NHBkdnI1w38F3gR+ed1WNYPNZiE4kxWv\nxCdGMp9jwzGKmkAIwduXEzx7QO6GS25/HFYVl91itvotIkn7xlCMSLpEJF1id0dgQQNGt93K5w52\nzTl2ajzFaNycgTo/mVlQZnYhprMlTk+kUBWFZ3a3YbWo7O2uZ2/3XDGMd67EGU8W2NtVz7lwmly5\nwqHeUHX38HpsFpVP7L2WQJ4LpxlPFHDZLNhraBHJliq8fCGK22HhAxsbb+mOn0Ryp7NWqXcp8373\nMhrPcy5sVoTeHY6vSHjiKi6bBYdNpaQZK/azWimpgkZPyI0A0sVrIhGqqlSFK547Mc5QNEfQY+en\nj3RX/a8+sbedSKaEx2Hh2++Ns6XVy5aWa23qgZm1W1WFrpCbXbPi6NVzPLSpgSvTeQ71XfPJ8rts\nKAoIAb2hOp6cmdP61ntjgCmqkchptPhvn4LAhckM58Jpdnb46W9cfsxmJQmWAuwEBq47vnMF51gx\nezoDXJjMsP86AzPJyjD/BxaggG8VDuASya3AabPwQH+IgUiG/T0Lq/l1B91Mpoo0eB14VmCi3Vnv\n5l01gaoqtAVq38AJeRxsa/NhUVh08DeZL/Pi+QiTqSL1bjtP7GhB0wVPbm+paVgY4LGtzWxq9hKq\ns9dUXXv7SpyBGaWlznrXnBkuiUQikawPV2NNvqzTFazNKwpMoaUrsTweh4Umr5MvHOommTe9nWp9\n/tB0Dr/LNqf7YTnaAy7qnDYMQ1RFn64nli2jG4JkvkyhrOOeUdXtDLrpDLr5s1eGyJYqjMTzbGry\nVjfwdnb4uRLL0eJ3LtrSuK87WBVxukpn0M3nD3ZRMcQc0Yj93UGyxQpNPidNq6gM3iiEEDx/ZpKK\nIZhMF+n/wPomWP8d+HNFUTZiVqwADgO/BvzFildbI2fDGRK5EqfHUjfqJe4JGursGDO1x3qZYEnu\nEM6F0/zXlweJZctcmMzyKx/chMM6N9k4uqGBnR1+3HbrvOSlUNZJFTSaffOHazuDbn7uwT7eGY7z\n0vkIR/oa6AotH+gO9AQZTxY4Ppzg5QsRWnzOeT59J0aTvHZpmkyxwo52Hx9paluwQjaWyDOWKLCp\nqY6SbtBY56A0YyLZ7HPSU6PRI5i99QA2i0L9OvXuS24usmoikdzeaLpBpqjxxUPdCK7Ze9TCO8MJ\nfnJxGlVR+PyhLhq9jhVVr14fjPHW5ThWVeFLR7prntFq8jn52Qd6EYJ5XlY/uTjNRLKAIQSXIhkE\n8KevDvHI5iZ2z4pZV5UBQ3V2VFUhniujKvDW5TgTySITySIbmrzV+WZNN5jOlkgVNNKFCrs7/fNi\nd5Nv/sZmZ9DNl4701PyZ3CwURaHB62AyVaw58VtJgvVrQASzFfA/zRwLA78D/P5KFlorhiFI5Epo\nulGVKJasjpfORyhVDABevTjN//joplu8IolkebKlCuWZ722mqFHRBQvFs6uqQ0VN51vvjZMpajy2\ntYkXz0XJlirs667noU2NlCsGFcPAbTdPUjGMah/4KxejfDE0v3VW0w3Oh9N4HKaSkctuoWumalbQ\nDEYT+WqCpekG335vnH87M0lHvYvxZJGOgIu6BSprRU3nW8dNtaZ/eGfU9PvwO0kUNAplnSP9oRX5\nhuxo99Psc+KwqXJeSyKRSG4A//TuGJOpIt0h95yW7lrIzrTnGUKQL1eAlVVoLkWyvDwQweu08tE9\nbSsSwVioCyKWLfH2lTgAQ9EsHUE3p8ZSVHTBwFRmToL19K5WIpkSDXUOhqJZvnNyAgWFloATQwhs\nFhXXrNf4vX89z/GRJIYQPLixkVRB4/FtzfPWsBaKmr7oe7sRfHJvB9PZ0vonWEIIA/hd4HcVRfHN\nHEuvapUrIFhnJ5HTaPLdPqXCO5GpWcOFs29LJLczezoDfHJvB4PRLI9tbV52t3AsUWBy5vt9YiRF\ntmQGtEimxIVwht9/4QJ2q8r//NgGNjZ5eXMoxqVIhoY6B/d1LTyD9aNzU/zTu2PkSjpfONzF07va\nqHfbcNotBN02NjRdaxWYTBVNOVevg6Jm8MXDXRzuC9FRP78ypihmD7zQDXIzKqljyQLqTKUtkinN\new6YnlgOq7pgi8hqhq0lEolEsjxCCKZnfpeji/w+L8XhvpA5puG00h2qvTvhKufDaSaSRRxWlXhO\no6uG/beXzkcYTeR5YEMDfdfNDdU5rfhdpo3Job4g+ZLOlhYvbruFfdfNFFstarWVL5opIQSMxHNM\nJPO0+F18dE8bqYKG227BabNwNpzBEILojHq1dZ1ngieSBb553JzX+uS+Dlr9q1cGrhW7Va3ZAwtW\naTR8MxIrAKtV5f4NDZydSK/YAVqyOEsZzkkkN4PBaNZsn2vzLenxYbOoC0rDLkZ7wEVDnZ10scL+\nnnq6Qm4mkgWO9If41nvjVRnZF85O8eZgnHPhNL0NdYQ8dh7e3LTgOXOlSlXi/cp0nlNjKX54bgpV\nUXh4c1O1GgbQ5HPQ7HNisyg8uaN1TvJ1PQ6rhU/v72A8UeCRLU0Mx/Ls7gwwmSoSyRS5fwHfkdPj\nKV44a772swduTlCRSCQSiXnt9MHtLVWhg+XQDcGp8RR1Disbmszuh0cWiTO1kCtX0HQDBShqlWUf\nn8yXOTGaBODY5fi8BMthtfDFw93kShXqPXZePD9FrqyjKMqSsWV3Z4BEvkw8VyYwM3Ly4vkIybxG\no9fBFw9386GdLbxycZpHNzfx4KbGqnrvejGeLKDp5tzLeKJwW8bCVSVYq0FRlB3AnwI6cAn46gKK\nhHMwDEFTnRNrh2nKKVk9/Y0e3p8wB+C7Q7ffF1Fy7xBOFfjOiQnAbPt7cOPC0uqzuRTJ8NL5KG0B\nF0/taFlUIc9lt8zp3+4OeSiUdRxWlUM9QU6OJrEoCkXNoKiVmMyUaPA62LFEsHxiRyvxnEa2VOHx\nbc1EMmaFzBCCdEGj2eckXdSYSBboCXn4/KGuRc91PU1eJ01esw/9vi5zx7B3ibmrZF6b9doVWm++\nqb1EIpHcs2xu8bK5pTYBoWNDMY5dNlvwnj3QuaD/4kvnI1yMZDjUG5rTkrcQm5q9XJzK4rZbaFii\nW6FU0bEoCnUOK41eB9FMib5F4orpF2leX1+NL0VNp6jp8+a1ruK0WXhyRytbWnz85NI0XUE358Jm\n3eXqJubnD3VX2/KvT+zWg22tPkZieRSFdU/e1oublmABF4QQRwEURfkLYD/w9lJPUBQ4G07x/liK\nBzdKY9y10NPoxWWLIISgN7T+X3aJpFaW3lZZmOPDSbKlCgNTGQ71BWtWUHp9cJpjQ3HaAk4+va+T\n3//0HuxWlR+cDnNxKstjW5r4xN72OVWo66lzWPn5h/qqf5cqOlaLgtOqkilqvHMlxnffD+N32ugI\nunl2f+fK32CN7O+pp1TRcdksbGyqYzSeZySeZ3ubb91MKSUSiUSydmaHuoXqCUVNr1aY3h1OLJtg\nHelvIF/W8dittCxSsRmO5fjOiQnsVpXPHOjk8we7KGgVBqayvDscZ09n/aJKto9sbuK1wWnSBY2J\nVGGeeNP19DR4qkJMvQ0ezkykqhLu740m+OvXhwl67Dyzp41dHbXZoCxGOFVgKJpjS4uXUJ0Dj8PK\nJxfwxbyduGkJlhBCm/VnCVjavQzQtAqvDcYwDMHzM2ajktWxpzNAvduOIQT7utf2RZdI1kJbwMVH\ndreRLmrsaq+tBLO5xctEqkCLz1n13aiFwUgWMIeDj12OsbszwESyQFe9m31d9ehCcHEqy5ZW7zyF\no4WYShf50bkIE8kCRU3n8nQOgdk62BV0EVqBdO5qcNosPLbVHBQuVwyeOzGOpgtG4vl5Pl8SiUQi\nuXUc6g3itluoc1gXnMN1WFWavA7eH0+xu3P5WLivu57ukJuKbnApkqW3wTNPhfDydI6KIaiUdSaS\nRQJtdq7E8vz4QhQAVVGq3RLXU++x43PauDiV5fkzU/ictpqNfq/KuV/l+++HGU8WiGSK/FS5mVRB\n4/J0bsE1L4dhCL55fJxyxXzfP3O0Z0XPv1UsmWApijIEHBBCxBRF+U3gPwsh8qt9MUVRnsFUILwI\nxK6772vA1wC6uswLBVVVsCoKecPAU4PRpmRxLk5lyJUqgODcVJanb/WCJPc0S80mLcTuzgA72v01\ne0hd5VBfiFcHoownC7w5FOdcOEO6qCEE7Gz3cy6cpmIIxhKFquHiUlhUBVVRsKgK2VJlRk7dQV+D\nB4FYsr2vFjTdwFbjb52igEVV0XS95udIJBKJ5OZgtaiLJjNgzmilixWavA6mM+WaztlQ5+AvXrtM\nMq/xntvGV+7vnXP/ro4AE8kiTptKX6MZj2Yb1S8XK6wWM8YqytzHzo5Nmm7w1uU4FlXhYE9wwZb9\nNr+TZF7DZbcQcFn5nR+cw+u00eZ38uXr1rwc5loUypXl1387sVwFqxVwYyZDvwX8CbDqBEsI8R3g\nO4qi/D/A08C3Zt33p5gzWuzfv3+mlqridlgoVnS8rpvZzXj3UTEEdU75GUruXFaaXIHZs94dMk0S\nNV1Q1o1qi6KmG1VvuIph1HS+hjoHn9rfwch0lu+eCmNVVXxOK8OxPFaLyrvDCba0eGnyOUnkyqiq\nsuxu3VS6iN9l45WBKGcm0mxv8/HB7S3LrsVmUXl2fwfjyQIbpamwRCKR3FEIzHlaVVGoGLX3zusz\nj63o858T9NjnzQFvbPbyzB4F3RBsal44VlyKZDk+nGBDcx1PbG/B67TS4jfng587Mc5QNMfB3iD3\nb2jg5GiSt2Zmy+ocVurddkoVnZ6Qp5psfXJ/J/umczT5HPz9W2OMxQs4bLVLnM9GURSe3d/JSDxP\n/w2Y57pRLHfF/R7w3xVF+QmgAL+qKEp2oQcKIf79UidSFMUhhLiqa5kGCrUsMDKT1Y/Fanq4ZBE+\ntLOFf3x3lIoh+Mju2lXZJJI7HYfVwsf3djAcy7GxqY6/PTZCNFtmc4uXbW0+JpJFdi0hcjEwleHF\n8xFa/U6e3tVGe8CFz2nl62+NksiXafQ6sKgKE8kCzT4HDquFwWiW756cQFUUPritmYoh2NBUh9Nm\n4d3hOMcux9nUVIch4MxEGpfNQrqoYbOoDExl+OD2FsoVg4uRDM0+56IzZ6E6B++PpfjJpcsc7Amy\nvyd4oz5GiUQikawjNovKx+9r50osx/YVKBZ9dE87F6cybLwuWRJC8IPTkwzH8jy0qYGtLT6+fzrM\naNyMTZPpIsOx/IJ+VD++ECFTrDCRKvBLj2yoVoqKms5QNIcQgpOjSY72h/A4rFWj4cvRLP/5+Dhl\n3eDT+zv5+H3tAPicNnZ1BChXDGxWhb5GDz6XjY/uaV/RZ1TRDQamsjR47fPmuK76XuZKFT60s7Uq\noT4az/OD02H8Lhsfu6+9pvb/G8FyCdZXgP8AfAwz2f4IsJA2pACWTLCAJxVF+ZWZ2xeB55dbXLF0\nbWyrtv1lyWJ892SYWLaMEPDN4+P8Hx+S8mOSe4f2gIv2gIuhaBZDQMhjZ2Aqy5M7Whb0Izk/mWY6\nU2Zvd4CTo0kKZZ2ByQwn65PsaPdT1AzaAi7q3TZcditOq0qLz8mXDnfjd9s4G04jBGiGwZ+9OkQ8\nV6anwcNvPr2N90aSFEo6Xz82gkVVcNksxHNlGuoctAWc3L/BDH4vnJ1iYCqD3ary1ft7F1R0quhG\ndUj6vZHkognWZKrIhakMW1q8NPuc6/jJSiQSiWS1tAVcNXsrFco67w4nCHrsHN0wX/gtXahwYdJU\niz4xmqQ94OLilFkTefF8hP7GOk6Pm6Jx15vztgdcnJ80N/Rme1Y5bRbu6wrwvffDWFSFb58YZ2OT\nF4uqoCgwEMlwJZbDalG5Mp2btyaLquCwWNCFYH9P/ZJejRXdYDxp+kheFZ568XyEMxNp8qUK+3rq\n2dcdrJ5jJJ6v+l6enUhXP8czEylyJZ1cSWc8UbghKoa1sGSCJYS4AHwaQFEUA/iAECKymhcSQjwH\nPLeS56jKtV7LO6fr8vYkmS+TKVQQQHwVBnkSyY0iXdRQZyRlV0OhrHM2nKYt4FzWC6Mt4CJUZyeS\nLtEVclWf2x5wVdshopkS338/TDRTYmAqzcHeEOFUkeFYgZcuRBiazvHR3a24bBaKms4zu9toC7jw\nOCzVnbI9nQGS+TICGJjMkC/rDMdyRDIltrX5ePlCFJfdQpvfxWgiT+tMArinK8DBXjNJuupSX9EF\n+iLSi1aLytZWL+cnM2xv81HUdAplfZ7603MnxsmXdS5MpvnaQ/2r+pwlEonkbiRXqlAxxIrFF2ol\nXdS4OJWlO+SuWQF3IV69GOX0eIpotsQzu9s40j83yfI6rXSH3IzGC2xr9WG3qDTU2YnnNI72h4hk\nSmxoqsNhNa+oSxWdMxNpmrwOjvaHcNhUtrf65nmlPry5iQvVOJano95d/axUBVr8TrSKwZG++Rt8\n+XKFdFEj5HEwEl+6E+37pycZjGTxuWx8+WgPFlWhVDEQQnAmnEZVFSZTxeoMV0e9ucmZK+tzpPM3\nt/i4FMlit6r4btC/aS3UfEUjhLjpOY7DoeK2W8iXdfxyBmtNDEaz6DO3h2LzdxkkklvB5WlTUlZV\nTJ+Q5aorl6dzXJzKsKPdX92tev7sJEPRHDaLws8+0LeodweYu3EHeoL86+kwL52PctyZJJotYbMo\n/NyDfThtFmwWhUimxOXpHNlyhZ4GD1841MnfHjNbbBO5MqcnTM+PercNp80yz6fPZbfMmBwXeXxb\nCz+5FGVjs5eA28bR/gaO9IV4eSDKaKLAswc6OBfOUNR09sxqgXh8ezMnRpJ01LuWTD6f3NHKT21t\nJlOs8FdvXCFX0nloUyP7uq8NVzusKvmyPm/XUiKRSO5lopkSf//2CBVD8PSuthULMNXCd09OEEmX\ncNktfO3BPqYyRU6NpdjY7F2RMJLTZmEyXWQkluelC1GafM45M0mqqvCJvR0IIciWKvzlG8MUNZ1H\ntzSyu7MeIcSc5OmHZ6d4cyhGncNGo9dBqqBxYTLLLzzUN0+44v4NIb55fJwWv5NtrT6EMKtTTpuK\nwJzF2rmAFLvXaWN/Tz1XYnmO9ofm3FfRDQTXhCuSeXMkKFusUDEMLKqFR7c04XdZKVUMnDbLnBjm\ntlv58v29895Xb4OHp3e18tyJMN84NsKn9nfcEiPiFWUtiqLsAn4V2IbZFngW+D0hxOkbsDYMw1QO\nsVkUbFZZw1oL8dw1hZpkfnkHcInkZhBOFTCEwBCm2MP1CdZgNMtbl+P0N9axv7uefzk5QcUQjCYK\n/OwD5i6WMVPdEQIEyw8Kh1MFQKFcMUjPtCHPLhAF3HYe3dLEywNR4rkyL52PcmEyy2Nbm7gSy7Oz\n3U+kWgVWFvQ3SeU1Xjg7hRDQFXTzHz++E4dVxToTSBRF4eHNTdXHd4c8nBgxk72r1Sef08ZDm5Y3\nYc4UNf7urVGm0kXKukG9285EsjAnwfrU/k6GY7kF2yElEonkXiWSKaLNiEWEU4UbkmBd1a+4Gqu+\nf2qSdEHjwmSGg31BhqI5DvTUs2EZsaL7NzQwnS3hddpw2SwLxh4w40s8V652QYRTRXZ3Mq8ydWos\nxcBUFquqcHSDmfyIRaKo02bF67SRK5ltirNjU2+DB5tFXVThryfkwaIqc9oDY9kS//DOGLph8PG9\nHbQHXDy+zdxU7G30VLtBPA4rD21qYndnPWOJPH0N8/99rn9fAJPp0qxri9LtnWDNSKx/E3gV+MHM\n4QeA9xRF+YQQ4rvrvThVVVC4JhkpWT0PbgpxZmYu5IH+xWVDJZKbye6OANFMCbtFrRoUzubVgSiJ\nvMZkqsiONh91TivJvIZ3liLmE9tbOD1utgguZRh8lX1dQVIFDY/dyuG+EOcnM7TXu+bsjP3U1maa\nfE5evhDBEGYrRVfIw7Y2P28MxnjnSpw6p5Wj/aF5g8YADpuKw2q2EPpcNjzLtD/+5OI074+lAPAf\nsq1oTiqcKpItVUy/FcVKZ9DN4b65O4V1Divb2+TcpUQikcxmU7OX0XieUsVYUlJ9LTyzq43zk2l6\nG0yVPa/TSrqg4bCpvH7JdCx69eL0sgmWRVX42J52+hrrsFvUJR/f5HWQLJSZzpR4dEvTgo/pb6pj\nOlemzmHl6Z1tTKaL9DZ4FlTs9TqtqIqCIcS8trul4m5R0/n2e+NUDMF4osCn93cCMJYoVBPA4ekc\n7QEXrX4XrTsXToT8Lht+V+0xbFeHuRFqURS2tNwald2VVLD+A/AfhRC/Nfugoij/fua+dU+wAAJu\nG4YQhDw31sDzbudj93Xyo7NRdAM+faD7Vi9Hco9Squh8/1SYXEnnyR0tNNQ5llQV6gq5SeRTNPuc\nOG0WPnOgk4lkkc7gtR9ht91anVuqBb/bxsfvMx3gK7pBQ50d33UWBqqqsKczQE/IzXvXtemdHEtS\nMQTZYoWtCySFYLZyfP5gF9O5Ej0LVI1SBY0fnAqjqgof3tlaDWimt9XKdpO6Q256GtxkSzpPbm9Z\ncohYIpFIJNfQDUGupFOqGGgVA27Az6ffbePQrE2vj+5pYzReoNXv4Dsnw0yminQuYES8EFdj03JM\npUsEXHYCLrOjYfes54zG8zhtFp6YicEtfifdDR66l2hXbPY5+dyhToplA7/bxjfeMkWant7VuuzG\npqoqYIg5Fa6NzXVcmMpQ0cUN2fxz2608s7tt3c+7ElaSYG0C/nqB438N/Nr6LGcuiqKwtdXLaKLA\nlkW0+yW1cWEyi8dpQwg4P5lZsFdWIrnRXJ7OcWXatNI7NZbikUV21q7yyOYm9nbVU+ewoqoKbrt1\nXVs4Xjg7xfnJDG67ha/c34v9ulbkgNs+b4272v28O5xga6tvQYPFq/jdNvzuhQdsz06kCc+oHw1M\nZXhgQwMNdQ4CbtuKh6AdVks1YZRIJBJJ7VyKZBmJz8Sk8VRNbdlrxWG1VOPYs/s7yRS1dRfYaPE7\nafY5SRbKbG29thH43kiCH1+IoioKnzvYuWwMnk2T1+yseGMwVlXvuzCZWbLy57RZeHZ/JxPJwhwh\nCrfdyrMz1ay7lZUkWBFgH3DpuuP7gKl1W9EsVFXhvq56FEWR/i5rxGWzkCtVEAJcNjnPJrk1tPpN\ntb2iZtBTw3CvoigE3PZ5x0fjeU6Pp9jc4l2TBGu6aM5gFTQdTTfmJVgLcXRDw4ISuSuhO+Tm+EgC\nRYGOejdWi8qO9rm7eBXd4LXBGIYQ3N/fUNPaJBKJRFI77QEXLrsFrWKsSHBivbCo82OcYQjeHIpR\n0HTu3zBfUr0WnDbLPMNhgHTRnME3hCBdrNC0cBPGknSH3Lw7HEdVFTqDC1fehmM5zk6k2drqo6fB\nc092Vqwkwfoz4L8pirIBeH3m2P2Yohe/t94LA/NLVtQMeoJusiUpzLAWAm4bXUG32W65BplQiWQt\n+F02vnp/L/qMe/1ILE+Tz7HiAPKvpyfJlioMRrP80iMbFhxyrYXHtjbz7nCC7pB73pzU9cpE60lb\nwMXPP9iHorDoYPDZcJrjwwkAvA6r3GSSSCSSdabeY+fnHujFEKxqE6uo6UTSJVoDzkV/y1fKpWiW\nY5fjgFntemDj2jb0ZnOoN4hhCNx2C/2Nq0so2wIuvvZQ/5Lx6/unJk2T4ukcv/TIhrUs+Y5lpTNY\nWeB/Bf6vmWMTwG8Bf7TO6wLMClY4VeByNMfODjmgvRZypQqXojmEIapSmBLJrcBqUbEC3zw+xnAs\nT0OdnS8d6VnROfxuG9lSBb/LtmQS9PqlaS5P53h8mylacT0NdQ6e2N4y51i5YvDPx8eYzpR4ckfL\ngiIW68Fywdx8b6bCYWCRVkOJRCKRrA3rGhKjf3xnlGimREEz2NXh56FNjcu2+xmGIJEvE3DbF5y5\n9TltVUGJ9fjtT+TK/PPxMXRD8PG97StqC1yM5eJXwG1jMqVTv0AHyr3CSnywBPAHwB8oiuKdOZa5\nUQsD80sY9NixW9QF24QktXMunCGWKSAEnJ3I8NTOW72iO5fT4yneHIrR31THI5vX/kN1O5AqaPzL\n+xOoijm06nXe+Av6q9YBibyGYYgl55nAFMiwW1QUxVRSGo7lGI7leXMoxsGe4Lznh1MF/uTlQUoV\ng9FEnl9/auuS57xKNFu65g4fTt+wBGs5ukMePn+wC0NQNUGWSCQSydrQDcH3T5lm8o9va160zW05\nDEOQzGukChpD0RxuuwWHVeWD123aXc+/npnkwmSG9oCLZw/Mn0Nq9jnY1uYjU9ToDrlrio9LcTmW\nIzPTGjgYyVHvtqMqyooFlVbCJ/a2E04W7+nYtSr33hudWF1FVc3Zq7MTafZ3S2nxtTCVKpAuGQCM\nJ7K3eDV3Nu9ciZMpVjgxkuRwb2hJY9s7hfPhNJG06e00MJWd46F0o3hiewvvj6XY3FK3bPA4PpLg\n5QtRmnwOPrO/E1WB1wdjXJjM0Oh14HfZ5gzygtnid9UmpKLPd/Z47dI0b12O0xV084m97dUkq8nr\naCRY0AAAIABJREFUoDPoZjpbYmf7ra2cL1R1k0gktz89v/69NZ/jyu98eB1WIrmeVy5GePVilGaf\nk+MjiVUnWKqq8NTOFo4PJ6sVnVosNsYSpqjGRKqAboh5ic6lSJbT4ymmsyVeuzTNjnY/nz3Qtepr\njf7GOk6NpdANgcum8ic/HjRVeQ924rtBm6kOq6WmOeu7mVUlWDeTRzY33TVVgltJsaJztaKrCWkq\nthY2NXs5djlOd8iN8y4RDOlp8PDOcAJVUegOrS7YrJTOoLvmwHZpytwUiKRLJAsaA1MZzk+mGYrm\nsFuVqoT6bNoCbr58fw9D0zk+tGP+juLAlLlPNBLPU9SMavCyWVQ+tU+q8kkkEsndxmA0yztXEkTS\nJYSAp3a0rul8G5q8bGjyki1VyJcrVaW9pXh4cxPvjSTY0uJbsIrkcVhRFLO1z+eykcxrRDLFVRvF\n+102fuZoDwAvnp8ybUZKFcLJIr4W2X5+o7jtEyzJ+vD0rnbevBzHMATP7Frcd0iyPEc3NLC/J3hX\nqbo1+5z84gf6gZX7MN0M9vfUk71QoS3gIuSxY1VVmrxOHFYLz+xuWzRRe2xrM48tcs6DvUHeHIrT\n3+i5K6qQEolEIlkaq6pgVVV2dfg52h9iW9sqZPQWoM5hXXCjbyE2NXvZtETreVvAxecOdjESy3Fm\nIk29x057YGED3pWysz3AeKKA226lp+HmbKbeq8gE6x7hcH+Ij+5pR9MNHt2yfoo09yKZosb5yQxd\nQXdN7QB3AkIIzoXTKApsa/XdMPW81dLXWDdHjn1/dz1uuwWPw0pPyM2ZiRRCwPa2a2u/+u/UHXQv\n2Gq3vc2/aoPDZL6M1aLWHFAlkpuBbEuTSJamO+ThmT1tFDV9UaN4MD0b47kyO9v967KZWtR0To+n\naPY5a+rcaPaZPlYHekPLPnYpShWddKFCo9dBUdMZied4eHPTqtsiJbUjrw7uEf722DB//cYVhAC3\nzcIvPnxvymauBz84Ncl4soDdqvLzD/bdFZWs0+NpfnjOtLNTFWXePFOtaLqBIQQO6+orQoYhGIxm\n8Tpt8wZkhRAUNB233Vr1jToXTvP8mamZ+6kqjn7v/TDhVJG3bSpfe7BvTUpRs7kwmeEHp8NYVYXP\nHuxasTGwRCKRSG4d/ct4J0YzJZ47MY4QkCqUuX9DA2cn0vSEPNR7lhZcK2q6WSW7Lt788NwUF6ey\nWFSFr9zfc1OEpMoVg6+/OUKqoLG3u55CucK5cAZVUfjy0R78Up32hrKqBEtRlD3ARiAMvDajMCi5\njXnnSpzprKna9tblOL/48K1dj+TuI5Yt8ffvjKLrgo/d177qHbI3L8c4NhRHVRS+cHhuAvPciQku\nT+fY2uple5ufJt/yyc16/zqFU6Yap6YLprMlmWBJgPWpHkkkktuPP3zhIsdHEgQ9dv7wM3twLOLb\nOBjN8r33wzhtKp850DVHrj1XqpAtafhdN08Ru1DWSRU0ACZThWXl4yXry7IJlqIofwv8ghAioyhK\nHfBPwAcBHbAA7yqK8rgQInljlypZCx67laujNR45b7ImntrZwoXJDJ1B911RvQLY0e5DUUBRYEvL\n6mTJxxIFSpqpVDkaz686wSqUdcB0mi9qevW4bgguT+cA+Jf3w5wLmwqCXzjUhRDm47fP6qf/8K7W\naovgelWvAPZ115MqaLjtVjYssxMqkUgkkjuLRq+Dj+5pJ5Evs6PNz7eOjwOQyJfJlSuLJlhXpnPo\nhiBX0plKF6sJzXS2xHiiQLpQ4VBv6KZUr8D0i7x/QwOj8TxH+kMEPXYavQ6avE5ZvboJ1FLB+gzw\nvwAZTFPhTcAh4B1gF/AN4DeBX7lBa5SsA49ubeLVS9MYQizr0SBZGq/Txq6OwF2TXAEoilJtubtK\nuWKs6D1uavZyMZKlohurnm0CuH9DA3arit9lo6P+WpJmURWO9oc4F07T6DWrRokZL62FBpW9ThsH\neoKrXsdieJ02PrpHCsVI7k5kJU4igd4GD72Yqn1fOtLDcyfG2dMZIOhZvGNhd2eAyXSROoeVnlmK\nf6mChqIotAVc2NZxs+96ForZB3uDHOy9Fgf3da9/TJQsTC0J1uxp96eAXxdCvD3z90lFUX4V+ENk\ngnVbc6AnyKObm9AMgwc2SZGLtfD6pemqTPvH72u/7QQh1oPvnwpzYTLD7k4/j25pruk5LrulJnnz\ndFGjXDEWba1z2iw8uLERgFcGokymizy0sZEWv5NDfSEO9YUYjuV4fyzF1lbvXfn5SyQSieT2YH93\nPZmiRiRT4txEii2LCEE11Dn4wqHuecf7Gjwc6AmSLVXmJDvryRuDMd4citEZdPPJvXfndcmdRq0z\nWFenGJqBM9fddwaYb0Utua14YyjO2XAaAbx0Pson9kqfn9Xy4vkIZ8NpBqNZntrRetdJfAsheP7s\nJJF0iUimVHOCVQvT2RJ/99YImi54YnvLkhK5kXSRd4cTALwxNM3H77v2ne0OeVbtCSKRSCQSSa2M\nJQq8N5Lk5FiSbx0fozPo5lP7OjnSX5vCn6IoPLDxxm5sX4yYvo6j8Tz5so5HKtzecmqtVf62oih/\nhJlotV13XwOQXddVSdYdRYFMqUKmqKHKnY01UazoRDNFcqXKrV7KupIqaLw8EOVSJItFUbGoCgt1\nMxTKOlemc2i6seLXiOfKaLq5XxPJFOfdPxrP8+MLEaKZEj6XDa/TDBLtASkpK5FIJJK1IYTg+EiC\n1wenl4xh+XKFVy9GORdOU++xYbMolDSdfFknmdd4bzSxLuvJlyurjqez2d8dxOu0sqczIJOr24Ra\n/hVeAfpnbp8Brq9/foj5Va15KIpyCPgDwADeFkL8uxWsU7JGQh47bX4nuhA1Ka9JFiecLJIvG0yl\nixjCwNR6ufP54dkpRuJ5TigKD29uYCiaZ293YM5jhBD8/dsjJPIa3SH3iiuh/Y117OkMkCtX2H/d\nfJRuCJ47MY6mC4ZjeX7maA9fOtLNVKpIUCr1SSQSiWSNDEazvHwhWv37aP/ClaVXBqKcC5tVoS8c\n7uIXPtDPfZ31/HggQqlisH2VViazMQzBN94aJV3Q6Gv0rGm2d1ubb91MkyXrw7IJlhDi4WUe8nXg\nL2p4rWHgUSFEUVGUryuKslMIcaqG50nWgVJFJ1uqIATk77LKy81GIFAVgYJyrXn2LsA5o4xktSg8\nvq0Fh1Wd18c9GM3y0oUobrulWl1aCRZV4ZEtTQvepyrgsFrQ9ApOm1k6CyeLPHdiAlWBT+3voNW/\nPm72EolEIrn3EAJOT6So6ILdnYuLMV2NhxZVwW5RcdosPLS5kclMkbF4nuSM/PlaqBiCbNG8Hkut\nw/kktxdrriMKIYZqfNzkrD81TJl3yU3CabOyqdmLgJsmEXq30hZwMRIr0Oh1oKp3j5Lg49ua6W3w\n0OxzVIPL9bw/lqIr6CKeK8+rQK0EwxD86HyEeK7EI1uaaPI6URSFZw90MpbI09dgyp9PposYQmAI\niKRLMsGSSCQSyaop6wZd9W4qhoHK4uMSD84IKwXddgJu07tKCMFkqoiiKIRT81vcV4rdqvLUzhYG\nI1n2dAWWf8JtQrZU4fkzk1hUhSe2tyx6vXCvs+YES1GUZkyfrH9f4+N3AY1CiLPXHf8a8DWArq6u\ntS5Lch3tfhe5ko4uBO318iJ1LRTKBgJBqaJzN5Ww7FZ12RaDTc1eRuJ5trT65nhOlSsGrwxEEcBD\nmxpwWJf+wX37Spz/77XL2K0qdouFj+81WyP8Lht+17VdxV0dfqKZElZVYUvr6vy5JBKJRCIB6Kh3\n017volQx6G9a3MfQoipsaZkbDxVF4dEtTZwNp9nTufaE6O0rcSZTRY72hwjd5Db4t6/EeXMwxsZm\nL0/uWJl1z6mxFMOxPADnJzPr8lncjazHJFwLpj/WsgmWoihB4L8Az15/nxDiT4E/Bdi/f//dc9V6\nmzCazFcTq9F4YY6/kGRlOG0qQbcdt8N6N+VXCyKEQDdE1ah3R7ufra0+LOrcnb/TEylOjacACHps\ny3ptRDIlVEUhX9axWxffRXTbrXxk9/W6OhKJRCKRrBy/y8bPPtCLIZgXx2phR7t/jmdkRTdWZWQf\nzZT4ycVpwJw//th9N9db8eRokoohOBdO88iWxmU3RWfTUe/CoiqoCrT6nTdwlXc2yyZYiqI8tMxD\nNtbyQoqiWIG/AX71unZByU2gv6GOk6NJdEOwsXnxXRvJ8jR47Lyv6bTYnNjuErNhIQSRTImA21b9\noS1qOv/wziiJnMaTO1rY3GJWkBYKSg0eB1fHtUJLGDFe5b6uACPxPA6ruq4y8BKJRCK5txFCVJVo\nF2pfUxQFyxrFlHVD8E/vjhJOFXloUyN7u+pX9Pw6hxWX3UKhrC/qCXkj2d0Z4NiQWcFaSXIF0Bl0\n83MP9qIqimwPXIJaKlg/xtynX+rrWMs+/qeBA8DvzgzO/+9CiDdqeJ5kHciWNd4dTlDRDR7Z0nRL\n/oe+W/jJpWkGozniuTIlbXW7V7cTuiH47R+c41w4zbZWH/lyhclUice3NRPLlgHTY+NqggXmDNXF\nSBav00pbwEVXyM1PH+khX67wysA0Pzof4SO7WmnyLby71VHv5pce2XBT3p9EIpFI7g6Kms5zJ8bJ\nFCt8aGcrbYH5Iw+vXJzm+HACr9PKl450rziBADMuDkxlCHrsNPucDEWzvHB2ikavg2d2t5EpVphI\nmnNYA5OZeQnWxakMPzofodXv5OldbfM2Ju1WlaDbxnBBo/kWKDsf6AlyYA1z1G67lIJfjlo+oWng\n3wH/usj9O4EfLXcSIcQ3gG/UvjTJevLKwDTRTAmAH5+P0N8oq1irZSiao1jRmc4JYrkSnlWo6d1O\nxHNlLk1lqeiCk6PJauvEydEkh/pCTGdL7Gqfq7b05lCMY5fjKAp84VA3jV4HQY+dyVSRqbQZdI5d\njpMrVXA7rDy5vQX7XVLtk0gkEsmtYSyRryY2p8dTCyZYV2NQplghX6osmGAJIeap5M4+9srFKCdG\nklhUhZ8+0s2p8RT5ss5wLE8kU6LV72Rrq4+xRJ693fOrVyfHUhTKOkPRHLFciSbv3M3G6WyJ8WQR\nq0Xl1HiKjc23dsb4XDjNO1fibG7xcbB39YmX5Bq1XPEcB/qEELGF/gMSLF3dktwGHO4NVkvSRzbU\n5j4uWZiKbmAI0HQD9xLzQ3cKJc0U9EzlNR7f1kxn0EWmpFHWdcKpApOpAn/ww4v8+atDpPKmlGyx\nYj5HCGbEPkw6gy78Lht2q0qxohNOFRmMZBmall7kEolEIlkbbQEX9W4zxszuqpjNQxsb6Q65URX4\nqzdGODYUm3P/idEkf/SjS3zrvTEMw2zAuhTJ8F9evMTXjw1TquiUNNP4VzcEZd1gS4s5e9zscxLy\n2Hn14jRl3eDT+zrZtEBytLXVi6ootAdcBN12iprO8ZEEE8kCAEGPnVa/c0ExjVvBa5emmc6Wee3S\n0gbMktqpZev9vwGeJe4fAb6yPsuR3Ch6G+v4f798AMMw7ipp8VtBybj24xPLazQsbqVxR3Allmd3\nZ4DdnYJDfSE6gm5yxQoXIzlG4gU8DguXo3mS+TI72vwc7g9xtN9UCvS7bHMEU7xOG199oBchBEPT\nOSYSRRw2lVafVK6USCQSydpw2618+f7eBStQV2nxO/nQzlb++MeDgODMRJpDfSGEEJQqBmcmUhhC\ncGU6T6ZYwe+2cS6coWKYMuwTiQIf2NSIx2Ghoc5Bk9dJk9fJpuY6FEXhUiTD148NU9R0csUKnzt0\nTfk6W6owkSzQ31jHtsd81TX+25kwA1MZLKrCVx/opc5h5bMHu5Z8HzeTnpCHU+MpOoNubHf42MPt\nQi1Gw99a5v4E8JfrtiLJDaGo6Tx/dgrDEDy+rRmP485ua7uVmN4ZAiEg4L7zPcU2t3i5MJXBblXJ\nlSp8//0wZyfTGAY0+RxEMhXyWoV0UUPMjFs6bRbu39Cw6DkVRaFcMQi4bWxv8+G/Cz4niUQikdwe\nLJeUOG0WdrT7uRjJcF9XACEE/3x8nNF4nqYZr8fukBufy7wW2tnu5+xEmsvTWb5/epLPH+ziwY2N\nC75moayTKVbQDUEiX67eL4Tg798eJV3QaA+4ePZAZ/U+Q4iZx1y7PfucQgh+PBAlki7ygU1NtNxk\ndb6f2tbMob4gHjlbtW7IT/Ie4Vw4zWDEbNM6NZ7icJ9sE1wtTptCsQIWBfS7QKa90evgZx/o5eRo\nkn98d5SQx0bAZae3wUN7vYtErsy5yQwtficOq4WBqQwTiQKnJ1Lc11W/aKL18kCUQlnntUsx9nXX\n3xa7dBKJRCK5N3h8WzOPbzNVagtlndG46d0Uy5bobaijo95VjUs9DR6Obghht6qUKwbjyQL1Hvu8\nc6YKGkXN4FBvPfmywQe3X1PBFQLiuRKnxlKcC6f5qW3NBGfO8VNbm2n2OXHZVK5M59jQVDdHKGIq\nXeLESBIwZ5xvtmw7mB0okvWjpgRLUZQdwBHgdSHEGUVRtmEKXziAvxFCPH8D1yhZB5p9TqbSBXSD\nW6JYczdxtT1ZKHfP8GG6qPHi+QgWRSGWL/PZg100+xy0+Jz8/gsD+JxWuoNu/vjHgxhCUO+2017v\n4sRokoO9QUbjeZp9zjmV0c56NwNTGdpnBbHFSBU0jo8k6Ai4bvmwr0QikUjuLlx2C3u76xmMZEnm\nNS5FslyKZOlt8FQTix1tfkbieewWdZ4QmBCC4Vie774/QUUXNNQ5+KVHuuaoCKuqwrZWv1kl8zq5\nFMlWBSNcdgv7uuv581eHyJd1zoXTfOaA2Vo4lS7y3miCgak0hbLBlpaViZAVNZ2JZIG2gEvKpt9G\n1OKD9SHg20AG8CiK8nHgr4ATmCIZ31cU5UkhxA9v6EolayKeKxOc8SeK5zR6F+/ukixDsTr8CpW7\noYQFOK0W6maSo8P9IZq8DkIeBy8PREnkyhQ1nfPhDFdipndV88xw7q4OP3/1xjBvDsVoD7j4jQ9v\nrQacp3a0cLQ/hM+1/K7Yj85NMRzLc3I0yVf9TnxyJ00ikUgk68gHNjXygU2NvHB2itPjKbxOa1Vh\nsFwxGJrOcbS/gd6Ga7ID5YrBi+enODWewjDMea7tbT40XfDucILRRIGj/aGqmuG+7gAvnp8ini/T\nHpjb5ieEoDIjqlGede3wL++HGU/kSeQ0dncGKFVWdl3xT++OEc2UaPE7+dzBruWfILkp1FLB+g3g\nd4UQv6EoymeBrwN/LIT4PwEURflt4NcAmWDdxrjtlurgotsudzjWwuz+6VShROeSGjB3BnaryhcO\ndxHPlTk1nuJbx8dx2S14nTZsFhVNNyhqOm6HBQR8bE8bdQ4bPQ3uas95pqCRKVaqbRWqqizYYrEQ\nV7+TNouKTYqwSCQSieQG8diWJra0eAnV2av2Ia9ejPL+WGqO9QjAhckM58IZhqI5XDYLG5u9bG/z\ns7XVy3dOhs3nGka1GjWeLOJ1WhECJlJF2meJQFktKh+7r50r/z979x0l130deP77qxy7qkN1Tmjk\nHAkSzCIpk2KQREuiqURLsiR7fVbe9di79s7O2Zk93rHlnZ2x94ztndUZ27OWlShZgVQOFCVSpEiA\nRCJy7Jy7K+f3fvvHKzS60akAdANdwP2cgwN0vVdVF0C/6nd/4d6xFJuarMqBsUyBWDqPy24j7HPh\nddnpilzdPUUsU5jxu1gZykmwNgPPlf78PPBF4BvTjn8JqSK44nVFAnxwdyuGqemsq/yE4GbyOu0k\n8wY2oGmOHhyVyudy4HM5eP5AL2dGrL5Y79nSyMamIEoplIKAy0HI5+JIX4xEtkhd0M0D6yK8fGqU\nVRE/oTJmq640Es+yoz1MZ52f+qAHrwwACCGEWCY2m6KtxjfjMaWspfIeh53pK9ojQTcOm2JVnZ+m\nkIetrWF2tIXJF01CXiexTIGg28krZ0bprPWTLRQ5OZQADe/aUJz13i1hLy2l+wbD1Hxtfw+GqfG5\nHfzlB7fhdtiuepnfk9uaODGYYHPzzS/3Li4rt8iFCaC1NpVSWSA27VgCqPBC1beHKz9QxLWp8tjJ\nFw2cDoVh3iq7sC5bGwkwFMtyfjTFUCJLS9jLb+5updrnIpouUOV18A+vXgQgmzf42J3tPLi+npDX\nic12df8ep4cTfO/IIDal+MDulqkNwUIIIcSN4rJbVXTtSk3NaoFV8v0T93Rimsyohntp1Uc8U+RH\nx4Y4NZzgcG+Ue1bXsaMtDJpFBxwNU5MrmDjsNqr9rmsaoAToqPXTUSsD5ytNOQnWRWAtcL709T6s\n3leXtAFDSxuWECtXe12AVD5O2Oe8JZdbPrypgZDPxevnxnE5bLid9qku9JeWTbxvRzOnhxNsbLL6\nfFx6fCHpfJHvHh4kZ5g8sbWJGr+LiZRV4tbUmmi6QGv18v29hBBC3F7e7pnk7e5JNjeH2Ld6/urJ\n8WyRppA1s5TIFmfsA56vup7bYScStOMuJWQOu40tLSEKpkZrzbbW8IKxuRw23rejhfNjSba2yDzF\nrabcRsNTw8pa63euOP4E8PISxiTEiranPUzRMGmt8WK/BfcL+VwO7l8XYWd7mO7xNO21s2c+m8Pe\nqU298ykaJiOJHHUBNy6HjXMjKfpLXeyPDcS4b22EHW1hktkiDrtiQ6NUDxRCiEs6//R71/0aFz//\nxBJEsnJNlgbp5tvv+8b5CbIFgzcujHNXV828FW3vWVOHAmoD7qklfOV6clsz50aTtIS9OB22qcqB\n5Wiv9c35M1ZUvnIaDf/dIsf/l6ULR4iVL5s3GIpl8bkcuOyVt0RwMpWnv9RpfqH9TkGPky3XMar2\n4pEBLo5Z5ds/cmc7rdVefC47RVPjddo5MRhnfUOQRzY1cHYkSfdEelZpXCGEELef0USO4XiWdQ3B\nGUv2puseT/Gtg/0oFE/vbJkzUVnXEOBIX4y19cEZyZVhak4NJQj7nDSHvYS8Tt6ztemaYvW67Nf1\ns7JcV8YsVrarbjSslKoDtNZ6fBniEWLF++HxYYYTOWKZApPpHHXByvmgM0zN8wd6SecNjlfHeWZP\n2+JPukYj8RwAY8kcWmtcDhsPb2wgmc/zwsFBgh4nk+k81T4XP3zHWmX8+NYm1k+byTo1lGA4nmVX\nR/VUGXkhhBC3rnS+yPMHeskXTbrH0zyxbe7Ex/rZAhrNaDI3Z4L18MYG7l1bN1WO/ZKvvNHDge4J\nWqt9fPKeTmoD1jL3bMFgMJalKeRZtNhEIltgPJmnvcZ31fuPr8WrZ8d4u3sSm1J8fF+H7Fle4cpt\nNFwP/CXwfqCq9Fgc+BfgX2utR5YtQiFWmLFknoKhMUyDdM6EClrZZmpNodQpOV+0fk/ni7x0cgSn\n3cZDG+qnyvlfr3dvauBIX4wNTUEMU/OVN3sYimU5O5okkzdYVecnXzSn4pgeE1i9237wziBaW+Vn\nn9revCRxCSGEWLkMU0/1mMwbxrznbWkJMZbMo4AtLfNX0JueXBUNk+8cGuCbB/uwKUXeMClM60n1\nzbf7GY5np1ZezCdbMPjyGz2k8wabm6v4jc2NV/E3vDa5gvVvMf3nuFi5ymk07AdeBWqwGgwfBxRW\n+fYPA/cqpXZrrVPLGagQK0XQ66CYyuOw2bBXWI0LZ6kPx4WxFFuarSUNh3qinBlOAlYJ2aVa6tAV\nCdBVWvKXLRgkc0VyRQMbitWRAB21PvatrsVps1E0TUDNKDPrtCscNkXBsJYUCiGEuPUFPU6e2t7E\nQDTL9rb5fx65HXYevcrE5sxIktPDCRw2hdNh466uWhpDlxsCRzPWnq7FekrlDZN03ijr3KVy/7oI\nAbeDmoCLhirP4k8QN1U5M1ifA5zAFq31jGqBSqk/B14D/nusGS4hbnmfunsVLxweYFNTFU2hytuc\n2lrto3Va88P6Kg9Kgb3MaoDXwuO089iWRi6MpjDReBx27l59ednG7o7Zm4KDHie/dUc746kca2Rv\nlhBC3DamD9AtpbqAm6DHwfa2MHs6a3hkY8OM409sbeLEYJyNTQv3lKryOHn3pgb6JjPc0Xljyt96\nnHbuXlN3Q95LXL9yEqyngD+/MrkC0FoPKqX+AvhtJMESt4nfe3A1H9jdStjnuiHrrpfbmvoAn7i7\nE7tNzVuOdilsaKxiQ+PVNUKMBN3LlvQJIYS4vUSCbn777k6Khp6z8uDV9JTa0hK6IcUtRGVSWuuF\nT1BqHLhXa31inuObgFe01vM3GLjaoJQaBbqX6vWEuEE6tNaRmx3EXOSaEhVKrikhlpZcU0IsrTmv\nqXISrALQqrUenud4I9CrtV6+oW8hhBBCCCGEqADllAuzAQuVK9Flvo4QQgghhBBC3NLK2YOlgF8o\npYrX8RpCCCGEEEIIccsrJzn635c9CiGEEEIIIYS4BSy6B0sIIYQQQgghRHmuanmfUmorsL705Wmt\n9ZGlD0kIIYQQQgghKlNZM1hKqd3APwKbsfZkgVXc4h3gk1rrt5ctQiGEEEIIIYSoEItW/1NKrQd+\nDhSAjwO7Sr+eAwzg56VzhBBCCCGEEOK2Vk4frK8AfuB9+oqTlVIK+A6Q0lp/eNmiFEIIIYQQQogK\nUE6CNQw8pbV+c57jdwHf0Vo3LEN8QgghhBBCCFExymkQHAYGFjjeB4SWJhwhhBBCCCGEqFzlJFh9\nwLYFju8A+pcmHCGEEEIIIYSoXOUkWN8C/oNSatYSQKVUI/D50jlCCCGEEEIIcVsrZw9WCPg10Ar8\nM3CydGgT8BGs2au7tNbRZYxTCCGEEEIIIVa8cvtghYE/B34LqC49HAW+CvyvWuvJZYtQCCGEEEII\nISpEOTNY6lJ59lJZ9kjp0OiVZduFEEIIIYQQ4nZWToI1CrwIfBv4sdY6eyMCE0IIIYQQQohKU06R\ni6eAIeAvgDGl1LeVUp9UStUtb2hCCCGEEEIIUVnK2oM1dbJSa4H3lX7tBd4AvoPVaPjsskRu4IpI\nAAAgAElEQVQohBBCCCGEEBXiqhKsGU9Uqh54EivZegS4APyJ1vp7SxeeEEIIIYQQQlSOa06wZryI\nUl7gUSCptf7pdb+gEEIIIYQQQlSgshOs0vLAu4HG0kNDwGta6zPLFJsQQgghhBBCVJRyGw3/E1ax\nixQwUjpUD/iwKgw+p7WOL2OcQgghhBBCCLHilVNF8D8Dq4H7tNZBrfXq0q8gcB/QVTpHCCGEEEII\nIW5r5cxgRYFHtdZvzHN8H/ADrXV4GeITQgghhBBCiIpRzgwWwEJZ2PVXyRBCCCGEEEKIW0A5CdaL\nwN8rpe668kDpsf8XeGGpAxNCCCGEEEKISlPOEsEw8BWsMuwJYLR0KAIEgB8BH9Zax5YxTiGEEEII\nIYRY8a6mTPtG4C5mlml/XWt9cpliE0IIIYQQQoiKsiSNhoUQQgghhBBCgKOck5RS9wJ7gZ9orY8q\npbYCn8Paw/VNrfX3lzFGIYQQQgghhKgIixa5UEp9BPgF8AfA60qpp4BXgFVAK/CCUupjyxqlEEII\nIYQQQlSAcopcHAL+SWv9n5RS7wO+CPwHrfWflY7/EfAxrfXOZY9WCCGEEEIIIVawchKsFLBZa31R\nKaWAHLBba320dLwLOKy1Di57tEIIIYQQQgixgpXTBysO1JX+XI21b6t22vFaILnEcQkhhBBCCCFE\nxSlnBuuLwHrgb4FnSg/XAp8GTODvgFGt9YeWMU4hhBBCCCGEWPHKmcH6YyAK/A2ggGeBN4EjwFGg\nGfjT5QpQCCGEEEIIISrFNffBKu298gEntdbFJY1KCCGEEEIIISqQNBoWQgghhBBCiCVSzhJBlFI2\npdRmpVTzHMc8Sqnnlj40IYQQQgghhKgs5TQabuPyfqtepdS3lFLV004JAf+4TPEJIYQQQgghRMUo\nZwbr88AEsBm4B6gHfqmUiixnYEIIIYQQQghRacop0z4AvFdrfaD0tRP4ErAFeBCrsuCA1tq+vKEK\nIYQQQgghxMpWzgxWFRC79IXWugB8GDgG/AJoWp7QhBBCCCGEEKKylJNgnQO2T39Aa21g9cM6Dry4\nDHEJIYQQQgghRMUpJ8H6IfCZKx8sJVm/Bby11EEJIYQQQgghRCUqZw+WA/BprePzHLcDrVrr7mWI\nTwghhBBCCCEqhjQaFkIIIYQQQoglUm6jYa9S6t8qpY4opZJKqYRS6rBS6t8opbzLHaQQQgghhBBC\nVIJylwi+AuzC2o91HKs0+ybgMWA/8IDWuri8oQohhBBCCCHEyuYo45zPAmuAXVrrY9MPKKW2AD/H\nKoLx/yx9eEIIIYQQQghROcpZIvhB4N9fmVwBaK3fAf4C+NBSByaEEEIIIYQQlaacBGsz8NICx38K\nbFmacIQQQgghhBCicpWTYFUDowscHwXCSxOOEEIIIYQQQlSuchIsO7BQAQuzdI4QQgghhBBC3NbK\nKXKhgH9WSuXmOe5ewniEEEIIIYQQomKVk2D9f2Wc80/XG4gQQgghhBBCVLpF+2AJIYQQQgghhChP\nOTNYU5RSIWBt6cuzWuvo0ockhBBCCCGEEJWpnCIXKKXalVIvAuPAG6VfY0qpF5RSHcsZoBBCCCGE\nEEJUikWXCCqlWoD9WNUC/w44Xjq0Gfj90p/v0FoPLFeQQgghhBBCCFEJykmwvoCVTD2itc5Me7wV\niAE/AI5prX93OQMVQgghhBBCiJWunCWCjwOngQ9cekAp9V2gB7gAfBF4YlmiE0IIIYQQQogKUk6C\nFQEeAc4BKKUeBfYBDwJfBz5WOkcIIYQQQgghbmvlVBEcARqAvtLXjwNf11r/Uik1CLxdOkcIIYQQ\nQgghbmvlzGD9ANDAqtLXjwI/K/3ZA3iB7y99aEIIIYQQQghRWcopctEMnAHcpd9bgU8DXcAfASGg\nU2vdv7yhCiGEEEIIIcTKtmiCBaCUWgt8l8tNhsGa1ToNfFlr/WdLGVRdXZ3u7Oyc+trUGptSS/kW\nQiy5t956a0xrvSL3I155TYlbk9aAglvl01KuKbFSmBpst8CFJdeUEEtrvmuqnD1YaK3PAOuVUtVc\nTrLOaq0nljDGKZ2dnRw4cACArx/o5UhfjH2ra3l8a9NyvJ0QS0Ip1X2zY5jP9GtKVKaxZI5UrkhH\nrX/O4+dGk3z38CAep41n97YT8jpvcIRLT64psRIc7o3y0skRqn1Ont3bjsdpX/D8aDrPZLpAR40P\n2wrLyuSaEmJpzXdNzZtgKaU2zXMoWfq9USnVCKC1Pj7PudfFNDXfOzJIpmAwnspJgiWEuC2NJ3N8\n+Y0eDFNz79o67uismXXOxbEUptak8wbD8ewtkWAJsRKcH7NueybTBaLpAo2h+ROsRLbAl97oIV80\n2d1Rzf3rVuRkkRBimS00g/UO1jLAS6YPw+hpj2lg4eGc69AYcjMUy9EU8izXWwghxIqWyhkYpvWx\nG88U5jxne1uY4XgOv9tO5zyzXEKIq7eno4Zktkgk6KE+6F7w3EzBIF80AYhn575WhRC3voUSrI03\nLIp52GyK33tgDaeGE2xpCd3scIQQ4qZor/Vx39o64tkCd3XVznlOXcDNR+5sv8GRCXHra6vx8fF9\nnWWdWx/08NCGekYTOfZ2zZ5pFqISdf7p9677NS5+/okliKRyzJtgaa1P3chA5tNZ56ezTkZjhRC3\ntz1zLAsUQqw829vCNzsEIcRNVlaRCwClVA3we8AmrGWBx4AvLFehCyGEEEIIIYSoNOU0GkYpdSdw\nDivBcmM1GP594KxS6o7lC08IIYQQQgghKke5M1j/Efg28BmtdRFAKeUA/ivwV8C9yxOeEEIIIYQQ\nQlSOchOs3cCnLyVXAFrrolLq/wSkaYEQQgghhBBCUOYSQSABtM3xeGvpmFjh8kWTbx3s5+sHeskW\njJsdjhC3LdPUDMWyU6Wcl4rWmlfPjPHtg/2MJ3NL+tpCrASGqfnZiWFePDxAMleccSyZKzIm3/dC\niBWi3Bms54G/V0r9IfBa6bF7sJYOPr8cgYml9YvTo3xtfw9ag9Nu4/07W252SELclr7/ziBnhpNE\ngm4+emc7SqnFn1SGwViW/RetmkMOu+LJbc1L8rpCrBRnR5Ic6YsBUOV18kCpiW80nZ9q7vvIxga2\ntkpbFyGmW4oy6+LqlJtg/THgBL7K5VkvE2sP1v+0DHGJZaUXP0UIsSyG49Yo+1gyR9HUOO1Lk2BV\neZ14XXYyeYOGKmnMLm49NX4XTruiYGgaqi43/J1I5admhIfiWbYiCZYQ4uYqK8HSWmeB31VK/Qmw\ntvTwGa11dNkiK+keT3F6OMmWliqaQt7lfrtb1gPrIkTTOYqG5rEtTTc7HCFuioJhYpgaj9N+02J4\neEM9b/dMsq4hiNNe7irt+V0cS3FmJMnWlhDP7esglTOIBN2LP1GIChMJuvntuzspGJoav2vq8c5a\nPwG3nfFUnm0t15ZcZQsGdptakmtSCCHK7oMFUEqo9i9TLLOYpubFwwMUDE33eIpP39d1o976lhPL\nFBhJ5NFaM5HK0xyWZFXcXmKZAl99s4dc0eSJbU2sjgRuShxL2TzdKH1GFk1N32SaT96zCp/rqj7W\nhagoQY9z1mO9k2mSOQO3w86xwRgNoaubwT0/muS7RwZxO2w8u7edkHf2ewghxNUo6yexUsqJ1ffq\nYaCeK4pjaK33Ln1oYLMp/G4Hk6k8QY/cNFyPvsk0+aJV3KJnIi0JlrjtDMWypPPWNdA9nlr2BMs0\nNTbb0iz/m49Ngc9lJ54tEnAv/BmptV6y/V5CrBRaa3wuBzalMLUm4J47OdLaWho/1zXQPZ7GMDXp\nvMFgLLPkCZZce0LcfsrNWv4WeBarF9ZxbuAmnu7xFL++MMGjG+tv1FvekhqCHs6PpiiamvdtlwIX\n4vazqs5PV8RPMldkW2t42d6nYJh8460+RhM5HtnYwKbmqmt6Ha01Q/EsYa8Lr2v2kkatNS8eGWQ8\nlWd1xM+T2+cvavGzE8Mc7Y+xvTXMuzbIZ6mofKlckecP9JLOG9y3po4ntjVit9norPXNOncilecb\nb/ViavjNXS3UB2fOcG1rDTEYy+Jz2Vm1RLPLYH0W/MtbfQzHczyyqZ7NzbI3TIjbRbkJ1geAZ7TW\nP1zOYK5ULJp878gg6bzBNw8O8Ie/seFGvv0tZSiRpas0Yj+cyNFVf3OWRwlxs7gcNt63Y/kHF8aT\neYZiWQBODsXnTbDyRZOXT42ggQfXR3A7ZiZRL58a5VBvlKDHwXP7OnE5rIUDvRNp3u6ZpCXs5dxI\nEqfdRjxbnPX86Y4PxNEajg3EJMESt4T+aIZousBEKsd/ffU8a+qDfHB365wzRRfGUqRy1uz1hdHU\nrASrNuDmI3e2L0lcA9EM+y9O0FnrpynkYfDSZ8Fggs5aP784PYrXaef+dRHsyzzDLYS4ecrdzZkD\nzi9nIHMxTU2uYJAvGqTzxcWfIOa1pj5AXcBFtc/J+sbgzQ5HiFtWJOhmVZ0fn8vO9jZrpuziWIqT\nQ/GpZUpgJTvHBuIcH4hztFR6errRhFVtMJEtkpnWu+6lkyOcH03x6tkx1jcG8brs7GqvXjCm3R3V\neJx2dnUsfJ4QlaK9xkdTyAMo6gJuDNPaXzyX6T//1jVc38+/omHyTn+MgWhmzuM/P2Vdny+dHMHj\ntNMVufxZ8Fb3JKeGEhzqjXJ2JHldcQghVrZyZ7D+E/C50q8bxum0EalyM57M0yJ7hq5LJm/wdk8U\nw9Q8vKFhRgUmIcTiXjs7xvHBOLs6qhdMaOw2NaPPXM94mm8d7AcglTPYXUpy6gJubEqh0dQFrKp/\nBcOkYJj4XA4eWB/h1+fHaa32zdgTEgm6mUjlqfa5eGxzY1n7vO5eU8fda+qu6e99IxzqjXLg4gQb\nGqu4d+3KjVOsHMcGYiRzRd69qYF0vojTbpt38DDkdfLxfZ1L8r6vnBnjUG8Um1I8t6+Dar+LbGkA\nxOO0Ewm4GYnnCHmd+Fz2GbPmBcMqJe+wKar9s/d59Yyn+emJYSJBN49vbZIZLiEqWLkJ1p3AI0qp\nx4B3gML0g1rrZ5Y6sEvW1AdwOzKsa7y2fQzC8tLJkakRtx8fH+J3pCKjEGUzTc2bFyfQGt68MLHo\njNF0+dJNFVy+wQJoq/Hx3L4ONFZ/n3S+yJff6Jm6adzcHJpzSeNjmxvZ0RamNuBa9iIaN8r+CxMk\nc0X2X5zgrq4aHFIqWyzijQsT5AomB3ui/MHDa25YEYlL17OpNUVTMxzP8o23+tBa84HdrTyysYEt\nLSFq/K5Z38cbm6qoC7hxOWxzFtI42DtJLFMglikwHM9KMaoVYCka9F78/BNLEImoNOX+FCsCPwQO\nAFnAuOLXstAakjmDeKZAMltY/AliXnd0VON12XE5bNyxquZmhyNERbHZFGvrrdHx9Ve5xGhNfYBH\nNjZw79o69lyxRK/a75qaTR5L5Elki2htVTXrHk/x5Td6eOXM6KxYmsPeqT1XBcPaq/r8/l4m51ki\ntdKtK808rK4PSHIlZukZT/PlN3r45enL18Kl63BdQ+CGVuh7YF2E7W0h3A4br54d5dxIgnzRpGBo\n+iYzU9fnfL32IkH3vFUK19YHsSlFXcBFbUBWmQhRycptNPzh630jpdQW4AtYCdlZ4FN6+oaEOZim\nJpouYLfbGEtW5o3DSrGmIcgXPr4HYGqzvBCifE9sa+LdxYZrun62ti5ePayl2suGxiCT6QK7O6r5\n+ckRhuNZhuNZtraECPvmvuG6OJbi9HACgLd7Jnl4Y8NVx3ezPbAuwr6uWvlsEnN6/fzYjGuh2u/i\n4Y0N3Lc2csO/ZzxOOwG3k1zR5OJYmvqgh/YaHxprhup6bGquYm1DAIdNSVl3ISrcVTWXKiVJq4Gf\naK3TSikHYCyWKJWc0lrfXXqdfwT2sEjTYofDRledn7e6J9nYKFXvrke+aPLzUyOYpuZdG+rnHV0T\n4nay/+IEfZNp9nXV0VhGc9KFbuZGElkCbsecjX7j2QLZvIEGaqctHYqlC2g0dptiKJblgfWRqee3\n1/oYjGWpDbjwL9Djqj7oweO0kysatNXMLlFdKSS5EnMpGCYBtxPTzBCpchOY1hPT5bCRLRjEMgXq\ng+4ZScloIsdEKsexgThr6gNL2pqhpdqLw6YoGCZhr5N7ytjfGM8WKBp60f3PTruNaDqPUkoaHgtR\nwcptNFwH/AtwH1YPrLVYVQX/C5AA/nCx19BaT1/jlwN6y3nvHx8bImdovnWonz97els5TxFzONIX\n5XtHBtAaAh4H962N3OyQhLipJlN5Xj0zBkDBGOWZPW3X/FqvnxvnpZPD1PhdPLevc0ZCNJLI8rU3\neznSF6O+ys3ujmp+c1crP3pnkH/6dTcK8DjsJHJFNjVX8a/evY6gx8ndq+vY0hLC57QvuGwu5HPy\nqXs7KRp6wURMiEr0zbf7GIhmaQp7eGZP24xroWCYfPmNHmKZAtvbQjy0wZq9PXBxglfOjHFsIMba\nhiA9E2nWNQTxOO3E0gXcTtu8g4yZvMEvTo/icdq4b+3cpdRbwl6euaONr+7v4cfHh8kZ5oL7Mkfi\nWb62v5e+yQyr6/08vbOVSNA957kXx1J8+1A/NqX4zV0ttFZX7qCJELezcn8a/xWQApqBM9Mefx74\n63LfTCn1XuDPS68xfsWxzwKfBWhvt/pRxJM5coY1OZbMmYhrNxjLcLQvjkazb3XtzQ5HiJvO57YT\n9DhIZIs0VC0+ezWXRLbAdw71W1UCNdRXeXj+QC+GqXl0cyPVfhdffL2bo/0xktkifredoXiWWLrA\nj44NcXEsDWjcDhuRoIeJZI6vH7Aaou7rquVgbxStNU9tb553iSCA22FHcitRaWKZAi8eHkAD793W\nTMg3c8ZGa81IPFc6tzhroOHS7BXAcOm86X92OWzkCgbVPifPH+hlMJrB1BD2ufjIne2zZohODcb5\ns+8dZyyZZ09HmMaQhw3zFNjKF03M0m3JwGSGnvE0Y8kcv7GpkfYrmh2PJfMkc0UujqfIFQ1q/aN8\nYHfrnK87ksihNRhaM5bMS4J1C7jeQhlSJKMylfsj+d3Ab2ith65YF3wGKLs7n9b6BeAFpdR/Bp4E\nvjXt2Bew9mixZ88eDeCwyZKRpWJXCqcdTBR2+XcVArfDzsfu6phaXnQtzowkGYrlKBqadN7A7y4S\nTecBxaHeqLVkT0PQ7aA57GFrc4g9nTV4XDZW1wU4OZTE67KxuTmEUrChMchgNItSip+eGMYsLb4+\nOZTgri5rYCRXNLAphVOKQYgKd2Y4MdXv7fRIgjs6ZxZgUkrx7s0NHB+Is22OfYxBj5P710XoHk9N\nXR8A+1bXUjRNdnWEWVcfpHsizevnxumdzOBxWLNX40mrlHrBMDG1xu2w86tzY0TTBRLZAr2TGaoX\nGNRorfayu6OayXSekM/J8/t7CftcHOqLzkqw1jUE2N4aZjiepSnkXbCAxbbWEOPJHEopNl3nni4h\nxM1TboLlB9JzPF4LlFV9Qinl1lpfGmKKA3N36ZvG53MS9tqJZgyaqq7tBkhYgl4nGoWpNSGvDHUL\nAdaG9WvZj9g7kcbttNFZ6yfocVDldVLlddJa7cPtsFE0IexzkswWMLRJQ8jDtpYQtQE37bU+3A47\nn7xvFfesq+PsSJKtLSHWN1aRL5o8f6CX8WSevauqOdIXw9Carjo/YC0feuHwAC6HjWfvaFtwVkuI\nla6zzs+B7km0hs5a/5znbGismncWyTStPU1rIgHsNnj+QC+dtT72rqqd0eLA5bBxqDdKV12Aar+T\ntmofnbV+JlJ5vra/l6Jh8v6dLexoC/PauXGq/S4+ec8qvC4750eTdNT6Zy0VHIxlWdsQoCnk5b+9\ndoFkrshYMj/nUmOH3cbj25p4YH2EaKZA87T9nslckbe7J6mvcrOhsQqP0857tjZdyz+nEGIFKfdO\n+1XgY8C/K32tlTWV9cfAy2W+xmNKqX9V+vMZ4MeLPaFYNMkb4LRBurBs1eBvC+dGkowlraUHJ4cS\nPLZFPsCvh9ZaqjwtgUr5d3yre4Izw0n2dFaTyhm8dHIEm1I8s6eVz97fxYbGIG/3RHHYFB+9q5O+\nyTRfe7OXU8MJgm4Hfo+dr+6Ps70tTNEweWB9PV6nnYtjKXonMvRNZmio8hD2ufjYXR0YplX44s5V\n1qj8pX5XF8dTGKYmkzcYiGYlwRJXbSVdc3UBN58t9WSc3tOt3Bh/cWaUQz1RXA5FLF3gcF8Mu03x\n759201nrn3qN2nnep38yQ7ZgkC0Y/POvu9nRFuZvPrILh01haM0//uoimbzBxqYqHtvSOPW8syMJ\nXjw8CMD7d7ZQ7XOxrTWMz2VnY9P8bRz8bsesfZI/PznC2ZEkSlkFaxYrgjGflfT/KoQoP8H6n4Ff\nKKV2Ay7gL4DNQBNwdzkvoLX+DvCdqwnOMEwypcpbiWzxap4qrpDOF60qXRpyBdnPdj3evDDBa+fG\n6IoEeGpbk/xQuwbZgsHX3+ojmsrznq2NrKm/ut5SN1KuaPDL01YxjF+eHmNtQwBTa44NxBhP5njm\njjbuWxuhtcZH2Osk5HVyasggVzQBTc9EGhTYlOJIb5TJVA6/28GB7knODiepDbgYimf5wi/Ps291\n7YyN9Vc2Et7eGmYgmsXrstEVmXvEX4i5JLIFvn6gj0zB4H07mlfM3p4rv8e7x1O8eHiAoMfJM3va\n8Lrmn2GOZwqkckUOXIxbe6K0xqbsnB9J8t3Dg1T7XXxoTytuh33OptxrGwKcHk5wtD+G22HjxGCc\nsyNJTA13ddWQLQ3sxq/owxnLXL4fiWcKvGdLE93jKRpDnqvu4+YtzaBby/iv7WfJ4d4oL58apbXa\ny9M7W26ZBuRLYSkaBQtxLcrtg3VUKbUN+BzgBeqBHwH/t9a6rGqA18IwLld/t5VTCF7M6307WvnJ\n8WGKhuaDu5pvdjgV7fhADK2tWcFswVzwBkDMbTSRY6y09+LkUGJFJ1guu42mkIfBWJbWai93dNYw\nnswzEM0Q9jk5PhhnS0uI1ZHLrSR2tIX55ekReicVTWEPAbcTlKbaazUW/tXZMWKZAgpYVefD1Bqn\n3caxgfiCFT6r/dbmfCGuVu9EZqogxJmR5IpJsK50aihBwdBMpPL0RzOsqbeuq1SuyC9Oj+J12bm/\nNAjx4Lp6jvXH8brsrG8MYFOKe9ZESOaKFE3NaCLHSDw3b/sCj9POB3a3sq01xPeODlI0NIlc0Zpd\nHk/xG5sa6ZtMs601xMGeSeoCbtpqfGxrDZHKFbEpxebmKhx2G2uvsgH5JQ+uj9Ba46XW7yboubay\n7McH45jaGsyJZwsysy3EClD2ZhytdR/wJ8sYyywejwO/204qZxC+xmlzYTk2EMNus2G3wZH+BKsb\nZPPstdrZXs3r58dZHQlIcnWNGkMe2mp8TKbybGtZuv40y0EpxYf2tBHPFAj7nCileO/2Zmw2xWA0\nw4622fGPJrK81R0tFanQ1AVdbG8N0zuRxuu0s7M9zN+9fG7q9e9dG+EHRwdx2BSvnRvj7tWL99UR\n4mqsqvPTUOUhUzDYvIKLJ2xuCdEzkSbocdBa7Z16/ED3JKeGrIbazSEv6xuDuJ027HarH1U8a/Bv\nn9rE6eEkvz4/zmQ6z52rasvqb7e2IcjvhDzYleKlUyP0TWbY0VbN+sYgm5qr+NGxIY4PxLEpxW/f\n3UHY5+L+dREMU3NyKE7Y56Il7J3xmrF0ge6JFF2RAIEFSnw67LZ595iVa0dbmF9kRmmr9knvLCFW\niLITLKWUC9iCNXs1Yw5ca/39JY4LANM0cTtsaA0up1TMuh6G1lPLjgqmLBG8Htvbwmyf46ZalM9p\nt/HBecoU3yypXBG3wzbnEh+7TVE9bZDHZrOSrPme63HZcdoV2YKJYVrLf35wdIhNzVVsawuzqTnE\nzvZqDFPjcdp5YF2EI71Riqbm7e5JSbDEkvO67BUx+9kS9vLp0n6p6SIBq9CVw6ao9ltJhNbgc9rZ\n0VZNR62PoMfJwZ5JPE47TSEv793RXHa1zUuzR09um73CQ2trCY1Go6etpnn17Bhvd09iU4pn97YS\n9DjxuRxorfn6W70kskWO9sf46J0ds14zlSvicdrn7LN1tTY2VbFxBSfNQtyOym00/ADwFaBxjsMa\nWJZhfJtNkc4bZAsmTllTfF0e3dTAcCxLvmjym9OqKwkh4GDPJC+fGiXsc/Lhve3zVhY0TM0P3xni\n1HCc+oCHdY1BlIJXz4xR43fx7N423A47QbeTf/34Rs6MJDgznCCeNTBKd2YFw8TvdvD0zhYGohm2\nlspPb2qu4mh/jE3NcqMkxJU2NVcRCbpxOWxTszRel52nd7XQP5lhS0vpOmqq4s2LE6ytD04lV6lc\nke8fHURreM/WxhlL8YZKPxenl1bXWvN2T5R0vsjeVTU8uL6e2oCbSMA9Y6ClULQGK/NFg6+8ae2W\neHhDA1taqsgbl47NHtC81Ai5NuDi2Tvarf3RyyBbMK6pSqoQ4vqVO4P1N1jVAv8NMICVVC27fN4k\nVzDRWKVMxbU7M5zk9fPjaA13rKph5wJd58XCzo4keOPCBGsiAe7skqbN84mm8/z4+DA+l51HNzeu\n6L5NF8dTAETTBaLpAo0h66Ykkzf40bEhTG01Dh5P5vnJ8SF+fX6cTMFge2uY1fV+esYz+N0OHtvS\nQK6g+YdXzzMUz/LMnjY+tKednok0tlKhi0vXXluNb8bekIc3NvCu9fWyQV2UzTQ1Pzs5wngyx0Mb\n6qm/xobZlSISdNM7keb7RwdpCnl4cH09rdW+qf1kyVyRoXiWjlofD2+sn3reyaEEfZNWZ5jjA/Gp\nz+3eiTT/8nYfWsO7NzVMJWlnhhP8/SvnyRsmiWyBx7c2s7Gpih+9M8ThviiPbm7E47Rz79o6/G4H\nBcPgre4oYH2WbG0N8fTOFs6NpNhwRVXBfNHk24f6GYplWR0JEMsUiFxjH76F/PjYEHCQ/y4AACAA\nSURBVMcG4qxvDPK4lH2vaFKoozKVm2B1AU9rrc8vZzBXMkxzKpOTRW3X583zY7x+bhwNbG2pkgTr\nOrx6ZozJdIGReI7tbWEZIZzHwd4o/aWbmjX1yeveZ3A9CobJz04MkyuaPLShfmoEO5Et8I0DfYwm\ns3icDjY2VdEwrefeW92TvHJmlKDH6nG1paWKaKZApmBQKJoMxrLUB92YWltlklFcGE9yYTxNtmDw\n0xPD3L2mbt5N9leS5Epcjf5ohnf6YwC8cWGCp7bfugWMusdTDMaynBiI885AjIDbwZaWEHWBy9fr\nO/0xusetlp0nBuPTBjO8U7NE02eqkrni1JK/6ZWKD3RPcmIogd9ln0rMjvbFrIqgWAnbjtJn/872\nMD85NkwqV6Sl2sueTus9m0JemkIz92UBnB9L4rDZMEyN12WnboGmw9fjzEgSgLOl34UQN1a5CdYb\nwGrg7DLGMovf56LK4yCeLdIQvLVH5pbbr7snp36AvHF+gs89fJMDqmAdtX4m01EaQx5cK3hW5mZr\nq/ZxpDeGy2Gj8YqR9d6JNC8eGSDgdvCh3QuXYr5kJJ6lyuu8poT29HCCE4PWBvlaf4x711p7nL5z\nsH+qce97tjTy7k0NM553Ztga+TbMNB+9s503L0zQXOUhWusnUzC4c1UN96+LcLQ/TtjnJORzsqW5\nivYaH0PxLBubqnAv0/IfIWoDLoIeB4lskY7auZN4w9R862A/g9EMD22sZ3Nz6IbGmMwVyRUMagOL\nz9JorRlJ5Aj7nLgdl6/zeLbAtw8OYGrN6eEEE6k8XpedK4cjWsJeHDaFUtA8rehEfdDDZ+7rQqNn\nvO76hiCxTIF80WR3x+VBx8FYllq/i6Jp8q711kxYa7UXu01ht6kZjYKPDcQ5O5rE73awtSU0Z1I1\nXUPQQ8jrZH1jkCe3NV9Vm4+3uif51dkxVtX5eXKRFiF3ddVyuDc6NSsnhLix5k2wlFKbpn3518D/\npZSKAEeBGU0htNbHlyM409SsrfczGM2ytmFllpStFEXj8mxgvihNm6/HuzbUs6ujmoDbITMOC1hT\nH+DT963CYVczbmrAGgHOFUxyhTz90fSiZdpfOTPKgYuTBD0OPr6vY9brzaVvMs3BniirIwHqgx6c\ndkXR1FT7nMTSBUI+JxfGU0yk8yigIejm1TNjJHMF7l0bIeB2EPY5cdkVOeD0cJLzo0kiVR7uC7j5\n1L2deF0OPE47e7tq8TrtOO023AE7f/b+LcQyBQJuh/RJE8vG53Lw3L5OckVj3hLfE6k8vaWZl2MD\n8SVPsN7qnmAwlmVfV+2sJGoylefLb/aQL5ozluDN56cnRninP0a1z8nH7uqYKhpjUwqbAlNDS7WX\njlofXqcd97TBlmzBoMrj5NP3daEUswZi5trnZLMp7ppjmffqSACtNc1h71T59bYaH5++bxU2pWa8\ndmPIM1WooqGMJZqG1iis2e68YfDKmVFSueLUZ85Cjg3EMEzN2ZEk6bwxq2nxdLs7qmckjUKIG2uh\nq/kdZu61UsA/lf6spz22bEUuTFNzeiRJKm+S17JI8HpUeZxTo30hn5RxvV5SCrc8890AbGqu4sJY\nkoDbWVY/nqFYFrCW8aRyRlkJ1k+PDzOZLnB+NMV/9+BqPnnPKibTeV48PEi2NPs0EM0S8jrY0FhF\nc7WXl06OYpqat3smqQ96uGNVNc1hHwGPg4l0np3t1Rzui9IS9vCNt/pw2G08s6eNqjlubi99j1wY\nS/GzE8PUV3l4YmvTklQNE+ISl8O2YJGEGr+LVXV+BmIZtrcubfXT8WSOnxwfxmm3UTBMnt45szLo\neCo/VeRhOJ5lS0uIn50Y5txokrtX181KuIbi1nU+mS6QK5pTCVbA7eCDe1oZjudYHfFzbjRFQ5V7\nKiGJZQp88fWLpPMGT2xrmpVExrMFXjg0gNaap7Y3z+oTVTRMMoXLSepT25uZTOepvuI8h83GC4cH\niGUKvGdLI81hL6eHEyiluaOzpqylwOPJPBqFy6E41BNlOG71A3Q77LxrQ/2Cz93eGubVs2N01fnx\nSYsQIVa0hRKsjTcsinmYpiaVMzA0xDIy63I93A5r2QRw1Z3mhVhqLWEvn71/ddnn378uwmvnxmgO\neakpsydebcDNZLpAyOvAYVO4HA5GEjmSuQJ9kxkGomkmUzmSWYOwz0VrtQ+HTXFqNEl/NMPqSIBI\n0M1v7W3j4lhq6gbKYYe//skZ+iYz1Fe58TjtfHjv/OWvD/ZYy3MT2SSjiVxZfXmEWCp2m+L9O5en\ncuyRvihH+2O47DZ2tc9O3rrq/OxoC5PIFdnTWUMqV+RIn7Vn7K3uyVkJ1oPrIuy/OEFnnR+/28Gx\ngRjD8Sx7OmtoCnlprPJwoHuSdN5g47TiERfHU/z6/DgFQxMJumclWGeGrWsPrEbG04sT5YoGX36j\nh2i6wL1r67ijswa7Tc3Y23VJ32R6ajbwSF+MGr+LQz1WcYvjAwnu6pq7vcL+ixO80x+zWny0htnW\nGiKdN9jWGuKFQwMUTU1tGXuxpEWIEJVj3gRLa33qRgYyF9PUl+fI9A0pXHjLaqv24XfZ0dpqOClE\nJWmo8swaHV/M41ubODkUp38yQ/dEmlV1fjpqfDjtNjJ5A4fbQd6wlgE1VXmoDbh5bl8nf/fyWZK5\nIn2TadY1BFjfUEW1z0VVaUbq2wcHSOaKxLMFIkHXoktu1zUE6Z3IUBd0lZ0cClEJhuI5trWEyRYN\ndrbNXo5ms6kZszJaazrrfFwcS7Ohcfay4OmVNceTOX58bBiAZM7gvdubOTea5NUzY4DVW+7SXkqv\n047PZSedN+dcXdBZ62O/y85QPMNwPEs6X8Tnsm5/4pki0bS166F7PM0dnTXz/n2bQl7CPifJbJG1\nDQHcDhtdET/nR1Nz/n0uee3sOKbWvH5unF3t1Ty88fJez+f2dZIpGDLwIsQt5moaDW8G/gfg0t6s\nE8Bfa62PLUdgAB6Pg2qvi2g6f8uXn11uW1ur6az1Y2rNrvb5f4CIxcXSBY72R+ms85e1vK0SDcez\nnB1Jsr4xOOdI7pW01itur5HdpninP8ZANMvJoQSfua8Lr8vOfWvr0Nra13HvujpSuSL3r7VuAkM+\nJ3s6a/A47ayO+NnYZC1pOtIXw+208Ym7O1nfGGAsmaPK4+DRLY08tKFhwTi2tITY2FQlSwNF2VbC\n9RRN5zk2EKezzk9LeO7CDXevrsXUmvYaH+EyBg+UUjy9s5WiYS66ksLttONy2MgXTQJuazmc3+1A\nKWu8NeC5fPsS8jhwOeyYeu7l27UBN0/vaOFLb3RzbjSF6/Qoj22xSpfXBVzsaAszGMtyV9fCPxu9\nLjufuLsTUzN1Pb9vR8uif5819QFODydYWx+YdSzkcxJClpwLcaspt9HwM8CXgdeB10oP3wUcUkp9\nVGv9/HIEZ5qaD+xqpTeaZpN0Kb8uDSEPD5VGzZrn+WEpyvO3L5/lcG+USMDFf3xmx4yN1rcCrTXf\nfLufbMHg1FCCT927asHz37wwwWvnxuiKBHhqkcpWN9qlzehOu23qhmh3Rw01fjd+l33OgZt3b2rg\nvrV1U9X/4llrdNsqymHy4b0d3LsmQnPYu+Am8+kkuRLlSOaKPL+/l0zBmrEpt7z/cvje0UFG4jkO\n9kzyuw+snrOPXUetn47aq18RUc4y9YDbwUf2tjOeyk+tumgKefnw3nYyeYPOaSsxskWT1REreZnv\n48fjtOOwW+XRp39mK6UW3fs0nVIK+xXvsdjf54ltTTxcqJeWHkLcRsqdwfo88H9orf/d9AeVUv+2\ndGxZEiybTfHsne2cGkqwtVVKjV6P1ZEAj25uoGBqNjVLsno9Rq7YiH2rJVhKKZx2RbYAzjJKjB8f\niKE1nBtJkikYU0tvVoLHtjRybiRFU8gzVQggkzcIe51ULzDiPv1G6F3r63nTNUFz2Dv1nEuVxYRY\nSn2TaWIZK6E/O5K8qQnWpYTKYbfNKod+o1T7XbOu07kq9bXX+LhnTR2JbGFGVUCtNWPJ/FQLhWfv\naGMinWftIlVLl4MkV0LcXsq9E2oE/nmOx78M/MnShTNbjc9FS9grVduu05nhBJ/6b/sxTM3ff+IO\nti1xNanbyQd2tfLV/b3sXVU9tS/nVvOh3W10T6TK2q+3s72a186NszriLzu56p1Ik8gW2dAYXLTU\n/ZnhBHaboisye3nNlWLpAvsvThD2OdnVXo3bYZ8aUCgaJge6J/nF6REUirX1Qd61ITKrohhY5ZC/\nc2iAtmovT25rpjnspT64+FJJIQDOjiQAxZo5loQtpKPGT0OVh3S+yMabvGrjyW1NnB1JWsVfVlBh\npDPDCV46OUJz2DtVLGJ9Q5C9q2Yv7/vRsWFODMapC7r56N526qs8U7PWpqk5NZwg4Hbgcti4MJbC\nhrXle1XET7XPxamhBJGgu6zy6+WKZwt0j6XpqPPNWX1UCHFrKDfB+iVwL7MbDd8D/GpJI5pGa83X\n3+olkS1S3+/mo3d2LNdb3fL+6OuHGCqVg/0fv/o2L/3xQzc5oso1nMixpj5AOm9SMMw5l85UupDP\nyTZfeUn41Va2Go5n+Ze3+9Da2udx95q5K28BvNMf4yfHrY3uT21vXvSG9R9+dYFfnx/H57Lzmfu7\nuHv15dd+5cwYL58a4dRQApfDRs9EmtFkls/c1zVjWWM0nefvX7lAfzTDUCxDJm+Qyhs4bIpP3rtq\n0V414vZ2YjDOD98ZAqxCK+sXKH5wJa/LzkfunL8i5Y3kczlW5EDcwd4o6bzBwZ5JDvdG8bsdxDOF\nGZUBLxmKZQCrYEbeMPHYLs8ivXlxgtfPjVMwTIqmyamhBIlskSqPkz2d1bTX+Dg3msJhU3zins55\n+4xdrW++1cdkukDY5+ST9yy8/FoIUbnKvVP4JvCXSqkdwK9Lj90FPAv8b0qpxy+dqLX+/lIGmDes\nHhqXemmIa+ObttRroZ4pYnGF0vekYZpS3PIaFIzL/26Xru/55KZd94t9BmityRasin6mLu2ZKl7u\nmZU3rApj9VVuDFNTUxqhPj+aYvW0xK1gaMI+J0PxLC67nSqfk1TewNAaw5T/cLGw6d+nhUW+v28H\nB3smSeaK3FEqHnO9NjVVMRjNUhdwk8lb13vBmPu6fHB9PfsvTrCmPjDrvS/9PxmmplC0ru2iqUvX\nubWvC7iu694wNabWMwbhLsUq3xtC3NrKTbD+S+n3Pyj9musYLHHTYaviUAvnRlJsaJI9D9fjY3e2\nsb/b6tfxwV0rY4S0Ur1nSyPv9MfpqPVJsnoNWqt9PLq5kXi2wM45eudMt6MtjNYau03N6HtzfCDO\n6+fHiKYLrG0I8ujmBtwOO5+8ZxU/PTFM2OfkwliSw31RHtnYwJaWEA+sixD0OHhyezO1fhd/89JZ\nQl4n3zs6yO8+0DWViEWCbp7d285oIsuu9mpMDYd6ozSGPLJUWSxqa0uIoqlRitu+OFP3eIqXT43S\nO5HmZydG+O27O2csO07ni/z42DAazaObG8taYrylJcSmpipspSqhqVyRne2zS8QDdNb5ZxTDmO6u\nrlpcDhsBtwOvy87JwTimCcpm/b81VHk43BulIeSZcxnxYiZSeZ4/0EvRMHl6V+tUJcb37Wzm9FCS\ndQ1Xt3xUCFFZyk2wrrvsnFLqTuCvABPYr7X+w3Ke1xTy0hSSqnfX67UL0amqaId6J29yNJVNKYXd\npm67ynBaa97pj1M0Tba3hhfdOzWRynNqKMHqiH9Wtb5yC63YbYo9c/Sl+eWZUU4NJRiMZlBYDU23\ntIRoDHn42F0dDMYyfPXNXsAqFrClJYTHaZ+xZHBbW4iLY2k8Thv2K0qPrWsIsm5aIYt7FljGKMR0\nNptid8fcN/zl6p1I0zeZYWtriIDbwWQqz8mhBF0R/5LuB1puXqedgmHSH81gsyl+dXZsRoJ1YjDO\nhbEUAMcG4gv2oJru0mfPlY2Kr4bLYZtREGP1HHs8F1q+vJi+yfTUDNvFsdRUglUf9FAfrJz/QyHE\ntSkrwdJa55bgvbqBh7TWWaXUl5RSW7XWR5fgdUUZtraErH0vwObW23tU9Xp99/AA7wzEqAu4+dxD\na2/JWazRRG5qZPeSU8MJfnpiGFNrxlN53rW+fsEk84VD/UymCxzui/K793ctWL59KJbl1+fHaan2\nzrjJMk3NaDJHtc/qh1fldeJx2mmv8TEYzZDxuXA77bOadDYEPaxvDDISz7K7o5pc0SCaLhAJuKdu\nzh7f2sSFsRRNIe+K2sQvbi8TqfzUTArAxfEkf/mDU/hLjXGf3tnKi0cGGE/mOdg7ye/dv3rRwY2r\nYZiasWSOGr9ryfeT1ld5+OidHTjtNnSpX9Z0zWEvTrtCa+bttQVWYQjD0AtW/pzL9M+P6Z/TsUwB\nrfU1zUyVa019gJNDCQqGyWap3CvEbeeG7dbWWg9N+7IAGDfqvQWcHIxTKFprv48PxG9yNJXtxcMD\nnBpOUOV18vsPrIZbLMH6xlu9/OzECB21Pj730NqpXk+XZnmODcQYTeTI5A2e2t4MWPsZXjkzitZw\n/7oILsflvlN2pRbtjfXLM6P0T2a4MJZibX1g6sbnx8eH+fnJEQZjGdY1BGkMefj4vg7es6WRe1bX\nYbdZZaSv3F9hsyke32o1EjVMzZfe6GY8mWdTcxWPbm4EwO2ws6FRbnzEzXN8IM6Pjg3htCs+vLed\n2oCb189OEE0XmEjlSZdmQGZeS3O/1mAsw4GLk6wqzeZeMpLI8uaFCVqrfeyYoxjNd48McH40RWPI\nw4f3Lv3y8ZZqL597aA2pvDFriW1TyMvv3NsFMGMwZ7qReJav7e/F0JontjZdVYuEHx8f4sRggrqA\ni4/e2YHNphiMZfj6gT5MrXnv/9/emcfHdVWH/3tm174vtixZXuQ9thNvWZzgYLJASAMhBBKgBQIJ\nlLb8CunCUggtbVNa2lIoLZS2AZIQILSFsCQQgiEhjhM7i+N4XyTLlrUvI81o9vv7474ZP41G0siW\nPVru9/N5H2neve/OuW/effece889d938rKKTphOOxXn6cDci+n2XyTDN97i4fWP9pMs2GAyzg4se\nDktE1gJVSqn9aefvBu4GaGgwa4SmmtfO+EkuqT3cPpRTWWY6/cGIDqgQieMPR8mbRVHlovEETx3o\nojcQIRCO4Q9FUwZWU00RaxcEON41RHWRlw5rPzDQRtfeUwMAlBW42bCwnFsureNY5xCNWWxEWlPs\n43TfMEW+kbNmLT0BmnsCdPiHcTqEnkCYf99xjK1NVRO6YSUSisdfa6elJ0Bbf4jyAs8ImQ2GXNMx\nqJ/HaFzRG4hQUeilvjyfVfOLCUfjLK4swB+K8jvr5nO0c4iFFQVjDlb88kAnXYNhjnUNsdi2ZcKO\nQ3rw4kjHEIsqC0YZOck20ekPk0ioKZ0dS+JyOjjWNcCe5j6W1xZxzbKqVNpYhlWS7qEIsYQiEI7x\n7Z0trK4r5pb1dVkFzGgf0HXrCURSUQS7BsOpoBUd/vC4BtZgKEqetUGxnVdPDfDqaf2+Ky/wjLkG\nzGAwzF0u6tC7iJQDXwHuSk9TSn1dKbVRKbWxqqpq9MWG82Jh2Vn3i/FcMQwTU1viI6Gg0OeiNO/C\nuZjkApdDaKopJBpPUF3so9a23uNY1xB7T/kp9LlwOoTXr6hOpZUXeBABESgv0PtFFfvcXNpQlpVb\nzzVNldy5pYF3X74wFWwC4PUrqhEBj8tJOJbAgZBQ8NzxHg61DxIIx4gnFDsOdvL04S5itshcvUG9\nBiwUTVCS72ZhRT7XLq/O9PUGQ07YuLCMJdWFrF1QklL0tzZVcvc1i1lSXchzx3v5/u5TFFltqdxq\nSy+39vOrQ50EI7FUWZWFOq3I58ZjMwgqrGsKvS587tFd/vaVNTSU5/OGVdUTGldD4ZjVps46oLzW\nNsBTBztSGySPxe7mXobCMfa09I1opxOxrKaQNXUluF1Coc9FW3+IQ+2DJLKI7HftimoaynW7Txpk\nK2qLWTW/mGU1RRln9OzyfuPpEzz4XAvh2EiHG/v7rqLA7I9nMBhGc9GG3kXEhd6s+N40d0HDRcDn\ndZHsOicaMTSMT3Gem8WVBXjdTiLxBN4pCD08XRARFlUW4B+OUuhz0TUYTgWoCEe1UlRd5GNrU+WI\nkd+FFQW8+3K9T11l4cQKR89QmEA4TkNFfup7My3eb6op4vrVNbT26Nmthop8WnuH6R4K89NXz1Ca\n78brcvDDl9so8LrweZypNVyleW5qS3x0+ENcv7JmWu7pY5jbFPnc/I7lZmunplgP4oB2R1NKpWau\nTvcP86uDnQDE4orrVtUAcP2qWlbPL6Gy0DtixuXa5dUsry2ivMAzYvAiyZKqwowBHtJRSvHdF1rx\nD0epK8vj9o319AUi/Pw1vU/dYCjGLevrxrx+RW0xe1r6aKopnNSaR5fTwXWralhRW8QPXz5N11CE\nn+07w97TA7xzU/2468YWVhSwMG0G3eNycMPqWgaCUTr8IRrK8zMali09QQD6glEGhqNUF529d4ur\nCnnXloWIZPe+MxgMc4+L6dv0dmAT8AWro/iEUmrnRfz+OY3X5SRpB2QaxTRkz5KqQlq6A8wv9ZE3\ni4wr0GupjnQO0dY/TFNN4QjjceW8IoKRGAkF6+vLSCQSOBxnn6VsFY3uoTAP7zpJPKG4uqkyY5RA\nO9cur+HZY90sLC9ga1MlsXiCB55tZjAUIxiJ47dGzgPhGA7OKkoup4M7NjcQiydMEAvDtMVuPNn/\nv3ndPA6cGWRp1Ui3wDy3E6dDiCcUBd6z7fNkb5BdJ3porCgYsemuwyEsKBsZXOJcSCgYtmbMAmH9\n1+Ny4HE5iMQSE27Afc2yKq5cUnHObbG+PJ8Pb1vKo3taaesP0T0YZmA4ek4GzlA4xoO7WojEEly2\nsIzXLRvtNbNlcTnhWIJ5JT6qMnxHVZExrAwGw9iM+UYUkS70vlYTopSa0O9GKfUd4DvZi2aYSq5f\nVcNvDncRT6jU4n/DufHUwU4Odgxxxh8mHI3hcs4eN8HDHYM4BVxOYSAUo9MfSq3Z2Hfaz2+P6kh/\nOw518uLJPq5cUskfbW+a1Hck3fqACd2KABZVFqRCO3cOhmjuDrK1qZLTfTrwRXKz4nklPjY0jl4L\nYYwrw3SltTfIj15pI9/jZOvSSn5xoAOfy8nbNy6gushHz1CEH7x4muoiL9uWV7HzeA+VhV7euame\nwXCMxbaQ508f6aJ7KEJbf4g1dSWptZNThdMh3GytBSvNd7O7uZc1dSXcubmBnkCYRZUTz4Kdb1t0\nOoQtiyr49eEu5pfmpdwfJ8twJJ7aaHisd9CCsnzu3GLWgxsMhnNjvDfwpy+aFIYLTr7HSWWRl0RC\nkeeePUEZckFzT4B4IkF/MMIZf5ilvtljYNUU+/C4HPQGohR6XXxrZwsfv34Zpfke9p8ZIKEUrb1B\nnj/Ri9MhvNDcO+nvWFihZ6L8w1GuWFIx8QUWiYTiB3tOE4rGqSz08J4rGlNpH33DsozX7G7u5XT/\nMFcsqTB7zximFUc6Bvnt0W7CUa3s7zrRSziaIBxN0No7zKr5bg62+4knFGcGQvx8fwc9QxGau4MZ\n3foWlOfTPRShssibVQCIc2FhhQ6S8cCzzSilA1DcuKY26/DpfYEIzxztprLQO6m2b2e8zYOzparI\ny+tXVNPhD42Y7TMYDIapYkxNWyn1tYspiOHCcqB9kPaBEErB/jP+89pAca5TU+TlWChGnsdJ/RS4\n3kwnqoq83LV1McU+N7882AkovvKro3zijStZV19KX7CLutI8PC7h+RN9XNNUSSga50jHEHVlealF\n+JnoGQrT1h+iqaaQTY3l7G7u5Vs7W1g5rziji046yUXlqQ8T0BuI8PSRbkBHabttw4JsboHBcE4E\nIzGOdQaoL8+bcH+lY11D/HjvGYbCMRIJxbLaIq5cXMHDz5+k0OuisVK/Vy6pK6XTH6am2EdtiY+d\nQz3ke5yjIgGCXmu1fkEpRT4XJ3uDROMJmqoLJ9wi4VwQBIXKphmO4LfHutl3eoBD7YPsaenlPVc0\nZqzLxWDdOAEuDAbD1NP45z85r+ub779piiS5OJipjDmC14rCppQaEWHKMHn6glG9HiGqw5hXzbJ1\nWHkeJ9uWVfLTV8/QORgmGI7x6f97lfX1pbzn8oUp16OPXKvz/2DPKU72BvG5nXzg6kUZF51HYgm+\nu7uVcDTBkc5Bbr1sAXta+hiOxHmxpY+tSyvH3LQ4FI0jop/ht29YQHNPgKXVZ/fCOdIxyG+OdOtI\naCurUwplvsdJnseJfzhq1ksYLjg/ermNMwMhCrxOPrB18bgR+ZTSLrKFXhfXLKtkw8Jy9rT04XM7\niSUUPUMR8sr0Btp32zbprin28utDXXxzZzMOEeaV+Ljpknkp17uyAg/Hu4b44cttAGxfWT1mcJdo\nPEE8oUbNdkXjCWJxNWYwpNJ8D7deVkfXUHjSG+hWFnrpGQoTjScIhOMc7RyacLuFi008oQhF4xld\nLKPxBD/e28ZAMMqNa+aN2uDcYDAYkmRlYFkRAP8EuANoAEYMzymlZtcw/izEPxxhYDiCUjAQjORa\nnBnNwHAUBUTj+l5WzQLXs/5ghJ5AhMaKApwO4b93thCIxAhFYnTEE9qoTOhIYOkjv8k1ULF4goTK\nvGwzoRTxuAIURzqHeOZIN001hbzSOsDKeUVjGletPUEeffEUHpcjtS6lIm3B+QvNffiHo+w7PcCm\nxrLU7IFDBJdDCEXj5JvALoYLTLIdRONqwsXLS6uLuG5Vgmg8wTrLAEquCQqEYzT3BHitzc+BM34W\nVxWkovN1+sP0BaMc7hikyOdiOBLnzECI+vJ8ovEELT1B+ofPvt+jY4RDHxiO8sjzJwlFE9y0dh5L\nqwtT3/3As80c6Rzi2mWV3LR2fsZ1U/Xl+dSXT77bv3xxBYVeJ7882InP5aSxw8AsuQAAIABJREFU\nYnqpDtF4gkeeP0n3UISrllayedHIADytvUGau3V0wZdb+7mxpDYXYhoMhhlAtjNY9wHvBf4euB/4\nS2ARcKuVZpjm7D01QCiaAAWvnO7PtTgzGrdTiMS1e4zPNfMV92AkxkO7ThKJJbikroTtK6uJxRMU\neFz0O6OIgD8UpWswlFGpeuOaWvad9lNb4uWJ1zqIxhJcv7qGIt9Z1x+f28lbLq1j5/EejnUO8UJz\nL5say/no9qZRI/3dQ2GeOtBJvtfJ7uZeDpwZZFFlAW39oYzrqJbVFNLhDzGvxDfiO/2hKIOhGEU+\nNyd6gmxaZNZaGC4cN12io/4tqioYc8DAzpq6khGf19WXsLu5h5O9AXY3u+gNhCkv8HKiO5CKLthY\nWcDulj7mlfhwOR2U5btTs7OP72vnaOcQ+R4HVzdVotDRPjPR4Q8RjOi9nVp6AikDq2swzP42P239\nw3y1bYCDHUO876rGEe1OKcWPXmnjN0e62NBQxu0b6ycVvGJNXSmr5+u6Xwj3xfNhMBSje0gbqM3d\ngVEGVm2Jj+I8N4FwjKXV57cOzGAwzG6yNbDuBO5RSv1ERD4PfE8pdUxE9gFb0ZsHG6YxSilSfb6a\nXp3aTKM0z8NwNITP5SDPm5v1A1NJOJogEkswMBxh5/EeltcW8ZZL69h7aoDWngAvNPcjEmVRZUEq\nFHMkluCVU/2U5LlZVlPE1qZK9p7q51jnEACvnhoYtc6vvjwfl1No6x9GKe2KmMmNandzH6f7hwmE\nY4RjCYp8LhwCy2uKRuUF2NhYztoFpbidMkJhqyjwsHZBCW0DIS43xpXhAlNR6GVr07m7or7SOkDn\nYISB4Ri9gQhN1vO+en6xzUXQxz2Wy2BCKZwiOBxC+0CIV1r7cToEhwir55eMu99hY0UBS6oLCYRj\nrK8v5VD7IIOhKKvnF7OosoAzA8MUeF0kEoqTPcERBlaHP8yT+zvoHAwzFIpxSV0JFYVe5pX4sjaY\nppthlaQs3836+lJO9QXZsnj09hH5Hhfvu7KRuFLj7r9lMBgM2RpYtcCr1v9DQHLo7cfAX021UIap\n552bG9h9so9EAt5lbQhrODcSgDB9lYTJUlbgYXVdMf++4xgOEb664yj3Xr+cDQvLOTMwTILjKKWo\nKvaljPRnj3Xz0kk9E1q02cW8kjxqS3QEwnhCUVeWl/G75pXksbmxnL7hCOsWlGTMU1+ex8F2P5WF\nXlYVFzMwHOX1K6rHVRg9GWYSRYTtK2smeTcMhnPDH4pyuH2QhRUF57Tmz+NyUF7gpr48n7ULSrh5\n3fwR66MC4RihaDzlIuu09nyLJxQ/ePEUInp/p9s2LJhwM3mPy5Ha4PhUX5CfvnoGgGAkzseuW8b2\nldW80NxLsc/N8tqRAxul+W7ml+bRORimPN/DUwc7SSjYsLCMa7IIVjOdERGuXTH+rjMOh4zYb89g\nMBgyka2BdQptZJ0EjgPbgReBDUD4wohmmEo2Largfz+8lQQJKgtn/pqhXDI4HCGudPCFaDyea3Gm\nhPJ8D9VFPpp7Arx0sp/PPbaf2zcuoKG8gEvqSvC5HVy5pDLlCpR0gRIBp2VoVhf5uGvrImsD1Myv\nlpM9QXad0KHdKwr6WF9fytNHunE5hauX6vJXzy+hoTwfj8uB1zW7AogYZi+PvdJGpz/MC8193HPN\n+EEujnQMcrB9kLULSlhYoV3NBEWh18W7L28Y5do3EIymNsZNBq7Y3+bnWNcQ6xtKcTqEfI+LxVWF\nqZmvbLG7M7ocekbs0oYyLm3I7F7oczu594bldA+FUUrx3RdOAdq112AwGAyabA2sx4AbgOfR7oDf\nEpH3o9dhffkCyWaYQs70D/N3jx8ilkjwJzcsT3XqhsmjEGsGCwKRWK7FmRIuWVDCzevm8fi+dgZD\nMTr8IX59uIt8Tx+glbAb15zdoPrKJZWU5nkoznNRXXzWYJ9o/51wLM5rbQNE4wlWzCvi6SNdPLzr\nJA4RCj0uNllrHuxrqQyGmUAyvstEIS6UUjy+r51YQtE+EOKD1yymPxjh14f1lgJHOwOjDKzeYCQV\nBKN9IMTy2jg/39+OUno7grdvWMDJ3uCkjSvQs8pvvbSOwVCMVVlGBXQ7Hcwr0bPUVzdVcmYgdM77\nWqVzZmCYx/e1U+Rzc/O6eSMGWULROD96uY1gJMab1s4ze9sZDHOI8w3zDhc31HtWBpZS6uO2/78j\nImeAK4HDSqlHL5Rwhqljx+EuWvsCADy5v4O7rl6cY4lmLtVFHk70DONzOZhfMjsM1bgVtGNtfQnd\ngxG6h8KUFXgoy/fQPhAioRTt/hB1pXmEonE8TgeXjOHiN+73KEVtsY9oXOFxOOgJhPGHovQGovxk\nbxsr5hXhcjhSLk6vtQ3Q4Q+xsbGc4jSjKxyL4xSZ1AJ7g+FCkEgo3rCqhl/u78DhgId2teB1OXnT\n2nmpdYtJRISyAg9dg+HUvnE+t5N8j5NgJE5F4dkgvR3+EIFwjIXl+axvKMU/HGXLogrcDgdel4PT\n/cM0VuZTUegdFV1zIoYjcXxuByLCgrI8YgmVVXCOdDY2jl6rlCQSS6T2ytp1XG9OvmVR+bize6+e\nGqA/GKU/GKW1dzgVgAPgRHeA0/3DALzW5qd6uTGwDAbD9CTbMO2bgT1KqTiAUmoHsENEnCKyWSn1\n/AWU0TAFVOS7Od4VQCkoyTezA+dDm9XBByIJOvxBGisnP2o8nWjtDfLlXx5h14leKgo9XLeqht+9\nspFin4s8t5Of7jvD88d7+e7zJ1k1v5iD7YOUF3h4x6b6Sbvw1ZXm0VhZQCgap6mmiFWuYp491oPL\nMYzX7eQ/nj6OIKyvL2XtghJ+/loHAEPheGrNCGhF67FX2vC5HbxjU0PONis1GBIJxff3tHLwzCAD\noSgOEcLROIurCjnU7mfDwtEGyNs3LqDTH07to+RzO3n35QvpC0aoK9UzQ53+EI8830pCKa5uqmRt\nXQmBcJySfDfxhEIpcDscJBITBYUfzROvtbO/zU9TTSHbllfzyPMnCYTj3LS2dsQec+dDa2+Q/3vp\nNC6ng2U1hew9NQBAkc81KoKinaXVhRxqH6TA62J+6UgDqq4sjyKfi1A0ztKqwjFKMBgMhtyTrYvg\nTmAe0Jl2vtRKMwslpjl9w1GarJFA//DscGvLFXElYLkBBcMzfw1WS08QEYglFJFYgoQipeQNhWM8\nd6yXY11DzCvx4XY6UAp6hiL0B6PUFE+u6Rf53Lz/qkYUkhot/9MbV/A/L55CodeaFHhdHO0cYtOi\ncjwuB5FYgkLvyO9p7g4QTygC4TjtAyFjYBlyRiASo60/hMsp9AejLK4sYNAheFwO6stGbmuQDLfu\ndTlHbXlQ4HWNWLsYjMRT+8qdGRjm2WM9xBOKrU2VrFtQSiyhKM5zE4xm3utqPI5a0T6PdQZYXjPM\nYEj3Cce7AlNmYLX0BIklFLFEnED4bJ+TPqOXzuKqQn7/2qU4ZHQgoWKfm7u2LiKhOKfZNoPBYLhY\nZGtgndUoR1IGBKdOHMOFYvvKava09BGLK65bbSKrnQ+X1BWz9/QA5XluFs+CUdRV84t49piXzYvK\n2LCwnDevPbvWathyWQpF81hQlsfN6+bzmyNdVBf5qJqkS9LAcJTv724lGle89dK61Oj9/NI87nnd\nEkCHaD/U7mdjYzmFXhd3bG6gNxBmUeXI+6zDrw+T73HSWDm9Nis1zC2KfG4ubSiluTvA9pU1VBV5\nqS/LQ0RGhPJ+fN8ZDrYPsrmxfNQWBplorCzgmmVVDIVjzCvxcrRTu3j7h6N4XA4uX1zOnpY+ti6Z\nuKx0rlxSwSut/aypK6GxsoDFVQUMhmKsbyid+OIsWVNXTGtfEI/TwfWra+n0h3E6JTV4Mx7jGU8i\ngtPYVgaDYZozroElIt+z/lXAN0TEHibICawDnrtAshmmkMpCH1+4bV2uxZgVFHhdVBV6Kfa5CccU\nPs/E10xnTnQHCUXjDEcSlOW7Kc0/W6GqIi/bV9bQ6Q+xZVEFJfluGivPbd3ZyZ5gaqT8SOdgysAC\nUoroFUsqRiyWLy/wpNap2Kko9PKuLWa7AcP0YNvyalg+dnosnuDAmUFArx3KxsACHfo8Sf/SGP7h\nKJcvriAaT/BCcx+RWIJdJ3pYVKXb5HPHe+gaDHPV0sqM7SZJepTAW9bXZSXPZCjN93DH5obU54YK\nMxBiMBjmDhPNYCX9nwS9/Y/dH2oYeAj4twsgl8EwbXFYI9MOhzAb4iuI6DVNwUicXSd6uXZFNfme\ns6+G9fVTM6q9qKqAylNeIrEEK2qzi1ZmMMwGXE4H6+tLOdDu59JznCXavOjsWq5o/GzwiOTf9oEQ\nO4/1AHpE1L5m0WAwGAwXl3ENLKXUHQAi0gx8XikVuBhCGQzTmbdeVsdvDnexqKKAPE+2XrbTl/UL\nSrliSQUne4I0VhTgmSKrUSlFIBKnwONERCj0uniP2eTaMIcYjsRxO3Wky2tXVE+4iW22uJ0Obtuw\ngNbeIMutwYoinwuf20koGp+0+67BMB2ZirDcBkOuyDZM+ycARKQOWIkeIDuolDp9AWUzGKYlpfke\nSvM9VBR6mQ3rrB0O4QNbF3PGH6KiwDNlYc9/vr+D/W1+FlcVXBAXJINhOrO/zc/P97dT6HVx55aG\nEbPCU0F1kW/EPlAFXhfvuWIhg6Foao8qg8FgMOSGbMO0FwD/DtyJdhcESIjIw8CHzczW9CcUjfPE\na+3EE4rrV9dOGMnJMDYt3QGKfW46B8OEoonUnk0zGYcju8XnExGJJfjF/g6Go3FO9er4Nye6A6no\naQbDXKG5R2+LMRiK0T0YoaHiwr5zj3cN8dzxXhZVFhgDy2AwGHJMtkPV/4zeWPhNQJF1vNk694/Z\nFCAi80XkRREJiYjR7i8yB874Od4VoKUnyL7TA7kWZ0ZzxZJKKgs9bFlUPiuMq6nkWNcQhzsGae0N\nUprvpqLQw9allca4Msw5Niwso7rYy/LaIurKLrzB89uj3XT4Qzx3vGdEWHSDwWAwXHyyNXTeCtxm\nbTCc5HER+SDwPeCeLMroBbYD/zspCQ1TwvzSPNxOGbHHkeHcWF5bxPLamb258IWiptiH1+0gGlNs\nbapiafXMD2NvMJwLNcW+ixrpsr48n+6hCFVFXnxuM/BjMBgM6Zzvur7m+2/KOm+2BlY+0JHhfKeV\nNiFKqRAQMiPZuaGm2MddWxejUFO+FmCu0dY/zJ6WPpZUFbJq/syLhnfgjJ+jnUNc2lDKgrKpDZ1c\nXuDh/VctIp5QIzZNNRjmCpFYgqePdCECVzdVjdgL60KybXk1l9aXUeB1mk14DQaDIcdk++bfBXxG\nRFIba4iIF/i0lXbeiMjdIrJbRHZ3dXVNRZGGNPI8TmNcTQG/PNDB0c4hfr6/nVA0PvEF04hILMHP\nX9PyP7k/05jJ+eNzO41xZZizvHq6n72nBnildeCiu2OX5LunLEiNwWAwGM6dbLWgjwGPA6dE5CXr\n3KXovbFumApBlFJfB74OsHHjRjUVZRoMF4LyAi/dQxGKfe6LNjo9VbgcQkmei75glHITytlgmHLK\n8j2pvanG2+zXYDAYDLOXbMO0vyQiS4H3Aius048B31RKDV4g2QyGacmNa2pZu6CEqiLvjHPFcTiE\nd25uoGswzLwS38QXGAyGSbG4qpB3bVmICFSaQQyDwWCYk4hSY08Wich/AR+dCiNKRNzAz4ANwIvA\nJ5VSGd0LRaQLaLGdqgS6z1cGA2Du5VSSfi8XKqWqciXMeGRoU3MF87xnZqbcF9OmLiwz5TmYKuZa\nfWHm91Nz4TczdZzZZGxTExlYcWCeUqrzQko2ESKyWym1MZcyzBbMvZw6zL2c/pjfKDPmvhhg7j0H\nc62+MPPrPNPlzwZTx9nJRAtIZpb/k8FgMBgMBoPBYDDkkGxW6JuAEwaDwWAwGAwGg8GQBdkEuWif\naO8qpdSF3tXw6xe4/LmEuZdTh7mX0x/zG2XG3BcDzL3nYK7VF2Z+nWe6/Nlg6jgLmWgNVgL4INA/\nXiFKqR9MsVwGg8FgMBgMBoPBMOPIxsCqzXWQC4PBYDAYDAaDwWCYCUy0BsusvzIYDAaDwWAwGAyG\nLJlRUQRFZFOuZZhpiMhqEVmRdm5LruSZyYjIBhGpFhGniNwiItfnWibDSMzznh0i8pFcy2C4+My1\n9jHX39mzqZ3PNv1vtrfFud72YAIXwVwhIpkMPwEeV0pdd7HlmamIyBeBGiCK3uTt/UqpLhF5Sin1\n+txKN7MQkf9EP4NhoBo4DfiBaqXU3bmUzaAxz3tmRORpznojJAfNVgP7lFLX5EYqw8VmrrWPufbO\nni3tfC7of7O9Lc61tjcW2UQRzAVDwHPoH8j+wlibM4lmJpuSL1YRWQt8X0TuzbFMM5WlSqnXAYjI\nq0qpt1n//yq3YhlsmOc9M/8DrAMeUErtABCRnyml3phTqQwXm7nWPubaO3u2tPO5oP/N9rY419pe\nRqargXUAeKtSasB+UkR+kSN5ZipOEfEopSJKqb0i8lbgQfSolmFy2NvKJ23/Tys32jmOed4zoJT6\nJxHxAHeJyIeAh3MtkyEnzLX2Mafe2bOonc8F/W+2t8U51fbGYrq6CM4DepRSkbTzLqVULEdizThE\nZDPQbI8CKSJO4O1KqUdyJ9nMQ0RWAweVUnHbOQ9wo1LqR7mTzJDEPO8TIyIu4D3AcqXUn+daHsPF\nY661j7n8zp7J7Xwu6H+zvS3O5bZnZ1oaWAaDwWAwGAwGg8EwE5koiqDBYDAYDAaDwWAwGLLEGFgG\ng8FgMBgMBoPBMEUYA2sWISJKRG7LtRwGQ64QkQdE5Me5luNcEJEdIvKVCfLsE5H7LpJIBoPBYJgG\niMiHRKT7PMtYYemJa6ZKrtkgy4XCGFgGg2FGYRlRKsOxPteynSe3Ap/ItRAGw3TGUsx2ikhIRJon\ncd1XRGSH7fOIwZhcD86kyzcF5c3YwabpyBh9jv14IMtyHhGRRy+wuIZpgDGwDAbDTORJYF7asS+n\nEp0nSqlepdRgruWYrYhInYh8XUROiUhERE6LyH+IyIK0fHYDPioinSLyKxH5iIi4bfncIvJ3IrJX\nRAIickZEHhaRhrTyakXk2yLSLiJBEXlFRN6VlqfMyjNgHd8WkdIMdbhcRLqtiGOISKmI/IOIHLfq\n1GkpcCvSrrvPVqeYiPSKyLMi8gkRKUzL+xGrTn7r2CkiN6XluVVEnhCRLqvMbRlk3ZFBCZ2KCGmf\nB4LACmDTeZTzUeDd5yNINrPOOeS862cYgb2v+WCGcx/NkVyGaYoxsGYYovm4iBwRkbClLPztGHnv\nF5FDIjIsIs0i8gUR8dnS60Xkh1ZnGxSRgyLyTlv6Z0SkxfqedhH51sWoo8GQBWGlVHvaMSqEr4jc\nKCJPi0if9Zw/ISIrbenPisgX064pttrMrdbnd4vICyIyaCmw3xeROlv+bZbyuF1EdlltabeIXJZW\n7q0i8qrVnlpF5FMiIrb0EcqaiFRb7XPYaofvz1C/e0TksOjR/G6rftN1f8OcISKLgN3AGuD3gKVo\n5XM18IKINKZdkjTgG4HrgceAzwFPi0iBlScfuAz4a+vvLUA98Hjab/AtYKWVvsb6/G0RucaW52Gr\njBut4zLg2xmqcgvwY6VUXETKgJ3ATWjlbinwO0CBVad04+OQVad64Grgm8A9wEsiUmvLdwr4M0uG\njcBTwP+J3hA1SQHwLPCxDDLa+W9GKqH3TJA/G5YCzyilmpVSXedaiFJqQCnVPwXyTEtme/0uNva+\nBuhPP5fct0tELrXe5cMi0iMi3xCRIivtfuAdwNtsgw6XW2n/aOl1wyJyQkT+WnRo86wQEZ9V3j1W\nP5As5x0Zsi8RPWgUFO12vi2trEtE5HERGRKRDhF5UESqbOmPiMijIvInogeWekUPVnltefJEz8p2\nWf3Tb5N1HUN+r4h81SovLCInReQvs63/tEQpZY4ZdAB/i27c70d3NFcAv2+lKeA2W96/AK5CKwlv\nAk4Cf2VLfwz4BXr390VYnbuV9jbAj+68G9Ad7R/kuv7mMAfwAFrJnDDNeo7fBjQBa4HvAUcBj5X+\n+8BpwGG75n1AH+C1Pr/faj+Lgc3Ar4Df2PJvs9re88C16JH1J9AbZia3wtgAxNFK+jLgXcAQ8Ie2\ncnYAX7F9/inwmtWGL7XSh4D7rPSNQMwqa6HVjv8YcOX6N5puh3UvTwP5aefzrfM/mej5QhtHEeBz\n43zPKutZuMR2bgh4X1q+FuBe6/+V1jVX2dK3WueWp123H70JK8BXgQAwPy2PA3gRPaObfP7uA/Zl\nkHce0AN8c4L71wvck+F8pSXntgxpI57nLH8nB7rfagXCwKvALbZ0lXbcN0Y5TuAf0O24D/hn4N+A\nHWP9zhk+j5Lfnsf6P12eRttz8BNgEOgEvgPUTka+DHV6Dvhz2+cHre+stT3LYWDrOPX5KvA3QLcl\n1z8w8t3nAf4ObWQHgReAG2zpbuBfgDbru1qB+3PZtnNxALcBKsP5Yuu+fg/9vng9cBx4yEovBP4P\nrXvVWofbSvssWp9rBG627vGnbGV/COgeRyaf9Tx0AXeh+5nPofudS6w8K6w8r6H7tGXWs9kO+Kw8\n9dYz+VfAcmA98Dgj+7xHgAHgX60y32Q9639sy/M16zm60WoPD6B118o0WdZYnz8FnEC/+xai+73f\nzfVvfV7PSa4FMMckfizdOEPAh8ZIH2FgZUj/EHDU9nkv8Nkx8n4MPeLpznW9zWEO+2G9qGNoxTV5\n/MyWltH4stILrA4nqYRUoJXm7bY8TwJfH6eMZMewwPq8zfpsV0SuSsvzEPBUWjn3Aadsn3dgKXRW\nx5eudC+0ZL/P+nyr1ckV5fo3mc4HUA4kgE+Okf4pK71somcI+BEZDBVb+uX239069zjwM+tZc6Bn\noYLAeiv9/ZZyIrZrhDTDDD1IELSeYQfa6Mn4nKKNbgWssz1rGeVGK8wD2BRtW5oTeKfVRi7JkD6R\ngdVtHa+hlflxn1X0AIEfuNNqA39pPfPJe1ULHLTKqgUKxyjnT6063W611y9b5e6w5RnxO2f4nGqP\nmfIAJehZvP/irLLsRBut3WhDZSV6YOcxYFfyHmcjX4Y63Q88bvvcilam32l9fgPa4PaMU58B654u\ns747Btxhy/MQ2pC7Bj2g9AfWb598jj5ufe816IHXK0kbPJgLB2MbWH9o/fZ5tnM3ot8v9dbnR4BH\ns/iO/4etzZK9gfXltPPPAN+w/k/2Xb9nS19indtoff4CtgEnW7tTwFpbHY4x0jj/tq1tlFnP1u22\ndLf17Hw6TZakgfV14Ke5/m2n8jAugjOLVYAX+GU2mUXkNhF5xnLvGwL+Cf1STPIl4NOifew/LyIb\nbGnfRzfYEyLynyLydvv0r8GQY36DHllLHh/IlElEloheF3NMRPxAB1o5bQBQSvWgFeB3Wfnno2eh\nHrSVcZnlqtciIoNoVzMY2ZZAD1gkabP+Vlt/VwK/Tcv/DFAnIsUZRF+J7pSfT55QSrXYygU9+9yC\nbqMPicjvJV1RDCNoQhssB8ZI32+lN2VR1n604jkKy53ni8BjSqlTtqTb0YpEN3rU/yG0UvuylV4L\ndClLywBLc9Mj4XbXvbcATyqlAkAVWokZr06gR6CzqVMx2lhK1uUSq88IA/+OnjV7NYuy7DyMblfX\nokfD3wb8YIJr7gX+QSn1sFLqsFLqM8DT1nmUds+KAUNKu2UNjVHO/wO+oJT6nlLqINqFsn2S8o+L\n0i5hESCozrqJxYEPA68opf5MKXVAKbUX+F307PfG85BvB7BVRFwishRt4H0NfX9BD/TsVEpFxilj\nv1LqM9a9/R56Nn476HclcAdaKf6NUuq4Uuor6NnfpGvnQuAw8LRS6qRS6lml1H9PfLfmDCuBl5RS\nw7Zzz6DfLyszX6IRkTtEu6wn9bX7Gd3HZMPODJ9XpZ0br6/aAFxnuQcOWbIctdKW2K7bp5RKpJWT\nLKMJPdiQ6vOUUlH0IEO6LEn+E7hC9LKWfxHt3i9j5J0RGANrlmL5uj6CdlW6Ge1i9Gn0KAIASqn/\nRLsG/jd6ROtZsUJAK6Va0Z3zPeiRtS8Ce2zrDwyGXBJUSh21HafHyPdjtDJ6D7AF3Q5iaFeYJA+i\nfeJ96NH6VrRSh/W8P4GeOXgPelH9jdZ16f7xUdv/SWU5m3esOpc0pQNiXIZW4E+iIxAetIxEw4VB\nyPCbWGuuHgRK0S6mdj6PNl7egFaw/x74loism+R33wL8cLICZ0FSibHX6xB64GIL2nXtmzLJcMpK\nqa8rpZ5QSr2qlHoEvfbkOklbm5gSQg80zCfzQMRYSlmmckrQs0gpRdNSBHdNRv7zYANwTZqC2mql\nLTkP+Z5BD7BuQhtTz6Bn27dZ6dvQRth47E37bFeKL0M/C/vTZL+Js4r1A+jn4rCI/KuI3CQiRo/M\njjHf5dYaqG+jZ8jfjO6n/pLRfcxUMV5f5UC7Ma5PO5rQg3qZykiWc879nVJqF9o98jPowf2HgZ/M\nZCPLNIyZxQH0iOL2LPJeBZxWSv2VUuoFpdQR9OjTCJRSp6yO8Hb0g323LS2klPqJUuqP0S/11Va5\nBsO0R0Qq0G4If6OUelIpdQAoAtKDQPzI+vtm9Ij7w7bZhBVo5fiT1qjuQc4qJJPhAKPbzla0i2Cm\nyIEH0e/nzbb6NKAV0BRKqZhS6iml1CfQrkgFVj0MZzmK7tTHUtKT66aOjpGenve4/YRlXH0Hff+3\nW7OiybQlaLehDyqlfqmUekUp9Tn02pY/tLK1A1V2RcL6v9pKQ0Sq0cbOY1aWLvR6hvHqBHq2IZs6\n+dFrsQBQSkWsgYs91rP1Mtp973zYjXb3y2amMJ3xBiEuFAnOGp9J3JkypuFAr7/KpKCec9h0a7Zu\nD3rGaht69uk5oMGa0drExAbWeEqxw/q8KU3ulWg3VpRSL6KV4E9Y+b9oBcfbAAAGMElEQVQJ/MIY\nWSkOAJeKSJ7tXHI95UHrcwQ9u2PnKuCYUup+pdRuS19rPEcZ0gNJXM7YM92ZeBGt651IG8Q8Os6M\ncTpH0G091eeJjsC6hbOz66NQOjDLd5VSdwNvBd6IXhM2IzGNYgZhKWJfAv5WRN5nuT9tFpEPZ8h+\nGO1+9C4RWWzlucOeQUS+ZE3DLha9h9CNWA+/iLxXRD5guYosQo/KRtENx2CYCfSh3bI+KCJLReR1\naHenEdEGlVIhtOvSp9GjuA/akk+iBzX+wGonN6HdnSbLF4HXiQ6XvUx0mO6Po/3dR6GUOoR2Xfya\niFxhtc8HgJTriYi8WUQ+Kjpq1UL0upUiJteZznosg+cJ4PdFJN+eZn3+CHoNX+945VgzODcCj9rO\nuYHvoo2ray0XNjvJ74unnY9ztv/diV5fe4Ut/QrORuoD7YWwSynVadUpgfZQuDN9xtJSdj+OXvf0\nygR1mod+bv4nzd0nHQd69uR8uAStWJ7JlKiU8qNnVDINRIyplGUoZ8D6jpSiaRmsm8e8KDNd6Jkm\nO+mzjpmU5aSC2pJBQR08T/l2oA2s16HXa4XQM1+fQr/Xnh/70gl5CW1Q1maQO+UhYNXhUaXUh9Gz\nW69HB9wyaIMzATwgImtE5Fp0IIjvWF5BAM3AOhFpEpFKa4DmMLBIRG639Lo/QrvUngvvtPTDZSLy\nWfQ6uS9N4vovoZ/7h0Vkk9XvXS96qUhWM2pKqT7gG8AXReQGEVkF/Ae6f/papmtE5E9F5B2i97lr\nQnuT9DHFrr0XE2NgzTw+gV48+xdoReoHwIL0TEqpx9CuKP+Mdgu4Dj1DZceBXly7Hz3124EOYQx6\ndPQutKvUPnRjv1UpdWJqq2MwXBgshfEdaOV3H7qj+wu0wZTOg2jl6SWl1H5bGV3oNvEWdDv5LBOH\nps4ky4vA29HtaB/av/5+YLw9dN6Ljqr0FHrm4mF055yk35LrSfTo6L3AB5RST09WvjnAH6BnLp8U\nkdeL3qJiG/q9J1a6Ha/o/avmi8g6EfkYWrndgw6wkJy5+j5aUb4DUNY1tbYR7IPombGvWoNhS0Tk\n4+j38f8CWDOrdmP6CrQS8mPL0IbM7oGfQkdAfFJEbrbqdDnavacJHXzAPvPjsmSbJyKrReRutHHX\ni22Da9Hbe1wtIo3WANvfomdMHrLlKbeM/qTb4FIRWS9WuHernp8RkY1WOW9CG4QvMdoF0M7fA/eK\nXo+yTHSY5quT93wSfAn4U9HrkJej+8F0Y2kingLeKCK/IyLLReQfGT2a3gxstupYaRm3/4peH/Vd\nEdliKahvEL0HW3KN5LnKtwP9WxSjDbnkuXcz8fqrcVFKHUb/xg9Yci22fr975eyWFR+zfpuVomfN\n7kTPfp4ap+g5gzVIcANQg56lfhQ90/ghW7Z/Q7/XX0Ib8RutfF9GR3l8GT2o8LlzFOMzaE+MveiB\n8Xdb6wCzrcNJtFHmRb8f96ED4QwxeqBoPP4Y7R3yIPpZXYaOUt09Rv4h9Htot3Ust/Kf8zOdc9Q0\niLRhDnOYwxzmMMeFPNDK8X+gjZIoerbkG9gi/ln5HuBs2O0YehZ0B9oI89jyNdrypR/vteVrQg+E\ndaCjvL2CLYqXlacMrYj4reNBoNRKy0evAVyWoU7lwD+iFbYIWmH7LrAyLd99Ntni6JHhncAnSYvs\nZ9W/BT0Q0Yk24G9Iy/PeMep9n+1e/xrtdhhGG5lfAson+I3sYdoj6DDtb0nLs48xwrPb8rjQQZ36\nrePLTD5MuxttLCUjIX4uQ55l1n0MMjJMexNaae5DzzofsmTwZCvfGPUqRD+7dhm2Wd/96Qy/Y9ZR\nEW11vg/tBhtBzx78CNhgpX8QrSwPop/TXwNX5rptm2NEFME351oWc+gjuUeGwWAwGAyGaYaIvBX4\na6VU1oEeDAbD3EJ0kKZh4Gal1Dmv9TNMHcZF0GAwGAyG6UsA+LNcC2EwGAyG7DEzWAaDwWAwGAwG\ng8EwRZgZLIPBYDAYDAaDwWCYIoyBZTAYDAaDwWAwGAxThDGwDAaDwWAwGAwGg2GKMAaWwWAwGAwG\ng8FgMEwRxsAyGAwGg8FgMBgMhinCGFgGg8FgMBgMBoPBMEX8f1I7qlMuoYzyAAAAAElFTkSuQmCC\n",
            "text/plain": [
              "<Figure size 864x576 with 16 Axes>"
            ]
          },
          "metadata": {
            "tags": []
          }
        }
      ]
    },
    {
      "cell_type": "code",
      "metadata": {
        "id": "iAjwSMHsEJ6M",
        "colab_type": "code",
        "colab": {
          "base_uri": "https://localhost:8080/",
          "height": 315
        },
        "outputId": "64c0f89e-a8d6-47c3-e95a-0b9834282120"
      },
      "source": [
        "wine.plot(kind=\"scatter\", x=\"class\", y=\"Flavanoids\",\n",
        "             alpha=0.1)\n",
        "plt.axis([0.5, 3.5, 0, 5.5])\n",
        "save_fig(\"class_vs_Flavanoids_scatterplot\")"
      ],
      "execution_count": 53,
      "outputs": [
        {
          "output_type": "stream",
          "text": [
            "Saving figure class_vs_Flavanoids_scatterplot\n"
          ],
          "name": "stdout"
        },
        {
          "output_type": "display_data",
          "data": {
            "image/png": "iVBORw0KGgoAAAANSUhEUgAAAagAAAEYCAYAAAAJeGK1AAAABHNCSVQICAgIfAhkiAAAAAlwSFlz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\n",
            "text/plain": [
              "<Figure size 432x288 with 1 Axes>"
            ]
          },
          "metadata": {
            "tags": []
          }
        }
      ]
    },
    {
      "cell_type": "markdown",
      "metadata": {
        "id": "5ORWAN2FFzKF",
        "colab_type": "text"
      },
      "source": [
        "# Prepare the data for Machine Learning algorithms\n",
        "\n",
        "Since there is no missing data, non-numeric data in this wine database, we can skip some data cleaning parts.\n"
      ]
    },
    {
      "cell_type": "code",
      "metadata": {
        "id": "07_PKWNZw7OK",
        "colab_type": "code",
        "colab": {}
      },
      "source": [
        "wine = strat_train_set.drop(\"class\", axis=1) # drop labels for training set\n",
        "wine_labels = strat_train_set[\"class\"].copy()"
      ],
      "execution_count": 0,
      "outputs": []
    },
    {
      "cell_type": "code",
      "metadata": {
        "id": "1hRdknGoPdYz",
        "colab_type": "code",
        "colab": {}
      },
      "source": [
        "# not necessary here since there is no missing data\n",
        "from sklearn.impute import SimpleImputer\n",
        "imputer = SimpleImputer(strategy=\"median\")"
      ],
      "execution_count": 0,
      "outputs": []
    },
    {
      "cell_type": "code",
      "metadata": {
        "id": "ZPADo0gVQ70c",
        "colab_type": "code",
        "colab": {}
      },
      "source": [
        "from sklearn.base import BaseEstimator, TransformerMixin\n",
        "from sklearn.pipeline import Pipeline\n",
        "from sklearn.preprocessing import StandardScaler\n",
        "\n",
        "num_pipeline = Pipeline([\n",
        "        ('std_scaler', StandardScaler()),\n",
        "    ])\n",
        "\n",
        "wine_num_tr = num_pipeline.fit_transform(wine)\n"
      ],
      "execution_count": 0,
      "outputs": []
    },
    {
      "cell_type": "code",
      "metadata": {
        "id": "ROBGqC2JRaNW",
        "colab_type": "code",
        "colab": {
          "base_uri": "https://localhost:8080/",
          "height": 242
        },
        "outputId": "46ce76c0-646d-46c4-c8b1-bc0c3e0461b2"
      },
      "source": [
        "wine_num_tr"
      ],
      "execution_count": 71,
      "outputs": [
        {
          "output_type": "execute_result",
          "data": {
            "text/plain": [
              "array([[-1.92608989, -0.01193832,  0.1807181 , ..., -0.64190312,\n",
              "         1.10308382, -0.37979644],\n",
              "       [ 0.13463047, -1.20807276, -2.50093915, ...,  0.71690046,\n",
              "         0.80561629, -0.76217623],\n",
              "       [ 0.966367  ,  0.2978519 , -0.26622478, ..., -1.06652924,\n",
              "        -1.31915179, -0.41088423],\n",
              "       ...,\n",
              "       [ 1.36361429, -0.3389391 ,  0.10622762, ...,  0.5045874 ,\n",
              "         0.19651611,  0.97252233],\n",
              "       [ 0.0601466 , -0.6573346 ,  0.66490621, ...,  0.71690046,\n",
              "        -0.14344678,  1.11241738],\n",
              "       [-1.29297701, -1.13923049, -0.26622478, ...,  0.16488651,\n",
              "         0.73479069,  0.43159482]])"
            ]
          },
          "metadata": {
            "tags": []
          },
          "execution_count": 71
        }
      ]
    },
    {
      "cell_type": "code",
      "metadata": {
        "id": "YO2ArnwWwhhC",
        "colab_type": "code",
        "colab": {
          "base_uri": "https://localhost:8080/",
          "height": 35
        },
        "outputId": "edc78a56-c66e-4d31-8f91-4155bf42b5dd"
      },
      "source": [
        "wine_num_tr.shape"
      ],
      "execution_count": 72,
      "outputs": [
        {
          "output_type": "execute_result",
          "data": {
            "text/plain": [
              "(142, 13)"
            ]
          },
          "metadata": {
            "tags": []
          },
          "execution_count": 72
        }
      ]
    },
    {
      "cell_type": "markdown",
      "metadata": {
        "id": "1c7uDHWOwHK_",
        "colab_type": "text"
      },
      "source": [
        "# Select and train a model"
      ]
    },
    {
      "cell_type": "code",
      "metadata": {
        "id": "kYvzdjYVwLVd",
        "colab_type": "code",
        "colab": {
          "base_uri": "https://localhost:8080/",
          "height": 55
        },
        "outputId": "0a611a1d-742d-4711-c734-cc3bc9f6a5bb"
      },
      "source": [
        "from sklearn.linear_model import LinearRegression\n",
        "\n",
        "lin_reg = LinearRegression()\n",
        "lin_reg.fit(wine_num_tr, wine_labels)"
      ],
      "execution_count": 74,
      "outputs": [
        {
          "output_type": "execute_result",
          "data": {
            "text/plain": [
              "LinearRegression(copy_X=True, fit_intercept=True, n_jobs=None, normalize=False)"
            ]
          },
          "metadata": {
            "tags": []
          },
          "execution_count": 74
        }
      ]
    },
    {
      "cell_type": "code",
      "metadata": {
        "id": "LZU6ZhvAxeIY",
        "colab_type": "code",
        "colab": {
          "base_uri": "https://localhost:8080/",
          "height": 55
        },
        "outputId": "06e81427-d6db-4143-bd37-9a2911cc99d3"
      },
      "source": [
        "# let's try the full preprocessing pipeline on a few training instances\n",
        "some_data = wine.iloc[:5]\n",
        "some_labels = wine_labels.iloc[:5]\n",
        "some_data_prepared = num_pipeline.transform(some_data)\n",
        "\n",
        "print(\"Predictions:\", lin_reg.predict(some_data_prepared))"
      ],
      "execution_count": 76,
      "outputs": [
        {
          "output_type": "stream",
          "text": [
            "Predictions: [1.6573009  1.59138935 3.0341314  1.12764548 2.07777298]\n"
          ],
          "name": "stdout"
        }
      ]
    },
    {
      "cell_type": "markdown",
      "metadata": {
        "id": "Om5FrD8gyLz9",
        "colab_type": "text"
      },
      "source": [
        "# Compare against the actual values:"
      ]
    },
    {
      "cell_type": "code",
      "metadata": {
        "id": "olemcLPqyNl9",
        "colab_type": "code",
        "colab": {
          "base_uri": "https://localhost:8080/",
          "height": 35
        },
        "outputId": "74746214-a80c-4fd1-9f67-314de7dbee7f"
      },
      "source": [
        "print(\"Labels:\", list(some_labels))"
      ],
      "execution_count": 77,
      "outputs": [
        {
          "output_type": "stream",
          "text": [
            "Labels: [2, 2, 3, 1, 2]\n"
          ],
          "name": "stdout"
        }
      ]
    },
    {
      "cell_type": "code",
      "metadata": {
        "id": "9uDV3MKXyTTx",
        "colab_type": "code",
        "colab": {
          "base_uri": "https://localhost:8080/",
          "height": 296
        },
        "outputId": "8d85cfb4-f047-4189-9ad5-f17782ff8819"
      },
      "source": [
        "some_data_prepared"
      ],
      "execution_count": 78,
      "outputs": [
        {
          "output_type": "execute_result",
          "data": {
            "text/plain": [
              "array([[-1.92608989, -0.01193832,  0.1807181 ,  0.18179154, -0.26393331,\n",
              "         0.98886788,  0.82417644, -0.34902117,  0.38929326, -0.77852712,\n",
              "        -0.64190312,  1.10308382, -0.37979644],\n",
              "       [ 0.13463047, -1.20807276, -2.50093915, -1.40580986, -1.52019689,\n",
              "         1.11678338,  1.22848942, -0.8389158 ,  1.14516806,  0.0993704 ,\n",
              "         0.71690046,  0.80561629, -0.76217623],\n",
              "       [ 0.966367  ,  0.2978519 , -0.26622478,  0.8168321 , -0.68268784,\n",
              "        -1.48949492, -1.36326041,  0.38582077, -0.95448415,  1.93224914,\n",
              "        -1.06652924, -1.31915179, -0.41088423],\n",
              "       [ 0.19670036, -0.04635945,  1.11184909, -0.26273685,  0.08502879,\n",
              "         0.82897351,  1.29069141, -0.51231938,  2.0354206 ,  0.26210263,\n",
              "         0.33473696,  0.79145117,  1.36111968],\n",
              "       [-0.72193402,  1.73493429,  1.33532053,  2.24567336,  0.15482122,\n",
              "        -0.13039274,  0.13995449,  0.54911898,  0.18772665, -1.27957108,\n",
              "        -0.13235178,  0.72062557, -1.18807893]])"
            ]
          },
          "metadata": {
            "tags": []
          },
          "execution_count": 78
        }
      ]
    },
    {
      "cell_type": "code",
      "metadata": {
        "id": "WHj-qOdVyWwC",
        "colab_type": "code",
        "colab": {
          "base_uri": "https://localhost:8080/",
          "height": 35
        },
        "outputId": "7f3cfb3e-8332-478d-bb4b-e3f5d6ef7330"
      },
      "source": [
        "from sklearn.metrics import mean_squared_error\n",
        "\n",
        "wine_predictions = lin_reg.predict(wine_num_tr)\n",
        "lin_mse = mean_squared_error(wine_labels, wine_predictions)\n",
        "lin_rmse = np.sqrt(lin_mse)\n",
        "lin_rmse"
      ],
      "execution_count": 80,
      "outputs": [
        {
          "output_type": "execute_result",
          "data": {
            "text/plain": [
              "0.2239468442714033"
            ]
          },
          "metadata": {
            "tags": []
          },
          "execution_count": 80
        }
      ]
    },
    {
      "cell_type": "code",
      "metadata": {
        "id": "-l39STdcyt3b",
        "colab_type": "code",
        "colab": {
          "base_uri": "https://localhost:8080/",
          "height": 35
        },
        "outputId": "52fd174d-488b-40c2-db4a-5381eca5ec47"
      },
      "source": [
        "from sklearn.metrics import mean_absolute_error\n",
        "\n",
        "lin_mae = mean_absolute_error(wine_labels, wine_predictions)\n",
        "lin_mae"
      ],
      "execution_count": 82,
      "outputs": [
        {
          "output_type": "execute_result",
          "data": {
            "text/plain": [
              "0.18190825008869033"
            ]
          },
          "metadata": {
            "tags": []
          },
          "execution_count": 82
        }
      ]
    },
    {
      "cell_type": "code",
      "metadata": {
        "id": "w48_XTZxy5xI",
        "colab_type": "code",
        "colab": {
          "base_uri": "https://localhost:8080/",
          "height": 141
        },
        "outputId": "0459b775-041d-4dc1-ec16-6b4dfa82152a"
      },
      "source": [
        "from sklearn.tree import DecisionTreeRegressor\n",
        "\n",
        "tree_reg = DecisionTreeRegressor(random_state=42)\n",
        "tree_reg.fit(wine_num_tr, wine_labels)"
      ],
      "execution_count": 83,
      "outputs": [
        {
          "output_type": "execute_result",
          "data": {
            "text/plain": [
              "DecisionTreeRegressor(ccp_alpha=0.0, criterion='mse', max_depth=None,\n",
              "                      max_features=None, max_leaf_nodes=None,\n",
              "                      min_impurity_decrease=0.0, min_impurity_split=None,\n",
              "                      min_samples_leaf=1, min_samples_split=2,\n",
              "                      min_weight_fraction_leaf=0.0, presort='deprecated',\n",
              "                      random_state=42, splitter='best')"
            ]
          },
          "metadata": {
            "tags": []
          },
          "execution_count": 83
        }
      ]
    },
    {
      "cell_type": "code",
      "metadata": {
        "id": "LeHOxk-4zBJy",
        "colab_type": "code",
        "colab": {
          "base_uri": "https://localhost:8080/",
          "height": 35
        },
        "outputId": "468f4f25-6bf3-400b-ea69-063ffeb8e0cf"
      },
      "source": [
        "wine_predictions = tree_reg.predict(wine_num_tr)\n",
        "tree_mse = mean_squared_error(wine_labels, wine_predictions)\n",
        "tree_rmse = np.sqrt(tree_mse)\n",
        "tree_rmse"
      ],
      "execution_count": 84,
      "outputs": [
        {
          "output_type": "execute_result",
          "data": {
            "text/plain": [
              "0.0"
            ]
          },
          "metadata": {
            "tags": []
          },
          "execution_count": 84
        }
      ]
    },
    {
      "cell_type": "markdown",
      "metadata": {
        "id": "DHkKYKcLzOZ3",
        "colab_type": "text"
      },
      "source": [
        "# Fine-tune your model\n"
      ]
    },
    {
      "cell_type": "code",
      "metadata": {
        "id": "FEuHYED3zPn6",
        "colab_type": "code",
        "colab": {}
      },
      "source": [
        "from sklearn.model_selection import cross_val_score\n",
        "\n",
        "scores = cross_val_score(tree_reg, wine_num_tr, wine_labels,\n",
        "                         scoring=\"neg_mean_squared_error\", cv=10)\n",
        "tree_rmse_scores = np.sqrt(-scores)"
      ],
      "execution_count": 0,
      "outputs": []
    },
    {
      "cell_type": "code",
      "metadata": {
        "id": "hfE7Vh4RzY-P",
        "colab_type": "code",
        "colab": {
          "base_uri": "https://localhost:8080/",
          "height": 106
        },
        "outputId": "413d33ea-be4a-4c20-88c4-4566c5112d5a"
      },
      "source": [
        "def display_scores(scores):\n",
        "    print(\"Scores:\", scores)\n",
        "    print(\"Mean:\", scores.mean())\n",
        "    print(\"Standard deviation:\", scores.std())\n",
        "\n",
        "display_scores(tree_rmse_scores)"
      ],
      "execution_count": 86,
      "outputs": [
        {
          "output_type": "stream",
          "text": [
            "Scores: [0.25819889 0.36514837 0.26726124 0.37796447 0.         0.5976143\n",
            " 0.         0.         0.         0.        ]\n",
            "Mean: 0.18661872810061203\n",
            "Standard deviation: 0.20570927899578806\n"
          ],
          "name": "stdout"
        }
      ]
    },
    {
      "cell_type": "code",
      "metadata": {
        "id": "oPh41N3Pzg9y",
        "colab_type": "code",
        "colab": {
          "base_uri": "https://localhost:8080/",
          "height": 106
        },
        "outputId": "d61f7177-1a92-47e0-8d9e-be2f56a9404d"
      },
      "source": [
        "lin_scores = cross_val_score(lin_reg, wine_num_tr, wine_labels,\n",
        "                             scoring=\"neg_mean_squared_error\", cv=10)\n",
        "lin_rmse_scores = np.sqrt(-lin_scores)\n",
        "display_scores(lin_rmse_scores)"
      ],
      "execution_count": 87,
      "outputs": [
        {
          "output_type": "stream",
          "text": [
            "Scores: [0.2444211  0.27210645 0.2765766  0.22265265 0.18111329 0.28033643\n",
            " 0.27928221 0.26981742 0.24557511 0.23007429]\n",
            "Mean: 0.25019555535728377\n",
            "Standard deviation: 0.0305059019519677\n"
          ],
          "name": "stdout"
        }
      ]
    },
    {
      "cell_type": "code",
      "metadata": {
        "id": "6C4j1Dsnzs5c",
        "colab_type": "code",
        "colab": {
          "base_uri": "https://localhost:8080/",
          "height": 158
        },
        "outputId": "ad3af29c-a34b-42ef-bebc-e5e59b2e6f21"
      },
      "source": [
        "from sklearn.ensemble import RandomForestRegressor\n",
        "\n",
        "forest_reg = RandomForestRegressor(n_estimators=100, random_state=42)\n",
        "forest_reg.fit(wine_num_tr, wine_labels)"
      ],
      "execution_count": 89,
      "outputs": [
        {
          "output_type": "execute_result",
          "data": {
            "text/plain": [
              "RandomForestRegressor(bootstrap=True, ccp_alpha=0.0, criterion='mse',\n",
              "                      max_depth=None, max_features='auto', max_leaf_nodes=None,\n",
              "                      max_samples=None, min_impurity_decrease=0.0,\n",
              "                      min_impurity_split=None, min_samples_leaf=1,\n",
              "                      min_samples_split=2, min_weight_fraction_leaf=0.0,\n",
              "                      n_estimators=100, n_jobs=None, oob_score=False,\n",
              "                      random_state=42, verbose=0, warm_start=False)"
            ]
          },
          "metadata": {
            "tags": []
          },
          "execution_count": 89
        }
      ]
    },
    {
      "cell_type": "code",
      "metadata": {
        "id": "9DMBSPtFz892",
        "colab_type": "code",
        "colab": {
          "base_uri": "https://localhost:8080/",
          "height": 35
        },
        "outputId": "ea5f108c-50a6-4708-ac39-45b4fc02b857"
      },
      "source": [
        "wine_predictions = forest_reg.predict(wine_num_tr)\n",
        "forest_mse = mean_squared_error(wine_labels, wine_predictions)\n",
        "forest_rmse = np.sqrt(forest_mse)\n",
        "forest_rmse"
      ],
      "execution_count": 90,
      "outputs": [
        {
          "output_type": "execute_result",
          "data": {
            "text/plain": [
              "0.06825800267790923"
            ]
          },
          "metadata": {
            "tags": []
          },
          "execution_count": 90
        }
      ]
    },
    {
      "cell_type": "code",
      "metadata": {
        "id": "4F1fFhBc0Kmp",
        "colab_type": "code",
        "colab": {
          "base_uri": "https://localhost:8080/",
          "height": 106
        },
        "outputId": "04974630-9245-4ed1-fd10-908241f573a3"
      },
      "source": [
        "from sklearn.model_selection import cross_val_score\n",
        "\n",
        "forest_scores = cross_val_score(forest_reg, wine_num_tr, wine_labels,\n",
        "                                scoring=\"neg_mean_squared_error\", cv=10)\n",
        "forest_rmse_scores = np.sqrt(-forest_scores)\n",
        "display_scores(forest_rmse_scores)"
      ],
      "execution_count": 91,
      "outputs": [
        {
          "output_type": "stream",
          "text": [
            "Scores: [0.11938732 0.31557355 0.13392429 0.25288337 0.07526145 0.18417771\n",
            " 0.24424812 0.16826849 0.08904253 0.16552945]\n",
            "Mean: 0.17482962828718335\n",
            "Standard deviation: 0.07277186221410141\n"
          ],
          "name": "stdout"
        }
      ]
    },
    {
      "cell_type": "code",
      "metadata": {
        "id": "ZUtOLuB00TKp",
        "colab_type": "code",
        "colab": {
          "base_uri": "https://localhost:8080/",
          "height": 173
        },
        "outputId": "5e444fa6-90be-4de0-c7e0-61744321442e"
      },
      "source": [
        "scores = cross_val_score(lin_reg, wine_num_tr, wine_labels, scoring=\"neg_mean_squared_error\", cv=10)\n",
        "pd.Series(np.sqrt(-scores)).describe()"
      ],
      "execution_count": 92,
      "outputs": [
        {
          "output_type": "execute_result",
          "data": {
            "text/plain": [
              "count    10.000000\n",
              "mean      0.250196\n",
              "std       0.032156\n",
              "min       0.181113\n",
              "25%       0.233661\n",
              "50%       0.257696\n",
              "75%       0.275459\n",
              "max       0.280336\n",
              "dtype: float64"
            ]
          },
          "metadata": {
            "tags": []
          },
          "execution_count": 92
        }
      ]
    },
    {
      "cell_type": "code",
      "metadata": {
        "id": "redjzEVp0cJf",
        "colab_type": "code",
        "colab": {
          "base_uri": "https://localhost:8080/",
          "height": 35
        },
        "outputId": "0fdf8af0-c335-40cb-81ee-498747623484"
      },
      "source": [
        "from sklearn.svm import SVR\n",
        "\n",
        "svm_reg = SVR(kernel=\"linear\")\n",
        "svm_reg.fit(wine_num_tr, wine_labels)\n",
        "wine_predictions = svm_reg.predict(wine_num_tr)\n",
        "svm_mse = mean_squared_error(wine_labels, wine_predictions)\n",
        "svm_rmse = np.sqrt(svm_mse)\n",
        "svm_rmse"
      ],
      "execution_count": 94,
      "outputs": [
        {
          "output_type": "execute_result",
          "data": {
            "text/plain": [
              "0.2265339903457838"
            ]
          },
          "metadata": {
            "tags": []
          },
          "execution_count": 94
        }
      ]
    },
    {
      "cell_type": "code",
      "metadata": {
        "id": "2Xj8yAXh0b7_",
        "colab_type": "code",
        "colab": {
          "base_uri": "https://localhost:8080/",
          "height": 400
        },
        "outputId": "fa3648bc-b8b9-4b4e-c069-e2555ea24a2f"
      },
      "source": [
        "from sklearn.model_selection import GridSearchCV\n",
        "\n",
        "param_grid = [\n",
        "    # try 12 (3×4) combinations of hyperparameters\n",
        "    {'n_estimators': [3, 10, 30], 'max_features': [2, 4, 6, 8]},\n",
        "    # then try 6 (2×3) combinations with bootstrap set as False\n",
        "    {'bootstrap': [False], 'n_estimators': [3, 10], 'max_features': [2, 3, 4]},\n",
        "  ]\n",
        "\n",
        "forest_reg = RandomForestRegressor(random_state=42)\n",
        "# train across 5 folds, that's a total of (12+6)*5=90 rounds of training \n",
        "grid_search = GridSearchCV(forest_reg, param_grid, cv=5,\n",
        "                           scoring='neg_mean_squared_error',\n",
        "                           return_train_score=True)\n",
        "grid_search.fit(wine_num_tr, wine_labels)"
      ],
      "execution_count": 96,
      "outputs": [
        {
          "output_type": "execute_result",
          "data": {
            "text/plain": [
              "GridSearchCV(cv=5, error_score=nan,\n",
              "             estimator=RandomForestRegressor(bootstrap=True, ccp_alpha=0.0,\n",
              "                                             criterion='mse', max_depth=None,\n",
              "                                             max_features='auto',\n",
              "                                             max_leaf_nodes=None,\n",
              "                                             max_samples=None,\n",
              "                                             min_impurity_decrease=0.0,\n",
              "                                             min_impurity_split=None,\n",
              "                                             min_samples_leaf=1,\n",
              "                                             min_samples_split=2,\n",
              "                                             min_weight_fraction_leaf=0.0,\n",
              "                                             n_estimators=100, n_jobs=None,\n",
              "                                             oob_score=False, random_state=42,\n",
              "                                             verbose=0, warm_start=False),\n",
              "             iid='deprecated', n_jobs=None,\n",
              "             param_grid=[{'max_features': [2, 4, 6, 8],\n",
              "                          'n_estimators': [3, 10, 30]},\n",
              "                         {'bootstrap': [False], 'max_features': [2, 3, 4],\n",
              "                          'n_estimators': [3, 10]}],\n",
              "             pre_dispatch='2*n_jobs', refit=True, return_train_score=True,\n",
              "             scoring='neg_mean_squared_error', verbose=0)"
            ]
          },
          "metadata": {
            "tags": []
          },
          "execution_count": 96
        }
      ]
    },
    {
      "cell_type": "code",
      "metadata": {
        "id": "pGxQovv309dh",
        "colab_type": "code",
        "colab": {
          "base_uri": "https://localhost:8080/",
          "height": 35
        },
        "outputId": "7b64d8db-de6e-4d8b-bede-69ed9e93aca8"
      },
      "source": [
        "grid_search.best_params_"
      ],
      "execution_count": 97,
      "outputs": [
        {
          "output_type": "execute_result",
          "data": {
            "text/plain": [
              "{'max_features': 8, 'n_estimators': 30}"
            ]
          },
          "metadata": {
            "tags": []
          },
          "execution_count": 97
        }
      ]
    },
    {
      "cell_type": "code",
      "metadata": {
        "id": "vQdRjbpQ1BIz",
        "colab_type": "code",
        "colab": {
          "base_uri": "https://localhost:8080/",
          "height": 158
        },
        "outputId": "f2e1758e-9466-4e40-e15b-14e884b7ddc4"
      },
      "source": [
        "grid_search.best_estimator_"
      ],
      "execution_count": 98,
      "outputs": [
        {
          "output_type": "execute_result",
          "data": {
            "text/plain": [
              "RandomForestRegressor(bootstrap=True, ccp_alpha=0.0, criterion='mse',\n",
              "                      max_depth=None, max_features=8, max_leaf_nodes=None,\n",
              "                      max_samples=None, min_impurity_decrease=0.0,\n",
              "                      min_impurity_split=None, min_samples_leaf=1,\n",
              "                      min_samples_split=2, min_weight_fraction_leaf=0.0,\n",
              "                      n_estimators=30, n_jobs=None, oob_score=False,\n",
              "                      random_state=42, verbose=0, warm_start=False)"
            ]
          },
          "metadata": {
            "tags": []
          },
          "execution_count": 98
        }
      ]
    },
    {
      "cell_type": "code",
      "metadata": {
        "id": "E7t0NhWn1FI2",
        "colab_type": "code",
        "colab": {
          "base_uri": "https://localhost:8080/",
          "height": 348
        },
        "outputId": "f155f73b-7a64-401d-ae16-7a15196758e3"
      },
      "source": [
        "cvres = grid_search.cv_results_\n",
        "for mean_score, params in zip(cvres[\"mean_test_score\"], cvres[\"params\"]):\n",
        "    print(np.sqrt(-mean_score), params)"
      ],
      "execution_count": 99,
      "outputs": [
        {
          "output_type": "stream",
          "text": [
            "0.25835783029145143 {'max_features': 2, 'n_estimators': 3}\n",
            "0.23121013835646945 {'max_features': 2, 'n_estimators': 10}\n",
            "0.2028269016983328 {'max_features': 2, 'n_estimators': 30}\n",
            "0.26396413814908715 {'max_features': 4, 'n_estimators': 3}\n",
            "0.19466404051583522 {'max_features': 4, 'n_estimators': 10}\n",
            "0.16612802944562874 {'max_features': 4, 'n_estimators': 30}\n",
            "0.24132456960019696 {'max_features': 6, 'n_estimators': 3}\n",
            "0.19338824881136166 {'max_features': 6, 'n_estimators': 10}\n",
            "0.17082016649967754 {'max_features': 6, 'n_estimators': 30}\n",
            "0.26224787198403204 {'max_features': 8, 'n_estimators': 3}\n",
            "0.17674534295465222 {'max_features': 8, 'n_estimators': 10}\n",
            "0.1658922896908487 {'max_features': 8, 'n_estimators': 30}\n",
            "0.2343048038466938 {'bootstrap': False, 'max_features': 2, 'n_estimators': 3}\n",
            "0.21673233815917017 {'bootstrap': False, 'max_features': 2, 'n_estimators': 10}\n",
            "0.23360294065075188 {'bootstrap': False, 'max_features': 3, 'n_estimators': 3}\n",
            "0.18098662280806274 {'bootstrap': False, 'max_features': 3, 'n_estimators': 10}\n",
            "0.2484213980790219 {'bootstrap': False, 'max_features': 4, 'n_estimators': 3}\n",
            "0.2038182325533765 {'bootstrap': False, 'max_features': 4, 'n_estimators': 10}\n"
          ],
          "name": "stdout"
        }
      ]
    },
    {
      "cell_type": "code",
      "metadata": {
        "id": "p4mCoosj1Kb2",
        "colab_type": "code",
        "colab": {
          "base_uri": "https://localhost:8080/",
          "height": 1000
        },
        "outputId": "98735083-d880-4b3f-8cda-3b2b60b5d5a0"
      },
      "source": [
        "pd.DataFrame(grid_search.cv_results_)"
      ],
      "execution_count": 100,
      "outputs": [
        {
          "output_type": "execute_result",
          "data": {
            "text/html": [
              "<div>\n",
              "<style scoped>\n",
              "    .dataframe tbody tr th:only-of-type {\n",
              "        vertical-align: middle;\n",
              "    }\n",
              "\n",
              "    .dataframe tbody tr th {\n",
              "        vertical-align: top;\n",
              "    }\n",
              "\n",
              "    .dataframe thead th {\n",
              "        text-align: right;\n",
              "    }\n",
              "</style>\n",
              "<table border=\"1\" class=\"dataframe\">\n",
              "  <thead>\n",
              "    <tr style=\"text-align: right;\">\n",
              "      <th></th>\n",
              "      <th>mean_fit_time</th>\n",
              "      <th>std_fit_time</th>\n",
              "      <th>mean_score_time</th>\n",
              "      <th>std_score_time</th>\n",
              "      <th>param_max_features</th>\n",
              "      <th>param_n_estimators</th>\n",
              "      <th>param_bootstrap</th>\n",
              "      <th>params</th>\n",
              "      <th>split0_test_score</th>\n",
              "      <th>split1_test_score</th>\n",
              "      <th>split2_test_score</th>\n",
              "      <th>split3_test_score</th>\n",
              "      <th>split4_test_score</th>\n",
              "      <th>mean_test_score</th>\n",
              "      <th>std_test_score</th>\n",
              "      <th>rank_test_score</th>\n",
              "      <th>split0_train_score</th>\n",
              "      <th>split1_train_score</th>\n",
              "      <th>split2_train_score</th>\n",
              "      <th>split3_train_score</th>\n",
              "      <th>split4_train_score</th>\n",
              "      <th>mean_train_score</th>\n",
              "      <th>std_train_score</th>\n",
              "    </tr>\n",
              "  </thead>\n",
              "  <tbody>\n",
              "    <tr>\n",
              "      <th>0</th>\n",
              "      <td>0.006320</td>\n",
              "      <td>0.001777</td>\n",
              "      <td>0.000993</td>\n",
              "      <td>0.000214</td>\n",
              "      <td>2</td>\n",
              "      <td>3</td>\n",
              "      <td>NaN</td>\n",
              "      <td>{'max_features': 2, 'n_estimators': 3}</td>\n",
              "      <td>-0.049808</td>\n",
              "      <td>-0.049808</td>\n",
              "      <td>-0.063492</td>\n",
              "      <td>-0.071429</td>\n",
              "      <td>-0.099206</td>\n",
              "      <td>-0.066749</td>\n",
              "      <td>0.018221</td>\n",
              "      <td>16</td>\n",
              "      <td>-0.029499</td>\n",
              "      <td>-0.020649</td>\n",
              "      <td>-0.019493</td>\n",
              "      <td>-0.030214</td>\n",
              "      <td>-0.023392</td>\n",
              "      <td>-0.024649</td>\n",
              "      <td>0.004442</td>\n",
              "    </tr>\n",
              "    <tr>\n",
              "      <th>1</th>\n",
              "      <td>0.013316</td>\n",
              "      <td>0.000249</td>\n",
              "      <td>0.001517</td>\n",
              "      <td>0.000307</td>\n",
              "      <td>2</td>\n",
              "      <td>10</td>\n",
              "      <td>NaN</td>\n",
              "      <td>{'max_features': 2, 'n_estimators': 10}</td>\n",
              "      <td>-0.041034</td>\n",
              "      <td>-0.064828</td>\n",
              "      <td>-0.042143</td>\n",
              "      <td>-0.033929</td>\n",
              "      <td>-0.085357</td>\n",
              "      <td>-0.053458</td>\n",
              "      <td>0.019029</td>\n",
              "      <td>11</td>\n",
              "      <td>-0.013274</td>\n",
              "      <td>-0.012301</td>\n",
              "      <td>-0.009386</td>\n",
              "      <td>-0.009912</td>\n",
              "      <td>-0.009649</td>\n",
              "      <td>-0.010905</td>\n",
              "      <td>0.001577</td>\n",
              "    </tr>\n",
              "    <tr>\n",
              "      <th>2</th>\n",
              "      <td>0.037731</td>\n",
              "      <td>0.000929</td>\n",
              "      <td>0.002574</td>\n",
              "      <td>0.000206</td>\n",
              "      <td>2</td>\n",
              "      <td>30</td>\n",
              "      <td>NaN</td>\n",
              "      <td>{'max_features': 2, 'n_estimators': 30}</td>\n",
              "      <td>-0.045326</td>\n",
              "      <td>-0.059693</td>\n",
              "      <td>-0.036151</td>\n",
              "      <td>-0.024286</td>\n",
              "      <td>-0.040238</td>\n",
              "      <td>-0.041139</td>\n",
              "      <td>0.011589</td>\n",
              "      <td>8</td>\n",
              "      <td>-0.007139</td>\n",
              "      <td>-0.008958</td>\n",
              "      <td>-0.006316</td>\n",
              "      <td>-0.005936</td>\n",
              "      <td>-0.007300</td>\n",
              "      <td>-0.007130</td>\n",
              "      <td>0.001045</td>\n",
              "    </tr>\n",
              "    <tr>\n",
              "      <th>3</th>\n",
              "      <td>0.004887</td>\n",
              "      <td>0.000139</td>\n",
              "      <td>0.000907</td>\n",
              "      <td>0.000057</td>\n",
              "      <td>4</td>\n",
              "      <td>3</td>\n",
              "      <td>NaN</td>\n",
              "      <td>{'max_features': 4, 'n_estimators': 3}</td>\n",
              "      <td>-0.076628</td>\n",
              "      <td>-0.057471</td>\n",
              "      <td>-0.031746</td>\n",
              "      <td>-0.126984</td>\n",
              "      <td>-0.055556</td>\n",
              "      <td>-0.069677</td>\n",
              "      <td>0.031999</td>\n",
              "      <td>18</td>\n",
              "      <td>-0.020649</td>\n",
              "      <td>-0.019666</td>\n",
              "      <td>-0.019493</td>\n",
              "      <td>-0.032164</td>\n",
              "      <td>-0.015595</td>\n",
              "      <td>-0.021513</td>\n",
              "      <td>0.005598</td>\n",
              "    </tr>\n",
              "    <tr>\n",
              "      <th>4</th>\n",
              "      <td>0.013871</td>\n",
              "      <td>0.000281</td>\n",
              "      <td>0.001457</td>\n",
              "      <td>0.000088</td>\n",
              "      <td>4</td>\n",
              "      <td>10</td>\n",
              "      <td>NaN</td>\n",
              "      <td>{'max_features': 4, 'n_estimators': 10}</td>\n",
              "      <td>-0.045517</td>\n",
              "      <td>-0.049310</td>\n",
              "      <td>-0.031429</td>\n",
              "      <td>-0.030000</td>\n",
              "      <td>-0.033214</td>\n",
              "      <td>-0.037894</td>\n",
              "      <td>0.007930</td>\n",
              "      <td>7</td>\n",
              "      <td>-0.013628</td>\n",
              "      <td>-0.010442</td>\n",
              "      <td>-0.009825</td>\n",
              "      <td>-0.011491</td>\n",
              "      <td>-0.011754</td>\n",
              "      <td>-0.011428</td>\n",
              "      <td>0.001303</td>\n",
              "    </tr>\n",
              "    <tr>\n",
              "      <th>5</th>\n",
              "      <td>0.038564</td>\n",
              "      <td>0.000990</td>\n",
              "      <td>0.002436</td>\n",
              "      <td>0.000045</td>\n",
              "      <td>4</td>\n",
              "      <td>30</td>\n",
              "      <td>NaN</td>\n",
              "      <td>{'max_features': 4, 'n_estimators': 30}</td>\n",
              "      <td>-0.040958</td>\n",
              "      <td>-0.030805</td>\n",
              "      <td>-0.021746</td>\n",
              "      <td>-0.022143</td>\n",
              "      <td>-0.022341</td>\n",
              "      <td>-0.027599</td>\n",
              "      <td>0.007489</td>\n",
              "      <td>2</td>\n",
              "      <td>-0.003500</td>\n",
              "      <td>-0.006745</td>\n",
              "      <td>-0.005848</td>\n",
              "      <td>-0.005692</td>\n",
              "      <td>-0.007261</td>\n",
              "      <td>-0.005809</td>\n",
              "      <td>0.001291</td>\n",
              "    </tr>\n",
              "    <tr>\n",
              "      <th>6</th>\n",
              "      <td>0.005308</td>\n",
              "      <td>0.000178</td>\n",
              "      <td>0.000934</td>\n",
              "      <td>0.000024</td>\n",
              "      <td>6</td>\n",
              "      <td>3</td>\n",
              "      <td>NaN</td>\n",
              "      <td>{'max_features': 6, 'n_estimators': 3}</td>\n",
              "      <td>-0.030651</td>\n",
              "      <td>-0.149425</td>\n",
              "      <td>-0.027778</td>\n",
              "      <td>-0.039683</td>\n",
              "      <td>-0.043651</td>\n",
              "      <td>-0.058238</td>\n",
              "      <td>0.045959</td>\n",
              "      <td>14</td>\n",
              "      <td>-0.006883</td>\n",
              "      <td>-0.007866</td>\n",
              "      <td>-0.023392</td>\n",
              "      <td>-0.014620</td>\n",
              "      <td>-0.023392</td>\n",
              "      <td>-0.015231</td>\n",
              "      <td>0.007176</td>\n",
              "    </tr>\n",
              "    <tr>\n",
              "      <th>7</th>\n",
              "      <td>0.014250</td>\n",
              "      <td>0.000303</td>\n",
              "      <td>0.001500</td>\n",
              "      <td>0.000122</td>\n",
              "      <td>6</td>\n",
              "      <td>10</td>\n",
              "      <td>NaN</td>\n",
              "      <td>{'max_features': 6, 'n_estimators': 10}</td>\n",
              "      <td>-0.035517</td>\n",
              "      <td>-0.078621</td>\n",
              "      <td>-0.023214</td>\n",
              "      <td>-0.023929</td>\n",
              "      <td>-0.025714</td>\n",
              "      <td>-0.037399</td>\n",
              "      <td>0.021081</td>\n",
              "      <td>6</td>\n",
              "      <td>-0.006106</td>\n",
              "      <td>-0.007434</td>\n",
              "      <td>-0.012456</td>\n",
              "      <td>-0.005439</td>\n",
              "      <td>-0.010526</td>\n",
              "      <td>-0.008392</td>\n",
              "      <td>0.002681</td>\n",
              "    </tr>\n",
              "    <tr>\n",
              "      <th>8</th>\n",
              "      <td>0.040203</td>\n",
              "      <td>0.000838</td>\n",
              "      <td>0.002665</td>\n",
              "      <td>0.000181</td>\n",
              "      <td>6</td>\n",
              "      <td>30</td>\n",
              "      <td>NaN</td>\n",
              "      <td>{'max_features': 6, 'n_estimators': 30}</td>\n",
              "      <td>-0.036858</td>\n",
              "      <td>-0.054674</td>\n",
              "      <td>-0.010794</td>\n",
              "      <td>-0.026786</td>\n",
              "      <td>-0.016786</td>\n",
              "      <td>-0.029180</td>\n",
              "      <td>0.015533</td>\n",
              "      <td>3</td>\n",
              "      <td>-0.003687</td>\n",
              "      <td>-0.006411</td>\n",
              "      <td>-0.006657</td>\n",
              "      <td>-0.004659</td>\n",
              "      <td>-0.008002</td>\n",
              "      <td>-0.005883</td>\n",
              "      <td>0.001529</td>\n",
              "    </tr>\n",
              "    <tr>\n",
              "      <th>9</th>\n",
              "      <td>0.005091</td>\n",
              "      <td>0.000241</td>\n",
              "      <td>0.000887</td>\n",
              "      <td>0.000020</td>\n",
              "      <td>8</td>\n",
              "      <td>3</td>\n",
              "      <td>NaN</td>\n",
              "      <td>{'max_features': 8, 'n_estimators': 3}</td>\n",
              "      <td>-0.057471</td>\n",
              "      <td>-0.203065</td>\n",
              "      <td>-0.035714</td>\n",
              "      <td>-0.031746</td>\n",
              "      <td>-0.015873</td>\n",
              "      <td>-0.068774</td>\n",
              "      <td>0.068446</td>\n",
              "      <td>17</td>\n",
              "      <td>-0.005900</td>\n",
              "      <td>-0.006883</td>\n",
              "      <td>-0.020468</td>\n",
              "      <td>-0.016569</td>\n",
              "      <td>-0.022417</td>\n",
              "      <td>-0.014447</td>\n",
              "      <td>0.006849</td>\n",
              "    </tr>\n",
              "    <tr>\n",
              "      <th>10</th>\n",
              "      <td>0.014414</td>\n",
              "      <td>0.000534</td>\n",
              "      <td>0.001418</td>\n",
              "      <td>0.000090</td>\n",
              "      <td>8</td>\n",
              "      <td>10</td>\n",
              "      <td>NaN</td>\n",
              "      <td>{'max_features': 8, 'n_estimators': 10}</td>\n",
              "      <td>-0.035172</td>\n",
              "      <td>-0.071379</td>\n",
              "      <td>-0.011071</td>\n",
              "      <td>-0.025357</td>\n",
              "      <td>-0.013214</td>\n",
              "      <td>-0.031239</td>\n",
              "      <td>0.021877</td>\n",
              "      <td>4</td>\n",
              "      <td>-0.005133</td>\n",
              "      <td>-0.008938</td>\n",
              "      <td>-0.010614</td>\n",
              "      <td>-0.006930</td>\n",
              "      <td>-0.009474</td>\n",
              "      <td>-0.008218</td>\n",
              "      <td>0.001950</td>\n",
              "    </tr>\n",
              "    <tr>\n",
              "      <th>11</th>\n",
              "      <td>0.039961</td>\n",
              "      <td>0.000921</td>\n",
              "      <td>0.002527</td>\n",
              "      <td>0.000170</td>\n",
              "      <td>8</td>\n",
              "      <td>30</td>\n",
              "      <td>NaN</td>\n",
              "      <td>{'max_features': 8, 'n_estimators': 30}</td>\n",
              "      <td>-0.038774</td>\n",
              "      <td>-0.043946</td>\n",
              "      <td>-0.010119</td>\n",
              "      <td>-0.031230</td>\n",
              "      <td>-0.013532</td>\n",
              "      <td>-0.027520</td>\n",
              "      <td>0.013481</td>\n",
              "      <td>1</td>\n",
              "      <td>-0.004267</td>\n",
              "      <td>-0.007257</td>\n",
              "      <td>-0.007096</td>\n",
              "      <td>-0.005283</td>\n",
              "      <td>-0.006608</td>\n",
              "      <td>-0.006102</td>\n",
              "      <td>0.001150</td>\n",
              "    </tr>\n",
              "    <tr>\n",
              "      <th>12</th>\n",
              "      <td>0.003844</td>\n",
              "      <td>0.000124</td>\n",
              "      <td>0.001005</td>\n",
              "      <td>0.000159</td>\n",
              "      <td>2</td>\n",
              "      <td>3</td>\n",
              "      <td>False</td>\n",
              "      <td>{'bootstrap': False, 'max_features': 2, 'n_est...</td>\n",
              "      <td>-0.049808</td>\n",
              "      <td>-0.042146</td>\n",
              "      <td>-0.047619</td>\n",
              "      <td>-0.043651</td>\n",
              "      <td>-0.091270</td>\n",
              "      <td>-0.054899</td>\n",
              "      <td>0.018390</td>\n",
              "      <td>13</td>\n",
              "      <td>-0.000000</td>\n",
              "      <td>-0.000000</td>\n",
              "      <td>-0.000000</td>\n",
              "      <td>-0.000000</td>\n",
              "      <td>-0.000000</td>\n",
              "      <td>0.000000</td>\n",
              "      <td>0.000000</td>\n",
              "    </tr>\n",
              "    <tr>\n",
              "      <th>13</th>\n",
              "      <td>0.010036</td>\n",
              "      <td>0.000278</td>\n",
              "      <td>0.001497</td>\n",
              "      <td>0.000129</td>\n",
              "      <td>2</td>\n",
              "      <td>10</td>\n",
              "      <td>False</td>\n",
              "      <td>{'bootstrap': False, 'max_features': 2, 'n_est...</td>\n",
              "      <td>-0.060690</td>\n",
              "      <td>-0.063103</td>\n",
              "      <td>-0.043929</td>\n",
              "      <td>-0.025000</td>\n",
              "      <td>-0.042143</td>\n",
              "      <td>-0.046973</td>\n",
              "      <td>0.013883</td>\n",
              "      <td>10</td>\n",
              "      <td>-0.000000</td>\n",
              "      <td>-0.000000</td>\n",
              "      <td>-0.000000</td>\n",
              "      <td>-0.000000</td>\n",
              "      <td>-0.000000</td>\n",
              "      <td>0.000000</td>\n",
              "      <td>0.000000</td>\n",
              "    </tr>\n",
              "    <tr>\n",
              "      <th>14</th>\n",
              "      <td>0.004142</td>\n",
              "      <td>0.000460</td>\n",
              "      <td>0.000951</td>\n",
              "      <td>0.000108</td>\n",
              "      <td>3</td>\n",
              "      <td>3</td>\n",
              "      <td>False</td>\n",
              "      <td>{'bootstrap': False, 'max_features': 3, 'n_est...</td>\n",
              "      <td>-0.068966</td>\n",
              "      <td>-0.068966</td>\n",
              "      <td>-0.019841</td>\n",
              "      <td>-0.055556</td>\n",
              "      <td>-0.059524</td>\n",
              "      <td>-0.054570</td>\n",
              "      <td>0.018144</td>\n",
              "      <td>12</td>\n",
              "      <td>-0.000000</td>\n",
              "      <td>-0.000000</td>\n",
              "      <td>-0.000000</td>\n",
              "      <td>-0.000000</td>\n",
              "      <td>-0.000000</td>\n",
              "      <td>0.000000</td>\n",
              "      <td>0.000000</td>\n",
              "    </tr>\n",
              "    <tr>\n",
              "      <th>15</th>\n",
              "      <td>0.010371</td>\n",
              "      <td>0.000175</td>\n",
              "      <td>0.001542</td>\n",
              "      <td>0.000115</td>\n",
              "      <td>3</td>\n",
              "      <td>10</td>\n",
              "      <td>False</td>\n",
              "      <td>{'bootstrap': False, 'max_features': 3, 'n_est...</td>\n",
              "      <td>-0.045862</td>\n",
              "      <td>-0.048276</td>\n",
              "      <td>-0.020000</td>\n",
              "      <td>-0.019286</td>\n",
              "      <td>-0.030357</td>\n",
              "      <td>-0.032756</td>\n",
              "      <td>0.012350</td>\n",
              "      <td>5</td>\n",
              "      <td>-0.000000</td>\n",
              "      <td>-0.000000</td>\n",
              "      <td>-0.000000</td>\n",
              "      <td>-0.000000</td>\n",
              "      <td>-0.000000</td>\n",
              "      <td>0.000000</td>\n",
              "      <td>0.000000</td>\n",
              "    </tr>\n",
              "    <tr>\n",
              "      <th>16</th>\n",
              "      <td>0.004029</td>\n",
              "      <td>0.000194</td>\n",
              "      <td>0.001025</td>\n",
              "      <td>0.000146</td>\n",
              "      <td>4</td>\n",
              "      <td>3</td>\n",
              "      <td>False</td>\n",
              "      <td>{'bootstrap': False, 'max_features': 4, 'n_est...</td>\n",
              "      <td>-0.065134</td>\n",
              "      <td>-0.072797</td>\n",
              "      <td>-0.039683</td>\n",
              "      <td>-0.087302</td>\n",
              "      <td>-0.043651</td>\n",
              "      <td>-0.061713</td>\n",
              "      <td>0.017894</td>\n",
              "      <td>15</td>\n",
              "      <td>-0.000000</td>\n",
              "      <td>-0.000000</td>\n",
              "      <td>-0.000000</td>\n",
              "      <td>-0.000000</td>\n",
              "      <td>-0.000000</td>\n",
              "      <td>0.000000</td>\n",
              "      <td>0.000000</td>\n",
              "    </tr>\n",
              "    <tr>\n",
              "      <th>17</th>\n",
              "      <td>0.010703</td>\n",
              "      <td>0.000390</td>\n",
              "      <td>0.001555</td>\n",
              "      <td>0.000103</td>\n",
              "      <td>4</td>\n",
              "      <td>10</td>\n",
              "      <td>False</td>\n",
              "      <td>{'bootstrap': False, 'max_features': 4, 'n_est...</td>\n",
              "      <td>-0.057241</td>\n",
              "      <td>-0.046897</td>\n",
              "      <td>-0.036429</td>\n",
              "      <td>-0.033214</td>\n",
              "      <td>-0.033929</td>\n",
              "      <td>-0.041542</td>\n",
              "      <td>0.009259</td>\n",
              "      <td>9</td>\n",
              "      <td>-0.000000</td>\n",
              "      <td>-0.000000</td>\n",
              "      <td>-0.000000</td>\n",
              "      <td>-0.000000</td>\n",
              "      <td>-0.000000</td>\n",
              "      <td>0.000000</td>\n",
              "      <td>0.000000</td>\n",
              "    </tr>\n",
              "  </tbody>\n",
              "</table>\n",
              "</div>"
            ],
            "text/plain": [
              "    mean_fit_time  std_fit_time  ...  mean_train_score  std_train_score\n",
              "0        0.006320      0.001777  ...         -0.024649         0.004442\n",
              "1        0.013316      0.000249  ...         -0.010905         0.001577\n",
              "2        0.037731      0.000929  ...         -0.007130         0.001045\n",
              "3        0.004887      0.000139  ...         -0.021513         0.005598\n",
              "4        0.013871      0.000281  ...         -0.011428         0.001303\n",
              "5        0.038564      0.000990  ...         -0.005809         0.001291\n",
              "6        0.005308      0.000178  ...         -0.015231         0.007176\n",
              "7        0.014250      0.000303  ...         -0.008392         0.002681\n",
              "8        0.040203      0.000838  ...         -0.005883         0.001529\n",
              "9        0.005091      0.000241  ...         -0.014447         0.006849\n",
              "10       0.014414      0.000534  ...         -0.008218         0.001950\n",
              "11       0.039961      0.000921  ...         -0.006102         0.001150\n",
              "12       0.003844      0.000124  ...          0.000000         0.000000\n",
              "13       0.010036      0.000278  ...          0.000000         0.000000\n",
              "14       0.004142      0.000460  ...          0.000000         0.000000\n",
              "15       0.010371      0.000175  ...          0.000000         0.000000\n",
              "16       0.004029      0.000194  ...          0.000000         0.000000\n",
              "17       0.010703      0.000390  ...          0.000000         0.000000\n",
              "\n",
              "[18 rows x 23 columns]"
            ]
          },
          "metadata": {
            "tags": []
          },
          "execution_count": 100
        }
      ]
    },
    {
      "cell_type": "code",
      "metadata": {
        "id": "REqcJKMI1jF2",
        "colab_type": "code",
        "colab": {
          "base_uri": "https://localhost:8080/",
          "height": 417
        },
        "outputId": "76335a06-a240-498d-b964-fe8f5885a06b"
      },
      "source": [
        "from sklearn.model_selection import RandomizedSearchCV\n",
        "from scipy.stats import randint\n",
        "\n",
        "param_distribs = {\n",
        "        'n_estimators': randint(low=1, high=200),\n",
        "        'max_features': randint(low=1, high=8),\n",
        "    }\n",
        "\n",
        "forest_reg = RandomForestRegressor(random_state=42)\n",
        "rnd_search = RandomizedSearchCV(forest_reg, param_distributions=param_distribs,\n",
        "                                n_iter=10, cv=5, scoring='neg_mean_squared_error', random_state=42)\n",
        "rnd_search.fit(wine_num_tr, wine_labels)"
      ],
      "execution_count": 101,
      "outputs": [
        {
          "output_type": "execute_result",
          "data": {
            "text/plain": [
              "RandomizedSearchCV(cv=5, error_score=nan,\n",
              "                   estimator=RandomForestRegressor(bootstrap=True,\n",
              "                                                   ccp_alpha=0.0,\n",
              "                                                   criterion='mse',\n",
              "                                                   max_depth=None,\n",
              "                                                   max_features='auto',\n",
              "                                                   max_leaf_nodes=None,\n",
              "                                                   max_samples=None,\n",
              "                                                   min_impurity_decrease=0.0,\n",
              "                                                   min_impurity_split=None,\n",
              "                                                   min_samples_leaf=1,\n",
              "                                                   min_samples_split=2,\n",
              "                                                   min_weight_fraction_leaf=0.0,\n",
              "                                                   n_estimators=100,\n",
              "                                                   n_jobs=None, oob_score=Fals...\n",
              "                                                   warm_start=False),\n",
              "                   iid='deprecated', n_iter=10, n_jobs=None,\n",
              "                   param_distributions={'max_features': <scipy.stats._distn_infrastructure.rv_frozen object at 0x7fad67c0de10>,\n",
              "                                        'n_estimators': <scipy.stats._distn_infrastructure.rv_frozen object at 0x7fad67c0df60>},\n",
              "                   pre_dispatch='2*n_jobs', random_state=42, refit=True,\n",
              "                   return_train_score=False, scoring='neg_mean_squared_error',\n",
              "                   verbose=0)"
            ]
          },
          "metadata": {
            "tags": []
          },
          "execution_count": 101
        }
      ]
    },
    {
      "cell_type": "code",
      "metadata": {
        "id": "6TydHILX1wf8",
        "colab_type": "code",
        "colab": {
          "base_uri": "https://localhost:8080/",
          "height": 190
        },
        "outputId": "a2bba3b8-d25d-44a1-d2f8-3ce2244d096f"
      },
      "source": [
        "cvres = rnd_search.cv_results_\n",
        "for mean_score, params in zip(cvres[\"mean_test_score\"], cvres[\"params\"]):\n",
        "    print(np.sqrt(-mean_score), params)"
      ],
      "execution_count": 102,
      "outputs": [
        {
          "output_type": "stream",
          "text": [
            "0.16932299792331046 {'max_features': 7, 'n_estimators': 180}\n",
            "0.1783031372621525 {'max_features': 5, 'n_estimators': 15}\n",
            "0.17822055475608345 {'max_features': 3, 'n_estimators': 72}\n",
            "0.17885933472336538 {'max_features': 5, 'n_estimators': 21}\n",
            "0.16496080016069542 {'max_features': 7, 'n_estimators': 122}\n",
            "0.17597681093192083 {'max_features': 3, 'n_estimators': 75}\n",
            "0.17637555447701495 {'max_features': 3, 'n_estimators': 88}\n",
            "0.16372006927601712 {'max_features': 5, 'n_estimators': 100}\n",
            "0.1787022793711252 {'max_features': 3, 'n_estimators': 150}\n",
            "0.27216971668391576 {'max_features': 5, 'n_estimators': 2}\n"
          ],
          "name": "stdout"
        }
      ]
    },
    {
      "cell_type": "code",
      "metadata": {
        "id": "hbUvgJhf11-v",
        "colab_type": "code",
        "colab": {
          "base_uri": "https://localhost:8080/",
          "height": 69
        },
        "outputId": "f6c1f46f-a7f1-4c61-dc50-3771f63466a9"
      },
      "source": [
        "feature_importances = grid_search.best_estimator_.feature_importances_\n",
        "feature_importances"
      ],
      "execution_count": 103,
      "outputs": [
        {
          "output_type": "execute_result",
          "data": {
            "text/plain": [
              "array([0.03473736, 0.01110304, 0.00380886, 0.00775948, 0.0082167 ,\n",
              "       0.00065522, 0.42850166, 0.        , 0.00228693, 0.08038548,\n",
              "       0.03616637, 0.14022164, 0.24615727])"
            ]
          },
          "metadata": {
            "tags": []
          },
          "execution_count": 103
        }
      ]
    },
    {
      "cell_type": "code",
      "metadata": {
        "id": "qAWiR_xF14yd",
        "colab_type": "code",
        "colab": {}
      },
      "source": [
        "final_model = grid_search.best_estimator_\n",
        "\n",
        "X_test = strat_test_set.drop(\"class\", axis=1)\n",
        "y_test = strat_test_set[\"class\"].copy()\n",
        "\n",
        "X_test_prepared = num_pipeline.transform(X_test)\n",
        "final_predictions = final_model.predict(X_test_prepared)\n",
        "\n",
        "final_mse = mean_squared_error(y_test, final_predictions)\n",
        "final_rmse = np.sqrt(final_mse)"
      ],
      "execution_count": 0,
      "outputs": []
    },
    {
      "cell_type": "code",
      "metadata": {
        "id": "KHBojegO2X6x",
        "colab_type": "code",
        "colab": {
          "base_uri": "https://localhost:8080/",
          "height": 35
        },
        "outputId": "02a489b7-b9c8-4b73-c0be-22dce9f7c6c1"
      },
      "source": [
        "final_rmse"
      ],
      "execution_count": 105,
      "outputs": [
        {
          "output_type": "execute_result",
          "data": {
            "text/plain": [
              "0.18509256943286315"
            ]
          },
          "metadata": {
            "tags": []
          },
          "execution_count": 105
        }
      ]
    },
    {
      "cell_type": "code",
      "metadata": {
        "id": "dXP-D-sN2X3T",
        "colab_type": "code",
        "colab": {
          "base_uri": "https://localhost:8080/",
          "height": 35
        },
        "outputId": "5a8c80c2-74bf-47ff-d0c2-2743eab65548"
      },
      "source": [
        "from scipy import stats\n",
        "\n",
        "confidence = 0.95\n",
        "squared_errors = (final_predictions - y_test) ** 2\n",
        "np.sqrt(stats.t.interval(confidence, len(squared_errors) - 1,\n",
        "                         loc=squared_errors.mean(),\n",
        "                         scale=stats.sem(squared_errors)))"
      ],
      "execution_count": 106,
      "outputs": [
        {
          "output_type": "execute_result",
          "data": {
            "text/plain": [
              "array([0.05233178, 0.25647593])"
            ]
          },
          "metadata": {
            "tags": []
          },
          "execution_count": 106
        }
      ]
    },
    {
      "cell_type": "code",
      "metadata": {
        "id": "F87mCqC-2g4h",
        "colab_type": "code",
        "colab": {
          "base_uri": "https://localhost:8080/",
          "height": 35
        },
        "outputId": "0697ea0a-99ab-4275-89a1-9de7c898fcd2"
      },
      "source": [
        "m = len(squared_errors)\n",
        "mean = squared_errors.mean()\n",
        "tscore = stats.t.ppf((1 + confidence) / 2, df=m - 1)\n",
        "tmargin = tscore * squared_errors.std(ddof=1) / np.sqrt(m)\n",
        "np.sqrt(mean - tmargin), np.sqrt(mean + tmargin)"
      ],
      "execution_count": 107,
      "outputs": [
        {
          "output_type": "execute_result",
          "data": {
            "text/plain": [
              "(0.05233177710865188, 0.2564759318594415)"
            ]
          },
          "metadata": {
            "tags": []
          },
          "execution_count": 107
        }
      ]
    },
    {
      "cell_type": "code",
      "metadata": {
        "id": "9jCBzu1u2jk5",
        "colab_type": "code",
        "colab": {
          "base_uri": "https://localhost:8080/",
          "height": 35
        },
        "outputId": "1b411a8b-a2ac-44ee-ad17-9b0130b1b2eb"
      },
      "source": [
        "zscore = stats.norm.ppf((1 + confidence) / 2)\n",
        "zmargin = zscore * squared_errors.std(ddof=1) / np.sqrt(m)\n",
        "np.sqrt(mean - zmargin), np.sqrt(mean + zmargin)"
      ],
      "execution_count": 108,
      "outputs": [
        {
          "output_type": "execute_result",
          "data": {
            "text/plain": [
              "(0.06186849631367738, 0.2543438768329267)"
            ]
          },
          "metadata": {
            "tags": []
          },
          "execution_count": 108
        }
      ]
    }
  ]
}
