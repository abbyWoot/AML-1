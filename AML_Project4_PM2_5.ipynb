{
  "nbformat": 4,
  "nbformat_minor": 0,
  "metadata": {
    "colab": {
      "name": "AML_Project4_PM2.5.ipynb",
      "provenance": [],
      "collapsed_sections": [],
      "machine_shape": "hm",
      "authorship_tag": "ABX9TyN9l923WyW7J85+3nSE4cIq",
      "include_colab_link": true
    },
    "kernelspec": {
      "name": "python3",
      "display_name": "Python 3"
    }
  },
  "cells": [
    {
      "cell_type": "markdown",
      "metadata": {
        "id": "view-in-github",
        "colab_type": "text"
      },
      "source": [
        "<a href=\"https://colab.research.google.com/github/fsclsnow/AML/blob/master/AML_Project4_PM2_5.ipynb\" target=\"_parent\"><img src=\"https://colab.research.google.com/assets/colab-badge.svg\" alt=\"Open In Colab\"/></a>"
      ]
    },
    {
      "cell_type": "markdown",
      "metadata": {
        "id": "Uf437Lv45j5k",
        "colab_type": "text"
      },
      "source": [
        "# Project 4 - Jiajie Zhu\n",
        "\n",
        "This notebook performs experiments involving regression using the Beijing PM2.5 Data Set:\n",
        "*   The hourly data set contains the PM2.5 data of US Embassy in Beijing. Meanwhile, meteorological data from Beijing Capital International Airport are also included.\n",
        "*   PM2. 5 refers to atmospheric particulate matter (PM) that have a diameter of less than 2.5 micrometers, which is about 3% the diameter of a human hair.\n",
        "*   Commonly written as PM2.5, particles in this category are so small that they can only be detected with an electron microscope.\n",
        "\n"
      ]
    },
    {
      "cell_type": "code",
      "metadata": {
        "id": "u0vAG5fg4riv",
        "colab_type": "code",
        "colab": {}
      },
      "source": [
        "# Python ≥3.5 is required\n",
        "import sys\n",
        "assert sys.version_info >= (3, 5)\n",
        "# Scikit-Learn ≥0.20 is required\n",
        "import sklearn\n",
        "assert sklearn.__version__ >= \"0.20\"\n",
        "\n",
        "# Common imports\n",
        "import numpy as np\n",
        "import os\n",
        "\n",
        "# to make this notebook's output stable across runs\n",
        "np.random.seed(42)\n",
        "\n",
        "# To plot pretty figures\n",
        "%matplotlib inline\n",
        "import matplotlib as mpl\n",
        "import matplotlib.pyplot as plt\n",
        "mpl.rc('axes', labelsize=14)\n",
        "mpl.rc('xtick', labelsize=12)\n",
        "mpl.rc('ytick', labelsize=12)\n",
        "\n",
        "# Where to save the figures\n",
        "PROJECT_ROOT_DIR = \".\"\n",
        "CHAPTER_ID = \"training_linear_models\"\n",
        "IMAGES_PATH = os.path.join(PROJECT_ROOT_DIR, \"images\", CHAPTER_ID)\n",
        "os.makedirs(IMAGES_PATH, exist_ok=True)\n",
        "\n",
        "def save_fig(fig_id, tight_layout=True, fig_extension=\"png\", resolution=300):\n",
        "    path = os.path.join(IMAGES_PATH, fig_id + \".\" + fig_extension)\n",
        "    print(\"Saving figure\", fig_id)\n",
        "    if tight_layout:\n",
        "        plt.tight_layout()\n",
        "    plt.savefig(path, format=fig_extension, dpi=resolution)\n",
        "\n",
        "# Ignore useless warnings (see SciPy issue #5998)\n",
        "import warnings\n",
        "warnings.filterwarnings(action=\"ignore\", message=\"^internal gelsd\")"
      ],
      "execution_count": 0,
      "outputs": []
    },
    {
      "cell_type": "code",
      "metadata": {
        "id": "J7eLIS9r64d4",
        "colab_type": "code",
        "colab": {}
      },
      "source": [
        "# Download the data\n",
        "import urllib\n",
        "import os\n",
        "\n",
        "DOWNLOAD_ROOT = \"https://raw.githubusercontent.com/fsclsnow/AML/master/\"\n",
        "PM25_PATH = os.path.join(\"Data\")\n",
        "PM25_URL = DOWNLOAD_ROOT + \"Data/PRSA_data.csv\""
      ],
      "execution_count": 0,
      "outputs": []
    },
    {
      "cell_type": "code",
      "metadata": {
        "id": "oxXcqu5XCmKg",
        "colab_type": "code",
        "colab": {}
      },
      "source": [
        "import pandas as pd\n",
        "\n",
        "def load_pm_data(pm_path=PM25_PATH):\n",
        "    csv_path = os.path.join(DOWNLOAD_ROOT, pm_path, \"PRSA_data.csv\")\n",
        "    return pd.read_csv(csv_path)"
      ],
      "execution_count": 0,
      "outputs": []
    },
    {
      "cell_type": "code",
      "metadata": {
        "id": "wy046wuCCgJl",
        "colab_type": "code",
        "outputId": "dbbd7a31-6c22-430b-c0d5-5e8ae9c67f80",
        "colab": {
          "base_uri": "https://localhost:8080/",
          "height": 198
        }
      },
      "source": [
        "pm25 = load_pm_data()\n",
        "pm25.head()"
      ],
      "execution_count": 0,
      "outputs": [
        {
          "output_type": "execute_result",
          "data": {
            "text/html": [
              "<div>\n",
              "<style scoped>\n",
              "    .dataframe tbody tr th:only-of-type {\n",
              "        vertical-align: middle;\n",
              "    }\n",
              "\n",
              "    .dataframe tbody tr th {\n",
              "        vertical-align: top;\n",
              "    }\n",
              "\n",
              "    .dataframe thead th {\n",
              "        text-align: right;\n",
              "    }\n",
              "</style>\n",
              "<table border=\"1\" class=\"dataframe\">\n",
              "  <thead>\n",
              "    <tr style=\"text-align: right;\">\n",
              "      <th></th>\n",
              "      <th>No</th>\n",
              "      <th>year</th>\n",
              "      <th>month</th>\n",
              "      <th>day</th>\n",
              "      <th>hour</th>\n",
              "      <th>pm2.5</th>\n",
              "      <th>DEWP</th>\n",
              "      <th>TEMP</th>\n",
              "      <th>PRES</th>\n",
              "      <th>cbwd</th>\n",
              "      <th>Iws</th>\n",
              "      <th>Is</th>\n",
              "      <th>Ir</th>\n",
              "    </tr>\n",
              "  </thead>\n",
              "  <tbody>\n",
              "    <tr>\n",
              "      <th>0</th>\n",
              "      <td>1</td>\n",
              "      <td>2010</td>\n",
              "      <td>1</td>\n",
              "      <td>1</td>\n",
              "      <td>0</td>\n",
              "      <td>NaN</td>\n",
              "      <td>-21</td>\n",
              "      <td>-11.0</td>\n",
              "      <td>1021.0</td>\n",
              "      <td>NW</td>\n",
              "      <td>1.79</td>\n",
              "      <td>0</td>\n",
              "      <td>0</td>\n",
              "    </tr>\n",
              "    <tr>\n",
              "      <th>1</th>\n",
              "      <td>2</td>\n",
              "      <td>2010</td>\n",
              "      <td>1</td>\n",
              "      <td>1</td>\n",
              "      <td>1</td>\n",
              "      <td>NaN</td>\n",
              "      <td>-21</td>\n",
              "      <td>-12.0</td>\n",
              "      <td>1020.0</td>\n",
              "      <td>NW</td>\n",
              "      <td>4.92</td>\n",
              "      <td>0</td>\n",
              "      <td>0</td>\n",
              "    </tr>\n",
              "    <tr>\n",
              "      <th>2</th>\n",
              "      <td>3</td>\n",
              "      <td>2010</td>\n",
              "      <td>1</td>\n",
              "      <td>1</td>\n",
              "      <td>2</td>\n",
              "      <td>NaN</td>\n",
              "      <td>-21</td>\n",
              "      <td>-11.0</td>\n",
              "      <td>1019.0</td>\n",
              "      <td>NW</td>\n",
              "      <td>6.71</td>\n",
              "      <td>0</td>\n",
              "      <td>0</td>\n",
              "    </tr>\n",
              "    <tr>\n",
              "      <th>3</th>\n",
              "      <td>4</td>\n",
              "      <td>2010</td>\n",
              "      <td>1</td>\n",
              "      <td>1</td>\n",
              "      <td>3</td>\n",
              "      <td>NaN</td>\n",
              "      <td>-21</td>\n",
              "      <td>-14.0</td>\n",
              "      <td>1019.0</td>\n",
              "      <td>NW</td>\n",
              "      <td>9.84</td>\n",
              "      <td>0</td>\n",
              "      <td>0</td>\n",
              "    </tr>\n",
              "    <tr>\n",
              "      <th>4</th>\n",
              "      <td>5</td>\n",
              "      <td>2010</td>\n",
              "      <td>1</td>\n",
              "      <td>1</td>\n",
              "      <td>4</td>\n",
              "      <td>NaN</td>\n",
              "      <td>-20</td>\n",
              "      <td>-12.0</td>\n",
              "      <td>1018.0</td>\n",
              "      <td>NW</td>\n",
              "      <td>12.97</td>\n",
              "      <td>0</td>\n",
              "      <td>0</td>\n",
              "    </tr>\n",
              "  </tbody>\n",
              "</table>\n",
              "</div>"
            ],
            "text/plain": [
              "   No  year  month  day  hour  pm2.5  DEWP  TEMP    PRES cbwd    Iws  Is  Ir\n",
              "0   1  2010      1    1     0    NaN   -21 -11.0  1021.0   NW   1.79   0   0\n",
              "1   2  2010      1    1     1    NaN   -21 -12.0  1020.0   NW   4.92   0   0\n",
              "2   3  2010      1    1     2    NaN   -21 -11.0  1019.0   NW   6.71   0   0\n",
              "3   4  2010      1    1     3    NaN   -21 -14.0  1019.0   NW   9.84   0   0\n",
              "4   5  2010      1    1     4    NaN   -20 -12.0  1018.0   NW  12.97   0   0"
            ]
          },
          "metadata": {
            "tags": []
          },
          "execution_count": 12
        }
      ]
    },
    {
      "cell_type": "code",
      "metadata": {
        "id": "b7mG9ePUGObj",
        "colab_type": "code",
        "outputId": "246c6424-ddca-4643-d200-4c23ce6e0bd5",
        "colab": {
          "base_uri": "https://localhost:8080/",
          "height": 328
        }
      },
      "source": [
        "pm25.info()"
      ],
      "execution_count": 0,
      "outputs": [
        {
          "output_type": "stream",
          "text": [
            "<class 'pandas.core.frame.DataFrame'>\n",
            "RangeIndex: 43824 entries, 0 to 43823\n",
            "Data columns (total 13 columns):\n",
            "No       43824 non-null int64\n",
            "year     43824 non-null int64\n",
            "month    43824 non-null int64\n",
            "day      43824 non-null int64\n",
            "hour     43824 non-null int64\n",
            "pm2.5    41757 non-null float64\n",
            "DEWP     43824 non-null int64\n",
            "TEMP     43824 non-null float64\n",
            "PRES     43824 non-null float64\n",
            "cbwd     43824 non-null object\n",
            "Iws      43824 non-null float64\n",
            "Is       43824 non-null int64\n",
            "Ir       43824 non-null int64\n",
            "dtypes: float64(4), int64(8), object(1)\n",
            "memory usage: 4.3+ MB\n"
          ],
          "name": "stdout"
        }
      ]
    },
    {
      "cell_type": "code",
      "metadata": {
        "id": "0e-Nq4H2Gb7z",
        "colab_type": "code",
        "outputId": "4b588ca0-c814-4d02-e361-3f66cd621c12",
        "colab": {
          "base_uri": "https://localhost:8080/",
          "height": 35
        }
      },
      "source": [
        "pm25.shape"
      ],
      "execution_count": 0,
      "outputs": [
        {
          "output_type": "execute_result",
          "data": {
            "text/plain": [
              "(43824, 13)"
            ]
          },
          "metadata": {
            "tags": []
          },
          "execution_count": 14
        }
      ]
    },
    {
      "cell_type": "code",
      "metadata": {
        "id": "xhEWGWCfGvnz",
        "colab_type": "code",
        "outputId": "87b04dda-cc39-4ea9-8878-76c46d305870",
        "colab": {
          "base_uri": "https://localhost:8080/",
          "height": 308
        }
      },
      "source": [
        "pm25.describe()"
      ],
      "execution_count": 0,
      "outputs": [
        {
          "output_type": "execute_result",
          "data": {
            "text/html": [
              "<div>\n",
              "<style scoped>\n",
              "    .dataframe tbody tr th:only-of-type {\n",
              "        vertical-align: middle;\n",
              "    }\n",
              "\n",
              "    .dataframe tbody tr th {\n",
              "        vertical-align: top;\n",
              "    }\n",
              "\n",
              "    .dataframe thead th {\n",
              "        text-align: right;\n",
              "    }\n",
              "</style>\n",
              "<table border=\"1\" class=\"dataframe\">\n",
              "  <thead>\n",
              "    <tr style=\"text-align: right;\">\n",
              "      <th></th>\n",
              "      <th>No</th>\n",
              "      <th>year</th>\n",
              "      <th>month</th>\n",
              "      <th>day</th>\n",
              "      <th>hour</th>\n",
              "      <th>pm2.5</th>\n",
              "      <th>DEWP</th>\n",
              "      <th>TEMP</th>\n",
              "      <th>PRES</th>\n",
              "      <th>Iws</th>\n",
              "      <th>Is</th>\n",
              "      <th>Ir</th>\n",
              "    </tr>\n",
              "  </thead>\n",
              "  <tbody>\n",
              "    <tr>\n",
              "      <th>count</th>\n",
              "      <td>43824.000000</td>\n",
              "      <td>43824.000000</td>\n",
              "      <td>43824.000000</td>\n",
              "      <td>43824.000000</td>\n",
              "      <td>43824.000000</td>\n",
              "      <td>41757.000000</td>\n",
              "      <td>43824.000000</td>\n",
              "      <td>43824.000000</td>\n",
              "      <td>43824.000000</td>\n",
              "      <td>43824.000000</td>\n",
              "      <td>43824.000000</td>\n",
              "      <td>43824.000000</td>\n",
              "    </tr>\n",
              "    <tr>\n",
              "      <th>mean</th>\n",
              "      <td>21912.500000</td>\n",
              "      <td>2012.000000</td>\n",
              "      <td>6.523549</td>\n",
              "      <td>15.727820</td>\n",
              "      <td>11.500000</td>\n",
              "      <td>98.613215</td>\n",
              "      <td>1.817246</td>\n",
              "      <td>12.448521</td>\n",
              "      <td>1016.447654</td>\n",
              "      <td>23.889140</td>\n",
              "      <td>0.052734</td>\n",
              "      <td>0.194916</td>\n",
              "    </tr>\n",
              "    <tr>\n",
              "      <th>std</th>\n",
              "      <td>12651.043435</td>\n",
              "      <td>1.413842</td>\n",
              "      <td>3.448572</td>\n",
              "      <td>8.799425</td>\n",
              "      <td>6.922266</td>\n",
              "      <td>92.050387</td>\n",
              "      <td>14.433440</td>\n",
              "      <td>12.198613</td>\n",
              "      <td>10.268698</td>\n",
              "      <td>50.010635</td>\n",
              "      <td>0.760375</td>\n",
              "      <td>1.415867</td>\n",
              "    </tr>\n",
              "    <tr>\n",
              "      <th>min</th>\n",
              "      <td>1.000000</td>\n",
              "      <td>2010.000000</td>\n",
              "      <td>1.000000</td>\n",
              "      <td>1.000000</td>\n",
              "      <td>0.000000</td>\n",
              "      <td>0.000000</td>\n",
              "      <td>-40.000000</td>\n",
              "      <td>-19.000000</td>\n",
              "      <td>991.000000</td>\n",
              "      <td>0.450000</td>\n",
              "      <td>0.000000</td>\n",
              "      <td>0.000000</td>\n",
              "    </tr>\n",
              "    <tr>\n",
              "      <th>25%</th>\n",
              "      <td>10956.750000</td>\n",
              "      <td>2011.000000</td>\n",
              "      <td>4.000000</td>\n",
              "      <td>8.000000</td>\n",
              "      <td>5.750000</td>\n",
              "      <td>29.000000</td>\n",
              "      <td>-10.000000</td>\n",
              "      <td>2.000000</td>\n",
              "      <td>1008.000000</td>\n",
              "      <td>1.790000</td>\n",
              "      <td>0.000000</td>\n",
              "      <td>0.000000</td>\n",
              "    </tr>\n",
              "    <tr>\n",
              "      <th>50%</th>\n",
              "      <td>21912.500000</td>\n",
              "      <td>2012.000000</td>\n",
              "      <td>7.000000</td>\n",
              "      <td>16.000000</td>\n",
              "      <td>11.500000</td>\n",
              "      <td>72.000000</td>\n",
              "      <td>2.000000</td>\n",
              "      <td>14.000000</td>\n",
              "      <td>1016.000000</td>\n",
              "      <td>5.370000</td>\n",
              "      <td>0.000000</td>\n",
              "      <td>0.000000</td>\n",
              "    </tr>\n",
              "    <tr>\n",
              "      <th>75%</th>\n",
              "      <td>32868.250000</td>\n",
              "      <td>2013.000000</td>\n",
              "      <td>10.000000</td>\n",
              "      <td>23.000000</td>\n",
              "      <td>17.250000</td>\n",
              "      <td>137.000000</td>\n",
              "      <td>15.000000</td>\n",
              "      <td>23.000000</td>\n",
              "      <td>1025.000000</td>\n",
              "      <td>21.910000</td>\n",
              "      <td>0.000000</td>\n",
              "      <td>0.000000</td>\n",
              "    </tr>\n",
              "    <tr>\n",
              "      <th>max</th>\n",
              "      <td>43824.000000</td>\n",
              "      <td>2014.000000</td>\n",
              "      <td>12.000000</td>\n",
              "      <td>31.000000</td>\n",
              "      <td>23.000000</td>\n",
              "      <td>994.000000</td>\n",
              "      <td>28.000000</td>\n",
              "      <td>42.000000</td>\n",
              "      <td>1046.000000</td>\n",
              "      <td>585.600000</td>\n",
              "      <td>27.000000</td>\n",
              "      <td>36.000000</td>\n",
              "    </tr>\n",
              "  </tbody>\n",
              "</table>\n",
              "</div>"
            ],
            "text/plain": [
              "                 No          year  ...            Is            Ir\n",
              "count  43824.000000  43824.000000  ...  43824.000000  43824.000000\n",
              "mean   21912.500000   2012.000000  ...      0.052734      0.194916\n",
              "std    12651.043435      1.413842  ...      0.760375      1.415867\n",
              "min        1.000000   2010.000000  ...      0.000000      0.000000\n",
              "25%    10956.750000   2011.000000  ...      0.000000      0.000000\n",
              "50%    21912.500000   2012.000000  ...      0.000000      0.000000\n",
              "75%    32868.250000   2013.000000  ...      0.000000      0.000000\n",
              "max    43824.000000   2014.000000  ...     27.000000     36.000000\n",
              "\n",
              "[8 rows x 12 columns]"
            ]
          },
          "metadata": {
            "tags": []
          },
          "execution_count": 15
        }
      ]
    },
    {
      "cell_type": "code",
      "metadata": {
        "id": "du9KqqjsSa6E",
        "colab_type": "code",
        "outputId": "e19757c8-145c-4889-87fd-fb3d03b85bf6",
        "colab": {
          "base_uri": "https://localhost:8080/",
          "height": 910
        }
      },
      "source": [
        "%matplotlib inline\n",
        "import matplotlib.pyplot as plt\n",
        "pm25.hist(bins=50, figsize=(16,12))\n",
        "save_fig(\"attribute_histogram_plots\")\n",
        "plt.show()"
      ],
      "execution_count": 0,
      "outputs": [
        {
          "output_type": "stream",
          "text": [
            "Saving figure attribute_histogram_plots\n"
          ],
          "name": "stdout"
        },
        {
          "output_type": "display_data",
          "data": {
            "image/png": "[encoded data removed]",
            "text/plain": [
              "<Figure size 1152x864 with 12 Axes>"
            ]
          },
          "metadata": {
            "tags": []
          }
        }
      ]
    },
    {
      "cell_type": "code",
      "metadata": {
        "id": "RZH81Eg8YdQE",
        "colab_type": "code",
        "outputId": "58827b05-b129-4f8e-ec36-021bd806ce09",
        "colab": {
          "base_uri": "https://localhost:8080/",
          "height": 198
        }
      },
      "source": [
        "sample_incomplete_rows = pm25[pm25.isnull().any(axis=1)].head()\n",
        "sample_incomplete_rows"
      ],
      "execution_count": 0,
      "outputs": [
        {
          "output_type": "execute_result",
          "data": {
            "text/html": [
              "<div>\n",
              "<style scoped>\n",
              "    .dataframe tbody tr th:only-of-type {\n",
              "        vertical-align: middle;\n",
              "    }\n",
              "\n",
              "    .dataframe tbody tr th {\n",
              "        vertical-align: top;\n",
              "    }\n",
              "\n",
              "    .dataframe thead th {\n",
              "        text-align: right;\n",
              "    }\n",
              "</style>\n",
              "<table border=\"1\" class=\"dataframe\">\n",
              "  <thead>\n",
              "    <tr style=\"text-align: right;\">\n",
              "      <th></th>\n",
              "      <th>No</th>\n",
              "      <th>year</th>\n",
              "      <th>month</th>\n",
              "      <th>day</th>\n",
              "      <th>hour</th>\n",
              "      <th>pm2.5</th>\n",
              "      <th>DEWP</th>\n",
              "      <th>TEMP</th>\n",
              "      <th>PRES</th>\n",
              "      <th>cbwd</th>\n",
              "      <th>Iws</th>\n",
              "      <th>Is</th>\n",
              "      <th>Ir</th>\n",
              "    </tr>\n",
              "  </thead>\n",
              "  <tbody>\n",
              "    <tr>\n",
              "      <th>0</th>\n",
              "      <td>1</td>\n",
              "      <td>2010</td>\n",
              "      <td>1</td>\n",
              "      <td>1</td>\n",
              "      <td>0</td>\n",
              "      <td>NaN</td>\n",
              "      <td>-21</td>\n",
              "      <td>-11.0</td>\n",
              "      <td>1021.0</td>\n",
              "      <td>NW</td>\n",
              "      <td>1.79</td>\n",
              "      <td>0</td>\n",
              "      <td>0</td>\n",
              "    </tr>\n",
              "    <tr>\n",
              "      <th>1</th>\n",
              "      <td>2</td>\n",
              "      <td>2010</td>\n",
              "      <td>1</td>\n",
              "      <td>1</td>\n",
              "      <td>1</td>\n",
              "      <td>NaN</td>\n",
              "      <td>-21</td>\n",
              "      <td>-12.0</td>\n",
              "      <td>1020.0</td>\n",
              "      <td>NW</td>\n",
              "      <td>4.92</td>\n",
              "      <td>0</td>\n",
              "      <td>0</td>\n",
              "    </tr>\n",
              "    <tr>\n",
              "      <th>2</th>\n",
              "      <td>3</td>\n",
              "      <td>2010</td>\n",
              "      <td>1</td>\n",
              "      <td>1</td>\n",
              "      <td>2</td>\n",
              "      <td>NaN</td>\n",
              "      <td>-21</td>\n",
              "      <td>-11.0</td>\n",
              "      <td>1019.0</td>\n",
              "      <td>NW</td>\n",
              "      <td>6.71</td>\n",
              "      <td>0</td>\n",
              "      <td>0</td>\n",
              "    </tr>\n",
              "    <tr>\n",
              "      <th>3</th>\n",
              "      <td>4</td>\n",
              "      <td>2010</td>\n",
              "      <td>1</td>\n",
              "      <td>1</td>\n",
              "      <td>3</td>\n",
              "      <td>NaN</td>\n",
              "      <td>-21</td>\n",
              "      <td>-14.0</td>\n",
              "      <td>1019.0</td>\n",
              "      <td>NW</td>\n",
              "      <td>9.84</td>\n",
              "      <td>0</td>\n",
              "      <td>0</td>\n",
              "    </tr>\n",
              "    <tr>\n",
              "      <th>4</th>\n",
              "      <td>5</td>\n",
              "      <td>2010</td>\n",
              "      <td>1</td>\n",
              "      <td>1</td>\n",
              "      <td>4</td>\n",
              "      <td>NaN</td>\n",
              "      <td>-20</td>\n",
              "      <td>-12.0</td>\n",
              "      <td>1018.0</td>\n",
              "      <td>NW</td>\n",
              "      <td>12.97</td>\n",
              "      <td>0</td>\n",
              "      <td>0</td>\n",
              "    </tr>\n",
              "  </tbody>\n",
              "</table>\n",
              "</div>"
            ],
            "text/plain": [
              "   No  year  month  day  hour  pm2.5  DEWP  TEMP    PRES cbwd    Iws  Is  Ir\n",
              "0   1  2010      1    1     0    NaN   -21 -11.0  1021.0   NW   1.79   0   0\n",
              "1   2  2010      1    1     1    NaN   -21 -12.0  1020.0   NW   4.92   0   0\n",
              "2   3  2010      1    1     2    NaN   -21 -11.0  1019.0   NW   6.71   0   0\n",
              "3   4  2010      1    1     3    NaN   -21 -14.0  1019.0   NW   9.84   0   0\n",
              "4   5  2010      1    1     4    NaN   -20 -12.0  1018.0   NW  12.97   0   0"
            ]
          },
          "metadata": {
            "tags": []
          },
          "execution_count": 17
        }
      ]
    },
    {
      "cell_type": "markdown",
      "metadata": {
        "id": "pbessbNNYmhZ",
        "colab_type": "text"
      },
      "source": [
        "Next, we'll replace empty data with 'median value'."
      ]
    },
    {
      "cell_type": "code",
      "metadata": {
        "id": "_cxnhXsGYSeC",
        "colab_type": "code",
        "outputId": "f97088d8-4a26-40a4-ccf9-6872670c7d9f",
        "colab": {
          "base_uri": "https://localhost:8080/",
          "height": 35
        }
      },
      "source": [
        "from sklearn.impute import SimpleImputer\n",
        "imputer = SimpleImputer(strategy=\"median\")\n",
        "median = pm25[\"pm2.5\"].median()\n",
        "median"
      ],
      "execution_count": 0,
      "outputs": [
        {
          "output_type": "execute_result",
          "data": {
            "text/plain": [
              "72.0"
            ]
          },
          "metadata": {
            "tags": []
          },
          "execution_count": 18
        }
      ]
    },
    {
      "cell_type": "code",
      "metadata": {
        "id": "YQFw9yw7l8DB",
        "colab_type": "code",
        "colab": {}
      },
      "source": [
        "pm25[\"pm2.5\"].fillna(median, inplace=True)"
      ],
      "execution_count": 0,
      "outputs": []
    },
    {
      "cell_type": "code",
      "metadata": {
        "id": "CZEMdawC8DEo",
        "colab_type": "code",
        "colab": {}
      },
      "source": [
        "# For illustration only. Sklearn has train_test_split()\n",
        "def split_train_test(data, test_ratio):\n",
        "    shuffled_indices = np.random.permutation(len(data))\n",
        "    test_set_size = int(len(data) * test_ratio)\n",
        "    test_indices = shuffled_indices[:test_set_size]\n",
        "    train_indices = shuffled_indices[test_set_size:]\n",
        "    return data.iloc[train_indices], data.iloc[test_indices]"
      ],
      "execution_count": 0,
      "outputs": []
    },
    {
      "cell_type": "code",
      "metadata": {
        "id": "tJ2aItj38Gey",
        "colab_type": "code",
        "outputId": "cfe61575-12e6-4feb-e332-6a5818e80a2c",
        "colab": {
          "base_uri": "https://localhost:8080/",
          "height": 35
        }
      },
      "source": [
        "train_set, test_set = split_train_test(pm25, 0.2)\n",
        "len(train_set)"
      ],
      "execution_count": 0,
      "outputs": [
        {
          "output_type": "execute_result",
          "data": {
            "text/plain": [
              "35060"
            ]
          },
          "metadata": {
            "tags": []
          },
          "execution_count": 21
        }
      ]
    },
    {
      "cell_type": "code",
      "metadata": {
        "id": "7fF8Wudq8K0E",
        "colab_type": "code",
        "outputId": "eb74b4da-96c1-4aff-de4e-50f82af6c2a1",
        "colab": {
          "base_uri": "https://localhost:8080/",
          "height": 35
        }
      },
      "source": [
        "len(test_set)"
      ],
      "execution_count": 0,
      "outputs": [
        {
          "output_type": "execute_result",
          "data": {
            "text/plain": [
              "8764"
            ]
          },
          "metadata": {
            "tags": []
          },
          "execution_count": 22
        }
      ]
    },
    {
      "cell_type": "code",
      "metadata": {
        "id": "EhVHqU7G8PJI",
        "colab_type": "code",
        "colab": {}
      },
      "source": [
        "from zlib import crc32\n",
        "\n",
        "def test_set_check(identifier, test_ratio):\n",
        "    return crc32(np.int64(identifier)) & 0xffffffff < test_ratio * 2**32\n",
        "\n",
        "def split_train_test_by_id(data, test_ratio, id_column):\n",
        "    ids = data[id_column]\n",
        "    in_test_set = ids.apply(lambda id_: test_set_check(id_, test_ratio))\n",
        "    return data.loc[~in_test_set], data.loc[in_test_set]"
      ],
      "execution_count": 0,
      "outputs": []
    },
    {
      "cell_type": "code",
      "metadata": {
        "id": "gFdqcpMSoA4w",
        "colab_type": "code",
        "colab": {}
      },
      "source": [
        "from sklearn.model_selection import train_test_split\n",
        "\n",
        "train_set, test_set = train_test_split(pm25, test_size=0.2, random_state=42)"
      ],
      "execution_count": 0,
      "outputs": []
    },
    {
      "cell_type": "code",
      "metadata": {
        "id": "yHc4OSC30z7c",
        "colab_type": "code",
        "outputId": "bc134f6a-2aaa-4f5d-949e-8acca50f6b4f",
        "colab": {
          "base_uri": "https://localhost:8080/",
          "height": 231
        }
      },
      "source": [
        "pm25[\"pm2.5\"].hist(bins=50, figsize=(4,3))"
      ],
      "execution_count": 0,
      "outputs": [
        {
          "output_type": "execute_result",
          "data": {
            "text/plain": [
              "<matplotlib.axes._subplots.AxesSubplot at 0x7f5ded18b320>"
            ]
          },
          "metadata": {
            "tags": []
          },
          "execution_count": 25
        },
        {
          "output_type": "display_data",
          "data": {
            "image/png": "[encoded data removed]",
            "text/plain": [
              "<Figure size 288x216 with 1 Axes>"
            ]
          },
          "metadata": {
            "tags": []
          }
        }
      ]
    },
    {
      "cell_type": "markdown",
      "metadata": {
        "id": "W0TfBE3KmBTx",
        "colab_type": "text"
      },
      "source": [
        "We can observed that there is a abnormal peak around 70s which is the large amount of missing data replaced by the median which is 72."
      ]
    },
    {
      "cell_type": "markdown",
      "metadata": {
        "id": "7juuwD3BTYR6",
        "colab_type": "text"
      },
      "source": [
        "Set PM2.5 categorical label with AQI Category. (Reference: https://aqicn.org/faq/2013-09-09/revised-pm25-aqi-breakpoints/)\n",
        "\n",
        "*   Good: 0.0 - 12.0\n",
        "*   Moderate: 12.1 – 35.4 \n",
        "*   Unhealthy for Sensitive Groups: 35.5 – 55.4\n",
        "*   Unhealthy: 55.5 – 150.4\n",
        "*   Very Unhealthy: 150.5 – 250.4\n",
        "*   Hazardous: > 250.4\n",
        "\n",
        "\n",
        "\n"
      ]
    },
    {
      "cell_type": "code",
      "metadata": {
        "id": "gFIQ7dwZAjRV",
        "colab_type": "code",
        "colab": {}
      },
      "source": [
        "pm25[\"pm25_cat\"] = pd.cut(pm25[\"pm2.5\"],\n",
        "                               bins=[0.0, 12.1, 35.4, 55.4, 150.4, 250.4, np.inf],\n",
        "                               labels=[1, 2, 3, 4, 5, 6])"
      ],
      "execution_count": 0,
      "outputs": []
    },
    {
      "cell_type": "code",
      "metadata": {
        "id": "M13BQGmMpTgs",
        "colab_type": "code",
        "outputId": "f7696cfb-2177-42f1-94bb-f19b3b52687d",
        "colab": {
          "base_uri": "https://localhost:8080/",
          "height": 128
        }
      },
      "source": [
        "sample_incomplete_rows = pm25[pm25.isnull().any(axis=1)].head()\n",
        "sample_incomplete_rows"
      ],
      "execution_count": 0,
      "outputs": [
        {
          "output_type": "execute_result",
          "data": {
            "text/html": [
              "<div>\n",
              "<style scoped>\n",
              "    .dataframe tbody tr th:only-of-type {\n",
              "        vertical-align: middle;\n",
              "    }\n",
              "\n",
              "    .dataframe tbody tr th {\n",
              "        vertical-align: top;\n",
              "    }\n",
              "\n",
              "    .dataframe thead th {\n",
              "        text-align: right;\n",
              "    }\n",
              "</style>\n",
              "<table border=\"1\" class=\"dataframe\">\n",
              "  <thead>\n",
              "    <tr style=\"text-align: right;\">\n",
              "      <th></th>\n",
              "      <th>No</th>\n",
              "      <th>year</th>\n",
              "      <th>month</th>\n",
              "      <th>day</th>\n",
              "      <th>hour</th>\n",
              "      <th>pm2.5</th>\n",
              "      <th>DEWP</th>\n",
              "      <th>TEMP</th>\n",
              "      <th>PRES</th>\n",
              "      <th>cbwd</th>\n",
              "      <th>Iws</th>\n",
              "      <th>Is</th>\n",
              "      <th>Ir</th>\n",
              "      <th>pm25_cat</th>\n",
              "    </tr>\n",
              "  </thead>\n",
              "  <tbody>\n",
              "    <tr>\n",
              "      <th>24034</th>\n",
              "      <td>24035</td>\n",
              "      <td>2012</td>\n",
              "      <td>9</td>\n",
              "      <td>28</td>\n",
              "      <td>10</td>\n",
              "      <td>0.0</td>\n",
              "      <td>-5</td>\n",
              "      <td>20.0</td>\n",
              "      <td>1020.0</td>\n",
              "      <td>NW</td>\n",
              "      <td>139.48</td>\n",
              "      <td>0</td>\n",
              "      <td>0</td>\n",
              "      <td>NaN</td>\n",
              "    </tr>\n",
              "    <tr>\n",
              "      <th>24039</th>\n",
              "      <td>24040</td>\n",
              "      <td>2012</td>\n",
              "      <td>9</td>\n",
              "      <td>28</td>\n",
              "      <td>15</td>\n",
              "      <td>0.0</td>\n",
              "      <td>-10</td>\n",
              "      <td>24.0</td>\n",
              "      <td>1017.0</td>\n",
              "      <td>NW</td>\n",
              "      <td>192.68</td>\n",
              "      <td>0</td>\n",
              "      <td>0</td>\n",
              "      <td>NaN</td>\n",
              "    </tr>\n",
              "  </tbody>\n",
              "</table>\n",
              "</div>"
            ],
            "text/plain": [
              "          No  year  month  day  hour  ...  cbwd     Iws  Is  Ir pm25_cat\n",
              "24034  24035  2012      9   28    10  ...    NW  139.48   0   0      NaN\n",
              "24039  24040  2012      9   28    15  ...    NW  192.68   0   0      NaN\n",
              "\n",
              "[2 rows x 14 columns]"
            ]
          },
          "metadata": {
            "tags": []
          },
          "execution_count": 27
        }
      ]
    },
    {
      "cell_type": "markdown",
      "metadata": {
        "id": "BHqn9Evmp6bQ",
        "colab_type": "text"
      },
      "source": [
        "It is unknown why pm25_cat were set to NaN when the giving value of pm2.5 is 0.0. In order to avoid further error, we manually replace these NaN with 1 correspond to the pm2.5 value."
      ]
    },
    {
      "cell_type": "code",
      "metadata": {
        "id": "fX9E3kgXpwo3",
        "colab_type": "code",
        "colab": {}
      },
      "source": [
        "pm25[\"pm25_cat\"].fillna(1, inplace=True)"
      ],
      "execution_count": 0,
      "outputs": []
    },
    {
      "cell_type": "code",
      "metadata": {
        "id": "OQlpSiclTOmS",
        "colab_type": "code",
        "outputId": "9f3f1262-baa1-463d-e83c-080363890ae4",
        "colab": {
          "base_uri": "https://localhost:8080/",
          "height": 138
        }
      },
      "source": [
        "pm25[\"pm25_cat\"].value_counts()"
      ],
      "execution_count": 0,
      "outputs": [
        {
          "output_type": "execute_result",
          "data": {
            "text/plain": [
              "4    17710\n",
              "2     8733\n",
              "5     5938\n",
              "3     5003\n",
              "1     3387\n",
              "6     3053\n",
              "Name: pm25_cat, dtype: int64"
            ]
          },
          "metadata": {
            "tags": []
          },
          "execution_count": 29
        }
      ]
    },
    {
      "cell_type": "code",
      "metadata": {
        "id": "WBEDw98BUlCM",
        "colab_type": "code",
        "outputId": "4cf138a1-8350-4a4a-f10b-8ff0b55f1a34",
        "colab": {
          "base_uri": "https://localhost:8080/",
          "height": 285
        }
      },
      "source": [
        "pm25[\"pm25_cat\"].hist()"
      ],
      "execution_count": 0,
      "outputs": [
        {
          "output_type": "execute_result",
          "data": {
            "text/plain": [
              "<matplotlib.axes._subplots.AxesSubplot at 0x7f708f549518>"
            ]
          },
          "metadata": {
            "tags": []
          },
          "execution_count": 118
        },
        {
          "output_type": "display_data",
          "data": {
            "image/png": "[encoded data removed]",
            "text/plain": [
              "<Figure size 432x288 with 1 Axes>"
            ]
          },
          "metadata": {
            "tags": []
          }
        }
      ]
    },
    {
      "cell_type": "code",
      "metadata": {
        "id": "qbSMnAs7PmoR",
        "colab_type": "code",
        "outputId": "63f36038-28d8-42ce-f0f8-ae4ea36d807e",
        "colab": {
          "base_uri": "https://localhost:8080/",
          "height": 104
        }
      },
      "source": [
        "pm25[\"pm25_cat\"].describe()"
      ],
      "execution_count": 0,
      "outputs": [
        {
          "output_type": "execute_result",
          "data": {
            "text/plain": [
              "count     43824\n",
              "unique        6\n",
              "top           4\n",
              "freq      17710\n",
              "Name: pm25_cat, dtype: int64"
            ]
          },
          "metadata": {
            "tags": []
          },
          "execution_count": 30
        }
      ]
    },
    {
      "cell_type": "code",
      "metadata": {
        "id": "tAPgQ12qlPs6",
        "colab_type": "code",
        "colab": {}
      },
      "source": [
        "from sklearn.model_selection import StratifiedShuffleSplit\n",
        "\n",
        "split = StratifiedShuffleSplit(n_splits=1, test_size=0.2, random_state=42)\n",
        "for train_index, test_index in split.split(pm25, pm25[\"pm25_cat\"]):\n",
        "    strat_train_set = pm25.loc[train_index]\n",
        "    strat_test_set = pm25.loc[test_index]"
      ],
      "execution_count": 0,
      "outputs": []
    },
    {
      "cell_type": "code",
      "metadata": {
        "id": "Bom7-Bjhhdas",
        "colab_type": "code",
        "colab": {}
      },
      "source": [
        "# pm25.drop(\"pm25_cat\", axis=1, inplace=True)"
      ],
      "execution_count": 0,
      "outputs": []
    },
    {
      "cell_type": "code",
      "metadata": {
        "id": "HEPLaahoI7L4",
        "colab_type": "code",
        "outputId": "712f5fe9-29c7-4ce4-a51d-72a6b9dae3d4",
        "colab": {
          "base_uri": "https://localhost:8080/",
          "height": 242
        }
      },
      "source": [
        "corr_matrix = pm25.corr()\n",
        "corr_matrix[\"pm2.5\"].sort_values(ascending=False)"
      ],
      "execution_count": 0,
      "outputs": [
        {
          "output_type": "execute_result",
          "data": {
            "text/plain": [
              "pm2.5    1.000000\n",
              "DEWP     0.165696\n",
              "day      0.079172\n",
              "Is       0.020192\n",
              "year    -0.005805\n",
              "No      -0.009091\n",
              "hour    -0.022435\n",
              "month   -0.024286\n",
              "PRES    -0.046337\n",
              "Ir      -0.050135\n",
              "TEMP    -0.089115\n",
              "Iws     -0.239623\n",
              "Name: pm2.5, dtype: float64"
            ]
          },
          "metadata": {
            "tags": []
          },
          "execution_count": 33
        }
      ]
    },
    {
      "cell_type": "markdown",
      "metadata": {
        "id": "HwyLTSY8Jk9A",
        "colab_type": "text"
      },
      "source": [
        "The attribute with the highest corelation is Iws(Cumulated wind speed). Second highest is DEWP (Dew Point (â„ƒ))."
      ]
    },
    {
      "cell_type": "code",
      "metadata": {
        "id": "deqbWONDPxiZ",
        "colab_type": "code",
        "outputId": "72819c8c-9727-4560-c90c-14a79468afec",
        "colab": {
          "base_uri": "https://localhost:8080/",
          "height": 622
        }
      },
      "source": [
        "# from pandas.tools.plotting import scatter_matrix # For older versions of Pandas\n",
        "from pandas.plotting import scatter_matrix\n",
        "\n",
        "attributes = [\"pm2.5\", \"Iws\", \"DEWP\"]\n",
        "scatter_matrix(pm25[attributes], figsize=(12, 8))\n",
        "save_fig(\"scatter_matrix_plot\")"
      ],
      "execution_count": 0,
      "outputs": [
        {
          "output_type": "stream",
          "text": [
            "Saving figure scatter_matrix_plot\n"
          ],
          "name": "stdout"
        },
        {
          "output_type": "display_data",
          "data": {
            "image/png": "[encoded data removed]",
            "text/plain": [
              "<Figure size 864x576 with 9 Axes>"
            ]
          },
          "metadata": {
            "tags": []
          }
        }
      ]
    },
    {
      "cell_type": "markdown",
      "metadata": {
        "id": "J7X7ysIXr8yJ",
        "colab_type": "text"
      },
      "source": [
        "# Prepare the data for Machine Learning algorithms"
      ]
    },
    {
      "cell_type": "code",
      "metadata": {
        "id": "vyHrwubzr3cf",
        "colab_type": "code",
        "colab": {}
      },
      "source": [
        "pm25 = strat_train_set.drop(\"pm2.5\", axis=1) # drop labels for training set\n",
        "pm25_labels = strat_train_set[\"pm2.5\"].copy()"
      ],
      "execution_count": 0,
      "outputs": []
    },
    {
      "cell_type": "markdown",
      "metadata": {
        "id": "bjnIDm9a0kNJ",
        "colab_type": "text"
      },
      "source": [
        "Remove the text attribute because median can only be calculated on numerical attributes:"
      ]
    },
    {
      "cell_type": "code",
      "metadata": {
        "id": "nufG9QDQ0hjm",
        "colab_type": "code",
        "colab": {}
      },
      "source": [
        "pm_num = pm25.drop(\"cbwd\", axis=1)\n",
        "# alternatively: pm_num = pm25.select_dtypes(include=[np.number])"
      ],
      "execution_count": 0,
      "outputs": []
    },
    {
      "cell_type": "code",
      "metadata": {
        "id": "8ciIb6gN1Mjs",
        "colab_type": "code",
        "outputId": "afbb77a3-4c4c-4b15-9abe-cea6cf502f9c",
        "colab": {
          "base_uri": "https://localhost:8080/",
          "height": 52
        }
      },
      "source": [
        "imputer.fit(pm_num)"
      ],
      "execution_count": 0,
      "outputs": [
        {
          "output_type": "execute_result",
          "data": {
            "text/plain": [
              "SimpleImputer(add_indicator=False, copy=True, fill_value=None,\n",
              "              missing_values=nan, strategy='median', verbose=0)"
            ]
          },
          "metadata": {
            "tags": []
          },
          "execution_count": 37
        }
      ]
    },
    {
      "cell_type": "code",
      "metadata": {
        "id": "8dt28qCCcUQ3",
        "colab_type": "code",
        "outputId": "9c608d5b-1509-48b0-ea73-20794c4405e3",
        "colab": {
          "base_uri": "https://localhost:8080/",
          "height": 48
        }
      },
      "source": [
        "sample_incomplete_rows = pm_num[pm_num.isnull().any(axis=1)].head()\n",
        "sample_incomplete_rows"
      ],
      "execution_count": 0,
      "outputs": [
        {
          "output_type": "execute_result",
          "data": {
            "text/html": [
              "<div>\n",
              "<style scoped>\n",
              "    .dataframe tbody tr th:only-of-type {\n",
              "        vertical-align: middle;\n",
              "    }\n",
              "\n",
              "    .dataframe tbody tr th {\n",
              "        vertical-align: top;\n",
              "    }\n",
              "\n",
              "    .dataframe thead th {\n",
              "        text-align: right;\n",
              "    }\n",
              "</style>\n",
              "<table border=\"1\" class=\"dataframe\">\n",
              "  <thead>\n",
              "    <tr style=\"text-align: right;\">\n",
              "      <th></th>\n",
              "      <th>No</th>\n",
              "      <th>year</th>\n",
              "      <th>month</th>\n",
              "      <th>day</th>\n",
              "      <th>hour</th>\n",
              "      <th>DEWP</th>\n",
              "      <th>TEMP</th>\n",
              "      <th>PRES</th>\n",
              "      <th>Iws</th>\n",
              "      <th>Is</th>\n",
              "      <th>Ir</th>\n",
              "      <th>pm25_cat</th>\n",
              "    </tr>\n",
              "  </thead>\n",
              "  <tbody>\n",
              "  </tbody>\n",
              "</table>\n",
              "</div>"
            ],
            "text/plain": [
              "Empty DataFrame\n",
              "Columns: [No, year, month, day, hour, DEWP, TEMP, PRES, Iws, Is, Ir, pm25_cat]\n",
              "Index: []"
            ]
          },
          "metadata": {
            "tags": []
          },
          "execution_count": 38
        }
      ]
    },
    {
      "cell_type": "code",
      "metadata": {
        "id": "ChlrzWqR1SK2",
        "colab_type": "code",
        "outputId": "66547f13-15b6-4555-ebae-86974d689265",
        "colab": {
          "base_uri": "https://localhost:8080/",
          "height": 69
        }
      },
      "source": [
        "imputer.statistics_"
      ],
      "execution_count": 0,
      "outputs": [
        {
          "output_type": "execute_result",
          "data": {
            "text/plain": [
              "array([2.1843e+04, 2.0120e+03, 7.0000e+00, 1.6000e+01, 1.2000e+01,\n",
              "       2.0000e+00, 1.4000e+01, 1.0160e+03, 5.3700e+00, 0.0000e+00,\n",
              "       0.0000e+00, 4.0000e+00])"
            ]
          },
          "metadata": {
            "tags": []
          },
          "execution_count": 39
        }
      ]
    },
    {
      "cell_type": "markdown",
      "metadata": {
        "id": "gMU_QnNE1VkH",
        "colab_type": "text"
      },
      "source": [
        "Check that this is the same as manually computing the median of each attribute:"
      ]
    },
    {
      "cell_type": "code",
      "metadata": {
        "id": "RL9w-aKO1YjA",
        "colab_type": "code",
        "outputId": "1a280ae7-5af6-42df-daf1-1e9103319469",
        "colab": {
          "base_uri": "https://localhost:8080/",
          "height": 69
        }
      },
      "source": [
        "pm_num.median().values"
      ],
      "execution_count": 0,
      "outputs": [
        {
          "output_type": "execute_result",
          "data": {
            "text/plain": [
              "array([2.1843e+04, 2.0120e+03, 7.0000e+00, 1.6000e+01, 1.2000e+01,\n",
              "       2.0000e+00, 1.4000e+01, 1.0160e+03, 5.3700e+00, 0.0000e+00,\n",
              "       0.0000e+00, 4.0000e+00])"
            ]
          },
          "metadata": {
            "tags": []
          },
          "execution_count": 40
        }
      ]
    },
    {
      "cell_type": "markdown",
      "metadata": {
        "id": "pyDdiLQa1gQp",
        "colab_type": "text"
      },
      "source": [
        "Transform the training set:"
      ]
    },
    {
      "cell_type": "code",
      "metadata": {
        "id": "K07jdLQ81jV-",
        "colab_type": "code",
        "colab": {}
      },
      "source": [
        "X = imputer.transform(pm_num)"
      ],
      "execution_count": 0,
      "outputs": []
    },
    {
      "cell_type": "code",
      "metadata": {
        "id": "6zRA2jGZ1n1t",
        "colab_type": "code",
        "colab": {}
      },
      "source": [
        "pm_tr = pd.DataFrame(X, columns=pm_num.columns,\n",
        "                          index=pm25.index)"
      ],
      "execution_count": 0,
      "outputs": []
    },
    {
      "cell_type": "code",
      "metadata": {
        "id": "wE1UOLwe12mQ",
        "colab_type": "code",
        "outputId": "4cb0f5d5-0dc2-4bdd-9a85-30a6ca9f5d08",
        "colab": {
          "base_uri": "https://localhost:8080/",
          "height": 35
        }
      },
      "source": [
        "imputer.strategy"
      ],
      "execution_count": 0,
      "outputs": [
        {
          "output_type": "execute_result",
          "data": {
            "text/plain": [
              "'median'"
            ]
          },
          "metadata": {
            "tags": []
          },
          "execution_count": 43
        }
      ]
    },
    {
      "cell_type": "code",
      "metadata": {
        "id": "7QSXX2Ob149K",
        "colab_type": "code",
        "colab": {}
      },
      "source": [
        "pm_tr = pd.DataFrame(X, columns=pm_num.columns,\n",
        "                          index=pm_num.index)"
      ],
      "execution_count": 0,
      "outputs": []
    },
    {
      "cell_type": "markdown",
      "metadata": {
        "id": "gx8lAK0m2Do0",
        "colab_type": "text"
      },
      "source": [
        "Now let's preprocess the categorical input feature, cbwd (combined wind direction ):"
      ]
    },
    {
      "cell_type": "code",
      "metadata": {
        "id": "jJR2iwHV2YWa",
        "colab_type": "code",
        "outputId": "9951f542-c2bd-477f-d2ec-d807e54dbcf2",
        "colab": {
          "base_uri": "https://localhost:8080/",
          "height": 348
        }
      },
      "source": [
        "pm_cat = pm25[[\"cbwd\"]]\n",
        "pm_cat.head(10)"
      ],
      "execution_count": 0,
      "outputs": [
        {
          "output_type": "execute_result",
          "data": {
            "text/html": [
              "<div>\n",
              "<style scoped>\n",
              "    .dataframe tbody tr th:only-of-type {\n",
              "        vertical-align: middle;\n",
              "    }\n",
              "\n",
              "    .dataframe tbody tr th {\n",
              "        vertical-align: top;\n",
              "    }\n",
              "\n",
              "    .dataframe thead th {\n",
              "        text-align: right;\n",
              "    }\n",
              "</style>\n",
              "<table border=\"1\" class=\"dataframe\">\n",
              "  <thead>\n",
              "    <tr style=\"text-align: right;\">\n",
              "      <th></th>\n",
              "      <th>cbwd</th>\n",
              "    </tr>\n",
              "  </thead>\n",
              "  <tbody>\n",
              "    <tr>\n",
              "      <th>11426</th>\n",
              "      <td>cv</td>\n",
              "    </tr>\n",
              "    <tr>\n",
              "      <th>3209</th>\n",
              "      <td>NW</td>\n",
              "    </tr>\n",
              "    <tr>\n",
              "      <th>5601</th>\n",
              "      <td>NE</td>\n",
              "    </tr>\n",
              "    <tr>\n",
              "      <th>16541</th>\n",
              "      <td>NW</td>\n",
              "    </tr>\n",
              "    <tr>\n",
              "      <th>38421</th>\n",
              "      <td>SE</td>\n",
              "    </tr>\n",
              "    <tr>\n",
              "      <th>7637</th>\n",
              "      <td>NW</td>\n",
              "    </tr>\n",
              "    <tr>\n",
              "      <th>15799</th>\n",
              "      <td>NW</td>\n",
              "    </tr>\n",
              "    <tr>\n",
              "      <th>37157</th>\n",
              "      <td>NW</td>\n",
              "    </tr>\n",
              "    <tr>\n",
              "      <th>4509</th>\n",
              "      <td>SE</td>\n",
              "    </tr>\n",
              "    <tr>\n",
              "      <th>4391</th>\n",
              "      <td>cv</td>\n",
              "    </tr>\n",
              "  </tbody>\n",
              "</table>\n",
              "</div>"
            ],
            "text/plain": [
              "      cbwd\n",
              "11426   cv\n",
              "3209    NW\n",
              "5601    NE\n",
              "16541   NW\n",
              "38421   SE\n",
              "7637    NW\n",
              "15799   NW\n",
              "37157   NW\n",
              "4509    SE\n",
              "4391    cv"
            ]
          },
          "metadata": {
            "tags": []
          },
          "execution_count": 45
        }
      ]
    },
    {
      "cell_type": "code",
      "metadata": {
        "id": "nDlo6f3Q2iQ_",
        "colab_type": "code",
        "outputId": "5761e1bb-d64d-466b-b44f-2ceb0ed2e0b4",
        "colab": {
          "base_uri": "https://localhost:8080/",
          "height": 190
        }
      },
      "source": [
        "from sklearn.preprocessing import OrdinalEncoder\n",
        "\n",
        "ordinal_encoder = OrdinalEncoder()\n",
        "pm_cat_encoded = ordinal_encoder.fit_transform(pm_cat)\n",
        "pm_cat_encoded[:10]"
      ],
      "execution_count": 0,
      "outputs": [
        {
          "output_type": "execute_result",
          "data": {
            "text/plain": [
              "array([[3.],\n",
              "       [1.],\n",
              "       [0.],\n",
              "       [1.],\n",
              "       [2.],\n",
              "       [1.],\n",
              "       [1.],\n",
              "       [1.],\n",
              "       [2.],\n",
              "       [3.]])"
            ]
          },
          "metadata": {
            "tags": []
          },
          "execution_count": 46
        }
      ]
    },
    {
      "cell_type": "code",
      "metadata": {
        "id": "AP3YV4_n2qyI",
        "colab_type": "code",
        "outputId": "55c18873-701f-4cc1-a403-7ec22a1caa11",
        "colab": {
          "base_uri": "https://localhost:8080/",
          "height": 35
        }
      },
      "source": [
        "ordinal_encoder.categories_"
      ],
      "execution_count": 0,
      "outputs": [
        {
          "output_type": "execute_result",
          "data": {
            "text/plain": [
              "[array(['NE', 'NW', 'SE', 'cv'], dtype=object)]"
            ]
          },
          "metadata": {
            "tags": []
          },
          "execution_count": 47
        }
      ]
    },
    {
      "cell_type": "code",
      "metadata": {
        "id": "sRvtY6GZ2uN5",
        "colab_type": "code",
        "outputId": "df51e458-c7ea-4f8d-d69c-df572896f75a",
        "colab": {
          "base_uri": "https://localhost:8080/",
          "height": 52
        }
      },
      "source": [
        "from sklearn.preprocessing import OneHotEncoder\n",
        "\n",
        "cat_encoder = OneHotEncoder()\n",
        "pm_cat_1hot = cat_encoder.fit_transform(pm_cat)\n",
        "pm_cat_1hot"
      ],
      "execution_count": 0,
      "outputs": [
        {
          "output_type": "execute_result",
          "data": {
            "text/plain": [
              "<35059x4 sparse matrix of type '<class 'numpy.float64'>'\n",
              "\twith 35059 stored elements in Compressed Sparse Row format>"
            ]
          },
          "metadata": {
            "tags": []
          },
          "execution_count": 48
        }
      ]
    },
    {
      "cell_type": "markdown",
      "metadata": {
        "id": "rTja8XSM205q",
        "colab_type": "text"
      },
      "source": [
        "By default, the OneHotEncoder class returns a sparse array, but we can convert it to a dense array if needed by calling the toarray() method:"
      ]
    },
    {
      "cell_type": "code",
      "metadata": {
        "id": "CoVoV51r24Qr",
        "colab_type": "code",
        "outputId": "2df7cf07-3f4d-47ce-d74a-ce1179806763",
        "colab": {
          "base_uri": "https://localhost:8080/",
          "height": 138
        }
      },
      "source": [
        "pm_cat_1hot.toarray()"
      ],
      "execution_count": 0,
      "outputs": [
        {
          "output_type": "execute_result",
          "data": {
            "text/plain": [
              "array([[0., 0., 0., 1.],\n",
              "       [0., 1., 0., 0.],\n",
              "       [1., 0., 0., 0.],\n",
              "       ...,\n",
              "       [0., 1., 0., 0.],\n",
              "       [0., 0., 1., 0.],\n",
              "       [0., 0., 0., 1.]])"
            ]
          },
          "metadata": {
            "tags": []
          },
          "execution_count": 49
        }
      ]
    },
    {
      "cell_type": "markdown",
      "metadata": {
        "id": "VNZ0Zr_M28Tg",
        "colab_type": "text"
      },
      "source": [
        "Alternatively, you can set sparse=False when creating the OneHotEncoder:"
      ]
    },
    {
      "cell_type": "code",
      "metadata": {
        "id": "p7v0HNt02-yD",
        "colab_type": "code",
        "outputId": "9e52acc3-b023-4243-e390-85f49b796646",
        "colab": {
          "base_uri": "https://localhost:8080/",
          "height": 138
        }
      },
      "source": [
        "cat_encoder = OneHotEncoder(sparse=False)\n",
        "pm_cat_1hot = cat_encoder.fit_transform(pm_cat)\n",
        "pm_cat_1hot"
      ],
      "execution_count": 0,
      "outputs": [
        {
          "output_type": "execute_result",
          "data": {
            "text/plain": [
              "array([[0., 0., 0., 1.],\n",
              "       [0., 1., 0., 0.],\n",
              "       [1., 0., 0., 0.],\n",
              "       ...,\n",
              "       [0., 1., 0., 0.],\n",
              "       [0., 0., 1., 0.],\n",
              "       [0., 0., 0., 1.]])"
            ]
          },
          "metadata": {
            "tags": []
          },
          "execution_count": 50
        }
      ]
    },
    {
      "cell_type": "code",
      "metadata": {
        "id": "Jwh-Svpr3Gfb",
        "colab_type": "code",
        "outputId": "e85bb425-2fae-4d13-98bf-caa657a16cc8",
        "colab": {
          "base_uri": "https://localhost:8080/",
          "height": 35
        }
      },
      "source": [
        "cat_encoder.categories_"
      ],
      "execution_count": 0,
      "outputs": [
        {
          "output_type": "execute_result",
          "data": {
            "text/plain": [
              "[array(['NE', 'NW', 'SE', 'cv'], dtype=object)]"
            ]
          },
          "metadata": {
            "tags": []
          },
          "execution_count": 51
        }
      ]
    },
    {
      "cell_type": "markdown",
      "metadata": {
        "id": "epG42m8-3PD7",
        "colab_type": "text"
      },
      "source": [
        "Now let's build a pipeline for preprocessing the numerical attributes:"
      ]
    },
    {
      "cell_type": "code",
      "metadata": {
        "id": "DmZNlark3Rof",
        "colab_type": "code",
        "colab": {}
      },
      "source": [
        "from sklearn.pipeline import Pipeline\n",
        "from sklearn.preprocessing import StandardScaler\n",
        "\n",
        "num_pipeline = Pipeline([\n",
        "        ('imputer', SimpleImputer(strategy=\"median\")),\n",
        "        ('std_scaler', StandardScaler()),\n",
        "    ])\n",
        "\n",
        "pm_tr = num_pipeline.fit_transform(pm_num)"
      ],
      "execution_count": 0,
      "outputs": []
    },
    {
      "cell_type": "code",
      "metadata": {
        "id": "4rjYzESf3lCE",
        "colab_type": "code",
        "outputId": "3a8be899-03b1-4e53-ed14-af120a7dd3eb",
        "colab": {
          "base_uri": "https://localhost:8080/",
          "height": 242
        }
      },
      "source": [
        "pm_tr"
      ],
      "execution_count": 0,
      "outputs": [
        {
          "output_type": "execute_result",
          "data": {
            "text/plain": [
              "array([[-0.82537383, -0.70431538, -0.72831715, ..., -0.06925803,\n",
              "        -0.13614094,  0.35006494],\n",
              "       [-1.47507291, -1.41194091, -0.43884475, ..., -0.06925803,\n",
              "         1.31703771,  1.09532404],\n",
              "       [-1.28594304, -1.41194091,  0.42957245, ..., -0.06925803,\n",
              "        -0.13614094, -1.14045325],\n",
              "       ...,\n",
              "       [ 0.98733169,  0.71093568,  1.58746206, ..., -0.06925803,\n",
              "        -0.13614094,  0.35006494],\n",
              "       [-0.05976153,  0.00331015, -0.43884475, ..., -0.06925803,\n",
              "        -0.13614094,  0.35006494],\n",
              "       [ 0.65864736,  0.71093568, -0.14937235, ..., -0.06925803,\n",
              "        -0.13614094, -1.14045325]])"
            ]
          },
          "metadata": {
            "tags": []
          },
          "execution_count": 53
        }
      ]
    },
    {
      "cell_type": "code",
      "metadata": {
        "id": "LtsNiHtE3qPc",
        "colab_type": "code",
        "colab": {}
      },
      "source": [
        "from sklearn.compose import ColumnTransformer\n",
        "\n",
        "num_attribs = list(pm_num)\n",
        "cat_attribs = [\"cbwd\"]\n",
        "\n",
        "full_pipeline = ColumnTransformer([\n",
        "        (\"num\", num_pipeline, num_attribs),\n",
        "        (\"cat\", OneHotEncoder(), cat_attribs),\n",
        "    ])\n",
        "\n",
        "pm_prepared = full_pipeline.fit_transform(pm25)"
      ],
      "execution_count": 0,
      "outputs": []
    },
    {
      "cell_type": "code",
      "metadata": {
        "id": "bdOKiV8x3zAM",
        "colab_type": "code",
        "outputId": "0a9ff0e1-d11f-44ee-93ba-86cdbf2fc55c",
        "colab": {
          "base_uri": "https://localhost:8080/",
          "height": 35
        }
      },
      "source": [
        "pm_prepared.shape"
      ],
      "execution_count": 0,
      "outputs": [
        {
          "output_type": "execute_result",
          "data": {
            "text/plain": [
              "(35059, 16)"
            ]
          },
          "metadata": {
            "tags": []
          },
          "execution_count": 55
        }
      ]
    },
    {
      "cell_type": "markdown",
      "metadata": {
        "id": "W0Yt006nzUhZ",
        "colab_type": "text"
      },
      "source": [
        "# Train a linear model "
      ]
    },
    {
      "cell_type": "code",
      "metadata": {
        "id": "uEzMLknsqwT0",
        "colab_type": "code",
        "outputId": "b2327907-450e-4f00-f565-da275c1e13fa",
        "colab": {
          "base_uri": "https://localhost:8080/",
          "height": 35
        }
      },
      "source": [
        "from sklearn.linear_model import LinearRegression\n",
        "\n",
        "lin_reg = LinearRegression()\n",
        "lin_reg.fit(pm_prepared, pm25_labels)"
      ],
      "execution_count": 0,
      "outputs": [
        {
          "output_type": "execute_result",
          "data": {
            "text/plain": [
              "LinearRegression(copy_X=True, fit_intercept=True, n_jobs=None, normalize=False)"
            ]
          },
          "metadata": {
            "tags": []
          },
          "execution_count": 56
        }
      ]
    },
    {
      "cell_type": "code",
      "metadata": {
        "id": "UbN-3B8_NaKz",
        "colab_type": "code",
        "outputId": "31a70db0-601a-4ab2-fa9d-bb35caa7363c",
        "colab": {
          "base_uri": "https://localhost:8080/",
          "height": 35
        }
      },
      "source": [
        "# let's try the full preprocessing pipeline on a few training instances\n",
        "some_data = pm25.iloc[:5]\n",
        "some_labels = pm25_labels.iloc[:5]\n",
        "some_data_prepared = full_pipeline.transform(some_data)\n",
        "\n",
        "print(\"Predictions:\", lin_reg.predict(some_data_prepared))"
      ],
      "execution_count": 0,
      "outputs": [
        {
          "output_type": "stream",
          "text": [
            "Predictions: [118.42085187 177.56737468   2.8482692  136.30694225 114.97061627]\n"
          ],
          "name": "stdout"
        }
      ]
    },
    {
      "cell_type": "markdown",
      "metadata": {
        "id": "PdCC3xhMsiiC",
        "colab_type": "text"
      },
      "source": [
        "Compare against the actual values:"
      ]
    },
    {
      "cell_type": "code",
      "metadata": {
        "id": "6P9Xy5-yslC-",
        "colab_type": "code",
        "outputId": "a778e5e0-ae89-4af9-f5c7-4126785eaef3",
        "colab": {
          "base_uri": "https://localhost:8080/",
          "height": 35
        }
      },
      "source": [
        "print(\"Labels:\", list(some_labels))"
      ],
      "execution_count": 0,
      "outputs": [
        {
          "output_type": "stream",
          "text": [
            "Labels: [72.0, 158.0, 32.0, 102.0, 121.0]\n"
          ],
          "name": "stdout"
        }
      ]
    },
    {
      "cell_type": "code",
      "metadata": {
        "id": "IyLSrGwIstwc",
        "colab_type": "code",
        "outputId": "f851ad9a-f581-4834-e047-a2bf3ffa3baa",
        "colab": {
          "base_uri": "https://localhost:8080/",
          "height": 363
        }
      },
      "source": [
        "some_data_prepared"
      ],
      "execution_count": 0,
      "outputs": [
        {
          "output_type": "execute_result",
          "data": {
            "text/plain": [
              "array([[-0.82537383, -0.70431538, -0.72831715,  0.71329103, -1.37220151,\n",
              "         0.22769671, -0.44246827,  0.24230326, -0.43479092, -0.06925803,\n",
              "        -0.13614094,  0.35006494,  0.        ,  0.        ,  0.        ,\n",
              "         1.        ],\n",
              "       [-1.47507291, -1.41194091, -0.43884475, -0.19539513,  0.79398694,\n",
              "         0.57408002,  0.70712854, -0.34232622, -0.41688471, -0.06925803,\n",
              "         1.31703771,  1.09532404,  0.        ,  1.        ,  0.        ,\n",
              "         0.        ],\n",
              "       [-1.28594304, -1.41194091,  0.42957245,  0.71329103, -0.36131357,\n",
              "         1.05901666,  0.87135666, -0.24488798, -0.34565776, -0.06925803,\n",
              "        -0.13614094, -1.14045325,  1.        ,  0.        ,  0.        ,\n",
              "         0.        ],\n",
              "       [-0.42094267, -0.70431538,  1.29798966,  0.59970526, -0.93896382,\n",
              "        -0.53434657, -1.34572292,  1.41156222, -0.31004429, -0.06925803,\n",
              "        -0.13614094,  0.35006494,  0.        ,  1.        ,  0.        ,\n",
              "         0.        ],\n",
              "       [ 1.30905806,  1.41856121, -0.43884475,  0.48611949,  1.37163719,\n",
              "         0.78191001,  0.87135666, -1.1218322 , -0.0432417 , -0.06925803,\n",
              "        -0.13614094,  0.35006494,  0.        ,  0.        ,  1.        ,\n",
              "         0.        ]])"
            ]
          },
          "metadata": {
            "tags": []
          },
          "execution_count": 59
        }
      ]
    },
    {
      "cell_type": "code",
      "metadata": {
        "id": "-pXvMcVLswxu",
        "colab_type": "code",
        "outputId": "fdde08c0-b3a5-48a1-82a0-8cb14642e817",
        "colab": {
          "base_uri": "https://localhost:8080/",
          "height": 35
        }
      },
      "source": [
        "from sklearn.metrics import mean_squared_error\n",
        "pm25_predictions = lin_reg.predict(pm_prepared)\n",
        "lin_mse = mean_squared_error(pm25_labels, pm25_predictions)\n",
        "lin_rmse = np.sqrt(lin_mse)\n",
        "lin_rmse"
      ],
      "execution_count": 0,
      "outputs": [
        {
          "output_type": "execute_result",
          "data": {
            "text/plain": [
              "46.12552122058084"
            ]
          },
          "metadata": {
            "tags": []
          },
          "execution_count": 60
        }
      ]
    },
    {
      "cell_type": "code",
      "metadata": {
        "id": "R4zrGtrKtARr",
        "colab_type": "code",
        "outputId": "a44ab215-0324-40f8-f6cb-5b2966628a0b",
        "colab": {
          "base_uri": "https://localhost:8080/",
          "height": 35
        }
      },
      "source": [
        "from sklearn.metrics import mean_absolute_error\n",
        "\n",
        "lin_mae = mean_absolute_error(pm25_labels, pm25_predictions)\n",
        "lin_mae"
      ],
      "execution_count": 0,
      "outputs": [
        {
          "output_type": "execute_result",
          "data": {
            "text/plain": [
              "32.495076095689946"
            ]
          },
          "metadata": {
            "tags": []
          },
          "execution_count": 61
        }
      ]
    },
    {
      "cell_type": "code",
      "metadata": {
        "id": "JyUqq2qltGSf",
        "colab_type": "code",
        "outputId": "88259c55-e024-4eb9-cd7a-c255c9a803a5",
        "colab": {
          "base_uri": "https://localhost:8080/",
          "height": 121
        }
      },
      "source": [
        "from sklearn.tree import DecisionTreeRegressor\n",
        "\n",
        "tree_reg = DecisionTreeRegressor(random_state=42)\n",
        "tree_reg.fit(pm_prepared, pm25_labels)"
      ],
      "execution_count": 0,
      "outputs": [
        {
          "output_type": "execute_result",
          "data": {
            "text/plain": [
              "DecisionTreeRegressor(ccp_alpha=0.0, criterion='mse', max_depth=None,\n",
              "                      max_features=None, max_leaf_nodes=None,\n",
              "                      min_impurity_decrease=0.0, min_impurity_split=None,\n",
              "                      min_samples_leaf=1, min_samples_split=2,\n",
              "                      min_weight_fraction_leaf=0.0, presort='deprecated',\n",
              "                      random_state=42, splitter='best')"
            ]
          },
          "metadata": {
            "tags": []
          },
          "execution_count": 62
        }
      ]
    },
    {
      "cell_type": "code",
      "metadata": {
        "id": "E1PSbkpXtL5i",
        "colab_type": "code",
        "outputId": "6bcd17b0-125a-4aa2-b454-3c75876373d4",
        "colab": {
          "base_uri": "https://localhost:8080/",
          "height": 35
        }
      },
      "source": [
        "housing_predictions = tree_reg.predict(pm_prepared)\n",
        "tree_mse = mean_squared_error(pm25_labels, pm25_predictions)\n",
        "tree_rmse = np.sqrt(tree_mse)\n",
        "tree_rmse"
      ],
      "execution_count": 0,
      "outputs": [
        {
          "output_type": "execute_result",
          "data": {
            "text/plain": [
              "46.12552122058084"
            ]
          },
          "metadata": {
            "tags": []
          },
          "execution_count": 65
        }
      ]
    },
    {
      "cell_type": "markdown",
      "metadata": {
        "id": "13P3FyK2nOBG",
        "colab_type": "text"
      },
      "source": [
        "K-cross validation for lin_reg with k=10"
      ]
    },
    {
      "cell_type": "code",
      "metadata": {
        "id": "-nWSrFISnLsP",
        "colab_type": "code",
        "outputId": "4f00c5cc-1fce-4650-df81-d58849159b18",
        "colab": {
          "base_uri": "https://localhost:8080/",
          "height": 173
        }
      },
      "source": [
        "from sklearn.model_selection import cross_val_score\n",
        "scores = cross_val_score(lin_reg, pm_prepared, pm25_labels, scoring=\"neg_mean_squared_error\", cv=10)\n",
        "pd.Series(np.sqrt(-scores)).describe()"
      ],
      "execution_count": 0,
      "outputs": [
        {
          "output_type": "execute_result",
          "data": {
            "text/plain": [
              "count    10.000000\n",
              "mean     46.098350\n",
              "std       2.303943\n",
              "min      42.295986\n",
              "25%      44.688807\n",
              "50%      46.521171\n",
              "75%      46.701266\n",
              "max      51.061303\n",
              "dtype: float64"
            ]
          },
          "metadata": {
            "tags": []
          },
          "execution_count": 66
        }
      ]
    },
    {
      "cell_type": "markdown",
      "metadata": {
        "id": "9ZLlPAxUXGUQ",
        "colab_type": "text"
      },
      "source": [
        "K-cross validation for tree_reg with k=10"
      ]
    },
    {
      "cell_type": "code",
      "metadata": {
        "id": "UU2keZ5jWtGs",
        "colab_type": "code",
        "colab": {}
      },
      "source": [
        "scores = cross_val_score(tree_reg, pm_prepared, pm25_labels,\n",
        "                         scoring=\"neg_mean_squared_error\", cv=10)\n",
        "tree_rmse_scores = np.sqrt(-scores)"
      ],
      "execution_count": 0,
      "outputs": []
    },
    {
      "cell_type": "code",
      "metadata": {
        "id": "tptJbRZKXC1d",
        "colab_type": "code",
        "outputId": "d80980d6-1e96-422d-c569-59256ca73efa",
        "colab": {
          "base_uri": "https://localhost:8080/",
          "height": 84
        }
      },
      "source": [
        "def display_scores(scores):\n",
        "    print(\"Scores:\", scores)\n",
        "    print(\"Mean:\", scores.mean())\n",
        "    print(\"Standard deviation:\", scores.std())\n",
        "\n",
        "display_scores(tree_rmse_scores)"
      ],
      "execution_count": 0,
      "outputs": [
        {
          "output_type": "stream",
          "text": [
            "Scores: [27.06252927 23.02848629 23.44452495 24.21805062 28.13786753 23.95099222\n",
            " 23.63796269 24.28472485 25.97349893 23.99530387]\n",
            "Mean: 24.773394122991427\n",
            "Standard deviation: 1.610243682401645\n"
          ],
          "name": "stdout"
        }
      ]
    },
    {
      "cell_type": "code",
      "metadata": {
        "id": "Qz3PeqPAaKU5",
        "colab_type": "code",
        "outputId": "222996ec-36da-47a2-8916-7055de76f0d4",
        "colab": {
          "base_uri": "https://localhost:8080/",
          "height": 104
        }
      },
      "source": [
        "from sklearn.linear_model import LinearRegression\n",
        "\n",
        "lin_reg = LinearRegression()\n",
        "lin_reg.fit(pm_prepared, pm25_labels)\n",
        "lin_reg.intercept_, lin_reg.coef_"
      ],
      "execution_count": 0,
      "outputs": [
        {
          "output_type": "execute_result",
          "data": {
            "text/plain": [
              "(98.27627289572806,\n",
              " array([ 3.23312504e+03, -3.16446481e+03, -6.44781936e+02, -5.22992556e+01,\n",
              "        -1.50006507e-02, -3.37633498e-01, -6.97939607e+00, -3.37276850e+00,\n",
              "         1.85079043e+00, -1.18848744e+00, -6.24540858e-01,  7.86228156e+01,\n",
              "         4.18023453e+00,  6.55158981e+00, -9.23045415e+00, -1.50137018e+00]))"
            ]
          },
          "metadata": {
            "tags": []
          },
          "execution_count": 68
        }
      ]
    },
    {
      "cell_type": "markdown",
      "metadata": {
        "id": "MW1GUnJZ7doR",
        "colab_type": "text"
      },
      "source": [
        "We are unable to draw a graph here, because this linear regression has 16 independent variables."
      ]
    },
    {
      "cell_type": "code",
      "metadata": {
        "id": "dRqOF4kM6Ebg",
        "colab_type": "code",
        "colab": {}
      },
      "source": [
        "X = pm_prepared\n",
        "y = pm25_labels\n",
        "X_b = np.c_[np.ones((35059, 1)), X]  # add x0 = 1 to each instance\n",
        "theta_best = np.linalg.inv(X_b.T.dot(X_b)).dot(X_b.T).dot(y)"
      ],
      "execution_count": 0,
      "outputs": []
    },
    {
      "cell_type": "code",
      "metadata": {
        "id": "claMuyU_6YW6",
        "colab_type": "code",
        "outputId": "8050f4c5-1b16-45a7-afca-8bb01244458f",
        "colab": {
          "base_uri": "https://localhost:8080/",
          "height": 104
        }
      },
      "source": [
        "theta_best"
      ],
      "execution_count": 0,
      "outputs": [
        {
          "output_type": "execute_result",
          "data": {
            "text/plain": [
              "array([ 2.54083270e+03, -1.04682252e+07,  1.02551921e+07,  2.08942758e+06,\n",
              "        1.74569836e+05,  7.01455286e+03,  2.81146658e+03, -6.95463012e+03,\n",
              "        2.95584738e+03, -6.47764455e+02,  2.42783389e+02, -1.37690053e+02,\n",
              "       -8.82980012e+01, -2.38754309e+03, -2.08845050e+03, -2.78333148e+03,\n",
              "       -2.82032220e+03])"
            ]
          },
          "metadata": {
            "tags": []
          },
          "execution_count": 70
        }
      ]
    },
    {
      "cell_type": "markdown",
      "metadata": {
        "id": "rGDDg8tP6-0w",
        "colab_type": "text"
      },
      "source": [
        "The LinearRegression class is based on the scipy.linalg.lstsq() function (the name stands for \"least squares\"), which you could call directly:"
      ]
    },
    {
      "cell_type": "code",
      "metadata": {
        "id": "sONbr7Z-65B2",
        "colab_type": "code",
        "outputId": "01329de0-2cc1-44f6-eba9-efbedd0afabc",
        "colab": {
          "base_uri": "https://localhost:8080/",
          "height": 104
        }
      },
      "source": [
        "theta_best_svd, residuals, rank, s = np.linalg.lstsq(X_b, y, rcond=1e-6)\n",
        "theta_best_svd"
      ],
      "execution_count": 0,
      "outputs": [
        {
          "output_type": "execute_result",
          "data": {
            "text/plain": [
              "array([ 7.86210183e+01,  3.23312504e+03, -3.16446481e+03, -6.44781936e+02,\n",
              "       -5.22992556e+01, -1.50006507e-02, -3.37633498e-01, -6.97939607e+00,\n",
              "       -3.37276850e+00,  1.85079043e+00, -1.18848744e+00, -6.24540858e-01,\n",
              "        7.86228156e+01,  2.38354891e+01,  2.62068444e+01,  1.04248004e+01,\n",
              "        1.81538844e+01])"
            ]
          },
          "metadata": {
            "tags": []
          },
          "execution_count": 71
        }
      ]
    },
    {
      "cell_type": "markdown",
      "metadata": {
        "id": "qDOurtJH7KaU",
        "colab_type": "text"
      },
      "source": [
        "This function computes $\\mathbf{X}^+\\mathbf{y}$, where $\\mathbf{X}^{+}$ is the pseudoinverse of $\\mathbf{X}$ (specifically the Moore-Penrose inverse). You can use np.linalg.pinv() to compute the pseudoinverse directly:"
      ]
    },
    {
      "cell_type": "code",
      "metadata": {
        "id": "5FpFG9Ae7HPS",
        "colab_type": "code",
        "outputId": "6bc15ec6-850c-4196-81fa-c32c7bfc9e67",
        "colab": {
          "base_uri": "https://localhost:8080/",
          "height": 104
        }
      },
      "source": [
        "np.linalg.pinv(X_b).dot(y)"
      ],
      "execution_count": 0,
      "outputs": [
        {
          "output_type": "execute_result",
          "data": {
            "text/plain": [
              "array([ 7.86210183e+01,  3.23312504e+03, -3.16446481e+03, -6.44781936e+02,\n",
              "       -5.22992556e+01, -1.50006507e-02, -3.37633498e-01, -6.97939607e+00,\n",
              "       -3.37276850e+00,  1.85079043e+00, -1.18848744e+00, -6.24540858e-01,\n",
              "        7.86228156e+01,  2.38354891e+01,  2.62068444e+01,  1.04248004e+01,\n",
              "        1.81538844e+01])"
            ]
          },
          "metadata": {
            "tags": []
          },
          "execution_count": 72
        }
      ]
    },
    {
      "cell_type": "markdown",
      "metadata": {
        "id": "UUygvCTZ76pD",
        "colab_type": "text"
      },
      "source": [
        "# Linear regression using batch gradient descent"
      ]
    },
    {
      "cell_type": "markdown",
      "metadata": {
        "id": "ZVZ8xQQzngNN",
        "colab_type": "text"
      },
      "source": [
        "Normal linear regression model with BGD is unable to apply to multi-variable data set."
      ]
    },
    {
      "cell_type": "markdown",
      "metadata": {
        "id": "ARQtt18wBJ83",
        "colab_type": "text"
      },
      "source": [
        "Let's only take pm2.5 and the most corelated attribute \"Iws\" for further training and testing."
      ]
    },
    {
      "cell_type": "code",
      "metadata": {
        "id": "rFQqJkSyw3yL",
        "colab_type": "code",
        "colab": {}
      },
      "source": [
        "pm25_lws = strat_train_set[\"Iws\"].copy()"
      ],
      "execution_count": 0,
      "outputs": []
    },
    {
      "cell_type": "code",
      "metadata": {
        "id": "BiAbkqooxvk0",
        "colab_type": "code",
        "colab": {}
      },
      "source": [
        "pm25_lws = pm25_lws.values.reshape(-1,1)"
      ],
      "execution_count": 0,
      "outputs": []
    },
    {
      "cell_type": "code",
      "metadata": {
        "id": "c8PnuUjr1p55",
        "colab_type": "code",
        "colab": {}
      },
      "source": [
        "pm25_labels = pm25_labels.values.reshape(-1,1)"
      ],
      "execution_count": 0,
      "outputs": []
    },
    {
      "cell_type": "code",
      "metadata": {
        "id": "mnBWJZbK2lwb",
        "colab_type": "code",
        "outputId": "d096e035-ab2c-4379-d825-1114d22f24df",
        "colab": {
          "base_uri": "https://localhost:8080/",
          "height": 34
        }
      },
      "source": [
        "lin_reg = LinearRegression()\n",
        "lin_reg.fit(pm_prepared, pm25_labels)"
      ],
      "execution_count": 0,
      "outputs": [
        {
          "output_type": "execute_result",
          "data": {
            "text/plain": [
              "LinearRegression(copy_X=True, fit_intercept=True, n_jobs=None, normalize=False)"
            ]
          },
          "metadata": {
            "tags": []
          },
          "execution_count": 178
        }
      ]
    },
    {
      "cell_type": "markdown",
      "metadata": {
        "id": "LGZ08LA1ryh8",
        "colab_type": "text"
      },
      "source": [
        "Now, scaling the data with StandardScaler."
      ]
    },
    {
      "cell_type": "code",
      "metadata": {
        "id": "qYB8rnwYxemF",
        "colab_type": "code",
        "colab": {}
      },
      "source": [
        "pm_tr_new = num_pipeline.fit_transform(pm25_lws)"
      ],
      "execution_count": 0,
      "outputs": []
    },
    {
      "cell_type": "code",
      "metadata": {
        "id": "XcQWNqfU11WX",
        "colab_type": "code",
        "outputId": "387a23ab-787a-47f1-d494-62047cbcf077",
        "colab": {
          "base_uri": "https://localhost:8080/",
          "height": 315
        }
      },
      "source": [
        "X = pm_tr_new\n",
        "y = pm25_labels\n",
        "\n",
        "plt.plot(X, y, \"b.\")\n",
        "plt.xlabel(\"$x_1$\", fontsize=18)\n",
        "plt.ylabel(\"$y$\", rotation=0, fontsize=18)\n",
        "plt.axis([0, 12, 0, 500])\n",
        "save_fig(\"generated_data_plot\")\n",
        "plt.show()"
      ],
      "execution_count": 0,
      "outputs": [
        {
          "output_type": "stream",
          "text": [
            "Saving figure generated_data_plot\n"
          ],
          "name": "stdout"
        },
        {
          "output_type": "display_data",
          "data": {
            "image/png": "[encoded data removed]",
            "text/plain": [
              "<Figure size 432x288 with 1 Axes>"
            ]
          },
          "metadata": {
            "tags": []
          }
        }
      ]
    },
    {
      "cell_type": "markdown",
      "metadata": {
        "id": "zbcxz3KhtbhK",
        "colab_type": "text"
      },
      "source": [
        "# Linear regression using the Normal Equation"
      ]
    },
    {
      "cell_type": "code",
      "metadata": {
        "id": "lhOukrp83aRl",
        "colab_type": "code",
        "colab": {}
      },
      "source": [
        "X_b = np.c_[np.ones((35059, 1)), X]  # add x0 = 1 to each instance\n",
        "theta_best = np.linalg.inv(X_b.T.dot(X_b)).dot(X_b.T).dot(y)"
      ],
      "execution_count": 0,
      "outputs": []
    },
    {
      "cell_type": "code",
      "metadata": {
        "id": "qbqRZoZl3iVn",
        "colab_type": "code",
        "outputId": "57df6c97-78f4-4d9f-8afa-2bbb7184462a",
        "colab": {
          "base_uri": "https://localhost:8080/",
          "height": 52
        }
      },
      "source": [
        "theta_best"
      ],
      "execution_count": 0,
      "outputs": [
        {
          "output_type": "execute_result",
          "data": {
            "text/plain": [
              "array([[ 97.31261588],\n",
              "       [-21.54719087]])"
            ]
          },
          "metadata": {
            "tags": []
          },
          "execution_count": 122
        }
      ]
    },
    {
      "cell_type": "code",
      "metadata": {
        "id": "enNYamAxJ1PX",
        "colab_type": "code",
        "outputId": "a8f716b1-e12b-40ff-c4c0-3de874c4d5ea",
        "colab": {
          "base_uri": "https://localhost:8080/",
          "height": 52
        }
      },
      "source": [
        "X_new = np.array([[0], [2]])\n",
        "X_new_b = np.c_[np.ones((2, 1)), X_new]  # add x0 = 1 to each instance\n",
        "y_predict = X_new_b.dot(theta_best)\n",
        "y_predict"
      ],
      "execution_count": 0,
      "outputs": [
        {
          "output_type": "execute_result",
          "data": {
            "text/plain": [
              "array([[97.31261588],\n",
              "       [54.21823413]])"
            ]
          },
          "metadata": {
            "tags": []
          },
          "execution_count": 123
        }
      ]
    },
    {
      "cell_type": "code",
      "metadata": {
        "id": "KqqC1NH1J9mB",
        "colab_type": "code",
        "outputId": "902be537-c3e4-4250-88f9-5783c8eb26c1",
        "colab": {
          "base_uri": "https://localhost:8080/",
          "height": 491
        }
      },
      "source": [
        "plt.figure(figsize=(12,8))\n",
        "plt.plot(X_new, y_predict, \"r-\")\n",
        "plt.plot(X, y, \"b.\")\n",
        "plt.axis([0, 12, 0, 500])\n",
        "plt.show()"
      ],
      "execution_count": 0,
      "outputs": [
        {
          "output_type": "display_data",
          "data": {
            "image/png": "[encoded data removed]",
            "text/plain": [
              "<Figure size 864x576 with 1 Axes>"
            ]
          },
          "metadata": {
            "tags": []
          }
        }
      ]
    },
    {
      "cell_type": "markdown",
      "metadata": {
        "id": "BgA2VRX5oSsA",
        "colab_type": "text"
      },
      "source": [
        "We can vagurely observed the red line behind the heavy densed blut dots."
      ]
    },
    {
      "cell_type": "code",
      "metadata": {
        "id": "DuMPzoeS5Oso",
        "colab_type": "code",
        "outputId": "85f22a01-1520-402e-ced3-887398a5efe5",
        "colab": {
          "base_uri": "https://localhost:8080/",
          "height": 622
        }
      },
      "source": [
        "plt.figure(figsize=(12,8))\n",
        "plt.plot(X_new, y_predict, \"r-\", linewidth=2, label=\"Predictions\")\n",
        "plt.plot(X, y, \"b.\")\n",
        "plt.xlabel(\"$x_1$\", fontsize=18)\n",
        "plt.ylabel(\"$y$\", rotation=0, fontsize=18)\n",
        "plt.legend(loc=\"upper left\", fontsize=14)\n",
        "plt.axis([0, 12, 0, 500])\n",
        "save_fig(\"linear_model_predictions_plot\")\n",
        "plt.show()"
      ],
      "execution_count": 0,
      "outputs": [
        {
          "output_type": "stream",
          "text": [
            "Saving figure linear_model_predictions_plot\n"
          ],
          "name": "stdout"
        },
        {
          "output_type": "display_data",
          "data": {
            "image/png": "[encoded data removed]",
            "text/plain": [
              "<Figure size 864x576 with 1 Axes>"
            ]
          },
          "metadata": {
            "tags": []
          }
        }
      ]
    },
    {
      "cell_type": "markdown",
      "metadata": {
        "id": "leCMHUEA4lb5",
        "colab_type": "text"
      },
      "source": [
        "The predicted red line is severely covered by the blue dots. "
      ]
    },
    {
      "cell_type": "code",
      "metadata": {
        "id": "k142YURD4fdg",
        "colab_type": "code",
        "outputId": "7ff3ded4-5787-498b-d7fd-ba2100539124",
        "colab": {
          "base_uri": "https://localhost:8080/",
          "height": 35
        }
      },
      "source": [
        "lin_reg = LinearRegression()\n",
        "lin_reg.fit(X, y)\n",
        "lin_reg.intercept_, lin_reg.coef_"
      ],
      "execution_count": 0,
      "outputs": [
        {
          "output_type": "execute_result",
          "data": {
            "text/plain": [
              "(array([97.31261588]), array([[-21.54719087]]))"
            ]
          },
          "metadata": {
            "tags": []
          },
          "execution_count": 90
        }
      ]
    },
    {
      "cell_type": "code",
      "metadata": {
        "id": "K9gbDq9nKcp_",
        "colab_type": "code",
        "outputId": "13bc51e1-6721-4eca-c0b8-70d9db152d78",
        "colab": {
          "base_uri": "https://localhost:8080/",
          "height": 52
        }
      },
      "source": [
        "lin_reg.predict(X_new)"
      ],
      "execution_count": 0,
      "outputs": [
        {
          "output_type": "execute_result",
          "data": {
            "text/plain": [
              "array([[97.31261588],\n",
              "       [54.21823413]])"
            ]
          },
          "metadata": {
            "tags": []
          },
          "execution_count": 91
        }
      ]
    },
    {
      "cell_type": "markdown",
      "metadata": {
        "id": "omr33V_g5gsB",
        "colab_type": "text"
      },
      "source": [
        "The `LinearRegression` class is based on the `scipy.linalg.lstsq()` function (the name stands for \"least squares\"), which you could call directly:"
      ]
    },
    {
      "cell_type": "code",
      "metadata": {
        "id": "cGuhZAtK5gLI",
        "colab_type": "code",
        "outputId": "d7f5cc14-94fc-4240-c408-3d4191e46fd5",
        "colab": {
          "base_uri": "https://localhost:8080/",
          "height": 52
        }
      },
      "source": [
        "theta_best_svd, residuals, rank, s = np.linalg.lstsq(X_b, y, rcond=1e-6)\n",
        "theta_best_svd"
      ],
      "execution_count": 0,
      "outputs": [
        {
          "output_type": "execute_result",
          "data": {
            "text/plain": [
              "array([[ 97.31261588],\n",
              "       [-21.54719087]])"
            ]
          },
          "metadata": {
            "tags": []
          },
          "execution_count": 92
        }
      ]
    },
    {
      "cell_type": "markdown",
      "metadata": {
        "id": "YxgiSEDV5k0o",
        "colab_type": "text"
      },
      "source": [
        "This function computes $\\mathbf{X}^+\\mathbf{y}$, where $\\mathbf{X}^{+}$ is the _pseudoinverse_ of $\\mathbf{X}$ (specifically the Moore-Penrose inverse). You can use `np.linalg.pinv()` to compute the pseudoinverse directly:"
      ]
    },
    {
      "cell_type": "code",
      "metadata": {
        "id": "qTG3EWVT5oVM",
        "colab_type": "code",
        "outputId": "043753da-0851-45f5-cce8-df3fafce7cb2",
        "colab": {
          "base_uri": "https://localhost:8080/",
          "height": 52
        }
      },
      "source": [
        "np.linalg.pinv(X_b).dot(y)"
      ],
      "execution_count": 0,
      "outputs": [
        {
          "output_type": "execute_result",
          "data": {
            "text/plain": [
              "array([[ 97.31261588],\n",
              "       [-21.54719087]])"
            ]
          },
          "metadata": {
            "tags": []
          },
          "execution_count": 93
        }
      ]
    },
    {
      "cell_type": "markdown",
      "metadata": {
        "id": "9MZgAJZ0AHZe",
        "colab_type": "text"
      },
      "source": [
        "# Linear regression using batch gradient descent"
      ]
    },
    {
      "cell_type": "code",
      "metadata": {
        "id": "kIX4aMvv8CC4",
        "colab_type": "code",
        "colab": {}
      },
      "source": [
        "eta = 0.01  # learning rate\n",
        "n_iterations = 6000\n",
        "m = 35059\n",
        "\n",
        "theta = np.random.randn(2,1)  # random initialization\n",
        "\n",
        "for iteration in range(n_iterations):\n",
        "    gradients = 2/m * X_b.T.dot(X_b.dot(theta) - y)\n",
        "    theta = theta - eta * gradients"
      ],
      "execution_count": 0,
      "outputs": []
    },
    {
      "cell_type": "code",
      "metadata": {
        "id": "hEww4tX18FVe",
        "colab_type": "code",
        "outputId": "ac61a83d-b7d4-4a2b-fb56-2b055347242d",
        "colab": {
          "base_uri": "https://localhost:8080/",
          "height": 52
        }
      },
      "source": [
        "theta"
      ],
      "execution_count": 0,
      "outputs": [
        {
          "output_type": "execute_result",
          "data": {
            "text/plain": [
              "array([[ 97.31261588],\n",
              "       [-21.54719087]])"
            ]
          },
          "metadata": {
            "tags": []
          },
          "execution_count": 95
        }
      ]
    },
    {
      "cell_type": "markdown",
      "metadata": {
        "id": "dWR_k-XItrky",
        "colab_type": "text"
      },
      "source": [
        "Exactly the same with Normal Equation."
      ]
    },
    {
      "cell_type": "code",
      "metadata": {
        "id": "E77XeCrqKmId",
        "colab_type": "code",
        "outputId": "e3a9a5d2-9fbc-4c89-db06-d6497640e0cd",
        "colab": {
          "base_uri": "https://localhost:8080/",
          "height": 52
        }
      },
      "source": [
        "X_new_b.dot(theta)"
      ],
      "execution_count": 0,
      "outputs": [
        {
          "output_type": "execute_result",
          "data": {
            "text/plain": [
              "array([[97.31261588],\n",
              "       [54.21823413]])"
            ]
          },
          "metadata": {
            "tags": []
          },
          "execution_count": 96
        }
      ]
    },
    {
      "cell_type": "code",
      "metadata": {
        "id": "lV65Ikcp8EHq",
        "colab_type": "code",
        "colab": {}
      },
      "source": [
        "theta_path_bgd = []\n",
        "\n",
        "def plot_gradient_descent(theta, eta, theta_path=None):\n",
        "    m = len(X_b)\n",
        "    plt.plot(X, y, \"b.\")\n",
        "    n_iterations = 5000\n",
        "    for iteration in range(n_iterations):\n",
        "        if iteration < 10:\n",
        "            y_predict = X_new_b.dot(theta)\n",
        "            style = \"y-\" if iteration > 0 else \"r--\"\n",
        "            plt.plot(X_new, y_predict, style)\n",
        "        gradients = 2/m * X_b.T.dot(X_b.dot(theta) - y)\n",
        "        theta = theta - eta * gradients\n",
        "        if theta_path is not None:\n",
        "            theta_path.append(theta)\n",
        "    plt.xlabel(\"$x_1$\", fontsize=18)\n",
        "    plt.axis([0, 12, 0, 500])\n",
        "    plt.title(r\"$\\eta = {}$\".format(eta), fontsize=16)"
      ],
      "execution_count": 0,
      "outputs": []
    },
    {
      "cell_type": "code",
      "metadata": {
        "id": "Vcjd82sg8LKT",
        "colab_type": "code",
        "outputId": "00c22be8-9195-4ce8-923f-7a9e2b67aafb",
        "colab": {
          "base_uri": "https://localhost:8080/",
          "height": 478
        }
      },
      "source": [
        "np.random.seed(42)\n",
        "theta = np.random.randn(2,1)  # random initialization\n",
        "\n",
        "plt.figure(figsize=(12,6))\n",
        "plt.subplot(131); plot_gradient_descent(theta, eta=0.01)\n",
        "plt.ylabel(\"$y$\", rotation=0, fontsize=18)\n",
        "plt.subplot(132); plot_gradient_descent(theta, eta=0.1, theta_path=theta_path_bgd)\n",
        "plt.subplot(133); plot_gradient_descent(theta, eta=1.0)\n",
        "\n",
        "save_fig(\"gradient_descent_plot\")\n",
        "plt.show()"
      ],
      "execution_count": 0,
      "outputs": [
        {
          "output_type": "stream",
          "text": [
            "Saving figure gradient_descent_plot\n"
          ],
          "name": "stdout"
        },
        {
          "output_type": "display_data",
          "data": {
            "image/png": "[encoded data removed]",
            "text/plain": [
              "<Figure size 864x432 with 3 Axes>"
            ]
          },
          "metadata": {
            "tags": []
          }
        }
      ]
    },
    {
      "cell_type": "markdown",
      "metadata": {
        "id": "mYsymNztpEYF",
        "colab_type": "text"
      },
      "source": [
        "From the plots above we can observed that eta=0.1 is good approach while eta=1.0 deviated a lot and eta=0.01 exhausted too many trials."
      ]
    },
    {
      "cell_type": "markdown",
      "metadata": {
        "id": "khXKw-uK9VoB",
        "colab_type": "text"
      },
      "source": [
        "# Let's see how does Stochastic Gradient Descent work?"
      ]
    },
    {
      "cell_type": "code",
      "metadata": {
        "id": "9n4fpATH9ar-",
        "colab_type": "code",
        "colab": {}
      },
      "source": [
        "theta_path_sgd = []\n",
        "m = len(X_b)\n",
        "np.random.seed(42)"
      ],
      "execution_count": 0,
      "outputs": []
    },
    {
      "cell_type": "code",
      "metadata": {
        "id": "7JQ-0KSj9fY4",
        "colab_type": "code",
        "outputId": "1921e6ea-4394-4213-8e54-3ca4cdb5fcb4",
        "colab": {
          "base_uri": "https://localhost:8080/",
          "height": 622
        }
      },
      "source": [
        "n_epochs = 50\n",
        "t0, t1 = 5, 50  # learning schedule hyperparameters\n",
        "\n",
        "def learning_schedule(t):\n",
        "    return t0 / (t + t1)\n",
        "\n",
        "theta = np.random.randn(2,1)  # random initialization\n",
        "plt.figure(figsize=(12,8))\n",
        "for epoch in range(n_epochs):\n",
        "    for i in range(m):\n",
        "        if epoch == 0 and i < 20:                    # not shown in the book\n",
        "            y_predict = X_new_b.dot(theta)           # not shown\n",
        "            style = \"y-\" if i > 0 else \"r--\"         # not shown\n",
        "            plt.plot(X_new, y_predict, style)        # not shown\n",
        "        random_index = np.random.randint(m)\n",
        "        xi = X_b[random_index:random_index+1]\n",
        "        yi = y[random_index:random_index+1]\n",
        "        gradients = 2 * xi.T.dot(xi.dot(theta) - yi)\n",
        "        eta = learning_schedule(epoch * m + i)\n",
        "        theta = theta - eta * gradients\n",
        "        theta_path_sgd.append(theta)                 # not shown\n",
        "\n",
        "\n",
        "plt.plot(X, y, \"b.\")                                 # not shown\n",
        "plt.xlabel(\"$x_1$\", fontsize=18)                     # not shown\n",
        "plt.ylabel(\"$y$\", rotation=0, fontsize=18)           # not shown\n",
        "plt.axis([0, 12, 0, 500])                            # not shown\n",
        "save_fig(\"sgd_plot\")                                 # not shown\n",
        "plt.show()                                           # not shown"
      ],
      "execution_count": 0,
      "outputs": [
        {
          "output_type": "stream",
          "text": [
            "Saving figure sgd_plot\n"
          ],
          "name": "stdout"
        },
        {
          "output_type": "display_data",
          "data": {
            "image/png": "[encoded data removed]",
            "text/plain": [
              "<Figure size 864x576 with 1 Axes>"
            ]
          },
          "metadata": {
            "tags": []
          }
        }
      ]
    },
    {
      "cell_type": "markdown",
      "metadata": {
        "id": "5PBSVUMr--iR",
        "colab_type": "text"
      },
      "source": [
        "It tooks a little while, but it worked.Unfortunately, the prediction line can barely see with the highly densed blut dots."
      ]
    },
    {
      "cell_type": "code",
      "metadata": {
        "id": "QAOGmuCs9rnR",
        "colab_type": "code",
        "outputId": "cdb46645-1fc6-428a-8437-7eff291a5285",
        "colab": {
          "base_uri": "https://localhost:8080/",
          "height": 52
        }
      },
      "source": [
        "theta"
      ],
      "execution_count": 0,
      "outputs": [
        {
          "output_type": "execute_result",
          "data": {
            "text/plain": [
              "array([[ 97.54925455],\n",
              "       [-21.55643425]])"
            ]
          },
          "metadata": {
            "tags": []
          },
          "execution_count": 104
        }
      ]
    },
    {
      "cell_type": "code",
      "metadata": {
        "id": "wv3hzd0m-7Mi",
        "colab_type": "code",
        "outputId": "1e44c3f9-5237-4ed6-c26d-2c561c69c8cf",
        "colab": {
          "base_uri": "https://localhost:8080/",
          "height": 121
        }
      },
      "source": [
        "from sklearn.linear_model import SGDRegressor\n",
        "sgd_reg = SGDRegressor(max_iter=1000, tol=1e-3, penalty=None, eta0=0.1, random_state=42)\n",
        "sgd_reg.fit(X, y.ravel())"
      ],
      "execution_count": 0,
      "outputs": [
        {
          "output_type": "execute_result",
          "data": {
            "text/plain": [
              "SGDRegressor(alpha=0.0001, average=False, early_stopping=False, epsilon=0.1,\n",
              "             eta0=0.1, fit_intercept=True, l1_ratio=0.15,\n",
              "             learning_rate='invscaling', loss='squared_loss', max_iter=1000,\n",
              "             n_iter_no_change=5, penalty=None, power_t=0.25, random_state=42,\n",
              "             shuffle=True, tol=0.001, validation_fraction=0.1, verbose=0,\n",
              "             warm_start=False)"
            ]
          },
          "metadata": {
            "tags": []
          },
          "execution_count": 105
        }
      ]
    },
    {
      "cell_type": "code",
      "metadata": {
        "id": "2DRnkDah_ypM",
        "colab_type": "code",
        "outputId": "40093e98-e4bf-4bd8-9149-bd5bef75b90e",
        "colab": {
          "base_uri": "https://localhost:8080/",
          "height": 35
        }
      },
      "source": [
        "sgd_reg.intercept_, sgd_reg.coef_"
      ],
      "execution_count": 0,
      "outputs": [
        {
          "output_type": "execute_result",
          "data": {
            "text/plain": [
              "(array([96.84905879]), array([-22.71510606]))"
            ]
          },
          "metadata": {
            "tags": []
          },
          "execution_count": 106
        }
      ]
    },
    {
      "cell_type": "markdown",
      "metadata": {
        "id": "7Ag5771e_1MA",
        "colab_type": "text"
      },
      "source": [
        "Mini-batch gradient descent"
      ]
    },
    {
      "cell_type": "code",
      "metadata": {
        "id": "Euo3-MOdB1G7",
        "colab_type": "code",
        "colab": {}
      },
      "source": [
        "theta_path_mgd = []\n",
        "\n",
        "n_iterations = 50\n",
        "minibatch_size = 20\n",
        "\n",
        "np.random.seed(42)\n",
        "theta = np.random.randn(2,1)  # random initialization\n",
        "\n",
        "t0, t1 = 200, 1000\n",
        "def learning_schedule(t):\n",
        "    return t0 / (t + t1)\n",
        "\n",
        "t = 0\n",
        "for epoch in range(n_iterations):\n",
        "    shuffled_indices = np.random.permutation(m)\n",
        "    X_b_shuffled = X_b[shuffled_indices]\n",
        "    y_shuffled = y[shuffled_indices]\n",
        "    for i in range(0, m, minibatch_size):\n",
        "        t += 1\n",
        "        xi = X_b_shuffled[i:i+minibatch_size]\n",
        "        yi = y_shuffled[i:i+minibatch_size]\n",
        "        gradients = 2/minibatch_size * xi.T.dot(xi.dot(theta) - yi)\n",
        "        eta = learning_schedule(t)\n",
        "        theta = theta - eta * gradients\n",
        "        theta_path_mgd.append(theta)"
      ],
      "execution_count": 0,
      "outputs": []
    },
    {
      "cell_type": "code",
      "metadata": {
        "id": "-eBuTaQAB6sZ",
        "colab_type": "code",
        "outputId": "e0300343-0384-40f1-8e43-b0efdac3f224",
        "colab": {
          "base_uri": "https://localhost:8080/",
          "height": 52
        }
      },
      "source": [
        "theta"
      ],
      "execution_count": 0,
      "outputs": [
        {
          "output_type": "execute_result",
          "data": {
            "text/plain": [
              "array([[ 97.45738789],\n",
              "       [-21.10579827]])"
            ]
          },
          "metadata": {
            "tags": []
          },
          "execution_count": 110
        }
      ]
    },
    {
      "cell_type": "code",
      "metadata": {
        "id": "oJSTCXLjB9pa",
        "colab_type": "code",
        "colab": {}
      },
      "source": [
        "theta_path_bgd = np.array(theta_path_bgd)\n",
        "theta_path_sgd = np.array(theta_path_sgd)\n",
        "theta_path_mgd = np.array(theta_path_mgd)"
      ],
      "execution_count": 0,
      "outputs": []
    },
    {
      "cell_type": "code",
      "metadata": {
        "id": "mr6EjshWB_-r",
        "colab_type": "code",
        "outputId": "fc09b55c-6d52-4140-d5c6-fb1f65e9f5c7",
        "colab": {
          "base_uri": "https://localhost:8080/",
          "height": 386
        }
      },
      "source": [
        "plt.figure(figsize=(7,5))\n",
        "plt.plot(theta_path_sgd[:, 0], theta_path_sgd[:, 1], \"r-s\", linewidth=1, label=\"Stochastic\")\n",
        "plt.plot(theta_path_mgd[:, 0], theta_path_mgd[:, 1], \"g-+\", linewidth=2, label=\"Mini-batch\")\n",
        "plt.plot(theta_path_bgd[:, 0], theta_path_bgd[:, 1], \"b-o\", linewidth=3, label=\"Batch\")\n",
        "plt.legend(loc=\"upper left\", fontsize=16)\n",
        "plt.xlabel(r\"$\\theta_0$\", fontsize=20)\n",
        "plt.ylabel(r\"$\\theta_1$   \", fontsize=20, rotation=0)\n",
        "plt.axis([20, 160, -100, 110])\n",
        "save_fig(\"gradient_descent_paths_plot\")\n",
        "plt.show()"
      ],
      "execution_count": 0,
      "outputs": [
        {
          "output_type": "stream",
          "text": [
            "Saving figure gradient_descent_paths_plot\n"
          ],
          "name": "stdout"
        },
        {
          "output_type": "display_data",
          "data": {
            "image/png": "[encoded data removed]",
            "text/plain": [
              "<Figure size 504x360 with 1 Axes>"
            ]
          },
          "metadata": {
            "tags": []
          }
        }
      ]
    },
    {
      "cell_type": "markdown",
      "metadata": {
        "id": "EB--45xcMzRe",
        "colab_type": "text"
      },
      "source": [
        "From the plot above we can observed that:\n",
        "*  Batch approach the target directly although it takes more time\n",
        "*  SGD go all over the place because it takes random samples\n",
        "*  MBGD have more diversion than BGD because it takes sub-sets."
      ]
    },
    {
      "cell_type": "markdown",
      "metadata": {
        "id": "YGOPAKILrFDP",
        "colab_type": "text"
      },
      "source": [
        "In addition, since the sample size is not too big, even BDG didn't take much time to run, while both SGD and MBGD experienced slice level of deviance in the result compare to Normal Equation. \n",
        "\n",
        "**Therefore, for this data set, BGD with eta=0.1 is recommended. Even normal equation is quite acceptable.**"
      ]
    },
    {
      "cell_type": "markdown",
      "metadata": {
        "id": "Yf8qPP2AEgH9",
        "colab_type": "text"
      },
      "source": [
        "# Polynomial regression"
      ]
    },
    {
      "cell_type": "code",
      "metadata": {
        "id": "ra1KnvVFEkEC",
        "colab_type": "code",
        "colab": {}
      },
      "source": [
        "import numpy as np\n",
        "import numpy.random as rnd\n",
        "\n",
        "np.random.seed(42)"
      ],
      "execution_count": 0,
      "outputs": []
    },
    {
      "cell_type": "code",
      "metadata": {
        "id": "uOae0MEZGWTO",
        "colab_type": "code",
        "outputId": "49ae50cb-def1-49ff-aa20-773771f3f38a",
        "colab": {
          "base_uri": "https://localhost:8080/",
          "height": 35
        }
      },
      "source": [
        "from sklearn.preprocessing import PolynomialFeatures\n",
        "poly_features = PolynomialFeatures(degree=2, include_bias=False)\n",
        "X_poly = poly_features.fit_transform(X)\n",
        "X[0]"
      ],
      "execution_count": 0,
      "outputs": [
        {
          "output_type": "execute_result",
          "data": {
            "text/plain": [
              "array([-0.43479092])"
            ]
          },
          "metadata": {
            "tags": []
          },
          "execution_count": 158
        }
      ]
    },
    {
      "cell_type": "code",
      "metadata": {
        "id": "ieuCDRe6GlLZ",
        "colab_type": "code",
        "outputId": "2e4a300b-b087-4a18-fa9b-cbdbe2ca6448",
        "colab": {
          "base_uri": "https://localhost:8080/",
          "height": 35
        }
      },
      "source": [
        "X_poly[0]"
      ],
      "execution_count": 0,
      "outputs": [
        {
          "output_type": "execute_result",
          "data": {
            "text/plain": [
              "array([-0.43479092,  0.18904314])"
            ]
          },
          "metadata": {
            "tags": []
          },
          "execution_count": 159
        }
      ]
    },
    {
      "cell_type": "code",
      "metadata": {
        "id": "4qy6aY0hGoLd",
        "colab_type": "code",
        "outputId": "a8921f96-2b44-40e3-a113-8c5b59968edf",
        "colab": {
          "base_uri": "https://localhost:8080/",
          "height": 35
        }
      },
      "source": [
        "lin_reg = LinearRegression()\n",
        "lin_reg.fit(X_poly, y)\n",
        "lin_reg.intercept_, lin_reg.coef_"
      ],
      "execution_count": 0,
      "outputs": [
        {
          "output_type": "execute_result",
          "data": {
            "text/plain": [
              "(array([92.33724993]), array([[-42.67936221,   4.97536595]]))"
            ]
          },
          "metadata": {
            "tags": []
          },
          "execution_count": 160
        }
      ]
    },
    {
      "cell_type": "code",
      "metadata": {
        "id": "IRcN3pd5GrPd",
        "colab_type": "code",
        "outputId": "af4eca6a-8b18-46c9-898b-ba918739c72b",
        "colab": {
          "base_uri": "https://localhost:8080/",
          "height": 458
        }
      },
      "source": [
        "X_new=np.linspace(-3, 3, 100).reshape(100, 1)\n",
        "X_new_poly = poly_features.transform(X_new)\n",
        "y_new = lin_reg.predict(X_new_poly)\n",
        "plt.figure(figsize=(8,6))\n",
        "plt.plot(X, y, \"b.\")\n",
        "plt.plot(X_new, y_new, \"r-\", linewidth=2, label=\"Predictions\")\n",
        "plt.xlabel(\"$x_1$\", fontsize=18)\n",
        "plt.ylabel(\"$y$\", rotation=0, fontsize=18)\n",
        "plt.legend(loc=\"upper left\", fontsize=14)\n",
        "plt.axis([-0.6, 12, -5, 1000])\n",
        "save_fig(\"quadratic_predictions_plot\")\n",
        "plt.show()"
      ],
      "execution_count": 0,
      "outputs": [
        {
          "output_type": "stream",
          "text": [
            "Saving figure quadratic_predictions_plot\n"
          ],
          "name": "stdout"
        },
        {
          "output_type": "display_data",
          "data": {
            "image/png": "[encoded data removed]",
            "text/plain": [
              "<Figure size 576x432 with 1 Axes>"
            ]
          },
          "metadata": {
            "tags": []
          }
        }
      ]
    },
    {
      "cell_type": "code",
      "metadata": {
        "id": "5VugM92vuPsT",
        "colab_type": "code",
        "outputId": "27b58e66-d14f-467c-e113-5da2d968a278",
        "colab": {
          "base_uri": "https://localhost:8080/",
          "height": 458
        }
      },
      "source": [
        "X_new=np.linspace(-3, 3, 100).reshape(100, 1)\n",
        "X_new_poly = poly_features.transform(X_new)\n",
        "y_new = lin_reg.predict(X_new_poly)\n",
        "plt.figure(figsize=(8,6))\n",
        "plt.plot(X, y, \"b.\")\n",
        "plt.plot(X_new, y_new, \"r-\", linewidth=2, label=\"Predictions\")\n",
        "plt.xlabel(\"$x_1$\", fontsize=18)\n",
        "plt.ylabel(\"$y$\", rotation=0, fontsize=18)\n",
        "plt.legend(loc=\"upper left\", fontsize=14)\n",
        "plt.axis([-0.7, 12, -5, 1000])\n",
        "save_fig(\"quadratic_predictions_plot\")\n",
        "plt.show()"
      ],
      "execution_count": 0,
      "outputs": [
        {
          "output_type": "stream",
          "text": [
            "Saving figure quadratic_predictions_plot\n"
          ],
          "name": "stdout"
        },
        {
          "output_type": "display_data",
          "data": {
            "image/png": "[encoded data removed]",
            "text/plain": [
              "<Figure size 576x432 with 1 Axes>"
            ]
          },
          "metadata": {
            "tags": []
          }
        }
      ]
    },
    {
      "cell_type": "code",
      "metadata": {
        "id": "OJMNk7TmwHof",
        "colab_type": "code",
        "outputId": "6f348cec-6d0f-435f-e7ad-9b441cbcabf2",
        "colab": {
          "base_uri": "https://localhost:8080/",
          "height": 55
        }
      },
      "source": [
        "from scipy import stats\n",
        "stats.describe(y)"
      ],
      "execution_count": 0,
      "outputs": [
        {
          "output_type": "execute_result",
          "data": {
            "text/plain": [
              "DescribeResult(nobs=35059, minmax=(array([0.]), array([994.])), mean=array([97.31261588]), variance=array([8078.11762593]), skewness=array([1.88569543]), kurtosis=array([5.4153575]))"
            ]
          },
          "metadata": {
            "tags": []
          },
          "execution_count": 165
        }
      ]
    },
    {
      "cell_type": "code",
      "metadata": {
        "id": "9Ig97Wdov1iU",
        "colab_type": "code",
        "outputId": "7c6f04ae-045e-462b-8bf7-08269003e827",
        "colab": {
          "base_uri": "https://localhost:8080/",
          "height": 55
        }
      },
      "source": [
        "stats.describe(X)"
      ],
      "execution_count": 0,
      "outputs": [
        {
          "output_type": "execute_result",
          "data": {
            "text/plain": [
              "DescribeResult(nobs=35059, minmax=(array([-0.47020543]), array([11.17181826])), mean=array([3.14139377e-17]), variance=array([1.00002852]), skewness=array([4.24736021]), kurtosis=array([22.71214866]))"
            ]
          },
          "metadata": {
            "tags": []
          },
          "execution_count": 166
        }
      ]
    },
    {
      "cell_type": "markdown",
      "metadata": {
        "id": "iEPGf0qfwOqz",
        "colab_type": "text"
      },
      "source": [
        "Since poly = 300 causes numbers that could not be handled with float64, we use poly = 100 for the test."
      ]
    },
    {
      "cell_type": "markdown",
      "metadata": {
        "id": "cvkEeg1dxl5P",
        "colab_type": "text"
      },
      "source": [
        "Because the data dots are too densed, we separate the prediction lines for a more clear look."
      ]
    },
    {
      "cell_type": "code",
      "metadata": {
        "id": "r91BYQl-HP7b",
        "colab_type": "code",
        "outputId": "49b4a5f0-fbc4-493c-9e43-72c14e6b8c12",
        "colab": {
          "base_uri": "https://localhost:8080/",
          "height": 1000
        }
      },
      "source": [
        "from sklearn.preprocessing import StandardScaler\n",
        "from sklearn.pipeline import Pipeline\n",
        "\n",
        "for style, width, degree in ((\"g-\", 1, 100), (\"b--\", 2, 2), (\"r-+\", 2, 1)):\n",
        "    polybig_features = PolynomialFeatures(degree=degree, include_bias=False)\n",
        "    std_scaler = StandardScaler()\n",
        "    lin_reg = LinearRegression()\n",
        "    polynomial_regression = Pipeline([\n",
        "            (\"poly_features\", polybig_features),\n",
        "            (\"std_scaler\", std_scaler),\n",
        "            (\"lin_reg\", lin_reg),\n",
        "        ])\n",
        "    polynomial_regression.fit(X, y)\n",
        "    y_newbig = polynomial_regression.predict(X_new)\n",
        "    plt.figure(figsize=(7,5))\n",
        "    plt.plot(X_new, y_newbig, style, label=str(degree), linewidth=width)\n",
        "\n",
        "plt.figure(figsize=(7,5))\n",
        "plt.plot(X, y, \"b.\", linewidth=3)\n",
        "plt.legend(loc=\"upper left\")\n",
        "plt.xlabel(\"$x_1$\", fontsize=18)\n",
        "plt.ylabel(\"$y$\", rotation=0, fontsize=18)\n",
        "plt.axis([-0.7, 12, -5, 1000])\n",
        "save_fig(\"high_degree_polynomials_plot\")\n",
        "plt.show()"
      ],
      "execution_count": 0,
      "outputs": [
        {
          "output_type": "stream",
          "text": [
            "No handles with labels found to put in legend.\n"
          ],
          "name": "stderr"
        },
        {
          "output_type": "stream",
          "text": [
            "Saving figure high_degree_polynomials_plot\n"
          ],
          "name": "stdout"
        },
        {
          "output_type": "display_data",
          "data": {
            "image/png": "[encoded data removed]",
            "text/plain": [
              "<Figure size 504x360 with 1 Axes>"
            ]
          },
          "metadata": {
            "tags": []
          }
        },
        {
          "output_type": "display_data",
          "data": {
            "image/png": "[encoded data removed]",
            "text/plain": [
              "<Figure size 504x360 with 1 Axes>"
            ]
          },
          "metadata": {
            "tags": []
          }
        },
        {
          "output_type": "display_data",
          "data": {
            "image/png": "[encoded data removed]",
            "text/plain": [
              "<Figure size 504x360 with 1 Axes>"
            ]
          },
          "metadata": {
            "tags": []
          }
        },
        {
          "output_type": "display_data",
          "data": {
            "image/png": "[encoded data removed]",
            "text/plain": [
              "<Figure size 504x360 with 1 Axes>"
            ]
          },
          "metadata": {
            "tags": []
          }
        }
      ]
    },
    {
      "cell_type": "markdown",
      "metadata": {
        "id": "I6RTiBsjyOr-",
        "colab_type": "text"
      },
      "source": [
        "From the data graph we can see that the data set is definitely not linear related, even poly = 2 is not enough. \n",
        "\n",
        "From the chart above, we can see that high poly number is more preferred here."
      ]
    },
    {
      "cell_type": "markdown",
      "metadata": {
        "id": "kHRgNpx16rFr",
        "colab_type": "text"
      },
      "source": [
        "Learning curve of a plain Linear Regression model on the same data."
      ]
    },
    {
      "cell_type": "code",
      "metadata": {
        "id": "x2KaiNexywTW",
        "colab_type": "code",
        "colab": {}
      },
      "source": [
        "from sklearn.metrics import mean_squared_error\n",
        "from sklearn.model_selection import train_test_split\n",
        "\n",
        "def plot_learning_curves(model, X, y):\n",
        "    X_train, X_val, y_train, y_val = train_test_split(X, y, test_size=0.2, random_state=10)\n",
        "    train_errors, val_errors = [], []\n",
        "    for m in range(1, len(X_train)):\n",
        "        model.fit(X_train[:m], y_train[:m])\n",
        "        y_train_predict = model.predict(X_train[:m])\n",
        "        y_val_predict = model.predict(X_val)\n",
        "        train_errors.append(mean_squared_error(y_train[:m], y_train_predict))\n",
        "        val_errors.append(mean_squared_error(y_val, y_val_predict))\n",
        "\n",
        "    plt.figure(figsize=(10,6))\n",
        "    plt.plot(np.sqrt(train_errors), \"r-+\", linewidth=2, label=\"train\")\n",
        "    plt.plot(np.sqrt(val_errors), \"b-\", linewidth=3, label=\"val\")\n",
        "    plt.legend(loc=\"upper right\", fontsize=14)   # not shown in the book\n",
        "    plt.xlabel(\"Training set size\", fontsize=14) # not shown\n",
        "    plt.ylabel(\"RMSE\", fontsize=14)              # not shown"
      ],
      "execution_count": 0,
      "outputs": []
    },
    {
      "cell_type": "code",
      "metadata": {
        "id": "3YLrv76ky0MQ",
        "colab_type": "code",
        "outputId": "c4ba9eaa-df44-487a-a319-a16e49f84940",
        "colab": {
          "base_uri": "https://localhost:8080/",
          "height": 458
        }
      },
      "source": [
        "lin_reg = LinearRegression()\n",
        "plot_learning_curves(lin_reg, X, y)\n",
        "plt.axis([0, 28500, 70, 120])                   # not shown in the book\n",
        "save_fig(\"underfitting_learning_curves_plot\")   # not shown\n",
        "plt.show()                                      # not shown"
      ],
      "execution_count": 0,
      "outputs": [
        {
          "output_type": "stream",
          "text": [
            "Saving figure underfitting_learning_curves_plot\n"
          ],
          "name": "stdout"
        },
        {
          "output_type": "display_data",
          "data": {
            "image/png": "[encoded data removed]",
            "text/plain": [
              "<Figure size 720x432 with 1 Axes>"
            ]
          },
          "metadata": {
            "tags": []
          }
        }
      ]
    },
    {
      "cell_type": "markdown",
      "metadata": {
        "id": "gj2Z2FfG6A4S",
        "colab_type": "text"
      },
      "source": [
        "Learning curve of a 10th-degree polynomial model on the same data."
      ]
    },
    {
      "cell_type": "code",
      "metadata": {
        "id": "KTuWv0vV0kLc",
        "colab_type": "code",
        "outputId": "5653b76c-4678-48b8-a434-2b1d478d7c4d",
        "colab": {
          "base_uri": "https://localhost:8080/",
          "height": 458
        }
      },
      "source": [
        "from sklearn.pipeline import Pipeline\n",
        "\n",
        "polynomial_regression = Pipeline([\n",
        "        (\"poly_features\", PolynomialFeatures(degree=10, include_bias=False)),\n",
        "        (\"lin_reg\", LinearRegression()),\n",
        "    ])\n",
        "\n",
        "plot_learning_curves(polynomial_regression, X, y)\n",
        "plt.axis([0, 28500, 70, 120])           # not shown\n",
        "save_fig(\"learning_curves_plot\")  # not shown\n",
        "plt.show()                        # not shown"
      ],
      "execution_count": 0,
      "outputs": [
        {
          "output_type": "stream",
          "text": [
            "Saving figure learning_curves_plot\n"
          ],
          "name": "stdout"
        },
        {
          "output_type": "display_data",
          "data": {
            "image/png": "[encoded data removed]",
            "text/plain": [
              "<Figure size 720x432 with 1 Axes>"
            ]
          },
          "metadata": {
            "tags": []
          }
        }
      ]
    },
    {
      "cell_type": "markdown",
      "metadata": {
        "id": "qe8SzMG5jtHa",
        "colab_type": "text"
      },
      "source": [
        "With all attributes considered, we find non-linear regression model (DT) has better performance with a lower mean squared error. \n",
        "\n",
        "While considering the most related attribute Iws as independent variable, we observed that high degrees polynomial regression has drawn the curve that fitting the data better compare to the linear regression models. \n",
        "\n",
        "When using linear regression models on this dataset, BDG with eta=0.1 is recommended as well as normal equation."
      ]
    }
  ]
}